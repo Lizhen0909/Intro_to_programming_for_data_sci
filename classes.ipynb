{
 "cells": [
  {
   "cell_type": "raw",
   "id": "1e00c4da-1ec9-4402-a28b-6ad4b241b3a8",
   "metadata": {},
   "source": [
    "---\n",
    "title: \"Object-Oriented Programming \"\n",
    "format: \n",
    "  html:\n",
    "    toc-depth: 4\n",
    "    code-fold: false\n",
    "jupyter: python3\n",
    "---"
   ]
  },
  {
   "cell_type": "markdown",
   "id": "cb0ab307",
   "metadata": {},
   "source": [
    "In Python, everything is an object, which makes it an object-oriented programming language."
   ]
  },
  {
   "cell_type": "markdown",
   "id": "8776c2d1-722b-4e14-8b78-4b3f50f45bd4",
   "metadata": {},
   "source": [
    "Object-oriented programming is the one in which a program is based on *objects*. An object is an independent entity within the program and can cooperatively work with other objects. A program can be made up of one or more objects, which can leverage the functionality and information contained in other objects."
   ]
  },
  {
   "cell_type": "markdown",
   "id": "1fbbd245",
   "metadata": {},
   "source": [
    "## Object"
   ]
  },
  {
   "cell_type": "markdown",
   "id": "c57b0f41",
   "metadata": {},
   "source": [
    "An object consists of two items:\n",
    "\n",
    "1. **Attributes** - Attributes are the data stored within the object.\n",
    "\n",
    "2. **Methods** - Methods are the functions defined within the object. Methods can use the object attributes *(or data stored within the object)* as well as accept additional data as arguments."
   ]
  },
  {
   "cell_type": "markdown",
   "id": "4034aad2",
   "metadata": {},
   "source": [
    "We have already seen several in-built python objects such as string objects, integer objects, float objects, list objects, tuple objects and dictionary objects, in previous chapters. Each of these objects have attributes and methods associated with them."
   ]
  },
  {
   "cell_type": "markdown",
   "id": "8fe43959",
   "metadata": {},
   "source": [
    "For example, consider a *integer* object named as `integer_example`."
   ]
  },
  {
   "cell_type": "code",
   "execution_count": 28,
   "id": "6fa15f76",
   "metadata": {},
   "outputs": [],
   "source": [
    "integer_example = 5"
   ]
  },
  {
   "cell_type": "markdown",
   "id": "9ba41c03",
   "metadata": {},
   "source": [
    "The attributes and methods of this *integer* object can be seen by putting a `.` next to its name, and pressing the *tab* key. A dropdown menu consisting of the attributes and methods will appear as shown below."
   ]
  },
  {
   "cell_type": "code",
   "execution_count": 50,
   "id": "b30fc1b6",
   "metadata": {},
   "outputs": [
    {
     "data": {
      "text/html": [
       "<img src=\"./Datasets/attributes.jpg\" width=\"700\" height=\"200\"/>"
      ],
      "text/plain": [
       "<IPython.core.display.Image object>"
      ]
     },
     "execution_count": 50,
     "metadata": {},
     "output_type": "execute_result"
    }
   ],
   "source": [
    "#| echo: false\n",
    "\n",
    "# import image module\n",
    "from IPython.display import Image\n",
    "\n",
    "# get the image\n",
    "Image(url=\"./Datasets/attributes.jpg\", width=700, height=200)"
   ]
  },
  {
   "attachments": {},
   "cell_type": "markdown",
   "id": "80ca4bd9",
   "metadata": {},
   "source": [
    "A list of all attributes and methods associated with an object can be obtained with the `dir()` function. Ignore the ones with underscores - these are used by Python itself. The rest of them can be used to perform operations."
   ]
  },
  {
   "cell_type": "code",
   "execution_count": null,
   "id": "56e39b5b",
   "metadata": {},
   "outputs": [],
   "source": [
    "#| eval: false\n",
    "\n",
    "#This code is not executed to avoid printing a long list\n",
    "dir(integer_example)"
   ]
  },
  {
   "cell_type": "markdown",
   "id": "2135c7aa",
   "metadata": {},
   "source": [
    "For example, an attribute of `integer_example` is real, which contains the real part of the number:"
   ]
  },
  {
   "cell_type": "code",
   "execution_count": 33,
   "id": "fa3a5905",
   "metadata": {},
   "outputs": [
    {
     "data": {
      "text/plain": [
       "5"
      ]
     },
     "execution_count": 33,
     "metadata": {},
     "output_type": "execute_result"
    }
   ],
   "source": [
    "integer_example.real"
   ]
  },
  {
   "cell_type": "markdown",
   "id": "4f1f6fd3",
   "metadata": {},
   "source": [
    "A example of a method of `integer_example` is `as_integer_ratio()`, which returns a tuple containing the numerator and denominator of the integer when it is expressed as a fraction."
   ]
  },
  {
   "cell_type": "code",
   "execution_count": 39,
   "id": "61200eaa",
   "metadata": {},
   "outputs": [
    {
     "data": {
      "text/plain": [
       "(5, 1)"
      ]
     },
     "execution_count": 39,
     "metadata": {},
     "output_type": "execute_result"
    }
   ],
   "source": [
    "integer_example.as_integer_ratio()"
   ]
  },
  {
   "cell_type": "markdown",
   "id": "f014e64e",
   "metadata": {},
   "source": [
    "Note that attributes do not have any parenthesis after them as they are just data, and cannot accept arguments. On the other hand methods have parenthesis after them as they are functions that may or may not have arguments."
   ]
  },
  {
   "cell_type": "markdown",
   "id": "82d34872",
   "metadata": {},
   "source": [
    "## Class"
   ]
  },
  {
   "cell_type": "markdown",
   "id": "25c08aa1",
   "metadata": {},
   "source": [
    "A *class* is a template for objects. It contains the attributes and methods associated with the object of the class. As an analaogy, the *class* Cat will consist of characterisitcs (or *attributes*) shared by all cats such as breed, fur color, etc., as well as capability to perform functions (or *methods*) such as run, meow, etc."
   ]
  },
  {
   "cell_type": "markdown",
   "id": "264c9096",
   "metadata": {},
   "source": [
    "**Instance:** An *instance* is a specific realization of the object of a particular class. Continuing with the Cat analaogy of a class, a particular cat is an *instance* of the class Cat. Similarly, in the example above, the object `integer_example` is an instance of the class *integer*. The words *object* and *instance* are often used interchangeably. \n",
    "\n",
    "Creating an *instance* of a class is called **Instantiation**."
   ]
  },
  {
   "cell_type": "markdown",
   "id": "847d4369",
   "metadata": {},
   "source": [
    "### Creating your own class"
   ]
  },
  {
   "cell_type": "markdown",
   "id": "32a2d4b7",
   "metadata": {},
   "source": [
    "Until now we saw examples of in-built Python classes, such as *integer, List*, etc. Now, we'll learn to create our own class that serves our purpose."
   ]
  },
  {
   "cell_type": "markdown",
   "id": "47713421",
   "metadata": {},
   "source": [
    "Below is a toy example of a class."
   ]
  },
  {
   "cell_type": "code",
   "execution_count": 49,
   "id": "b3b8199a",
   "metadata": {},
   "outputs": [],
   "source": [
    "class ToyClass:\n",
    "    def __init__(self, x, y):\n",
    "        self.x = x\n",
    "        self.y = y\n",
    "    \n",
    "    def add(self):\n",
    "        return self.x + self.y\n",
    "    \n",
    "    def multiply(self):\n",
    "        return self.x*self.y"
   ]
  },
  {
   "cell_type": "markdown",
   "id": "c78fdd07",
   "metadata": {},
   "source": [
    "We'll use the example above to explain the following terms:\n",
    "\n",
    "- **The `class` statement:** We use the `class` statement to create a class. The [Python style guide](https://peps.python.org/pep-0008/#class-names) recommends to use CamelCase for class names.\n",
    "\n",
    "\n",
    "- **The constructor (or the `__init__()` method):** A class typically has a method called `__init__`. This method is called a constructor and is automatically called when an object or instance of the class is created. The constructor initializes the attributes of the class. In the above example, the constructor accepts two values as arguments, and initializes its attributes `x` and `y` with those values.\n",
    "\n",
    "\n",
    "- **The `self` argument:** This is the first argument to every method in the class. Whenever the class refers to one of its attributes or methods, it must precede them by `self`. The purpose of `self` is to distinguish the class's attributes and methods from other variables and functions in the program."
   ]
  },
  {
   "cell_type": "markdown",
   "id": "26197399",
   "metadata": {},
   "source": [
    "The class `ToyClass` consists of two attributes `x` and `y`, a constructor `__init__()`, and two methods `add()` and `multiply()`."
   ]
  }
 ],
 "metadata": {
  "kernelspec": {
   "display_name": "Python 3",
   "language": "python",
   "name": "python3"
  },
  "language_info": {
   "codemirror_mode": {
    "name": "ipython",
    "version": 3
   },
   "file_extension": ".py",
   "mimetype": "text/x-python",
   "name": "python",
   "nbconvert_exporter": "python",
   "pygments_lexer": "ipython3",
   "version": "3.8.8"
  }
 },
 "nbformat": 4,
 "nbformat_minor": 5
}
