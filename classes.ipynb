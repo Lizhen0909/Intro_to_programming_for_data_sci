{
 "cells": [
  {
   "cell_type": "raw",
   "id": "1e00c4da-1ec9-4402-a28b-6ad4b241b3a8",
   "metadata": {},
   "source": [
    "---\n",
    "title: \"Object-Oriented Programming \"\n",
    "format: \n",
    "  html:\n",
    "    toc-depth: 4\n",
    "    code-fold: false\n",
    "jupyter: python3\n",
    "---"
   ]
  },
  {
   "cell_type": "markdown",
   "id": "cb0ab307",
   "metadata": {},
   "source": [
    "In Python, everything is an object, which makes it an object-oriented programming language."
   ]
  },
  {
   "cell_type": "markdown",
   "id": "8776c2d1-722b-4e14-8b78-4b3f50f45bd4",
   "metadata": {},
   "source": [
    "Object-oriented programming is the one in which a program is based on *objects*. An object is an independent entity within the program and can cooperatively work with other objects. A program can be made up of one or more objects, which can leverage the functionality and information contained in other objects."
   ]
  },
  {
   "cell_type": "markdown",
   "id": "e38160dd",
   "metadata": {},
   "source": [
    "## Object"
   ]
  },
  {
   "cell_type": "markdown",
   "id": "1377d4b1",
   "metadata": {},
   "source": [
    "An object consists of two items:\n",
    "\n",
    "1. **Attributes** - Attributes are the data stored within the object.\n",
    "\n",
    "2. **Methods** - Methods are the functions defined within the object. Methods can use the object attributes *(or data stored within the object)* as well as accept additional data as arguments."
   ]
  },
  {
   "cell_type": "markdown",
   "id": "b407eb27",
   "metadata": {},
   "source": [
    "We have already seen several in-built python objects such as string objects, integer objects, float objects, list objects, tuple objects and dictionary objects, in previous chapters. Each of these objects have attributes and methods associated with them."
   ]
  },
  {
   "cell_type": "markdown",
   "id": "d6120780",
   "metadata": {},
   "source": [
    "For example, consider a *integer* object named as `integer_example`."
   ]
  },
  {
   "cell_type": "code",
   "execution_count": 28,
   "id": "aeb4ba52",
   "metadata": {},
   "outputs": [],
   "source": [
    "integer_example = 5"
   ]
  },
  {
   "cell_type": "markdown",
   "id": "98dcce95",
   "metadata": {},
   "source": [
    "The attributes and methods of this *integer* object can be seen by putting a `.` next to its name, and pressing the *tab* key. A dropdown menu consisting of the attributes and methods will appear as shown below."
   ]
  },
  {
   "cell_type": "code",
   "execution_count": 30,
   "id": "e8ea0ba3",
   "metadata": {},
   "outputs": [
    {
     "data": {
      "text/html": [
       "<img src=\"./Datasets/attributes.jpg\" width=\"400\" height=\"400\"/>"
      ],
      "text/plain": [
       "<IPython.core.display.Image object>"
      ]
     },
     "execution_count": 30,
     "metadata": {},
     "output_type": "execute_result"
    }
   ],
   "source": [
    "#| echo: false\n",
    "\n",
    "# import image module\n",
    "from IPython.display import Image\n",
    "\n",
    "# get the image\n",
    "Image(url=\"./Datasets/attributes.jpg\", width=400, height=400)"
   ]
  },
  {
   "cell_type": "markdown",
   "id": "e03a7748",
   "metadata": {},
   "source": [
    "A list of all attributes and methods associated with an object can be obtained with the `dir()` function."
   ]
  },
  {
   "cell_type": "code",
   "execution_count": null,
   "id": "f3c806d8",
   "metadata": {},
   "outputs": [],
   "source": [
    "#| eval: false\n",
    "\n",
    "#This code is not executed to avoid printing a long list\n",
    "dir(integer_example)"
   ]
  },
  {
   "cell_type": "markdown",
   "id": "289b6c03",
   "metadata": {},
   "source": [
    "For example, an attribute of `integer_example` is real, which contains the real part of the number:"
   ]
  },
  {
   "cell_type": "code",
   "execution_count": 33,
   "id": "60a94b99",
   "metadata": {},
   "outputs": [
    {
     "data": {
      "text/plain": [
       "5"
      ]
     },
     "execution_count": 33,
     "metadata": {},
     "output_type": "execute_result"
    }
   ],
   "source": [
    "integer_example.real"
   ]
  },
  {
   "cell_type": "markdown",
   "id": "b3d134e6",
   "metadata": {},
   "source": [
    "A example of a method of `integer_example` is `as_integer_ratio()`, which returns a tuple containing the numerator and denominator of the integer when it is expressed as a fraction."
   ]
  },
  {
   "cell_type": "code",
   "execution_count": 39,
   "id": "99a2c96d",
   "metadata": {},
   "outputs": [
    {
     "data": {
      "text/plain": [
       "(5, 1)"
      ]
     },
     "execution_count": 39,
     "metadata": {},
     "output_type": "execute_result"
    }
   ],
   "source": [
    "integer_example.as_integer_ratio()"
   ]
  },
  {
   "cell_type": "markdown",
   "id": "ecbbc467",
   "metadata": {},
   "source": [
    "Note that attributes do not have any parenthesis after them as they are just data, and cannot accept arguments. On the other hand methods have parenthesis after them as they are functions that may or may not have arguments."
   ]
  },
  {
   "cell_type": "markdown",
   "id": "92c92272",
   "metadata": {},
   "source": [
    "## Class"
   ]
  },
  {
   "cell_type": "markdown",
   "id": "bd8775d5",
   "metadata": {},
   "source": [
    "A *class* is a template for objects. It contains the attributes and methods associated with the object of the class. "
   ]
  },
  {
   "cell_type": "code",
   "execution_count": 40,
   "id": "d8212c44",
   "metadata": {},
   "outputs": [
    {
     "data": {
      "text/plain": [
       "int"
      ]
     },
     "execution_count": 40,
     "metadata": {},
     "output_type": "execute_result"
    }
   ],
   "source": [
    "type(5)"
   ]
  }
 ],
 "metadata": {
  "kernelspec": {
   "display_name": "Python 3",
   "language": "python",
   "name": "python3"
  },
  "language_info": {
   "codemirror_mode": {
    "name": "ipython",
    "version": 3
   },
   "file_extension": ".py",
   "mimetype": "text/x-python",
   "name": "python",
   "nbconvert_exporter": "python",
   "pygments_lexer": "ipython3",
   "version": "3.8.8"
  }
 },
 "nbformat": 4,
 "nbformat_minor": 5
}
