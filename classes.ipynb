{
 "cells": [
  {
   "cell_type": "raw",
   "id": "1e00c4da-1ec9-4402-a28b-6ad4b241b3a8",
   "metadata": {},
   "source": [
    "---\n",
    "title: \"Object-Oriented Programming \"\n",
    "format: \n",
    "  html:\n",
    "    toc-depth: 4\n",
    "    code-fold: false\n",
    "jupyter: python3\n",
    "---"
   ]
  },
  {
   "cell_type": "code",
   "execution_count": 5,
   "id": "4cb0521d",
   "metadata": {},
   "outputs": [
    {
     "data": {
      "text/html": [
       "<img src=\"images/class_objects.png\" width=\"400\" height=\"250\"/>"
      ],
      "text/plain": [
       "<IPython.core.display.Image object>"
      ]
     },
     "execution_count": 5,
     "metadata": {},
     "output_type": "execute_result"
    }
   ],
   "source": [
    "#| echo: false\n",
    "\n",
    "# import image module\n",
    "from IPython.display import Image\n",
    "\n",
    "# get the image\n",
    "Image(url=\"images/class_objects.png\", width=400, height=250)"
   ]
  },
  {
   "cell_type": "markdown",
   "id": "cb0ab307",
   "metadata": {},
   "source": [
    "Python is a versatile programming language that supports object-oriented programming (OOP). **In Python, everything is an object, and built-in data types are implemented as classes.**"
   ]
  },
  {
   "cell_type": "markdown",
   "id": "109c9ea0",
   "metadata": {},
   "source": [
    "## Classes"
   ]
  },
  {
   "cell_type": "markdown",
   "id": "73a95a95",
   "metadata": {},
   "source": [
    "### Built-in Data Types in Python\n",
    "\n",
    "In Python, every built-in data type is implemented as a class. This includes:\n",
    "\n",
    "- `int`\n",
    "- `float`\n",
    "- `str`\n",
    "- `list`\n",
    "- `tuple`\n",
    "- `dict`\n",
    "- `set`\n",
    "- `NoneType`\n",
    "\n",
    "You can confirm this by using the `type()` function or checking an object's `__class__` attribute:"
   ]
  },
  {
   "cell_type": "code",
   "execution_count": 2,
   "id": "81574d51",
   "metadata": {},
   "outputs": [
    {
     "name": "stdout",
     "output_type": "stream",
     "text": [
      "<class 'int'>\n",
      "<class 'float'>\n",
      "<class 'str'>\n",
      "<class 'list'>\n",
      "<class 'NoneType'>\n"
     ]
    }
   ],
   "source": [
    "print(type(42))         \n",
    "print(type(3.14))        \n",
    "print(type(\"hello\"))     \n",
    "print(type([1, 2, 3]))   \n",
    "print(type(None))       "
   ]
  },
  {
   "cell_type": "code",
   "execution_count": 3,
   "id": "5c8bbbcc",
   "metadata": {},
   "outputs": [
    {
     "name": "stdout",
     "output_type": "stream",
     "text": [
      "<class 'int'>\n"
     ]
    }
   ],
   "source": [
    "# Checking the __class__ attribute\n",
    "x = 42\n",
    "print(x.__class__)   "
   ]
  },
  {
   "cell_type": "markdown",
   "id": "f6b5a099",
   "metadata": {},
   "source": [
    "### Understanding Classes in Python\n",
    "\n",
    "A **class** is a blueprint for creating objects. It defines the **attributes** (characteristics) and **methods** (behaviors) that its objects will have. \n",
    "\n",
    "For example, consider a `Cat` class:\n",
    "- **Attributes**: Characteristics shared by all cats, such as `breed`, `fur_color`, and `age`.\n",
    "- **Methods**: Actions that a cat can perform, such as `meow()`, `run()`, or `sleep()`.\n",
    "\n",
    "For more details, refer to the official Python documentation on [classes](https://docs.python.org/3/tutorial/classes.html)."
   ]
  },
  {
   "cell_type": "markdown",
   "id": "77dba855",
   "metadata": {},
   "source": [
    "### Creating your own classes\n",
    "\n",
    "Until now, we have worked with built-in Python classes like `int`, `list`, and `dict`. However, in many cases, we need to **create our own classes** to model real-world entities in a structured way.\n",
    "\n",
    "Defining your own classes provides several key benefits in programming:\n",
    "\n",
    "1. **Encapsulation** – Organize data and related functionality together.\n",
    "2. **Reusability** – Code can be reused by creating multiple instances of the class.\n",
    "3. **Abstraction** – Hide unnecessary details and expose only the required functionality.\n",
    "4. **Inheritance** – Reuse existing class behavior in new classes, avoiding redundancy.\n",
    "\n",
    "\n",
    "When we create a new class, we actually create a new type. \n",
    "Now, we are going to create our own type, which we can use in a way that is similar to the built-in types.\n",
    "\n",
    "Let's start with the Car class:\n"
   ]
  },
  {
   "cell_type": "code",
   "execution_count": 4,
   "id": "6e4428ae",
   "metadata": {},
   "outputs": [],
   "source": [
    "class Car:\n",
    "    def __init__(self, brand, color, speed=0):\n",
    "        self.brand = brand      # Attribute\n",
    "        self.color = color      # Attribute\n",
    "        self.speed = speed      # Attribute\n",
    "\n",
    "    def accelerate(self, increment):\n",
    "        \"\"\"Increase the car's speed.\"\"\"\n",
    "        self.speed += increment\n",
    "        return f\"{self.brand} is now moving at {self.speed} mph.\"\n",
    "\n",
    "    def brake(self, decrement):\n",
    "        \"\"\"Decrease the car's speed.\"\"\"\n",
    "        self.speed = max(0, self.speed - decrement)\n",
    "        return f\"{self.brand} slowed down to {self.speed} mph.\""
   ]
  },
  {
   "cell_type": "markdown",
   "id": "2f71eafc",
   "metadata": {},
   "source": [
    "We'll use the example above to explain the following terms:\n",
    "\n",
    "- **The `class` statement:** We use the `class` statement to create a class. The [Python style guide](https://peps.python.org/pep-0008/#class-names) recommends to use CamelCase for class names.\n",
    "\n",
    "\n",
    "- **The constructor (or the `__init__()` method):** A class typically has a method called `__init__`. This method is called a constructor and is automatically called when an object or instance of the class is created. The constructor initializes the attributes of the class. In the above example, the constructor accepts Three values as arguments, and initializes its attributes `brand` and `color` with those values and have a default value for `speed`.\n",
    "\n",
    "\n",
    "- **The `self` argument:** This is the first parameter of instance methods in a class. It represents the instance of the class itself, allowing access to its attributes and methods. When referring to instance attributes or methods within the class, they must be prefixed with self. The purpose of self is to distinguish instance-specific attributes and methods from local variables or other functions in the program."
   ]
  },
  {
   "cell_type": "markdown",
   "id": "80f296be",
   "metadata": {},
   "source": [
    "This example demonstrates how a class encapsulates attributes and behaviors. The `Car` class defines three attributes: `brand`, `color`, and `speed`, along with a constructor (`__init__()`) and two methods: `accelerate()` and `brake()`. This structure makes it easy to create multiple car objects and manipulate their states independently."
   ]
  },
  {
   "cell_type": "markdown",
   "id": "b791268b",
   "metadata": {},
   "source": [
    "## Objects\n",
    "\n",
    "In Python, an **object** is an instance of a class. A class acts as a **blueprint**, defining the structure and behavior that its objects will have. Each object has its own attributes (data) and can perform methods (functions associated with the class). Compared to the class (which is just a blueprint), an object is a **concrete and tangible** entity that exists in memory.\n",
    "\n",
    "In Python, when you create a variable and assign a value to it, Python internally creates an instance of the corresponding class. Every value in Python is an object,"
   ]
  },
  {
   "cell_type": "code",
   "execution_count": 5,
   "id": "6b656393",
   "metadata": {},
   "outputs": [
    {
     "name": "stdout",
     "output_type": "stream",
     "text": [
      "<class 'int'>\n",
      "<class 'str'>\n",
      "<class 'list'>\n"
     ]
    }
   ],
   "source": [
    "x = 10    # x ia an insance of int class\n",
    "y = \"Hello\"     # y is an instance of str class\n",
    "z = [1, 2, 3]  # z is an instance of list class\n",
    "\n",
    "print(type(x)) \n",
    "print(type(y))  \n",
    "print(type(z))  "
   ]
  },
  {
   "cell_type": "markdown",
   "id": "d67d2eb1",
   "metadata": {},
   "source": [
    "Once we define a class as a blueprint, we can create instances of that class to generate objects of its type. In fact, we can create as many objects as we want from a single class, each with its own unique data while sharing the same structure and behavior defined in the class.\n",
    "\n",
    "Let's create two objects of the `Car` class we defined earlier\n",
    "\n",
    "To create an *object* or *instance* of the class `Car`, we'll use the class name with the values to be passed as argument to the constructor for initializing the *object / instance*."
   ]
  },
  {
   "cell_type": "code",
   "execution_count": 6,
   "id": "665bff8c",
   "metadata": {},
   "outputs": [
    {
     "name": "stdout",
     "output_type": "stream",
     "text": [
      "<class '__main__.Car'>\n",
      "<class '__main__.Car'>\n"
     ]
    }
   ],
   "source": [
    "# Creating objects (instances of the Car class)\n",
    "car1 = Car(\"Toyota\", \"Red\")\n",
    "car2 = Car(\"Honda\", \"Blue\")\n",
    "\n",
    "print(type(car1))\n",
    "print(type(car2))"
   ]
  },
  {
   "cell_type": "markdown",
   "id": "855f1f26",
   "metadata": {},
   "source": [
    "> **Instance:** An *instance* is a specific realization of the object of a particular class. Creating an *instance* of a class is called **Instantiation**. Here a particular car is an *instance* of the class Car. Similarly, in the example above, the object `x` is an instance of the class *integer*. **The words *object* and *instance* are often used interchangeably**.\n",
    "\n"
   ]
  },
  {
   "cell_type": "markdown",
   "id": "82fe2c3a",
   "metadata": {},
   "source": [
    "The *attributes* of an instance can be accessed using the `.` operator with the object name"
   ]
  },
  {
   "cell_type": "code",
   "execution_count": 7,
   "id": "83983a4e",
   "metadata": {},
   "outputs": [
    {
     "name": "stdout",
     "output_type": "stream",
     "text": [
      "Toyota\n",
      "Honda\n",
      "Red\n",
      "Blue\n",
      "0\n",
      "0\n"
     ]
    }
   ],
   "source": [
    "print(car1.brand)\n",
    "print(car2.brand)\n",
    "print(car1.color)\n",
    "print(car2.color)\n",
    "print(car1.speed)\n",
    "print(car2.speed)"
   ]
  },
  {
   "cell_type": "markdown",
   "id": "8a4f40bf",
   "metadata": {},
   "source": [
    "What happens if the instance variable doesn't exist?"
   ]
  },
  {
   "cell_type": "code",
   "execution_count": 8,
   "id": "ca8c6398",
   "metadata": {},
   "outputs": [
    {
     "ename": "AttributeError",
     "evalue": "'Car' object has no attribute 'engine'",
     "output_type": "error",
     "traceback": [
      "\u001b[1;31m---------------------------------------------------------------------------\u001b[0m",
      "\u001b[1;31mAttributeError\u001b[0m                            Traceback (most recent call last)",
      "Cell \u001b[1;32mIn[8], line 1\u001b[0m\n\u001b[1;32m----> 1\u001b[0m \u001b[43mcar1\u001b[49m\u001b[38;5;241;43m.\u001b[39;49m\u001b[43mengine\u001b[49m\n",
      "\u001b[1;31mAttributeError\u001b[0m: 'Car' object has no attribute 'engine'"
     ]
    }
   ],
   "source": [
    "car1.engine"
   ]
  },
  {
   "cell_type": "markdown",
   "id": "c39b91a6",
   "metadata": {},
   "source": [
    "Methods are functions inside a class that operate on instance attributes. To call a method use:"
   ]
  },
  {
   "cell_type": "code",
   "execution_count": 13,
   "id": "e82ea227",
   "metadata": {},
   "outputs": [
    {
     "name": "stdout",
     "output_type": "stream",
     "text": [
      "Toyota is now moving at 20 mph.\n",
      "Honda slowed down to 0 mph.\n"
     ]
    }
   ],
   "source": [
    "print(car1.accelerate(20))\n",
    "print(car2.brake(10))\n"
   ]
  },
  {
   "cell_type": "markdown",
   "id": "462e4810",
   "metadata": {},
   "source": [
    "Unlike attributes, methods require `parentheses ()` because they need to be executed, just like the functions we learned earlier"
   ]
  },
  {
   "cell_type": "markdown",
   "id": "95575be9",
   "metadata": {},
   "source": [
    "A list of all attributes and methods associated with an object can be obtained with the `dir()` function. Ignore the ones with underscores - these are used by Python itself. The rest of them can be used to perform operations."
   ]
  },
  {
   "cell_type": "code",
   "execution_count": 14,
   "id": "8088ed4f",
   "metadata": {},
   "outputs": [
    {
     "data": {
      "text/plain": [
       "['__class__',\n",
       " '__delattr__',\n",
       " '__dict__',\n",
       " '__dir__',\n",
       " '__doc__',\n",
       " '__eq__',\n",
       " '__format__',\n",
       " '__ge__',\n",
       " '__getattribute__',\n",
       " '__getstate__',\n",
       " '__gt__',\n",
       " '__hash__',\n",
       " '__init__',\n",
       " '__init_subclass__',\n",
       " '__le__',\n",
       " '__lt__',\n",
       " '__module__',\n",
       " '__ne__',\n",
       " '__new__',\n",
       " '__reduce__',\n",
       " '__reduce_ex__',\n",
       " '__repr__',\n",
       " '__setattr__',\n",
       " '__sizeof__',\n",
       " '__str__',\n",
       " '__subclasshook__',\n",
       " '__weakref__',\n",
       " 'accelerate',\n",
       " 'brake',\n",
       " 'brand',\n",
       " 'color',\n",
       " 'speed']"
      ]
     },
     "execution_count": 14,
     "metadata": {},
     "output_type": "execute_result"
    }
   ],
   "source": [
    "dir(car1)"
   ]
  },
  {
   "cell_type": "markdown",
   "id": "2e47a642",
   "metadata": {},
   "source": [
    "Filtering out only user-defined attributes and methods"
   ]
  },
  {
   "cell_type": "code",
   "execution_count": 15,
   "id": "3448f8ef",
   "metadata": {},
   "outputs": [
    {
     "name": "stdout",
     "output_type": "stream",
     "text": [
      "['accelerate', 'brake', 'brand', 'color', 'speed']\n"
     ]
    }
   ],
   "source": [
    "print([attr for attr in dir(car1) if not attr.startswith('__')])"
   ]
  },
  {
   "cell_type": "markdown",
   "id": "79162bdb",
   "metadata": {},
   "source": [
    "### Example: A class that analyzes a string"
   ]
  },
  {
   "cell_type": "markdown",
   "id": "909dae1d",
   "metadata": {},
   "source": [
    "Let us create a class that analyzes a string."
   ]
  },
  {
   "cell_type": "code",
   "execution_count": 16,
   "id": "08c004bd",
   "metadata": {},
   "outputs": [],
   "source": [
    "class AnalyzeString:\n",
    "    \n",
    "    #Constructor\n",
    "    def __init__(self, s):\n",
    "        s = s.lower()\n",
    "        self.words = s.split()\n",
    "    \n",
    "    #This method counts the numebr of words\n",
    "    def number_of_words(self):\n",
    "        return (len(self.words))\n",
    "    \n",
    "    #This method counts the number of words starting with the string s\n",
    "    def starts_with(self,s):\n",
    "        return len([x for x in self.words if x[:len(s)]==s])\n",
    "    \n",
    "    #This method counts the number of words of length n\n",
    "    def words_with_length(self,n):\n",
    "        return len([x for x in self.words if len(x)==n])\n",
    "    \n",
    "    #This method returns the frequency of the word w\n",
    "    def word_frequency(self,w):\n",
    "        return self.words.count(w)"
   ]
  },
  {
   "cell_type": "markdown",
   "id": "678012bc",
   "metadata": {},
   "source": [
    "Let us create an instance of the class `AnalyzeString()` to analyze a sentence."
   ]
  },
  {
   "cell_type": "code",
   "execution_count": 17,
   "id": "e532b97c",
   "metadata": {},
   "outputs": [],
   "source": [
    "#Defining a string\n",
    "sentence = 'This sentence in an example of a string that we will analyse using a class we have defined'"
   ]
  },
  {
   "cell_type": "code",
   "execution_count": 18,
   "id": "1c598bbd",
   "metadata": {},
   "outputs": [],
   "source": [
    "#Creating an instance of class AnalyzeString()\n",
    "sentence_analysis = AnalyzeString(sentence)"
   ]
  },
  {
   "cell_type": "code",
   "execution_count": 19,
   "id": "af5be32f",
   "metadata": {},
   "outputs": [
    {
     "data": {
      "text/plain": [
       "['this',\n",
       " 'sentence',\n",
       " 'in',\n",
       " 'an',\n",
       " 'example',\n",
       " 'of',\n",
       " 'a',\n",
       " 'string',\n",
       " 'that',\n",
       " 'we',\n",
       " 'will',\n",
       " 'analyse',\n",
       " 'using',\n",
       " 'a',\n",
       " 'class',\n",
       " 'we',\n",
       " 'have',\n",
       " 'defined']"
      ]
     },
     "execution_count": 19,
     "metadata": {},
     "output_type": "execute_result"
    }
   ],
   "source": [
    "#The attribute 'word' contains the list of words in the sentence\n",
    "sentence_analysis.words"
   ]
  },
  {
   "cell_type": "code",
   "execution_count": 20,
   "id": "8c8229f5",
   "metadata": {},
   "outputs": [
    {
     "data": {
      "text/plain": [
       "2"
      ]
     },
     "execution_count": 20,
     "metadata": {},
     "output_type": "execute_result"
    }
   ],
   "source": [
    "#The method 'word_frequncy()' provides the frequency of a word in the sentence\n",
    "sentence_analysis.word_frequency('we')"
   ]
  },
  {
   "cell_type": "code",
   "execution_count": 21,
   "id": "bd76e618",
   "metadata": {},
   "outputs": [
    {
     "data": {
      "text/plain": [
       "2"
      ]
     },
     "execution_count": 21,
     "metadata": {},
     "output_type": "execute_result"
    }
   ],
   "source": [
    "#The method 'starts_with()' provides the frequency of number of words starting with a particular string\n",
    "sentence_analysis.starts_with('th')"
   ]
  },
  {
   "cell_type": "markdown",
   "id": "42d5bc34",
   "metadata": {},
   "source": [
    "### Practice exercise 1"
   ]
  },
  {
   "cell_type": "markdown",
   "id": "9fd2cf17",
   "metadata": {},
   "source": [
    "Write a class called `PasswordManager`. The class should have a list called `old_passwords` that holds all of the user's past passwords. The last item of the list is the user's current password. There should be a method called `get_password` that returns the current password and a method called `set_password` that sets the user’s password. The `set_password` method should only change the password if the attempted password is different from all the user's past passwords. It should either print '*Password changed successfully!*', or '*Old password cannot be reused, try again.*' Finally, create a method called `is_correct` that receives a string and returns a boolean `True` or `False` depending on whether the string is equal to the current password or not.\n",
    "\n",
    "To initialize the object of the class, use the list below.\n",
    "\n",
    "After defining the class:\n",
    "\n",
    "1. Check the attribute `old_passwords`\n",
    "\n",
    "2. Check the method `get_password()`\n",
    "\n",
    "3. Try re-setting the password to 'ibiza1972', and then check the current password.\n",
    "\n",
    "4. Try re-setting the password to 'oktoberfest2022', and then check the current password.\n",
    "\n",
    "5. Check the `is_correct()` method"
   ]
  },
  {
   "cell_type": "code",
   "execution_count": 1,
   "id": "507d53d1",
   "metadata": {},
   "outputs": [
    {
     "name": "stdout",
     "output_type": "stream",
     "text": [
      "Old passwords: ['alpha123', 'beta456', 'gamma789', 'delta321', 'ibiza1972']\n",
      "Current password: ibiza1972\n",
      "Old password cannot be reused, try again.\n",
      "Current password after attempt: ibiza1972\n",
      "Password changed successfully!\n",
      "Current password after attempt: oktoberfest2022\n",
      "Is 'oktoberfest2022' correct? True\n",
      "Is 'wrongpassword' correct? False\n"
     ]
    }
   ],
   "source": [
    "class PasswordManager:\n",
    "    def __init__(self, initial_passwords):\n",
    "        self.old_passwords = initial_passwords\n",
    "\n",
    "    def get_password(self):\n",
    "        \"\"\"Returns the current password (last item in the old_passwords list).\"\"\"\n",
    "        return self.old_passwords[-1]\n",
    "\n",
    "    def set_password(self, new_password):\n",
    "        \"\"\"Sets a new password only if it has not been used before.\"\"\"\n",
    "        if new_password in self.old_passwords:\n",
    "            print(\"Old password cannot be reused, try again.\")\n",
    "        else:\n",
    "            self.old_passwords.append(new_password)\n",
    "            print(\"Password changed successfully!\")\n",
    "\n",
    "    def is_correct(self, password):\n",
    "        \"\"\"Checks if the provided password matches the current password.\"\"\"\n",
    "        return password == self.get_password()\n",
    "\n",
    "\n",
    "# Initialize PasswordManager with given passwords\n",
    "initial_passwords = [\"alpha123\", \"beta456\", \"gamma789\", \"delta321\", \"ibiza1972\"]\n",
    "password_manager = PasswordManager(initial_passwords)\n",
    "\n",
    "# 1. Check the attribute old_passwords\n",
    "print(\"Old passwords:\", password_manager.old_passwords)\n",
    "\n",
    "# 2. Check the method get_password()\n",
    "print(\"Current password:\", password_manager.get_password())\n",
    "\n",
    "# 3. Try re-setting the password to 'ibiza1972'\n",
    "password_manager.set_password(\"ibiza1972\")\n",
    "print(\"Current password after attempt:\", password_manager.get_password())\n",
    "\n",
    "# 4. Try re-setting the password to 'oktoberfest2022'\n",
    "password_manager.set_password(\"oktoberfest2022\")\n",
    "print(\"Current password after attempt:\", password_manager.get_password())\n",
    "\n",
    "# 5. Check the is_correct() method\n",
    "print(\"Is 'oktoberfest2022' correct?\", password_manager.is_correct(\"oktoberfest2022\"))\n",
    "print(\"Is 'wrongpassword' correct?\", password_manager.is_correct(\"wrongpassword\"))\n"
   ]
  },
  {
   "cell_type": "markdown",
   "id": "a8860597",
   "metadata": {},
   "source": [
    "## Class Constructors\n",
    "\n",
    "A **constructor** is a special method in a class that is **automatically called** when an object is created.  \n",
    "- In Python, the constructor method is named `__init__()`.  \n",
    "- It **initializes object attributes** when an instance is created.  "
   ]
  },
  {
   "cell_type": "code",
   "execution_count": 24,
   "id": "ae386b34",
   "metadata": {},
   "outputs": [
    {
     "name": "stdout",
     "output_type": "stream",
     "text": [
      "Toyota Red 50\n",
      "Honda Blue 0\n"
     ]
    }
   ],
   "source": [
    "class Car:\n",
    "    def __init__(self, brand, color, speed=0):\n",
    "        \"\"\"Constructor to initialize Car attributes\"\"\"\n",
    "        self.brand = brand\n",
    "        self.color = color\n",
    "        self.speed = speed  # Default value is 0\n",
    "\n",
    "# Creating instances (objects)\n",
    "car1 = Car(\"Toyota\", \"Red\", 50)\n",
    "car2 = Car(\"Honda\", \"Blue\")  # speed uses default value\n",
    "\n",
    "# Accessing attributes\n",
    "print(car1.brand, car1.color, car1.speed)  # Toyota Red 50\n",
    "print(car2.brand, car2.color, car2.speed)"
   ]
  },
  {
   "cell_type": "markdown",
   "id": "6431b0cf",
   "metadata": {},
   "source": [
    "### Default Constructor (No Parameters)\n",
    "\n",
    "If a class does not explicitly define a constructor, Python automatically provides a default constructor. This constructor only includes self and takes no additional parameters.\n",
    "\n",
    "Let's create an empty class to demonstrate this:"
   ]
  },
  {
   "cell_type": "code",
   "execution_count": 25,
   "id": "e077c457",
   "metadata": {},
   "outputs": [
    {
     "name": "stdout",
     "output_type": "stream",
     "text": [
      "<class '__main__.Circle'>\n"
     ]
    }
   ],
   "source": [
    "# Define a class Circle that doesn't have any attributes or methods\n",
    "class Circle:\n",
    "    pass\n",
    "\n",
    "# Create an instance of the Circle class\n",
    "c = Circle()\n",
    "print(type(c))  "
   ]
  },
  {
   "cell_type": "markdown",
   "id": "c3557640",
   "metadata": {},
   "source": [
    "### Using Default Values in Constructors\n",
    "\n",
    "You can set default values for parameters to make them optional."
   ]
  },
  {
   "cell_type": "code",
   "execution_count": 26,
   "id": "a9b9025c",
   "metadata": {},
   "outputs": [
    {
     "name": "stdout",
     "output_type": "stream",
     "text": [
      "John A\n",
      "Emma Not Assigned\n"
     ]
    }
   ],
   "source": [
    "class Student:\n",
    "    def __init__(self, name, grade=\"Not Assigned\"):\n",
    "        self.name = name\n",
    "        self.grade = grade  # Default: \"Not Assigned\"\n",
    "\n",
    "s1 = Student(\"John\", \"A\")  # Assigned grade\n",
    "s2 = Student(\"Emma\")       # Uses default grade\n",
    "\n",
    "print(s1.name, s1.grade)  # John A\n",
    "print(s2.name, s2.grade)  # Emma Not Assigned"
   ]
  },
  {
   "cell_type": "markdown",
   "id": "a5e27e72",
   "metadata": {},
   "source": [
    "## Difference Between Instance Attributes and Class Attributes in Python (OOP)\n",
    "\n",
    "In Python object-oriented programming, attributes can be defined at two levels:\n",
    "\n",
    "* **Instance Attributes** → Specific to each instance of the class.\n",
    "* **Class Attributes** → Shared across all instances of the class."
   ]
  },
  {
   "cell_type": "markdown",
   "id": "6e4f1b3b",
   "metadata": {},
   "source": [
    "### Instance Attributes (Defined in `__init__`)\n",
    "\n",
    "* Defined inside the constructor (`__init__`) using `self`, and accessed using `self.attribute_name`\n",
    "* Each instance has its own copy of instance attributes.\n",
    "* Changes to an instance attribute affect only that instance."
   ]
  },
  {
   "cell_type": "code",
   "execution_count": 27,
   "id": "d84642ac",
   "metadata": {},
   "outputs": [
    {
     "name": "stdout",
     "output_type": "stream",
     "text": [
      "Toyota\n",
      "Honda\n",
      "Black\n",
      "Blue\n"
     ]
    }
   ],
   "source": [
    "# Example: Instance attributes using our Car class\n",
    "\n",
    "class Car:\n",
    "    def __init__(self, brand, color):\n",
    "        self.brand = brand  # Instance attribute\n",
    "        self.color = color  # Instance attribute\n",
    "\n",
    "# Creating instances\n",
    "car1 = Car(\"Toyota\", \"Red\")\n",
    "car2 = Car(\"Honda\", \"Blue\")\n",
    "\n",
    "# Each instance has different values\n",
    "print(car1.brand)  # Toyota\n",
    "print(car2.brand)  # Honda\n",
    "\n",
    "# Changing an instance attribute only affects that instance\n",
    "car1.color = \"Black\"\n",
    "print(car1.color)  # Black\n",
    "print(car2.color)\n"
   ]
  },
  {
   "cell_type": "markdown",
   "id": "53b4d62b",
   "metadata": {},
   "source": [
    "### Class Attributes ( Defined Outside `__init__`)\n",
    "\n",
    "* Defined at the class level (outside `__init__`).\n",
    "* Shared across all instances of the class.\n",
    "* Changing a class attribute affects all instances (unless overridden at the instance level)."
   ]
  },
  {
   "cell_type": "code",
   "execution_count": 28,
   "id": "d5b4faba",
   "metadata": {},
   "outputs": [
    {
     "name": "stdout",
     "output_type": "stream",
     "text": [
      "4\n",
      "4\n",
      "6\n",
      "6\n"
     ]
    }
   ],
   "source": [
    "class Car:\n",
    "    wheels = 4  # Class attribute (shared by all instances)\n",
    "    \n",
    "    def __init__(self, brand):\n",
    "        self.brand = brand  # Instance attribute\n",
    "\n",
    "# Creating instances\n",
    "car1 = Car(\"Toyota\")\n",
    "car2 = Car(\"Honda\")\n",
    "\n",
    "# Accessing class attribute\n",
    "print(car1.wheels)  # 4\n",
    "print(car2.wheels)  # 4\n",
    "\n",
    "# Changing the class attribute affects all instances\n",
    "Car.wheels = 6\n",
    "print(car1.wheels)  # 6\n",
    "print(car2.wheels)  # 6"
   ]
  },
  {
   "cell_type": "markdown",
   "id": "3b0756d0",
   "metadata": {},
   "source": [
    "**Note**: Just like attributes, methods can be categorized into instance methods and class methods. So far, everything we have defined are instance methods. Class methods, however, are beyond the scope of this data science course and will not be covered."
   ]
  },
  {
   "cell_type": "markdown",
   "id": "cca6f46c",
   "metadata": {},
   "source": [
    "## Inheritance in Python"
   ]
  },
  {
   "cell_type": "markdown",
   "id": "e2b0be16",
   "metadata": {},
   "source": [
    "### What is Inheritance?\n",
    "**Inheritance** is a fundamental concept in Object-Oriented Programming (OOP) that allows a **child class** to inherit attributes and methods from a **parent class**. This promotes **code reuse** and **hierarchical structuring** of classes.\n",
    "\n",
    "Here are Key Benefits of Inheritance:\n",
    "\n",
    "- **Code Reusability** – Avoids redundant code by reusing existing functionality.\n",
    "- **Extensibility** – Allows adding new functionality without modifying the original class.\n",
    "- **Improves Maintainability** – Easier to manage and update related classes.\n",
    "\n",
    "###  Defining a Parent (Base) and Child (Derived) Class\n",
    "A child class **inherits** from a parent class by specifying the parent class name in parentheses.\n",
    "\n",
    " **Example: Basic Inheritance**"
   ]
  },
  {
   "cell_type": "code",
   "execution_count": 29,
   "id": "4b857043",
   "metadata": {},
   "outputs": [
    {
     "name": "stdout",
     "output_type": "stream",
     "text": [
      "Buddy\n",
      "Woof!\n"
     ]
    }
   ],
   "source": [
    "# Parent Class (Base Class)\n",
    "class Animal:\n",
    "    def __init__(self, name):\n",
    "        self.name = name\n",
    "\n",
    "    def speak(self):\n",
    "        return \"Some sound\"\n",
    "\n",
    "# Child Class (Derived Class)\n",
    "class Dog(Animal):  # Inheriting from Animal\n",
    "    def speak(self):\n",
    "        return \"Woof!\"\n",
    "\n",
    "# Creating objects\n",
    "dog1 = Dog(\"Buddy\")\n",
    "\n",
    "# Accessing inherited attributes and methods\n",
    "print(dog1.name)      \n",
    "print(dog1.speak())   "
   ]
  },
  {
   "cell_type": "markdown",
   "id": "ae5fb53a",
   "metadata": {},
   "source": [
    "**Explanation:**\n",
    "\n",
    "* `Dog` inherits from `Animal`, meaning it gets all the properties of `Animal`.\n",
    "* The `Dog` class overrides the `speak()` method to provide a specialized behavior."
   ]
  },
  {
   "cell_type": "markdown",
   "id": "f4c767f9",
   "metadata": {},
   "source": [
    "### The `super()` Function\n",
    "\n",
    "The `super()` function allows calling methods from the parent class inside the child class.\n",
    "\n",
    "Example: Using `super()` to Extend Parent Behavior"
   ]
  },
  {
   "cell_type": "code",
   "execution_count": 30,
   "id": "66c044cf",
   "metadata": {},
   "outputs": [
    {
     "name": "stdout",
     "output_type": "stream",
     "text": [
      "Whiskers\n",
      "Gray\n",
      "Meow!\n"
     ]
    }
   ],
   "source": [
    "class Animal:\n",
    "    def __init__(self, name):\n",
    "        self.name = name\n",
    "\n",
    "    def speak(self):\n",
    "        return \"Some sound\"\n",
    "\n",
    "class Cat(Animal):\n",
    "    def __init__(self, name, color):\n",
    "        super().__init__(name)  # Calling Parent Constructor\n",
    "        self.color = color  # Additional attribute in Child Class\n",
    "\n",
    "    def speak(self):\n",
    "        return \"Meow!\"\n",
    "\n",
    "# Creating an instance\n",
    "cat1 = Cat(\"Whiskers\", \"Gray\")\n",
    "\n",
    "print(cat1.name)   # Whiskers (Inherited from Animal)\n",
    "print(cat1.color)  # Gray (Defined in Cat)\n",
    "print(cat1.speak()) # Meow! (Overridden method)\n"
   ]
  },
  {
   "cell_type": "markdown",
   "id": "f7a45a8f",
   "metadata": {},
   "source": [
    "* `super().__init__(name)` ensures the parent class constructor is properly called.\n",
    "* This allows the child class to initialize both inherited and new attributes."
   ]
  },
  {
   "cell_type": "markdown",
   "id": "2806cd9c",
   "metadata": {},
   "source": [
    "### Method Overriding in Inheritance\n",
    "\n",
    "* If a method exists in both the parent and child class, the child class's method overrides the parent's method.\n",
    "* This is useful for customizing behavior.\n",
    "\n",
    "Example: Overriding a Method"
   ]
  },
  {
   "cell_type": "code",
   "execution_count": 31,
   "id": "52fcd6db",
   "metadata": {},
   "outputs": [
    {
     "name": "stdout",
     "output_type": "stream",
     "text": [
      "This is the Child class\n"
     ]
    }
   ],
   "source": [
    "class Parent:\n",
    "    def show(self):\n",
    "        return \"This is the Parent class\"\n",
    "\n",
    "class Child(Parent):\n",
    "    def show(self):  # Overriding method\n",
    "        return \"This is the Child class\"\n",
    "\n",
    "obj = Child()\n",
    "print(obj.show())  # This is the Child class\n"
   ]
  },
  {
   "cell_type": "markdown",
   "id": "2e3eb4cd",
   "metadata": {},
   "source": [
    "### Check Relationship\n",
    "\n",
    "* `issubclass(Child, Parent)` → Checks if a class is a subclass of another.\n",
    "* `isinstance(object, Class)` → Checks if an object is an instance of a class."
   ]
  },
  {
   "cell_type": "code",
   "execution_count": 32,
   "id": "641aff00",
   "metadata": {},
   "outputs": [
    {
     "name": "stdout",
     "output_type": "stream",
     "text": [
      "True\n",
      "True\n",
      "True\n"
     ]
    }
   ],
   "source": [
    "class Animal:\n",
    "    pass\n",
    "\n",
    "class Dog(Animal):\n",
    "    pass\n",
    "\n",
    "dog1 = Dog()\n",
    "\n",
    "print(issubclass(Dog, Animal))  # True\n",
    "print(isinstance(dog1, Dog))    # True\n",
    "print(isinstance(dog1, Animal)) # True (Since Dog inherits from Animal)\n"
   ]
  },
  {
   "cell_type": "markdown",
   "id": "a34fbf0d",
   "metadata": {},
   "source": [
    "### The `object` class in Python\n",
    "\n",
    "When you define a class in Python without explicitly specifying a parent class, Python automatically makes it inherit from the built-in `object` class.\n",
    "\n",
    "Let's confirm this using the `issubclss()` method"
   ]
  },
  {
   "cell_type": "code",
   "execution_count": 37,
   "id": "ff86cdb5",
   "metadata": {},
   "outputs": [
    {
     "name": "stdout",
     "output_type": "stream",
     "text": [
      "True\n"
     ]
    }
   ],
   "source": [
    "print(issubclass(Car, object))"
   ]
  },
  {
   "cell_type": "markdown",
   "id": "519344da",
   "metadata": {},
   "source": [
    "You can use the `__bases__` attribute to check the parent class(es):"
   ]
  },
  {
   "cell_type": "code",
   "execution_count": 38,
   "id": "3495a66b",
   "metadata": {},
   "outputs": [
    {
     "name": "stdout",
     "output_type": "stream",
     "text": [
      "(<class 'object'>,)\n"
     ]
    }
   ],
   "source": [
    "print(Car.__bases__) "
   ]
  },
  {
   "cell_type": "markdown",
   "id": "f891069a",
   "metadata": {},
   "source": [
    "#### What is the `object` class?\n",
    "\n",
    "* `object` is the **base class for all classes in Python**.\n",
    "* It provides default methods like:\n",
    "  * __str__()\n",
    "  * __repr__()\n",
    "  * __eq__()\n",
    "  * __init__()\n",
    "  * And more...\n"
   ]
  },
  {
   "cell_type": "markdown",
   "id": "7c399f09",
   "metadata": {},
   "source": [
    "Let's back to the whole list of `car1`"
   ]
  },
  {
   "cell_type": "code",
   "execution_count": 40,
   "id": "3484013f",
   "metadata": {},
   "outputs": [
    {
     "data": {
      "text/plain": [
       "['__class__',\n",
       " '__delattr__',\n",
       " '__dict__',\n",
       " '__dir__',\n",
       " '__doc__',\n",
       " '__eq__',\n",
       " '__format__',\n",
       " '__ge__',\n",
       " '__getattribute__',\n",
       " '__getstate__',\n",
       " '__gt__',\n",
       " '__hash__',\n",
       " '__init__',\n",
       " '__init_subclass__',\n",
       " '__le__',\n",
       " '__lt__',\n",
       " '__module__',\n",
       " '__ne__',\n",
       " '__new__',\n",
       " '__reduce__',\n",
       " '__reduce_ex__',\n",
       " '__repr__',\n",
       " '__setattr__',\n",
       " '__sizeof__',\n",
       " '__str__',\n",
       " '__subclasshook__',\n",
       " '__weakref__',\n",
       " 'brand',\n",
       " 'wheels']"
      ]
     },
     "execution_count": 40,
     "metadata": {},
     "output_type": "execute_result"
    }
   ],
   "source": [
    "dir(car1)"
   ]
  },
  {
   "cell_type": "markdown",
   "id": "ad5a3ee4",
   "metadata": {},
   "source": [
    "Many special methods and attributes that start with double underscores (`__`) are inherited from the `object` class in Python. These are known as **dunder (double underscore) methods** or **magic methods**, such as `__init__()`, `__str__()`, and `__eq__()`. These methods are automatically called by Python for specific operations, and users typically do not need to call them directly.\n",
    "\n",
    "We generally do not recommend modifying these methods unless you are customizing class behavior (e.g., overloading operators). If you need to define **private attributes or methods**, use a single underscore `_` (convention) or double underscore `__` (name mangling) to prevent accidental access."
   ]
  },
  {
   "cell_type": "markdown",
   "id": "93659254",
   "metadata": {},
   "source": [
    "**Key Takeaways:**\n",
    "\n",
    "* Inheritance promotes code reuse and hierarchy in OOP.\n",
    "* A child class can inherit and override parent class methods.\n",
    "* Use `super()` to call parent class methods inside the child class.\n",
    "\n",
    "For more details, refer to the official Python documentation on [Inheritance](https://docs.python.org/3/tutorial/classes.html#inheritance)."
   ]
  },
  {
   "cell_type": "markdown",
   "id": "5d7ac507",
   "metadata": {},
   "source": [
    "### Practice exercise 2"
   ]
  },
  {
   "cell_type": "markdown",
   "id": "92ea5bbb",
   "metadata": {},
   "source": [
    "Define a class that inherits the in-built Python class `list`, and adds a new method to the class called `nunique()` which returns the number of unique elements in the list.\n",
    "\n",
    "Define the following list as an object of the class you created. Then:\n",
    "\n",
    "1. Find the number of unique elements in the object using the method `nunique()` of the inherited class. \n",
    "\n",
    "2. Check if the `pop()` method of the parent class works to pop an element out of the object."
   ]
  },
  {
   "cell_type": "code",
   "execution_count": 34,
   "id": "d0733231",
   "metadata": {},
   "outputs": [],
   "source": [
    "list_ex = [1,2,5,3,6,5,5,5,12]"
   ]
  },
  {
   "cell_type": "code",
   "execution_count": 35,
   "id": "bf83938a",
   "metadata": {},
   "outputs": [
    {
     "name": "stdout",
     "output_type": "stream",
     "text": [
      "Number of unique elements =  6\n",
      "Checking the pop() method, the popped out element is 12\n"
     ]
    }
   ],
   "source": [
    "class list_v2(list):\n",
    "    def nuinque(self):\n",
    "        unique_elements = []\n",
    "        for x in self:\n",
    "            if x not in unique_elements:\n",
    "                unique_elements.append(x)\n",
    "        return len(unique_elements)\n",
    "    \n",
    "list_ex = list_v2(list_ex)\n",
    "print(\"Number of unique elements = \", list_ex.nuinque())\n",
    "print(\"Checking the pop() method, the popped out element is\", list_ex.pop())"
   ]
  },
  {
   "cell_type": "markdown",
   "id": "aa098eac",
   "metadata": {},
   "source": [
    "### Practice exercise 3"
   ]
  },
  {
   "cell_type": "markdown",
   "id": "2532c959",
   "metadata": {},
   "source": [
    "Define a class named `PasswordManagerUpdated` that inherits the class `PasswordManager` defined in Practice exercise 1. The class `PasswordManagerUpdated` should have two methods, other than the *constructor*:\n",
    "\n",
    "1. The method `set_password()` that sets a new password. The new password must only be accepted if it does not have any punctuations in it, and if it is not the same as one of the old passwords. If the new password is not acceptable, then one of the appropriate messages should be printed - (a) *Cannot have punctuation in password, try again*, or (b) *Old password cannot be reused, try again*.\n",
    "\n",
    "2. The method `suggest_password()` that randomly sets and returns a password as a string comprising of 15 randomly chosen letters. Letters may be repeated as well."
   ]
  },
  {
   "cell_type": "code",
   "execution_count": 2,
   "id": "5a15b9c3",
   "metadata": {},
   "outputs": [],
   "source": [
    "#| eval: false\n",
    "\n",
    "import random\n",
    "import string\n",
    "\n",
    "class PasswordManagerUpdated(PasswordManager):\n",
    "    def __init__(self, initial_passwords):\n",
    "        super().__init__(initial_passwords)\n",
    "\n",
    "    def set_password(self, new_password):\n",
    "        \"\"\"Sets a new password if it does not contain punctuation and is not a reused password.\"\"\"\n",
    "        if any(char in string.punctuation for char in new_password):\n",
    "            print(\"Cannot have punctuation in password, try again.\")\n",
    "        elif new_password in self.old_passwords:\n",
    "            print(\"Old password cannot be reused, try again.\")\n",
    "        else:\n",
    "            self.old_passwords.append(new_password)\n",
    "            print(\"Password changed successfully!\")\n",
    "\n",
    "    def suggest_password(self):\n",
    "        \"\"\"Generates and returns a random 15-character password without punctuation.\"\"\"\n",
    "        suggested_password = ''.join(random.choices(string.ascii_letters, k=15))\n",
    "        self.old_passwords.append(suggested_password)\n",
    "        return suggested_password"
   ]
  },
  {
   "cell_type": "markdown",
   "id": "40821183",
   "metadata": {},
   "source": [
    "Note that `ascii_letters` constant in Python is part of the `string` module and is a predefined string that contains all the lowercase and uppercase ASCII letters. It It contains all lowercase (‘a’ to ‘z’) and uppercase (‘A’ to ‘Z’) ASCII characters in sequence."
   ]
  },
  {
   "cell_type": "code",
   "execution_count": 5,
   "id": "51d92a4d",
   "metadata": {},
   "outputs": [
    {
     "name": "stdout",
     "output_type": "stream",
     "text": [
      "abcdefghijklmnopqrstuvwxyzABCDEFGHIJKLMNOPQRSTUVWXYZ\n"
     ]
    }
   ],
   "source": [
    "import string\n",
    "\n",
    "# Accessing ascii_letters\n",
    "s = string.ascii_letters\n",
    "print(s) "
   ]
  },
  {
   "cell_type": "markdown",
   "id": "86eef37f",
   "metadata": {},
   "source": [
    "Let's use the class below:"
   ]
  },
  {
   "cell_type": "code",
   "execution_count": 3,
   "id": "4a8eea39",
   "metadata": {},
   "outputs": [
    {
     "name": "stdout",
     "output_type": "stream",
     "text": [
      "Cannot have punctuation in password, try again.\n",
      "Old password cannot be reused, try again.\n",
      "Password changed successfully!\n",
      "Current password: securePass123\n",
      "Suggested password: xXgtHYeOAPsVvvY\n",
      "Current password after suggestion: xXgtHYeOAPsVvvY\n"
     ]
    }
   ],
   "source": [
    "# Initialize PasswordManagerUpdated with given passwords\n",
    "initial_passwords = [\"alpha123\", \"beta456\", \"gamma789\", \"delta321\", \"ibiza1972\"]\n",
    "password_manager_updated = PasswordManagerUpdated(initial_passwords)\n",
    "\n",
    "# 1. Try setting a password with punctuation\n",
    "password_manager_updated.set_password(\"newPass@word!\")\n",
    "\n",
    "# 2. Try setting an already used password\n",
    "password_manager_updated.set_password(\"ibiza1972\")\n",
    "\n",
    "# 3. Set a new valid password\n",
    "password_manager_updated.set_password(\"securePass123\")\n",
    "print(\"Current password:\", password_manager_updated.get_password())\n",
    "\n",
    "# 4. Generate and set a suggested password\n",
    "suggested = password_manager_updated.suggest_password()\n",
    "print(\"Suggested password:\", suggested)\n",
    "print(\"Current password after suggestion:\", password_manager_updated.get_password())"
   ]
  }
 ],
 "metadata": {
  "kernelspec": {
   "display_name": "base",
   "language": "python",
   "name": "python3"
  },
  "language_info": {
   "codemirror_mode": {
    "name": "ipython",
    "version": 3
   },
   "file_extension": ".py",
   "mimetype": "text/x-python",
   "name": "python",
   "nbconvert_exporter": "python",
   "pygments_lexer": "ipython3",
   "version": "3.12.4"
  }
 },
 "nbformat": 4,
 "nbformat_minor": 5
}
