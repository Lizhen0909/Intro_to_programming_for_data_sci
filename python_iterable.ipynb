{
 "cells": [
  {
   "cell_type": "raw",
   "metadata": {
    "vscode": {
     "languageId": "raw"
    }
   },
   "source": [
    "---\n",
    "title: \"Python Iterables\"\n",
    "format: \n",
    "  html:\n",
    "    toc-depth: 4\n",
    "    code-fold: false\n",
    "jupyter: python3\n",
    "---"
   ]
  },
  {
   "cell_type": "markdown",
   "metadata": {},
   "source": [
    "In Python, an **iterable** is an object capable of returning its members one at a time. Common examples of iterables include strings, lists, tuples, sets, dictionaries, and Ranges. Iterables are fundamental in Python for loops, comprehensions, and many built-in functions.\n",
    "\n",
    "## What are Python Iterables\n",
    "\n",
    "### What Makes an Object Iterable?\n",
    "An object is considered iterable if it implements the `__iter__()` method, which returns an iterator object, or the `__getitem__()` method, which allows it to be accessed sequentially."
   ]
  },
  {
   "cell_type": "code",
   "execution_count": 3,
   "metadata": {},
   "outputs": [
    {
     "name": "stdout",
     "output_type": "stream",
     "text": [
      "Help on method-wrapper:\n",
      "\n",
      "__iter__() unbound builtins.list method\n",
      "    Implement iter(self).\n",
      "\n"
     ]
    }
   ],
   "source": [
    "my_list = [1, 2, 3, 4, 5]\n",
    "help(my_list.__iter__)"
   ]
  },
  {
   "cell_type": "code",
   "execution_count": 10,
   "metadata": {},
   "outputs": [
    {
     "name": "stdout",
     "output_type": "stream",
     "text": [
      "Help on built-in function __getitem__:\n",
      "\n",
      "__getitem__(index, /) method of builtins.list instance\n",
      "    Return self[index].\n",
      "\n"
     ]
    }
   ],
   "source": [
    "help(my_list.__getitem__)"
   ]
  },
  {
   "cell_type": "markdown",
   "metadata": {},
   "source": [
    "### Checking if an Object is Iterable\n",
    "\n",
    "You can check if an object is iterable using the `collections.abc.Iterable` class:"
   ]
  },
  {
   "cell_type": "code",
   "execution_count": 4,
   "metadata": {},
   "outputs": [
    {
     "name": "stdout",
     "output_type": "stream",
     "text": [
      "True\n",
      "False\n",
      "True\n",
      "True\n"
     ]
    }
   ],
   "source": [
    "from collections.abc import Iterable\n",
    "\n",
    "print(isinstance([1, 2, 3], Iterable))  \n",
    "print(isinstance(123, Iterable))    \n",
    "print(isinstance(range(5), Iterable))\n",
    "print(isinstance(\"hello\", Iterable))   "
   ]
  },
  {
   "cell_type": "markdown",
   "metadata": {},
   "source": [
    "## Common Iterables in Python\n",
    "\n",
    "Here are some built-in iterables in Python:\n",
    "\n",
    "### Strings"
   ]
  },
  {
   "cell_type": "code",
   "execution_count": 12,
   "metadata": {},
   "outputs": [
    {
     "name": "stdout",
     "output_type": "stream",
     "text": [
      "P y t h o n "
     ]
    }
   ],
   "source": [
    "for char in \"Python\":\n",
    "    print(char, end=\" \")"
   ]
  },
  {
   "cell_type": "markdown",
   "metadata": {},
   "source": [
    "### Lists"
   ]
  },
  {
   "cell_type": "code",
   "execution_count": 14,
   "metadata": {},
   "outputs": [
    {
     "name": "stdout",
     "output_type": "stream",
     "text": [
      "1 2 3 "
     ]
    }
   ],
   "source": [
    "for num in [1, 2, 3]:\n",
    "    print(num, end=\" \")"
   ]
  },
  {
   "cell_type": "markdown",
   "metadata": {},
   "source": [
    "### Tuples"
   ]
  },
  {
   "cell_type": "code",
   "execution_count": 16,
   "metadata": {},
   "outputs": [
    {
     "name": "stdout",
     "output_type": "stream",
     "text": [
      "4 5 6 "
     ]
    }
   ],
   "source": [
    "for item in (4, 5, 6):\n",
    "    print(item, end=\" \")"
   ]
  },
  {
   "cell_type": "markdown",
   "metadata": {},
   "source": [
    "### Sets"
   ]
  },
  {
   "cell_type": "code",
   "execution_count": 18,
   "metadata": {},
   "outputs": [
    {
     "name": "stdout",
     "output_type": "stream",
     "text": [
      "1 2 3 "
     ]
    }
   ],
   "source": [
    "for elem in {1, 2, 3}:\n",
    "    print(elem, end=\" \")"
   ]
  },
  {
   "cell_type": "markdown",
   "metadata": {},
   "source": [
    "### Dictionaries"
   ]
  },
  {
   "cell_type": "code",
   "execution_count": 8,
   "metadata": {},
   "outputs": [
    {
     "name": "stdout",
     "output_type": "stream",
     "text": [
      "a b "
     ]
    }
   ],
   "source": [
    "my_dict = {\"a\": 1, \"b\": 2}\n",
    "for key in my_dict:\n",
    "    print(key, end=\" \")\n"
   ]
  },
  {
   "cell_type": "markdown",
   "metadata": {},
   "source": [
    "### Ranges"
   ]
  },
  {
   "cell_type": "code",
   "execution_count": 6,
   "metadata": {},
   "outputs": [
    {
     "name": "stdout",
     "output_type": "stream",
     "text": [
      "0 1 2 3 4 "
     ]
    }
   ],
   "source": [
    "for i in range(5):  # Generates numbers from 0 to 4\n",
    "    print(i, end=\" \")"
   ]
  },
  {
   "cell_type": "markdown",
   "metadata": {},
   "source": [
    "## Iterating over Iterables\n",
    "\n",
    "You can iterate over an iterable using:\n",
    "* A `for` loop.\n",
    "* the `iter()` and `next()` functions\n",
    "\n",
    "We've often used `for` loops to traverse iterables in Python. Now, let's dive into how you can manually iterate over an iterable using the built-in `iter()` and `next()` functions. This approach offers finer control over the iteration process and can be especially useful in more advanced scenarios."
   ]
  },
  {
   "cell_type": "code",
   "execution_count": 14,
   "metadata": {},
   "outputs": [
    {
     "name": "stdout",
     "output_type": "stream",
     "text": [
      "10\n",
      "20\n",
      "30\n",
      "40\n",
      "50\n",
      "Iteration complete!\n"
     ]
    }
   ],
   "source": [
    "# Example: Manually Iterating Over an Iterable Using iter() and next()\n",
    "\n",
    "# Define an iterable, such as a list of numbers\n",
    "numbers = [10, 20, 30, 40, 50]\n",
    "\n",
    "# Obtain an iterator from the iterable\n",
    "iterator = iter(numbers)\n",
    "\n",
    "# Use a while loop to manually iterate over the elements\n",
    "while True:\n",
    "    try:\n",
    "        # Retrieve the next element in the iterator\n",
    "        number = next(iterator)\n",
    "        print(number)\n",
    "    except StopIteration:\n",
    "        # When there are no more elements, a StopIteration exception is raised.\n",
    "        print(\"Iteration complete!\")\n",
    "        break\n"
   ]
  },
  {
   "cell_type": "markdown",
   "metadata": {},
   "source": [
    "## Iterables Unpacking"
   ]
  },
  {
   "cell_type": "markdown",
   "metadata": {},
   "source": [
    "Python supports unpacking for iterables, allowing you to assign elements of an iterable to variables in a concise and readable way. Unpacking is a powerful feature that works with python iterable objects.\n",
    "\n",
    "### Basic Unpacking\n",
    "\n",
    "You can unpack the elements of an iterable into separate variables:"
   ]
  },
  {
   "cell_type": "code",
   "execution_count": 21,
   "metadata": {},
   "outputs": [
    {
     "name": "stdout",
     "output_type": "stream",
     "text": [
      "1 2 3\n"
     ]
    }
   ],
   "source": [
    "# Unpacking a list\n",
    "numbers = [1, 2, 3]\n",
    "a, b, c = numbers\n",
    "print(a, b, c)  # Output: 1 2 3\n"
   ]
  },
  {
   "cell_type": "markdown",
   "metadata": {},
   "source": [
    "**Note**: The number of variables must match the number of elements in the iterable, or Python will raise a `ValueError`."
   ]
  },
  {
   "cell_type": "markdown",
   "metadata": {},
   "source": [
    "### Extended (*) Unpacking\n",
    "\n",
    "Using the `*` operator, you can unpack multiple elements into a single variable, capturing the remaining elements as a list:"
   ]
  },
  {
   "cell_type": "code",
   "execution_count": 22,
   "metadata": {},
   "outputs": [
    {
     "name": "stdout",
     "output_type": "stream",
     "text": [
      "1\n",
      "[2, 3, 4]\n",
      "5\n"
     ]
    }
   ],
   "source": [
    "numbers = [1, 2, 3, 4, 5]\n",
    "\n",
    "a, *b, c = numbers\n",
    "print(a)  \n",
    "print(b)  \n",
    "print(c)  \n"
   ]
  },
  {
   "cell_type": "markdown",
   "metadata": {},
   "source": [
    "Here, `b` (with `*`) captures all the middle elements as a list."
   ]
  },
  {
   "cell_type": "markdown",
   "metadata": {},
   "source": [
    "### Unpacking with Functions\n",
    "\n",
    "You can use unpacking to pass iterable elements as arguments to functions:"
   ]
  },
  {
   "cell_type": "code",
   "execution_count": 23,
   "metadata": {},
   "outputs": [
    {
     "name": "stdout",
     "output_type": "stream",
     "text": [
      "6\n"
     ]
    }
   ],
   "source": [
    "# unpacking a list or tuple\n",
    "def add(a, b, c):\n",
    "    return a + b + c\n",
    "\n",
    "numbers = [1, 2, 3]\n",
    "result = add(*numbers)\n",
    "print(result)  "
   ]
  },
  {
   "cell_type": "code",
   "execution_count": 24,
   "metadata": {},
   "outputs": [
    {
     "name": "stdout",
     "output_type": "stream",
     "text": [
      "6\n"
     ]
    }
   ],
   "source": [
    "# unpacking a dictionary\n",
    "def add(a=0, b=0, c=0):\n",
    "    return a + b + c\n",
    "\n",
    "numbers = {\"a\": 1, \"b\": 2, \"c\": 3}\n",
    "result = add(**numbers)\n",
    "print(result) "
   ]
  },
  {
   "cell_type": "markdown",
   "metadata": {},
   "source": [
    "If we are interested in retrieving only some values of the tuple, the expression *_ can be used to discard the other values. Let's say we are interested in retrieving only the first and the last two values of the tuple:"
   ]
  },
  {
   "cell_type": "code",
   "execution_count": 25,
   "metadata": {},
   "outputs": [],
   "source": [
    "x,*_,y,z  = (4.5, \"this is a string\", ((\"Nested tuple\",5)),\"99\",99)"
   ]
  },
  {
   "cell_type": "code",
   "execution_count": 26,
   "metadata": {},
   "outputs": [
    {
     "data": {
      "text/plain": [
       "(4.5, '99', 99)"
      ]
     },
     "execution_count": 26,
     "metadata": {},
     "output_type": "execute_result"
    }
   ],
   "source": [
    "x, y , z"
   ]
  },
  {
   "cell_type": "markdown",
   "metadata": {},
   "source": [
    "## Built-in Functions for Iterables\n",
    "\n",
    "Python provides a variety of built-in functions to operate on iterables, making it easy to manipulate, process, and analyze collections like lists, tuples, strings, sets, and dictionaries. Below is a list of commonly used built-in functions specifically designed for iterables."
   ]
  },
  {
   "cell_type": "markdown",
   "metadata": {},
   "source": [
    "###  General Functions\n",
    "\n",
    "| Function     | Description                                                                 | Example                                                |\n",
    "|:------------:|:----------------------------------------------------------------------------|:-------------------------------------------------------|\n",
    "| `len()`      | Returns the number of elements in an iterable.                               | `len([1, 2, 3])` → `3`                                 |\n",
    "| `min()`      | Returns the smallest element in an iterable.                                 | `min([3, 1, 4])` → `1`                                 |\n",
    "| `max()`      | Returns the largest element in an iterable.                                  | `max([3, 1, 4])` → `4`                                 |\n",
    "| `sum()`      | Returns the sum of elements in an iterable (numeric types only).             | `sum([1, 2, 3])` → `6`                                 |\n",
    "| `sorted()`   | Returns a sorted list from an iterable (does **not** modify the original).   | `sorted([3, 1, 2])` → `[1, 2, 3]`                      |\n",
    "| `reversed()` | Returns an iterator that accesses the elements of an iterable in reverse.    | `list(reversed([1, 2, 3]))` → `[3, 2, 1]`              |\n",
    "| `enumerate()`| Returns an iterator of tuples containing indices and elements of the iterable.| `list(enumerate(['a', 'b', 'c']))` → `[(0, 'a'), (1, 'b'), (2, 'c')]` |\n",
    "| `all()`      | Returns `True` if all elements of the iterable are true (or if empty).        | `all([True, 1, 'a'])` → `True`                         |\n",
    "| `any()`      | Returns `True` if **any** element of the iterable is true.                   | `any([False, 0, 'b'])` → `True`                        |\n"
   ]
  },
  {
   "cell_type": "code",
   "execution_count": 28,
   "metadata": {},
   "outputs": [
    {
     "data": {
      "text/plain": [
       "['apple', 'banana', 'orange']"
      ]
     },
     "execution_count": 28,
     "metadata": {},
     "output_type": "execute_result"
    }
   ],
   "source": [
    "sorted([\"apple\", \"orange\", \"banana\"])"
   ]
  },
  {
   "cell_type": "code",
   "execution_count": 29,
   "metadata": {},
   "outputs": [
    {
     "data": {
      "text/plain": [
       "'orange'"
      ]
     },
     "execution_count": 29,
     "metadata": {},
     "output_type": "execute_result"
    }
   ],
   "source": [
    "max([\"apple\", \"orange\", \"banana\"])"
   ]
  },
  {
   "cell_type": "markdown",
   "metadata": {},
   "source": [
    "### `sorted()`\n",
    "\n",
    "The `sorted()` function in Python is used to return a new sorted list from an iterable. It is a versatile and powerful tool for sorting data in ascending or descending order, with the ability to customize sorting behavior using a key function."
   ]
  },
  {
   "cell_type": "code",
   "execution_count": 30,
   "metadata": {},
   "outputs": [
    {
     "name": "stdout",
     "output_type": "stream",
     "text": [
      "[1, 1, 3, 4, 5]\n"
     ]
    }
   ],
   "source": [
    "numbers = [3, 1, 4, 1, 5]\n",
    "sorted_numbers = sorted(numbers)\n",
    "print(sorted_numbers)  # Output: [1, 1, 3, 4, 5]\n"
   ]
  },
  {
   "cell_type": "code",
   "execution_count": 31,
   "metadata": {},
   "outputs": [
    {
     "name": "stdout",
     "output_type": "stream",
     "text": [
      "[5, 4, 3, 1, 1]\n"
     ]
    }
   ],
   "source": [
    "numbers = [3, 1, 4, 1, 5]\n",
    "sorted_numbers = sorted(numbers, reverse=True)\n",
    "print(sorted_numbers)  # Output: [5, 4, 3, 1, 1]\n"
   ]
  },
  {
   "cell_type": "code",
   "execution_count": 32,
   "metadata": {},
   "outputs": [
    {
     "name": "stdout",
     "output_type": "stream",
     "text": [
      "['h', 'n', 'o', 'p', 't', 'y']\n"
     ]
    }
   ],
   "source": [
    "word = \"python\"\n",
    "sorted_chars = sorted(word)\n",
    "print(sorted_chars)  # Output: ['h', 'n', 'o', 'p', 't', 'y']\n"
   ]
  },
  {
   "cell_type": "markdown",
   "metadata": {},
   "source": [
    "The `key` parameter allows customization of sorting logic by applying a function to each element before comparison."
   ]
  },
  {
   "cell_type": "code",
   "execution_count": 33,
   "metadata": {},
   "outputs": [
    {
     "name": "stdout",
     "output_type": "stream",
     "text": [
      "['apple', 'banana', 'cherry']\n"
     ]
    }
   ],
   "source": [
    "words = [\"banana\", \"apple\", \"cherry\"]\n",
    "sorted_words = sorted(words, key=len)\n",
    "print(sorted_words)  # Output: ['apple', 'banana', 'cherry']\n"
   ]
  },
  {
   "cell_type": "code",
   "execution_count": 34,
   "metadata": {},
   "outputs": [
    {
     "name": "stdout",
     "output_type": "stream",
     "text": [
      "[-1, 3, -5, 7]\n"
     ]
    }
   ],
   "source": [
    "numbers = [-5, 3, -1, 7]\n",
    "sorted_numbers = sorted(numbers, key=abs)\n",
    "print(sorted_numbers)  # Output: [-1, 3, -5, 7]\n"
   ]
  },
  {
   "cell_type": "code",
   "execution_count": 20,
   "metadata": {},
   "outputs": [
    {
     "ename": "TypeError",
     "evalue": "'<' not supported between instances of 'int' and 'str'",
     "output_type": "error",
     "traceback": [
      "\u001b[1;31m---------------------------------------------------------------------------\u001b[0m",
      "\u001b[1;31mTypeError\u001b[0m                                 Traceback (most recent call last)",
      "Cell \u001b[1;32mIn[20], line 1\u001b[0m\n\u001b[1;32m----> 1\u001b[0m \u001b[38;5;28;43msorted\u001b[39;49m\u001b[43m(\u001b[49m\u001b[43m[\u001b[49m\u001b[38;5;124;43m\"\u001b[39;49m\u001b[38;5;124;43mapple\u001b[39;49m\u001b[38;5;124;43m\"\u001b[39;49m\u001b[43m,\u001b[49m\u001b[43m \u001b[49m\u001b[38;5;124;43m\"\u001b[39;49m\u001b[38;5;124;43morange\u001b[39;49m\u001b[38;5;124;43m\"\u001b[39;49m\u001b[43m,\u001b[49m\u001b[43m \u001b[49m\u001b[38;5;241;43m32\u001b[39;49m\u001b[43m]\u001b[49m\u001b[43m)\u001b[49m\n",
      "\u001b[1;31mTypeError\u001b[0m: '<' not supported between instances of 'int' and 'str'"
     ]
    }
   ],
   "source": [
    "sorted([\"apple\", \"orange\", 32])"
   ]
  },
  {
   "cell_type": "markdown",
   "metadata": {},
   "source": [
    "When you use functions like `max()`, `min()`, `sum(`), or `sorted` on an iterable, Python will try to perform comparisons or arithmetic operations between the elements. These functions work seamlessly when all elements are of types that can be compared or added together. However, if the iterable contains mixed types that are not inherently comparable (like strings and numbers), you'll run into errors.\n",
    "\n",
    "**By ensuring the elements in your iterable are of compatible types, you can effectively use these functions without encountering runtime errors.**"
   ]
  },
  {
   "cell_type": "markdown",
   "metadata": {},
   "source": [
    "#### Difference Between `sorted()` and `list.sort()`\n",
    "\n",
    "| Feature         | `sorted()`                                                | `list.sort()`                                      |\n",
    "|-----------------|-----------------------------------------------------------|----------------------------------------------------|\n",
    "| **Return Value** | Returns a **new** sorted list                            | Modifies the list in place and returns `None`.     |\n",
    "| **Input Type**   | Works with any iterable (e.g., lists, tuples, strings). | Works **only** with lists.                         |\n",
    "| **Usage**        | `sorted(iterable)`                                       | `list.sort()`                                      |\n",
    "\n",
    "**Example:**"
   ]
  },
  {
   "cell_type": "code",
   "execution_count": 35,
   "metadata": {},
   "outputs": [
    {
     "name": "stdout",
     "output_type": "stream",
     "text": [
      "Original List: [3, 1, 2]\n",
      "New Sorted List: [1, 2, 3]\n",
      "List after list.sort(): [1, 2, 3]\n"
     ]
    }
   ],
   "source": [
    "\n",
    "my_list = [3, 1, 2]\n",
    "\n",
    "# Using sorted()\n",
    "new_list = sorted(my_list)\n",
    "print(\"Original List:\", my_list)  # [3, 1, 2]\n",
    "print(\"New Sorted List:\", new_list)  # [1, 2, 3]\n",
    "\n",
    "# Using list.sort()\n",
    "my_list.sort()\n",
    "print(\"List after list.sort():\", my_list)  # [1, 2, 3]"
   ]
  },
  {
   "cell_type": "markdown",
   "metadata": {},
   "source": [
    "###  `enumerate()` \n",
    "\n",
    "The `enumerate()` function adds a counter to an iterable and returns it as an **enumerate object**, which can be iterated over to get both the **index** and the **value** of each element in the iterable.\n",
    "\n",
    "#### **Syntax**\n",
    "\n",
    "`enumerate(iterable, start=0)`"
   ]
  },
  {
   "cell_type": "code",
   "execution_count": 36,
   "metadata": {},
   "outputs": [
    {
     "name": "stdout",
     "output_type": "stream",
     "text": [
      "Index: 0, Fruit: apple\n",
      "Index: 1, Fruit: banana\n",
      "Index: 2, Fruit: cherry\n"
     ]
    }
   ],
   "source": [
    "fruits = [\"apple\", \"banana\", \"cherry\"]\n",
    "\n",
    "for index, fruit in enumerate(fruits):\n",
    "    print(f\"Index: {index}, Fruit: {fruit}\")\n"
   ]
  },
  {
   "cell_type": "code",
   "execution_count": 37,
   "metadata": {},
   "outputs": [
    {
     "name": "stdout",
     "output_type": "stream",
     "text": [
      "Index: 1, Fruit: apple\n",
      "Index: 2, Fruit: banana\n",
      "Index: 3, Fruit: cherry\n"
     ]
    }
   ],
   "source": [
    "# change the start index\n",
    "fruits = [\"apple\", \"banana\", \"cherry\"]\n",
    "\n",
    "for index, fruit in enumerate(fruits, start=1):\n",
    "    print(f\"Index: {index}, Fruit: {fruit}\")\n"
   ]
  },
  {
   "cell_type": "code",
   "execution_count": 38,
   "metadata": {},
   "outputs": [
    {
     "name": "stdout",
     "output_type": "stream",
     "text": [
      "[(1, 'apple'), (2, 'banana'), (3, 'cherry')]\n"
     ]
    }
   ],
   "source": [
    "# using enumerate() with a list comprehension\n",
    "fruits = [\"apple\", \"banana\", \"cherry\"]\n",
    "indexed_fruits = [(index, fruit) for index, fruit in enumerate(fruits, start=1)]\n",
    "print(indexed_fruits)\n"
   ]
  },
  {
   "cell_type": "code",
   "execution_count": 39,
   "metadata": {},
   "outputs": [
    {
     "name": "stdout",
     "output_type": "stream",
     "text": [
      "Index: 0, Character: p\n",
      "Index: 1, Character: y\n",
      "Index: 2, Character: t\n",
      "Index: 3, Character: h\n",
      "Index: 4, Character: o\n",
      "Index: 5, Character: n\n"
     ]
    }
   ],
   "source": [
    "# Working with Strings\n",
    "word = \"python\"\n",
    "\n",
    "for index, char in enumerate(word):\n",
    "    print(f\"Index: {index}, Character: {char}\")"
   ]
  },
  {
   "cell_type": "markdown",
   "metadata": {},
   "source": [
    "### `zip()` \n",
    "\n",
    "The `zip()` function is a built-in Python function that combines two or more iterables (e.g., lists, tuples, strings) into a single iterator of tuples. It is commonly used to pair elements from multiple iterables based on their positions."
   ]
  },
  {
   "cell_type": "code",
   "execution_count": 23,
   "metadata": {},
   "outputs": [
    {
     "name": "stdout",
     "output_type": "stream",
     "text": [
      "Help on class zip in module builtins:\n",
      "\n",
      "class zip(object)\n",
      " |  zip(*iterables, strict=False) --> Yield tuples until an input is exhausted.\n",
      " |\n",
      " |     >>> list(zip('abcdefg', range(3), range(4)))\n",
      " |     [('a', 0, 0), ('b', 1, 1), ('c', 2, 2)]\n",
      " |\n",
      " |  The zip object yields n-length tuples, where n is the number of iterables\n",
      " |  passed as positional arguments to zip().  The i-th element in every tuple\n",
      " |  comes from the i-th iterable argument to zip().  This continues until the\n",
      " |  shortest argument is exhausted.\n",
      " |\n",
      " |  If strict is true and one of the arguments is exhausted before the others,\n",
      " |  raise a ValueError.\n",
      " |\n",
      " |  Methods defined here:\n",
      " |\n",
      " |  __getattribute__(self, name, /)\n",
      " |      Return getattr(self, name).\n",
      " |\n",
      " |  __iter__(self, /)\n",
      " |      Implement iter(self).\n",
      " |\n",
      " |  __next__(self, /)\n",
      " |      Implement next(self).\n",
      " |\n",
      " |  __reduce__(...)\n",
      " |      Return state information for pickling.\n",
      " |\n",
      " |  __setstate__(...)\n",
      " |      Set state information for unpickling.\n",
      " |\n",
      " |  ----------------------------------------------------------------------\n",
      " |  Static methods defined here:\n",
      " |\n",
      " |  __new__(*args, **kwargs)\n",
      " |      Create and return a new object.  See help(type) for accurate signature.\n",
      "\n"
     ]
    }
   ],
   "source": [
    "help(zip)"
   ]
  },
  {
   "cell_type": "markdown",
   "metadata": {},
   "source": [
    "\n",
    "**Key Points**\n",
    "\n",
    "- **Aggregation of Iterables:**  \n",
    "  `zip()` takes any number of iterables as arguments and returns an iterator of tuples, where each tuple contains the corresponding elements from all the iterables.\n",
    "\n",
    "- **Length of the Result:**  \n",
    "  The iterator stops when the shortest input iterable is exhausted. If the iterables have different lengths, elements from the longer iterables that do not have a corresponding element in the shorter ones are ignored.\n",
    "\n",
    "- **Return Type:**  \n",
    "  The object returned by `zip()` is an iterator in Python 3. To convert it to a list or tuple, you can use the `list()` or `tuple()` functions.\n",
    "\n",
    "Basic Usage Example"
   ]
  },
  {
   "cell_type": "code",
   "execution_count": 31,
   "metadata": {},
   "outputs": [
    {
     "data": {
      "text/plain": [
       "<zip at 0x20e27f3cec0>"
      ]
     },
     "execution_count": 31,
     "metadata": {},
     "output_type": "execute_result"
    }
   ],
   "source": [
    "# combining two lists\n",
    "list1 = [1, 2, 3]\n",
    "list2 = ['a', 'b', 'c']\n",
    "\n",
    "zipped = zip(list1, list2)\n",
    "zipped \n"
   ]
  },
  {
   "cell_type": "code",
   "execution_count": 32,
   "metadata": {},
   "outputs": [
    {
     "name": "stdout",
     "output_type": "stream",
     "text": [
      "<zip object at 0x0000020E27F3CEC0>\n",
      "<class 'zip'>\n",
      "True\n"
     ]
    }
   ],
   "source": [
    "print(zipped)\n",
    "print(type(zipped))\n",
    "\n",
    "# is zipped an iterator?\n",
    "print(isinstance(zipped, Iterable))"
   ]
  },
  {
   "cell_type": "markdown",
   "metadata": {},
   "source": [
    "The `zip()` function returns an iterator, not a list. When you print an iterator directly, it doesn't display the elements but rather the object's memory address. To see the elements, you can iterate over it using a loop  or convert the iterator into a list (or tuple or dict)."
   ]
  },
  {
   "cell_type": "code",
   "execution_count": 33,
   "metadata": {},
   "outputs": [
    {
     "name": "stdout",
     "output_type": "stream",
     "text": [
      "(1, 'a')\n",
      "(2, 'b')\n",
      "(3, 'c')\n"
     ]
    }
   ],
   "source": [
    "# iterate over the zip object\n",
    "for item in zipped:\n",
    "    print(item)"
   ]
  },
  {
   "cell_type": "code",
   "execution_count": 40,
   "metadata": {},
   "outputs": [
    {
     "name": "stdout",
     "output_type": "stream",
     "text": [
      "[(1, 'a'), (2, 'b'), (3, 'c')]\n"
     ]
    }
   ],
   "source": [
    "# convert the zip object to a list\n",
    "list1 = [1, 2, 3]\n",
    "list2 = ['a', 'b', 'c']\n",
    "\n",
    "zipped = zip(list1, list2)\n",
    "print(list(zipped))  \n"
   ]
  },
  {
   "cell_type": "code",
   "execution_count": 41,
   "metadata": {},
   "outputs": [
    {
     "name": "stdout",
     "output_type": "stream",
     "text": [
      "{'name': 'Alice', 'age': 30, 'city': 'New York'}\n"
     ]
    }
   ],
   "source": [
    "# Creating dictionaries from two list\n",
    "keys = ['name', 'age', 'city']\n",
    "values = ['Alice', 30, 'New York']\n",
    "\n",
    "dictionary = dict(zip(keys, values))\n",
    "print(dictionary)  "
   ]
  },
  {
   "cell_type": "code",
   "execution_count": 42,
   "metadata": {},
   "outputs": [
    {
     "name": "stdout",
     "output_type": "stream",
     "text": [
      "Alice scored 85\n",
      "Bob scored 90\n",
      "Charlie scored 95\n"
     ]
    }
   ],
   "source": [
    "names = ['Alice', 'Bob', 'Charlie']\n",
    "scores = [85, 90, 95]\n",
    "\n",
    "for name, score in zip(names, scores):\n",
    "    print(f\"{name} scored {score}\")"
   ]
  },
  {
   "cell_type": "markdown",
   "metadata": {},
   "source": [
    "### unzipping\n",
    "\n",
    "You can \"unzip\" a zipped object using the `zip(*zipped)` syntax:"
   ]
  },
  {
   "cell_type": "code",
   "execution_count": 43,
   "metadata": {},
   "outputs": [
    {
     "name": "stdout",
     "output_type": "stream",
     "text": [
      "(1, 2, 3)\n",
      "('a', 'b', 'c')\n"
     ]
    }
   ],
   "source": [
    "zipped = [(1, 'a'), (2, 'b'), (3, 'c')]\n",
    "unzipped = zip(*zipped)\n",
    "\n",
    "list1, list2 = list(unzipped)\n",
    "print(list1)  \n",
    "print(list2) \n"
   ]
  },
  {
   "cell_type": "code",
   "execution_count": null,
   "metadata": {},
   "outputs": [],
   "source": []
  },
  {
   "cell_type": "markdown",
   "metadata": {},
   "source": [
    "### Exercise 1: Iterating Using a For Loop and Manual Iteration\n",
    "\n",
    "1. **Using a For Loop:**\n",
    "   - Given the list:\n",
    "     ```python\n",
    "     numbers = [10, 20, 30, 40, 50]\n",
    "     ```\n",
    "     Write a `for` loop to print each element.\n",
    "\n",
    "2. **Using `iter()` and `next()`:**\n",
    "   - Obtain an iterator from the list using `iter()`.\n",
    "   - Use a `while` loop and `next()` to print each element.\n",
    "   - Handle the `StopIteration` exception gracefully when there are no more elements.\n",
    "\n",
    "*Hint:*  \n",
    "Remember that calling `next()` on an exhausted iterator raises a `StopIteration` exception.\n"
   ]
  },
  {
   "cell_type": "markdown",
   "metadata": {},
   "source": [
    "### Exercise 2: Combining Iterables with `zip()`\n",
    "\n",
    "1. **Zipping Two Lists:**\n",
    "   - Given the lists:\n",
    "     ```python\n",
    "     list1 = [1, 2, 3]\n",
    "     list2 = ['a', 'b', 'c']\n",
    "     ```\n",
    "   - Use the `zip()` function to combine these lists.\n",
    "   - Convert the result into a list and print it.\n",
    "   \n",
    "2. **Iterating Over the Zipped Object:**\n",
    "   - Iterate over the zipped object using a `for` loop and print each tuple.\n",
    "\n",
    "*Note:*  \n",
    "The `zip()` function returns an iterator, so converting it to a list will reveal its elements."
   ]
  },
  {
   "cell_type": "markdown",
   "metadata": {},
   "source": [
    "### Exercise 3: Unzipping a List of Tuples\n",
    "\n",
    "1. **Given Data:**\n",
    "   - You have a list of tuples:\n",
    "     ```python\n",
    "     pairs = [('apple', 1), ('banana', 2), ('cherry', 3)]\n",
    "     ```\n",
    "2. **Unzipping:**\n",
    "   - Use the unpacking operator (`*`) along with `zip()` to separate the list into two tuples:\n",
    "     - One tuple for the fruit names.\n",
    "     - One tuple for the corresponding numbers.\n",
    "   - Print both tuples.\n",
    "\n",
    "*Hint:*  \n",
    "Use the syntax `names, numbers = zip(*pairs)`."
   ]
  },
  {
   "cell_type": "markdown",
   "metadata": {},
   "source": [
    "### Exercise 4: Using Built-in Functions on Iterables\n",
    "\n",
    "1. **Numeric List Operations:**\n",
    "   - Create a list:\n",
    "     ```python\n",
    "     numbers = [5, 3, 8, 1, 9]\n",
    "     ```\n",
    "2. **Apply Built-in Functions:**\n",
    "   - Use the `min()`, `max()`, and `sum()` functions on this list.\n",
    "   - Print the results of each function.\n",
    "\n",
    "*Note:*  \n",
    "These functions require the elements of the iterable to be of compatible types (e.g., all numbers)."
   ]
  }
 ],
 "metadata": {
  "kernelspec": {
   "display_name": "base",
   "language": "python",
   "name": "python3"
  },
  "language_info": {
   "codemirror_mode": {
    "name": "ipython",
    "version": 3
   },
   "file_extension": ".py",
   "mimetype": "text/x-python",
   "name": "python",
   "nbconvert_exporter": "python",
   "pygments_lexer": "ipython3",
   "version": "3.12.4"
  }
 },
 "nbformat": 4,
 "nbformat_minor": 2
}
