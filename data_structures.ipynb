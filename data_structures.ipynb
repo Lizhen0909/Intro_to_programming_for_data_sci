{
 "cells": [
  {
   "cell_type": "raw",
   "id": "1e00c4da-1ec9-4402-a28b-6ad4b241b3a8",
   "metadata": {},
   "source": [
    "---\n",
    "title: \"Data structures\"\n",
    "format: \n",
    "  html:\n",
    "    toc-depth: 4\n",
    "    code-fold: false\n",
    "jupyter: python3\n",
    "---"
   ]
  },
  {
   "cell_type": "code",
   "execution_count": 3,
   "id": "8aea3df9",
   "metadata": {},
   "outputs": [
    {
     "data": {
      "text/html": [
       "<img src=\"./images/python_data_types.png\" width=\"550\" height=\"350\"/>"
      ],
      "text/plain": [
       "<IPython.core.display.Image object>"
      ]
     },
     "execution_count": 3,
     "metadata": {},
     "output_type": "execute_result"
    }
   ],
   "source": [
    "#| echo: false\n",
    "\n",
    "# import image module\n",
    "from IPython.display import Image\n",
    "\n",
    "# get the image\n",
    "Image(url=\"./images/python_data_types.png\",width=550, height=350)"
   ]
  },
  {
   "cell_type": "markdown",
   "id": "cb0ab307",
   "metadata": {},
   "source": [
    "In Chapter 2, we learned about primitive data types, each of which represents a single value.\n",
    "\n",
    "In this chapter, we will explore **container data types**, also known as **data structures** or **collection data types** in Python. These data types allow us to store multiple primitive values, such as integers, booleans, and strings, as well as objects of different data types, all within a single structure.\n",
    "\n",
    "String is one type of container data type, consisting of a sequence of characters. You already learned about strings in previous chapters. In this chapter, we focus on four main container data types in Python: **list**, **tuple**, **set**, and **dictionary**. Each differs in terms of **order** and **immutability**:\n",
    "\n",
    "- **List**: Ordered and mutable (elements can be changed).\n",
    "- **Tuple**: Ordered and immutable (elements cannot be changed once defined).\n",
    "- **Set**: Unordered and mutable (elements can be added or removed, but duplicates are not allowed).\n",
    "- **Dictionary**: Ordered (as of Python 3.7) and mutable, with key-value pairs for efficient lookups.\n",
    "\n",
    "We will explore their characteristics, use cases, and differences in detail in this chapter.\n"
   ]
  },
  {
   "cell_type": "markdown",
   "id": "33e92028",
   "metadata": {},
   "source": [
    "## Lists\n",
    "\n",
    "A List in Python is an **ordered, mutable** (changeable) collection of items. Lists are one of the most versatile data structures in Python."
   ]
  },
  {
   "cell_type": "markdown",
   "id": "a0dab8be",
   "metadata": {},
   "source": [
    "### Creating a List\n",
    "\n",
    "You can create a list by enclosing items in square brackets, separated by commas:"
   ]
  },
  {
   "cell_type": "code",
   "execution_count": 4,
   "id": "99324918",
   "metadata": {},
   "outputs": [],
   "source": [
    "# Creating lists\n",
    "empty_list = []\n",
    "numbers = [1, 2, 3, 4, 5]\n",
    "mixed = [42, \"hello\", True, 3.14]"
   ]
  },
  {
   "cell_type": "markdown",
   "id": "dddbaaea",
   "metadata": {},
   "source": [
    "### Accessing Elements\n",
    "\n",
    "Lists are ordered collections with unique indexes for each item. We can access/slice the items in the list using this index number. Python supports both positive and negative indexing, as shown below:\n",
    "\n",
    "![image.png](https://pynative.com/wp-content/uploads/2021/02/positive-and-negative-indexing.jpg)\n",
    "\n",
    "* **Indexing**: Use `[index]` to access a specific item.\n",
    "* **Slicing**: Use `[start:end:step]` to get a sub-list."
   ]
  },
  {
   "cell_type": "code",
   "execution_count": 5,
   "id": "57736a65",
   "metadata": {},
   "outputs": [
    {
     "name": "stdout",
     "output_type": "stream",
     "text": [
      "10\n",
      "50\n",
      "[20, 30]\n",
      "[30, 40, 50]\n",
      "[30, 40]\n",
      "[10, 30, 50]\n",
      "[50, 40, 30, 20, 10]\n"
     ]
    }
   ],
   "source": [
    "my_list = [10, 20, 30, 40, 50]\n",
    "\n",
    "print(my_list[0])       # 10\n",
    "print(my_list[-1])       # 50\n",
    "print(my_list[1:3])     # [20, 30]\n",
    "print(my_list[2:])      # [30, 40, 50]\n",
    "print(my_list[-3:-1])   # [30, 40]\n",
    "print(my_list[::2])     # [10, 30, 50] (step of 2)\n",
    "print(my_list[::-1])    # [50, 40, 30, 20, 10] (reverse)"
   ]
  },
  {
   "cell_type": "markdown",
   "id": "fb0a6442",
   "metadata": {},
   "source": [
    "### Modifying a List\n",
    "\n",
    "Lists can be changed after creation. You can add, remove, or replace elements.\n",
    "\n",
    "#### Adding Items\n",
    "* `append(item)`: Add item at the end.\n",
    "* `insert(index, item)`: Insert item at a specific index.\n",
    "* `extend(iterable)`: Extend the list by appending all items from an iterable (like another list)."
   ]
  },
  {
   "cell_type": "code",
   "execution_count": 6,
   "id": "2291c08c",
   "metadata": {},
   "outputs": [
    {
     "name": "stdout",
     "output_type": "stream",
     "text": [
      "['apple', 'banana', 'cherry']\n",
      "['apple', 'orange', 'banana', 'cherry']\n",
      "['apple', 'orange', 'banana', 'cherry', 'grape', 'mango']\n"
     ]
    }
   ],
   "source": [
    "fruits = [\"apple\", \"banana\"]\n",
    "fruits.append(\"cherry\")\n",
    "print(fruits)             \n",
    "\n",
    "fruits.insert(1, \"orange\")\n",
    "print(fruits)             \n",
    "\n",
    "fruits.extend([\"grape\", \"mango\"])\n",
    "print(fruits)           \n"
   ]
  },
  {
   "cell_type": "markdown",
   "id": "c27e0eee",
   "metadata": {},
   "source": [
    "Lists can be also concatenated using the `+` operator:"
   ]
  },
  {
   "cell_type": "code",
   "execution_count": 10,
   "id": "bdf7d560",
   "metadata": {},
   "outputs": [
    {
     "data": {
      "text/plain": [
       "[5, 'hi', 4, None, '7', 9]"
      ]
     },
     "execution_count": 10,
     "metadata": {},
     "output_type": "execute_result"
    }
   ],
   "source": [
    "list_example = [5,'hi',4] \n",
    "list_example = list_example + [None,'7',9]\n",
    "list_example"
   ]
  },
  {
   "cell_type": "markdown",
   "id": "0fbdcaee",
   "metadata": {},
   "source": [
    "For adding elements to a list, the `extend` method is preferred over the `+` operator. This is because the `+` operator creates a new list, while the `extend` method adds elements to an existing list. Thus, the `extend` operator is more memory efficient."
   ]
  },
  {
   "cell_type": "markdown",
   "id": "6c1de3f4",
   "metadata": {},
   "source": [
    "#### Removing Items\n",
    "* `pop([index])`: Removes and returns the item at index. If no index is given, removes the last item.\n",
    "* `remove(value)`: Removes the first occurrence of value.\n",
    "* `clear()`: Removes all items from the list, making it empty."
   ]
  },
  {
   "cell_type": "code",
   "execution_count": 7,
   "id": "90558017",
   "metadata": {},
   "outputs": [
    {
     "name": "stdout",
     "output_type": "stream",
     "text": [
      "50\n",
      "[10, 20, 30, 40]\n",
      "[10, 30, 40]\n",
      "[]\n"
     ]
    }
   ],
   "source": [
    "numbers = [10, 20, 30, 40, 50]\n",
    "\n",
    "last_item = numbers.pop()\n",
    "print(last_item)     \n",
    "print(numbers)       \n",
    "\n",
    "numbers.remove(20)\n",
    "print(numbers)      \n",
    "\n",
    "numbers.clear()\n",
    "print(numbers)     \n"
   ]
  },
  {
   "cell_type": "markdown",
   "id": "d0921d78",
   "metadata": {},
   "source": [
    "#### Replacing Items\n",
    "\n",
    "You can directly reassign an element using the index:"
   ]
  },
  {
   "cell_type": "code",
   "execution_count": 8,
   "id": "d5e6bf75",
   "metadata": {},
   "outputs": [
    {
     "name": "stdout",
     "output_type": "stream",
     "text": [
      "['a', 'z', 'c', 'd']\n"
     ]
    }
   ],
   "source": [
    "letters = [\"a\", \"b\", \"c\", \"d\"]\n",
    "letters[1] = \"z\"\n",
    "print(letters)  "
   ]
  },
  {
   "cell_type": "markdown",
   "id": "0f0666aa",
   "metadata": {},
   "source": [
    "#### Other Useful Methods\n",
    "* `sort()`: Sorts the list in place.\n",
    "* `reverse()`: Reverses the list in place.\n",
    "* `index(value)`: Returns the index of the first occurrence of value."
   ]
  },
  {
   "cell_type": "code",
   "execution_count": 9,
   "id": "8801597b",
   "metadata": {},
   "outputs": [
    {
     "name": "stdout",
     "output_type": "stream",
     "text": [
      "[1, 2, 3, 4]\n",
      "[4, 3, 2, 1]\n",
      "1\n"
     ]
    }
   ],
   "source": [
    "nums = [4, 1, 3, 2]\n",
    "nums.sort()\n",
    "print(nums)    \n",
    "\n",
    "nums.reverse()\n",
    "print(nums)     \n",
    "\n",
    "idx = nums.index(3)\n",
    "print(idx)     "
   ]
  },
  {
   "cell_type": "code",
   "execution_count": 1,
   "id": "89d461f8",
   "metadata": {},
   "outputs": [
    {
     "name": "stdout",
     "output_type": "stream",
     "text": [
      "Help on method_descriptor:\n",
      "\n",
      "sort(self, /, *, key=None, reverse=False) unbound builtins.list method\n",
      "    Sort the list in ascending order and return None.\n",
      "\n",
      "    The sort is in-place (i.e. the list itself is modified) and stable (i.e. the\n",
      "    order of two equal elements is maintained).\n",
      "\n",
      "    If a key function is given, apply it once to each list item and sort them,\n",
      "    ascending or descending, according to their function values.\n",
      "\n",
      "    The reverse flag can be set to sort in descending order.\n",
      "\n"
     ]
    }
   ],
   "source": [
    "help(list.sort)"
   ]
  },
  {
   "cell_type": "code",
   "execution_count": 2,
   "id": "0857c344",
   "metadata": {},
   "outputs": [
    {
     "name": "stdout",
     "output_type": "stream",
     "text": [
      "Help on method_descriptor:\n",
      "\n",
      "reverse(self, /) unbound builtins.list method\n",
      "    Reverse *IN PLACE*.\n",
      "\n"
     ]
    }
   ],
   "source": [
    "help(list.reverse)"
   ]
  },
  {
   "cell_type": "markdown",
   "id": "75e79649",
   "metadata": {},
   "source": [
    "Note that both `list.sort()` and `list.reverse()` modify the list **in place**, meaning they do not create a new list but instead change the original one directly. To sort or reverse a list without modifying the original list in place, you can use functions that create a new list rather than updating the existing one:\n",
    "\n",
    "**Sorting Without In-Place Modification:**"
   ]
  },
  {
   "cell_type": "code",
   "execution_count": null,
   "id": "d9bcab4e",
   "metadata": {},
   "outputs": [],
   "source": [
    "original_list = [3, 1, 2]\n",
    "sorted_list = sorted(original_list)  # returns a new, sorted list\n",
    "print(original_list)  # [3, 1, 2] (unchanged)\n",
    "print(sorted_list)    # [1, 2, 3]"
   ]
  },
  {
   "cell_type": "markdown",
   "id": "c1f24f95",
   "metadata": {},
   "source": [
    "**Reversing Without In-Place Modification:**"
   ]
  },
  {
   "cell_type": "code",
   "execution_count": 3,
   "id": "9557815d",
   "metadata": {},
   "outputs": [
    {
     "name": "stdout",
     "output_type": "stream",
     "text": [
      "[3, 1, 2]\n",
      "[2, 1, 3]\n"
     ]
    }
   ],
   "source": [
    "# method 1: use the built-in reversed function\n",
    "original_list = [3, 1, 2]\n",
    "reversed_list = list(reversed(original_list))\n",
    "print(original_list)   # [3, 1, 2] (unchanged)\n",
    "print(reversed_list)   # [2, 1, 3]\n"
   ]
  },
  {
   "cell_type": "code",
   "execution_count": 4,
   "id": "d45680ab",
   "metadata": {},
   "outputs": [
    {
     "name": "stdout",
     "output_type": "stream",
     "text": [
      "[3, 1, 2]\n",
      "[2, 1, 3]\n"
     ]
    }
   ],
   "source": [
    "# use list slicing ([::-1]) to create a reversed copy of the original list\n",
    "original_list = [3, 1, 2]\n",
    "reversed_list = original_list[::-1]\n",
    "print(original_list)   # [3, 1, 2] (unchanged)\n",
    "print(reversed_list)   # [2, 1, 3]"
   ]
  },
  {
   "cell_type": "markdown",
   "id": "fa69cce3",
   "metadata": {},
   "source": [
    "### Practice exercise 1"
   ]
  },
  {
   "cell_type": "markdown",
   "id": "e23eff75",
   "metadata": {},
   "source": [
    "Start by defining a list that contains the elements [8, 9, 10]. Then do the following:"
   ]
  },
  {
   "cell_type": "code",
   "execution_count": null,
   "id": "fc961400",
   "metadata": {},
   "outputs": [],
   "source": []
  },
  {
   "cell_type": "markdown",
   "id": "9ef1d213",
   "metadata": {},
   "source": [
    "#### \n",
    "Set the second entry (index 1) to 17"
   ]
  },
  {
   "cell_type": "code",
   "execution_count": null,
   "id": "e3596729",
   "metadata": {},
   "outputs": [],
   "source": []
  },
  {
   "cell_type": "markdown",
   "id": "a49bc034",
   "metadata": {},
   "source": [
    "#### \n",
    "Add 4, 5, and 6 to the end of the list"
   ]
  },
  {
   "cell_type": "code",
   "execution_count": null,
   "id": "23942a89",
   "metadata": {},
   "outputs": [],
   "source": []
  },
  {
   "cell_type": "markdown",
   "id": "faaf3462",
   "metadata": {},
   "source": [
    "#### \n",
    "Remove the first entry from the list"
   ]
  },
  {
   "cell_type": "code",
   "execution_count": null,
   "id": "dfeba71c",
   "metadata": {},
   "outputs": [],
   "source": []
  },
  {
   "cell_type": "markdown",
   "id": "0d6e718f",
   "metadata": {},
   "source": [
    "#### \n",
    "Sort the list"
   ]
  },
  {
   "cell_type": "code",
   "execution_count": null,
   "id": "d668f573",
   "metadata": {},
   "outputs": [],
   "source": []
  },
  {
   "cell_type": "markdown",
   "id": "b20c69df",
   "metadata": {},
   "source": [
    "#### \n",
    "Double the list (concatenate the list to itself)"
   ]
  },
  {
   "cell_type": "code",
   "execution_count": null,
   "id": "a73d8e87",
   "metadata": {},
   "outputs": [],
   "source": []
  },
  {
   "cell_type": "markdown",
   "id": "faef77f2",
   "metadata": {},
   "source": [
    "#### \n",
    "Insert 25 at index `3`, then print the final list. <br>\n",
    "Expected Output: `[4, 5, 6, 25, 10, 17, 4, 5, 6, 10, 17]`"
   ]
  },
  {
   "cell_type": "code",
   "execution_count": null,
   "id": "a863421f",
   "metadata": {},
   "outputs": [],
   "source": []
  },
  {
   "cell_type": "markdown",
   "id": "45e5b63c",
   "metadata": {},
   "source": [
    "### List Comprehension\n",
    "\n",
    "**List comprehension** is a concise and elegant way to create lists in Python. It provides a shorter syntax to generate lists based on existing iterables while applying conditions or transformations.\n",
    "\n",
    "**Basic Syntax**\n",
    "\n",
    "\n",
    "`[expression for item in iterable if condition]`\n",
    "\n",
    "\n",
    "**Components:**\n",
    "\n",
    "* **Expression**: The value or transformation applied to each item.\n",
    "* `for` item in iterable: Iterates over the iterable (e.g., list, range, string).\n",
    "* **Condition (optional)**: Filters items based on a condition.\n",
    "\n",
    "Examples:\n",
    "\n",
    "* Simple List Comprehension"
   ]
  },
  {
   "cell_type": "code",
   "execution_count": 11,
   "id": "f4738901",
   "metadata": {},
   "outputs": [
    {
     "name": "stdout",
     "output_type": "stream",
     "text": [
      "[1, 4, 9, 16, 25]\n"
     ]
    }
   ],
   "source": [
    "# create a list of squares of numbers from 1 to 5\n",
    "squares = [x**2 for x in range(1, 6)]\n",
    "print(squares)  "
   ]
  },
  {
   "cell_type": "markdown",
   "id": "33313b62",
   "metadata": {},
   "source": [
    "* List Comprehension with Condition"
   ]
  },
  {
   "cell_type": "code",
   "execution_count": null,
   "id": "67a4c667",
   "metadata": {},
   "outputs": [],
   "source": [
    "# create a list of even numbers from 1 to 10\n",
    "evens = [x for x in range(1, 11) if x % 2 == 0]\n",
    "print(evens)  # Output: [2, 4, 6, 8, 10]\n"
   ]
  },
  {
   "cell_type": "markdown",
   "id": "ef98ac66",
   "metadata": {},
   "source": [
    "* List Comprehension with Transformation"
   ]
  },
  {
   "cell_type": "code",
   "execution_count": 12,
   "id": "19d2aba8",
   "metadata": {},
   "outputs": [
    {
     "name": "stdout",
     "output_type": "stream",
     "text": [
      "['HELLO', 'WORLD', 'PYTHON']\n"
     ]
    }
   ],
   "source": [
    "# create a list of words with all letters in uppercase\n",
    "words = [\"hello\", \"world\", \"python\"]\n",
    "uppercase_words = [word.upper() for word in words]\n",
    "print(uppercase_words)"
   ]
  },
  {
   "cell_type": "markdown",
   "id": "fd4e09bc",
   "metadata": {},
   "source": [
    "* Nested List Comprehension"
   ]
  },
  {
   "cell_type": "code",
   "execution_count": 13,
   "id": "1bd581b4",
   "metadata": {},
   "outputs": [
    {
     "name": "stdout",
     "output_type": "stream",
     "text": [
      "[1, 2, 3, 4, 5, 6]\n"
     ]
    }
   ],
   "source": [
    "# flatten a 2D matrix into a 1D list\n",
    "matrix = [[1, 2], [3, 4], [5, 6]]\n",
    "flattened = [num for row in matrix for num in row]\n",
    "print(flattened)  # Output: [1, 2, 3, 4, 5, 6]\n"
   ]
  },
  {
   "cell_type": "markdown",
   "id": "e713fb99",
   "metadata": {},
   "source": [
    "Anything that can be accomplished using list comprehension can also be achieved with traditional Python loops. However, list comprehension often reduces the amount of code, making it more concise and readable. Additionally, it is often faster than equivalent for loops due to Python’s optimized implementation.\n",
    "\n",
    "Comparison with `for` loops"
   ]
  },
  {
   "cell_type": "code",
   "execution_count": 17,
   "id": "2bf0b64c",
   "metadata": {},
   "outputs": [
    {
     "name": "stdout",
     "output_type": "stream",
     "text": [
      "[1, 4, 9, 16, 25]\n"
     ]
    }
   ],
   "source": [
    "# using a for loop\n",
    "squares = []\n",
    "for x in range(1, 6):\n",
    "    squares.append(x**2)\n",
    "print(squares)"
   ]
  },
  {
   "cell_type": "code",
   "execution_count": 16,
   "id": "01d4f6cd",
   "metadata": {},
   "outputs": [
    {
     "name": "stdout",
     "output_type": "stream",
     "text": [
      "[1, 4, 9, 16, 25]\n"
     ]
    }
   ],
   "source": [
    "# using list comprehension\n",
    "\n",
    "squares = [x**2 for x in range(1, 6)]\n",
    "print(squares)\n"
   ]
  },
  {
   "cell_type": "markdown",
   "id": "61e64c65",
   "metadata": {},
   "source": [
    "Both achieve the same result, but the list comprehension is more concise."
   ]
  },
  {
   "cell_type": "markdown",
   "id": "af3c8c47",
   "metadata": {},
   "source": [
    "### Practice exercise 2\n",
    "\n",
    "Using list comprehension: \n",
    "\n",
    "* Create a list of all odd numbers between 1 and 20.\n",
    "* Generate a list of the lengths of each word in the list [\"apple\", \"banana\", \"cherry\"].\n",
    "* Create a list of numbers divisible by both 3 and 5 from 1 to 100."
   ]
  },
  {
   "cell_type": "markdown",
   "id": "8776c2d1-722b-4e14-8b78-4b3f50f45bd4",
   "metadata": {},
   "source": [
    "## Tuples\n",
    "\n",
    "A Tuple is an **ordered, immutable** (unchangeable) collection of items. Tuples can be thought of as lists that cannot be modified after creation."
   ]
  },
  {
   "cell_type": "markdown",
   "id": "708b0bb1",
   "metadata": {},
   "source": [
    "### Creating a Tuple\n",
    "\n",
    "Use parentheses or the `tuple()` constructor."
   ]
  },
  {
   "cell_type": "code",
   "execution_count": 18,
   "id": "9db96e47",
   "metadata": {},
   "outputs": [],
   "source": [
    "my_tuple = (1, 2, 3)\n",
    "another_tuple = \"apple\", \"banana\", \"cherry\"  # Parentheses are optional\n",
    "single_item_tuple = (\"hello\",)               # Note the trailing comma\n",
    "\n",
    "converted_tuple = tuple([4, 5, 6])           # Using tuple() constructor\n"
   ]
  },
  {
   "cell_type": "markdown",
   "id": "0061d4b5",
   "metadata": {},
   "source": [
    "### Accessing Elements\n",
    "\n",
    "Indexing and slicing work similarly to lists:"
   ]
  },
  {
   "cell_type": "code",
   "execution_count": 19,
   "id": "1361b39f",
   "metadata": {},
   "outputs": [
    {
     "name": "stdout",
     "output_type": "stream",
     "text": [
      "10\n",
      "(20, 30)\n"
     ]
    }
   ],
   "source": [
    "t = (10, 20, 30, 40, 50)\n",
    "\n",
    "print(t[0])    # 10\n",
    "print(t[1:3])  # (20, 30)\n"
   ]
  },
  {
   "cell_type": "markdown",
   "id": "bfaa4597",
   "metadata": {},
   "source": [
    "### Immutability\n",
    "\n",
    "Once you create a tuple, you **cannot modify** it:"
   ]
  },
  {
   "cell_type": "code",
   "execution_count": 21,
   "id": "6437843d",
   "metadata": {},
   "outputs": [
    {
     "ename": "TypeError",
     "evalue": "'tuple' object does not support item assignment",
     "output_type": "error",
     "traceback": [
      "\u001b[1;31m---------------------------------------------------------------------------\u001b[0m",
      "\u001b[1;31mTypeError\u001b[0m                                 Traceback (most recent call last)",
      "Cell \u001b[1;32mIn[21], line 2\u001b[0m\n\u001b[0;32m      1\u001b[0m t \u001b[38;5;241m=\u001b[39m (\u001b[38;5;241m1\u001b[39m, \u001b[38;5;241m2\u001b[39m, \u001b[38;5;241m3\u001b[39m)\n\u001b[1;32m----> 2\u001b[0m \u001b[43mt\u001b[49m\u001b[43m[\u001b[49m\u001b[38;5;241;43m0\u001b[39;49m\u001b[43m]\u001b[49m \u001b[38;5;241m=\u001b[39m \u001b[38;5;241m10\u001b[39m  \u001b[38;5;66;03m# TypeError: 'tuple' object does not support item assignment\u001b[39;00m\n",
      "\u001b[1;31mTypeError\u001b[0m: 'tuple' object does not support item assignment"
     ]
    }
   ],
   "source": [
    "t = (1, 2, 3)\n",
    "t[0] = 10  \n"
   ]
  },
  {
   "cell_type": "markdown",
   "id": "ef666b1b",
   "metadata": {},
   "source": [
    "Tuple can be defined without the rounded brackets as well:"
   ]
  },
  {
   "cell_type": "markdown",
   "id": "5d0d0e84",
   "metadata": {},
   "source": [
    "If you need to change elements, convert it to a list, modify the list, and convert back to a tuple (though this somewhat defeats the purpose of immutability)."
   ]
  },
  {
   "cell_type": "markdown",
   "id": "75712036",
   "metadata": {},
   "source": [
    "### Tuple methods"
   ]
  },
  {
   "cell_type": "markdown",
   "id": "457a8d63",
   "metadata": {},
   "source": [
    "A couple of useful tuple methods are `count`, which counts the occurences of an element in the tuple and `index`, which returns the position of the first occurance of an element in the tuple: "
   ]
  },
  {
   "cell_type": "code",
   "execution_count": null,
   "id": "7a2652d8",
   "metadata": {},
   "outputs": [],
   "source": [
    "tuple_example = (2,5,64,7,2,2)"
   ]
  },
  {
   "cell_type": "code",
   "execution_count": null,
   "id": "fdc8933d",
   "metadata": {},
   "outputs": [
    {
     "data": {
      "text/plain": [
       "3"
      ]
     },
     "metadata": {},
     "output_type": "display_data"
    }
   ],
   "source": [
    "tuple_example.count(2)"
   ]
  },
  {
   "cell_type": "code",
   "execution_count": null,
   "id": "185d9eb7",
   "metadata": {},
   "outputs": [
    {
     "data": {
      "text/plain": [
       "0"
      ]
     },
     "metadata": {},
     "output_type": "display_data"
    }
   ],
   "source": [
    "tuple_example.index(2)"
   ]
  },
  {
   "cell_type": "markdown",
   "id": "505b2613",
   "metadata": {},
   "source": [
    "### Concatenating tuples"
   ]
  },
  {
   "cell_type": "markdown",
   "id": "929091bc",
   "metadata": {},
   "source": [
    "Tuples can be concatenated using the + operator to produce a longer tuple:"
   ]
  },
  {
   "cell_type": "code",
   "execution_count": null,
   "id": "afebdd4f",
   "metadata": {},
   "outputs": [
    {
     "data": {
      "text/plain": [
       "(2, 7, 4, 'another', 'tuple', 'mixed', 'datatypes', 5)"
      ]
     },
     "metadata": {},
     "output_type": "display_data"
    }
   ],
   "source": [
    "(2,7,4) + (\"another\", \"tuple\") + (\"mixed\",\"datatypes\",5)"
   ]
  },
  {
   "cell_type": "markdown",
   "id": "ba751afc",
   "metadata": {},
   "source": [
    "Multiplying a tuple by an integer results in repetition of the tuple:"
   ]
  },
  {
   "cell_type": "code",
   "execution_count": null,
   "id": "b773917c",
   "metadata": {},
   "outputs": [
    {
     "data": {
      "text/plain": [
       "(2, 7, 'hi', 2, 7, 'hi', 2, 7, 'hi')"
      ]
     },
     "metadata": {},
     "output_type": "display_data"
    }
   ],
   "source": [
    "(2,7,\"hi\") * 3"
   ]
  },
  {
   "cell_type": "markdown",
   "id": "10a5ca0e",
   "metadata": {},
   "source": [
    "### Why Use a Tuple?\n",
    "\n",
    "A list seems to be much more flexible than tuple, and can replace a tuple almost everywhere. Then why use tuple at all?\n",
    "\n",
    "Some of the advatages of a tuple over a list are as follows:\n",
    "\n",
    "* **Data Integrity**: Tuples ensure the data cannot be modified accidentally.\n",
    "* **Faster**: Tuples can be more memory efficient and faster to iterate over compared to lists.\n",
    "* **Dictionary Keys**: Tuples can be used as keys in dictionaries (because they are immutable)."
   ]
  },
  {
   "cell_type": "code",
   "execution_count": 22,
   "id": "07f884ef",
   "metadata": {},
   "outputs": [
    {
     "name": "stdout",
     "output_type": "stream",
     "text": [
      "Space taken by tuple = 48  bytes\n",
      "Space taken by list = 72  bytes\n"
     ]
    }
   ],
   "source": [
    "#Example showing tuples take less storage space than lists for the same elements\n",
    "tuple_ex = (1, 2, 'Obama')\n",
    "list_ex = [1, 2, 'Obama']\n",
    "print(\"Space taken by tuple =\",tuple_ex.__sizeof__(),\" bytes\")\n",
    "print(\"Space taken by list =\",list_ex.__sizeof__(),\" bytes\")"
   ]
  },
  {
   "cell_type": "code",
   "execution_count": 24,
   "id": "c8797d52",
   "metadata": {},
   "outputs": [
    {
     "name": "stdout",
     "output_type": "stream",
     "text": [
      "Time take to retrieve every 2nd element from a list =  0.03211236000061035\n",
      "Time take to retrieve every 2nd element from a tuple =  0.01900315284729004\n"
     ]
    }
   ],
   "source": [
    "#Examples showing tuples takes lesser time to retrieve elements\n",
    "import time as tm\n",
    "tt = tm.time()\n",
    "list_ex = list(range(1000000)) #List containinig whole numbers upto 1 million\n",
    "a=(list_ex[::-2])\n",
    "print(\"Time take to retrieve every 2nd element from a list = \", tm.time()-tt)\n",
    "\n",
    "tt = tm.time()\n",
    "tuple_ex = tuple(range(1000000)) #tuple containinig whole numbers upto 1 million\n",
    "a=(tuple_ex[::-2])\n",
    "print(\"Time take to retrieve every 2nd element from a tuple = \", tm.time()-tt)"
   ]
  },
  {
   "cell_type": "code",
   "execution_count": 1,
   "id": "a4869991",
   "metadata": {},
   "outputs": [],
   "source": [
    "tuple_example = 2, 7, 4"
   ]
  },
  {
   "cell_type": "markdown",
   "id": "d4e24713",
   "metadata": {},
   "source": [
    "We can check the data type of a python object using the *type()* function. Let us check the data type of the object *tuple_example*."
   ]
  },
  {
   "cell_type": "code",
   "execution_count": 2,
   "id": "de81bb92",
   "metadata": {},
   "outputs": [
    {
     "data": {
      "text/plain": [
       "tuple"
      ]
     },
     "execution_count": 2,
     "metadata": {},
     "output_type": "execute_result"
    }
   ],
   "source": [
    "type(tuple_example)"
   ]
  },
  {
   "cell_type": "markdown",
   "id": "53ff0b58",
   "metadata": {},
   "source": [
    "Elements of a tuple can be extracted using their index within square brackets. For example the second element of the tuple *tuple_example* can be extracted as follows:"
   ]
  },
  {
   "cell_type": "code",
   "execution_count": 3,
   "id": "67ba66f2",
   "metadata": {},
   "outputs": [
    {
     "data": {
      "text/plain": [
       "7"
      ]
     },
     "execution_count": 3,
     "metadata": {},
     "output_type": "execute_result"
    }
   ],
   "source": [
    "tuple_example[1]"
   ]
  },
  {
   "cell_type": "markdown",
   "id": "52249d25",
   "metadata": {},
   "source": [
    "Note that an element of a tuple cannot be modified. For example, consider the following attempt in changing the second element of the tuple *tuple_example*."
   ]
  },
  {
   "cell_type": "code",
   "execution_count": 6,
   "id": "431bad99",
   "metadata": {},
   "outputs": [
    {
     "ename": "TypeError",
     "evalue": "'tuple' object does not support item assignment",
     "output_type": "error",
     "traceback": [
      "\u001b[1;31m---------------------------------------------------------------------------\u001b[0m",
      "\u001b[1;31mTypeError\u001b[0m                                 Traceback (most recent call last)",
      "\u001b[1;32m<ipython-input-6-6ceb38adde52>\u001b[0m in \u001b[0;36m<module>\u001b[1;34m\u001b[0m\n\u001b[1;32m----> 1\u001b[1;33m \u001b[0mtuple_example\u001b[0m\u001b[1;33m[\u001b[0m\u001b[1;36m1\u001b[0m\u001b[1;33m]\u001b[0m \u001b[1;33m=\u001b[0m \u001b[1;36m8\u001b[0m\u001b[1;33m\u001b[0m\u001b[1;33m\u001b[0m\u001b[0m\n\u001b[0m",
      "\u001b[1;31mTypeError\u001b[0m: 'tuple' object does not support item assignment"
     ]
    }
   ],
   "source": [
    "tuple_example[1] = 8"
   ]
  },
  {
   "cell_type": "markdown",
   "id": "73a94d4c",
   "metadata": {},
   "source": [
    "The above code results in an error as tuple elements cannot be modified."
   ]
  },
  {
   "cell_type": "markdown",
   "id": "0e5d9ef8",
   "metadata": {},
   "source": [
    "Now that we have an idea about tuple, let us try to think where it can be used."
   ]
  },
  {
   "cell_type": "code",
   "execution_count": null,
   "id": "9d89e7b5",
   "metadata": {},
   "outputs": [],
   "source": [
    "#| echo: false\n",
    "\n",
    "import json\n",
    "from jupyterquiz import display_quiz"
   ]
  },
  {
   "cell_type": "code",
   "execution_count": null,
   "id": "6f244cec",
   "metadata": {},
   "outputs": [
    {
     "name": "stdout",
     "output_type": "stream",
     "text": [
      "\n"
     ]
    },
    {
     "data": {
      "text/html": [
       "<div id=\"cUNvzXBCbwJH\" data-shufflequestions=\"False\"\n",
       "               data-shuffleanswers=\"True\"\n",
       "               data-preserveresponses=\"false\"\n",
       "               data-numquestions=\"1000000\"> <style>:root {\n",
       "    --medium-slate-blue: #6f78ffff;\n",
       "    --orange-pantone: #f75c03ff;\n",
       "    --russian-violet: #392061ff;\n",
       "    --maximum-yellow-red: #ffc857ff;\n",
       "    --viridian-green: #119da4ff;\n",
       "    --incorrect-red: #c80202;\n",
       "    --correct-green: #009113;\n",
       "}\n",
       "\n",
       ".Quiz {\n",
       "    max-width: 600px;\n",
       "    margin-top: 15px;\n",
       "    margin-left: auto;\n",
       "    margin-right: auto;\n",
       "    margin-bottom: 15px;\n",
       "    padding-bottom: 4px;\n",
       "    padding-top: 4px;\n",
       "    line-height: 1.1;\n",
       "    font-size: 16pt;\n",
       "}\n",
       "\n",
       ".QuizCode {\n",
       "    font-size: 14pt;\n",
       "    margin-top: 10px;\n",
       "    margin-left: 20px;\n",
       "    margin-right: 20px;\n",
       "}\n",
       "\n",
       ".QuizCode>pre {\n",
       "    padding: 4px;\n",
       "}\n",
       "\n",
       ".Answer {\n",
       "    margin: 10px 0;\n",
       "    display: grid;\n",
       "    grid-template-columns: auto auto;\n",
       "    grid-gap: 10px;\n",
       "}\n",
       "\n",
       ".Feedback {\n",
       "    font-size: 16pt;\n",
       "    text-align: center;\n",
       "    min-height: 2em;\n",
       "}\n",
       "\n",
       ".Input {\n",
       "    align: left;\n",
       "    font-size: 20pt;\n",
       "}\n",
       "\n",
       ".Input-text {\n",
       "    display: block;\n",
       "    margin: 10px;\n",
       "    color: inherit;\n",
       "    width: 140px;\n",
       "    background-color: #c0c0c0;\n",
       "    color: #fff;\n",
       "    padding: 5px;\n",
       "    padding-left: 10px;\n",
       "    font-family: inherit;\n",
       "    font-size: 20px;\n",
       "    font-weight: inherit;\n",
       "    line-height: 20pt;\n",
       "    border: none;\n",
       "    border-radius: 0.2rem;\n",
       "    transition: box-shadow 0.1s);\n",
       "}\n",
       "\n",
       ".Input-text:focus {\n",
       "    outline: none;\n",
       "    background-color: #c0c0c0;\n",
       "    box-shadow: 0.6rem 0.8rem 1.4rem -0.5rem #999999;\n",
       "}\n",
       "\n",
       ".MCButton {\n",
       "    background: #fafafa;\n",
       "    border: 1px solid #eee;\n",
       "    border-radius: 10px;\n",
       "    padding: 10px;\n",
       "    font-size: 16px;\n",
       "    cursor: pointer;\n",
       "    text-align: center;\n",
       "}\n",
       "\n",
       ".MCButton p {\n",
       "    color: inherit;\n",
       "}\n",
       "\n",
       ".MultipleChoiceQn {\n",
       "    padding: 10px;\n",
       "    background: var(--medium-slate-blue);\n",
       "    color: #fafafa;\n",
       "    border-radius: 10px;\n",
       "}\n",
       "\n",
       ".ManyChoiceQn {\n",
       "    padding: 10px;\n",
       "    background: var(--orange-pantone);\n",
       "    color: #fafafa;\n",
       "    border-radius: 10px;\n",
       "}\n",
       "\n",
       ".NumericQn {\n",
       "    padding: 10px;\n",
       "    background: var(--russian-violet);\n",
       "    color: #fafafa;\n",
       "    border-radius: 10px;\n",
       "}\n",
       "\n",
       ".NumericQn p {\n",
       "    color: inherit;\n",
       "}\n",
       "\n",
       ".InpLabel {\n",
       "    line-height: 34px;\n",
       "    float: left;\n",
       "    margin-right: 10px;\n",
       "    color: #101010;\n",
       "    font-size: 15pt;\n",
       "}\n",
       "\n",
       ".incorrect {\n",
       "    color: var(--incorrect-red);\n",
       "}\n",
       "\n",
       ".correct {\n",
       "    color: var(--correct-green);\n",
       "}\n",
       "\n",
       ".correctButton {\n",
       "    /*\n",
       "    background: var(--correct-green);\n",
       "   */\n",
       "    animation: correct-anim 0.6s ease;\n",
       "    animation-fill-mode: forwards;\n",
       "    color: #fafafa;\n",
       "    box-shadow: inset 0px 0px 5px #555555;\n",
       "    outline: none;\n",
       "}\n",
       "\n",
       ".incorrectButton {\n",
       "    animation: incorrect-anim 0.8s ease;\n",
       "    animation-fill-mode: forwards;\n",
       "    color: #fafafa;\n",
       "    box-shadow: inset 0px 0px 5px #555555;\n",
       "    outline: none;\n",
       "}\n",
       "\n",
       "@keyframes incorrect-anim {\n",
       "    100% {\n",
       "        background-color: var(--incorrect-red);\n",
       "    }\n",
       "}\n",
       "\n",
       "@keyframes correct-anim {\n",
       "    100% {\n",
       "        background-color: var(--correct-green);\n",
       "    }\n",
       "}</style><script type=\"text/Javascript\">var questionscUNvzXBCbwJH=[{\"question\": \"For which of the following purposes will it be appropriate to use a tuple: (a) storing mean co-ordinates of a city, (b) storing the maximum temperature and humidity of a city, everyday?\", \"type\": \"multiple_choice\", \"answers\": [{\"answer\": \"(a)\", \"correct\": true, \"feedback\": \"Correct! The mean co-ordinates of a city will not change, and thus can be stored in a tuple.\"}, {\"answer\": \"(b)\", \"correct\": false, \"feedback\": \"Incorrect. Weather of a city is likely to change everyday, but tuple objects are immutable.\"}, {\"answer\": \"both (a) and (b)\", \"correct\": false, \"feedback\": \"Incorrect. Weather of a city is likely to change everyday, but tuple objects are immutable.\"}, {\"answer\": \"None\", \"correct\": false, \"feedback\": \"Incorrect. The mean co-ordinates of a city will not change, and thus can be stored in a tuple.\"}]}];\n",
       "    // Make a random ID\n",
       "function makeid(length) {\n",
       "    var result = [];\n",
       "    var characters = 'ABCDEFGHIJKLMNOPQRSTUVWXYZabcdefghijklmnopqrstuvwxyz';\n",
       "    var charactersLength = characters.length;\n",
       "    for (var i = 0; i < length; i++) {\n",
       "        result.push(characters.charAt(Math.floor(Math.random() * charactersLength)));\n",
       "    }\n",
       "    return result.join('');\n",
       "}\n",
       "\n",
       "// Choose a random subset of an array. Can also be used to shuffle the array\n",
       "function getRandomSubarray(arr, size) {\n",
       "    var shuffled = arr.slice(0), i = arr.length, temp, index;\n",
       "    while (i--) {\n",
       "        index = Math.floor((i + 1) * Math.random());\n",
       "        temp = shuffled[index];\n",
       "        shuffled[index] = shuffled[i];\n",
       "        shuffled[i] = temp;\n",
       "    }\n",
       "    return shuffled.slice(0, size);\n",
       "}\n",
       "\n",
       "function printResponses(responsesContainer) {\n",
       "    var responses=JSON.parse(responsesContainer.dataset.responses);\n",
       "    var stringResponses='<B>IMPORTANT!</B>To preserve this answer sequence for submission, when you have finalized your answers: <ol> <li> Copy the text in this cell below \"Answer String\"</li> <li> Double click on the cell directly below the Answer String, labeled \"Replace Me\"</li> <li> Select the whole \"Replace Me\" text</li> <li> Paste in your answer string and press shift-Enter.</li><li>Save the notebook using the save icon or File->Save Notebook menu item</li></ul><br><br><br><b>Answer String:</b><br> ';\n",
       "    console.log(responses);\n",
       "    responses.forEach((response, index) => {\n",
       "        if (response) {\n",
       "            console.log(index + ': ' + response);\n",
       "            stringResponses+= index + ': ' + response +\"<BR>\";\n",
       "        }\n",
       "    });\n",
       "    responsesContainer.innerHTML=stringResponses;\n",
       "}\n",
       "function check_mc() {\n",
       "    var id = this.id.split('-')[0];\n",
       "    //var response = this.id.split('-')[1];\n",
       "    //console.log(response);\n",
       "    //console.log(\"In check_mc(), id=\"+id);\n",
       "    //console.log(event.srcElement.id)           \n",
       "    //console.log(event.srcElement.dataset.correct)   \n",
       "    //console.log(event.srcElement.dataset.feedback)\n",
       "\n",
       "    var label = event.srcElement;\n",
       "    //console.log(label, label.nodeName);\n",
       "    var depth = 0;\n",
       "    while ((label.nodeName != \"LABEL\") && (depth < 20)) {\n",
       "        label = label.parentElement;\n",
       "        console.log(depth, label);\n",
       "        depth++;\n",
       "    }\n",
       "\n",
       "\n",
       "\n",
       "    var answers = label.parentElement.children;\n",
       "\n",
       "    //console.log(answers);\n",
       "\n",
       "\n",
       "    // Split behavior based on multiple choice vs many choice:\n",
       "    var fb = document.getElementById(\"fb\" + id);\n",
       "\n",
       "\n",
       "\n",
       "\n",
       "    if (fb.dataset.numcorrect == 1) {\n",
       "        // What follows is for the saved responses stuff\n",
       "        var outerContainer = fb.parentElement.parentElement;\n",
       "        var responsesContainer = document.getElementById(\"responses\" + outerContainer.id);\n",
       "        if (responsesContainer) {\n",
       "            //console.log(responsesContainer);\n",
       "            var response = label.firstChild.innerText;\n",
       "            if (label.querySelector(\".QuizCode\")){\n",
       "                response+= label.querySelector(\".QuizCode\").firstChild.innerText;\n",
       "            }\n",
       "            console.log(response);\n",
       "            //console.log(document.getElementById(\"quizWrap\"+id));\n",
       "            var qnum = document.getElementById(\"quizWrap\"+id).dataset.qnum;\n",
       "            console.log(\"Question \" + qnum);\n",
       "            //console.log(id, \", got numcorrect=\",fb.dataset.numcorrect);\n",
       "            var responses=JSON.parse(responsesContainer.dataset.responses);\n",
       "            console.log(responses);\n",
       "            responses[qnum]= response;\n",
       "            responsesContainer.setAttribute('data-responses', JSON.stringify(responses));\n",
       "            printResponses(responsesContainer);\n",
       "        }\n",
       "        // End code to preserve responses\n",
       "        \n",
       "        for (var i = 0; i < answers.length; i++) {\n",
       "            var child = answers[i];\n",
       "            //console.log(child);\n",
       "            child.className = \"MCButton\";\n",
       "        }\n",
       "\n",
       "\n",
       "\n",
       "        if (label.dataset.correct == \"true\") {\n",
       "            // console.log(\"Correct action\");\n",
       "            if (\"feedback\" in label.dataset) {\n",
       "                fb.textContent = jaxify(label.dataset.feedback);\n",
       "            } else {\n",
       "                fb.textContent = \"Correct!\";\n",
       "            }\n",
       "            label.classList.add(\"correctButton\");\n",
       "\n",
       "            fb.className = \"Feedback\";\n",
       "            fb.classList.add(\"correct\");\n",
       "\n",
       "        } else {\n",
       "            if (\"feedback\" in label.dataset) {\n",
       "                fb.textContent = jaxify(label.dataset.feedback);\n",
       "            } else {\n",
       "                fb.textContent = \"Incorrect -- try again.\";\n",
       "            }\n",
       "            //console.log(\"Error action\");\n",
       "            label.classList.add(\"incorrectButton\");\n",
       "            fb.className = \"Feedback\";\n",
       "            fb.classList.add(\"incorrect\");\n",
       "        }\n",
       "    }\n",
       "    else {\n",
       "        var reset = false;\n",
       "        var feedback;\n",
       "         if (label.dataset.correct == \"true\") {\n",
       "            if (\"feedback\" in label.dataset) {\n",
       "                feedback = jaxify(label.dataset.feedback);\n",
       "            } else {\n",
       "                feedback = \"Correct!\";\n",
       "            }\n",
       "            if (label.dataset.answered <= 0) {\n",
       "                if (fb.dataset.answeredcorrect < 0) {\n",
       "                    fb.dataset.answeredcorrect = 1;\n",
       "                    reset = true;\n",
       "                } else {\n",
       "                    fb.dataset.answeredcorrect++;\n",
       "                }\n",
       "                if (reset) {\n",
       "                    for (var i = 0; i < answers.length; i++) {\n",
       "                        var child = answers[i];\n",
       "                        child.className = \"MCButton\";\n",
       "                        child.dataset.answered = 0;\n",
       "                    }\n",
       "                }\n",
       "                label.classList.add(\"correctButton\");\n",
       "                label.dataset.answered = 1;\n",
       "                fb.className = \"Feedback\";\n",
       "                fb.classList.add(\"correct\");\n",
       "\n",
       "            }\n",
       "        } else {\n",
       "            if (\"feedback\" in label.dataset) {\n",
       "                feedback = jaxify(label.dataset.feedback);\n",
       "            } else {\n",
       "                feedback = \"Incorrect -- try again.\";\n",
       "            }\n",
       "            if (fb.dataset.answeredcorrect > 0) {\n",
       "                fb.dataset.answeredcorrect = -1;\n",
       "                reset = true;\n",
       "            } else {\n",
       "                fb.dataset.answeredcorrect--;\n",
       "            }\n",
       "\n",
       "            if (reset) {\n",
       "                for (var i = 0; i < answers.length; i++) {\n",
       "                    var child = answers[i];\n",
       "                    child.className = \"MCButton\";\n",
       "                    child.dataset.answered = 0;\n",
       "                }\n",
       "            }\n",
       "            label.classList.add(\"incorrectButton\");\n",
       "            fb.className = \"Feedback\";\n",
       "            fb.classList.add(\"incorrect\");\n",
       "        }\n",
       "        // What follows is for the saved responses stuff\n",
       "        var outerContainer = fb.parentElement.parentElement;\n",
       "        var responsesContainer = document.getElementById(\"responses\" + outerContainer.id);\n",
       "        if (responsesContainer) {\n",
       "            //console.log(responsesContainer);\n",
       "            var response = label.firstChild.innerText;\n",
       "            if (label.querySelector(\".QuizCode\")){\n",
       "                response+= label.querySelector(\".QuizCode\").firstChild.innerText;\n",
       "            }\n",
       "            console.log(response);\n",
       "            //console.log(document.getElementById(\"quizWrap\"+id));\n",
       "            var qnum = document.getElementById(\"quizWrap\"+id).dataset.qnum;\n",
       "            console.log(\"Question \" + qnum);\n",
       "            //console.log(id, \", got numcorrect=\",fb.dataset.numcorrect);\n",
       "            var responses=JSON.parse(responsesContainer.dataset.responses);\n",
       "            if (label.dataset.correct == \"true\") {\n",
       "                if (typeof(responses[qnum]) == \"object\"){\n",
       "                    if (!responses[qnum].includes(response))\n",
       "                        responses[qnum].push(response);\n",
       "                } else{\n",
       "                    responses[qnum]= [ response ];\n",
       "                }\n",
       "            } else {\n",
       "                responses[qnum]= response;\n",
       "            }\n",
       "            console.log(responses);\n",
       "            responsesContainer.setAttribute('data-responses', JSON.stringify(responses));\n",
       "            printResponses(responsesContainer);\n",
       "        }\n",
       "        // End save responses stuff\n",
       "\n",
       "\n",
       "\n",
       "        var numcorrect = fb.dataset.numcorrect;\n",
       "        var answeredcorrect = fb.dataset.answeredcorrect;\n",
       "        if (answeredcorrect >= 0) {\n",
       "            fb.textContent = feedback + \" [\" + answeredcorrect + \"/\" + numcorrect + \"]\";\n",
       "        } else {\n",
       "            fb.textContent = feedback + \" [\" + 0 + \"/\" + numcorrect + \"]\";\n",
       "        }\n",
       "\n",
       "\n",
       "    }\n",
       "\n",
       "    if (typeof MathJax != 'undefined') {\n",
       "        var version = MathJax.version;\n",
       "        console.log('MathJax version', version);\n",
       "        if (version[0] == \"2\") {\n",
       "            MathJax.Hub.Queue([\"Typeset\", MathJax.Hub]);\n",
       "        } else if (version[0] == \"3\") {\n",
       "            MathJax.typeset([fb]);\n",
       "        }\n",
       "    } else {\n",
       "        console.log('MathJax not detected');\n",
       "    }\n",
       "\n",
       "}\n",
       "\n",
       "function make_mc(qa, shuffle_answers, outerqDiv, qDiv, aDiv, id) {\n",
       "    var shuffled;\n",
       "    if (shuffle_answers == \"True\") {\n",
       "        //console.log(shuffle_answers+\" read as true\");\n",
       "        shuffled = getRandomSubarray(qa.answers, qa.answers.length);\n",
       "    } else {\n",
       "        //console.log(shuffle_answers+\" read as false\");\n",
       "        shuffled = qa.answers;\n",
       "    }\n",
       "\n",
       "\n",
       "    var num_correct = 0;\n",
       "\n",
       "\n",
       "\n",
       "    shuffled.forEach((item, index, ans_array) => {\n",
       "        //console.log(answer);\n",
       "\n",
       "        // Make input element\n",
       "        var inp = document.createElement(\"input\");\n",
       "        inp.type = \"radio\";\n",
       "        inp.id = \"quizo\" + id + index;\n",
       "        inp.style = \"display:none;\";\n",
       "        aDiv.append(inp);\n",
       "\n",
       "        //Make label for input element\n",
       "        var lab = document.createElement(\"label\");\n",
       "        lab.className = \"MCButton\";\n",
       "        lab.id = id + '-' + index;\n",
       "        lab.onclick = check_mc;\n",
       "        var aSpan = document.createElement('span');\n",
       "        aSpan.classsName = \"\";\n",
       "        //qDiv.id=\"quizQn\"+id+index;\n",
       "        if (\"answer\" in item) {\n",
       "            aSpan.innerHTML = jaxify(item.answer);\n",
       "            //aSpan.innerHTML=item.answer;\n",
       "        }\n",
       "        lab.append(aSpan);\n",
       "\n",
       "        // Create div for code inside question\n",
       "        var codeSpan;\n",
       "        if (\"code\" in item) {\n",
       "            codeSpan = document.createElement('span');\n",
       "            codeSpan.id = \"code\" + id + index;\n",
       "            codeSpan.className = \"QuizCode\";\n",
       "            var codePre = document.createElement('pre');\n",
       "            codeSpan.append(codePre);\n",
       "            var codeCode = document.createElement('code');\n",
       "            codePre.append(codeCode);\n",
       "            codeCode.innerHTML = item.code;\n",
       "            lab.append(codeSpan);\n",
       "            //console.log(codeSpan);\n",
       "        }\n",
       "\n",
       "        //lab.textContent=item.answer;\n",
       "\n",
       "        // Set the data attributes for the answer\n",
       "        lab.setAttribute('data-correct', item.correct);\n",
       "        if (item.correct) {\n",
       "            num_correct++;\n",
       "        }\n",
       "        if (\"feedback\" in item) {\n",
       "            lab.setAttribute('data-feedback', item.feedback);\n",
       "        }\n",
       "        lab.setAttribute('data-answered', 0);\n",
       "\n",
       "        aDiv.append(lab);\n",
       "\n",
       "    });\n",
       "\n",
       "    if (num_correct > 1) {\n",
       "        outerqDiv.className = \"ManyChoiceQn\";\n",
       "    } else {\n",
       "        outerqDiv.className = \"MultipleChoiceQn\";\n",
       "    }\n",
       "\n",
       "    return num_correct;\n",
       "\n",
       "}\n",
       "function check_numeric(ths, event) {\n",
       "\n",
       "    if (event.keyCode === 13) {\n",
       "        ths.blur();\n",
       "\n",
       "        var id = ths.id.split('-')[0];\n",
       "\n",
       "        var submission = ths.value;\n",
       "        if (submission.indexOf('/') != -1) {\n",
       "            sub_parts = submission.split('/');\n",
       "            //console.log(sub_parts);\n",
       "            submission = sub_parts[0] / sub_parts[1];\n",
       "        }\n",
       "        //console.log(\"Reader entered\", submission);\n",
       "\n",
       "        if (\"precision\" in ths.dataset) {\n",
       "            precision = ths.dataset.precision;\n",
       "            // console.log(\"1:\", submission)\n",
       "            submission = Math.round((1 * submission + Number.EPSILON) * 10 ** precision) / 10 ** precision;\n",
       "            // console.log(\"Rounded to \", submission, \" precision=\", precision  );\n",
       "        }\n",
       "\n",
       "\n",
       "        //console.log(\"In check_numeric(), id=\"+id);\n",
       "        //console.log(event.srcElement.id)           \n",
       "        //console.log(event.srcElement.dataset.feedback)\n",
       "\n",
       "        var fb = document.getElementById(\"fb\" + id);\n",
       "        fb.style.display = \"none\";\n",
       "        fb.textContent = \"Incorrect -- try again.\";\n",
       "\n",
       "        answers = JSON.parse(ths.dataset.answers);\n",
       "        //console.log(answers);\n",
       "\n",
       "        var defaultFB = \"\";\n",
       "        var correct;\n",
       "        var done = false;\n",
       "        answers.every(answer => {\n",
       "            //console.log(answer.type);\n",
       "\n",
       "            correct = false;\n",
       "            // if (answer.type==\"value\"){\n",
       "            if ('value' in answer) {\n",
       "                if (submission == answer.value) {\n",
       "                    fb.textContent = jaxify(answer.feedback);\n",
       "                    correct = answer.correct;\n",
       "                    //console.log(answer.correct);\n",
       "                    done = true;\n",
       "                }\n",
       "                // } else if (answer.type==\"range\") {\n",
       "            } else if ('range' in answer) {\n",
       "                //console.log(answer.range);\n",
       "                if ((submission >= answer.range[0]) && (submission < answer.range[1])) {\n",
       "                    fb.textContent = jaxify(answer.feedback);\n",
       "                    correct = answer.correct;\n",
       "                    //console.log(answer.correct);\n",
       "                    done = true;\n",
       "                }\n",
       "            } else if (answer.type == \"default\") {\n",
       "                defaultFB = answer.feedback;\n",
       "            }\n",
       "            if (done) {\n",
       "                return false; // Break out of loop if this has been marked correct\n",
       "            } else {\n",
       "                return true; // Keep looking for case that includes this as a correct answer\n",
       "            }\n",
       "        });\n",
       "\n",
       "        if ((!done) && (defaultFB != \"\")) {\n",
       "            fb.innerHTML = jaxify(defaultFB);\n",
       "            //console.log(\"Default feedback\", defaultFB);\n",
       "        }\n",
       "\n",
       "        fb.style.display = \"block\";\n",
       "        if (correct) {\n",
       "            ths.className = \"Input-text\";\n",
       "            ths.classList.add(\"correctButton\");\n",
       "            fb.className = \"Feedback\";\n",
       "            fb.classList.add(\"correct\");\n",
       "        } else {\n",
       "            ths.className = \"Input-text\";\n",
       "            ths.classList.add(\"incorrectButton\");\n",
       "            fb.className = \"Feedback\";\n",
       "            fb.classList.add(\"incorrect\");\n",
       "        }\n",
       "\n",
       "        // What follows is for the saved responses stuff\n",
       "        var outerContainer = fb.parentElement.parentElement;\n",
       "        var responsesContainer = document.getElementById(\"responses\" + outerContainer.id);\n",
       "        if (responsesContainer) {\n",
       "            console.log(submission);\n",
       "            var qnum = document.getElementById(\"quizWrap\"+id).dataset.qnum;\n",
       "            //console.log(\"Question \" + qnum);\n",
       "            //console.log(id, \", got numcorrect=\",fb.dataset.numcorrect);\n",
       "            var responses=JSON.parse(responsesContainer.dataset.responses);\n",
       "            console.log(responses);\n",
       "            if (submission == ths.value){\n",
       "                responses[qnum]= submission;\n",
       "            } else {\n",
       "                responses[qnum]= ths.value + \"(\" + submission +\")\";\n",
       "            }\n",
       "            responsesContainer.setAttribute('data-responses', JSON.stringify(responses));\n",
       "            printResponses(responsesContainer);\n",
       "        }\n",
       "        // End code to preserve responses\n",
       "\n",
       "        if (typeof MathJax != 'undefined') {\n",
       "            var version = MathJax.version;\n",
       "            console.log('MathJax version', version);\n",
       "            if (version[0] == \"2\") {\n",
       "                MathJax.Hub.Queue([\"Typeset\", MathJax.Hub]);\n",
       "            } else if (version[0] == \"3\") {\n",
       "                MathJax.typeset([fb]);\n",
       "            }\n",
       "        } else {\n",
       "            console.log('MathJax not detected');\n",
       "        }\n",
       "        return false;\n",
       "    }\n",
       "\n",
       "}\n",
       "\n",
       "function isValid(el, charC) {\n",
       "    //console.log(\"Input char: \", charC);\n",
       "    if (charC == 46) {\n",
       "        if (el.value.indexOf('.') === -1) {\n",
       "            return true;\n",
       "        } else if (el.value.indexOf('/') != -1) {\n",
       "            parts = el.value.split('/');\n",
       "            if (parts[1].indexOf('.') === -1) {\n",
       "                return true;\n",
       "            }\n",
       "        }\n",
       "        else {\n",
       "            return false;\n",
       "        }\n",
       "    } else if (charC == 47) {\n",
       "        if (el.value.indexOf('/') === -1) {\n",
       "            if ((el.value != \"\") && (el.value != \".\")) {\n",
       "                return true;\n",
       "            } else {\n",
       "                return false;\n",
       "            }\n",
       "        } else {\n",
       "            return false;\n",
       "        }\n",
       "    } else if (charC == 45) {\n",
       "        edex = el.value.indexOf('e');\n",
       "        if (edex == -1) {\n",
       "            edex = el.value.indexOf('E');\n",
       "        }\n",
       "\n",
       "        if (el.value == \"\") {\n",
       "            return true;\n",
       "        } else if (edex == (el.value.length - 1)) { // If just after e or E\n",
       "            return true;\n",
       "        } else {\n",
       "            return false;\n",
       "        }\n",
       "    } else if (charC == 101) { // \"e\"\n",
       "        if ((el.value.indexOf('e') === -1) && (el.value.indexOf('E') === -1) && (el.value.indexOf('/') == -1)) {\n",
       "            // Prev symbol must be digit or decimal point:\n",
       "            if (el.value.slice(-1).search(/\\d/) >= 0) {\n",
       "                return true;\n",
       "            } else if (el.value.slice(-1).search(/\\./) >= 0) {\n",
       "                return true;\n",
       "            } else {\n",
       "                return false;\n",
       "            }\n",
       "        } else {\n",
       "            return false;\n",
       "        }\n",
       "    } else {\n",
       "        if (charC > 31 && (charC < 48 || charC > 57))\n",
       "            return false;\n",
       "    }\n",
       "    return true;\n",
       "}\n",
       "\n",
       "function numeric_keypress(evnt) {\n",
       "    var charC = (evnt.which) ? evnt.which : evnt.keyCode;\n",
       "\n",
       "    if (charC == 13) {\n",
       "        check_numeric(this, evnt);\n",
       "    } else {\n",
       "        return isValid(this, charC);\n",
       "    }\n",
       "}\n",
       "\n",
       "\n",
       "\n",
       "\n",
       "\n",
       "function make_numeric(qa, outerqDiv, qDiv, aDiv, id) {\n",
       "\n",
       "\n",
       "\n",
       "    //console.log(answer);\n",
       "\n",
       "\n",
       "    outerqDiv.className = \"NumericQn\";\n",
       "    aDiv.style.display = 'block';\n",
       "\n",
       "    var lab = document.createElement(\"label\");\n",
       "    lab.className = \"InpLabel\";\n",
       "    lab.textContent = \"Type numeric answer here:\";\n",
       "    aDiv.append(lab);\n",
       "\n",
       "    var inp = document.createElement(\"input\");\n",
       "    inp.type = \"text\";\n",
       "    //inp.id=\"input-\"+id;\n",
       "    inp.id = id + \"-0\";\n",
       "    inp.className = \"Input-text\";\n",
       "    inp.setAttribute('data-answers', JSON.stringify(qa.answers));\n",
       "    if (\"precision\" in qa) {\n",
       "        inp.setAttribute('data-precision', qa.precision);\n",
       "    }\n",
       "    aDiv.append(inp);\n",
       "    //console.log(inp);\n",
       "\n",
       "    //inp.addEventListener(\"keypress\", check_numeric);\n",
       "    //inp.addEventListener(\"keypress\", numeric_keypress);\n",
       "    /*\n",
       "    inp.addEventListener(\"keypress\", function(event) {\n",
       "        return numeric_keypress(this, event);\n",
       "    }\n",
       "                        );\n",
       "                        */\n",
       "    //inp.onkeypress=\"return numeric_keypress(this, event)\";\n",
       "    inp.onkeypress = numeric_keypress;\n",
       "    inp.onpaste = event => false;\n",
       "\n",
       "    inp.addEventListener(\"focus\", function (event) {\n",
       "        this.value = \"\";\n",
       "        return false;\n",
       "    }\n",
       "    );\n",
       "\n",
       "\n",
       "}\n",
       "function jaxify(string) {\n",
       "    var mystring = string;\n",
       "\n",
       "    count = 0;\n",
       "    var loc = mystring.search(/([^\\\\]|^)(\\$)/);\n",
       "\n",
       "    count2 = 0;\n",
       "    var loc2 = mystring.search(/([^\\\\]|^)(\\$\\$)/);\n",
       "\n",
       "    //console.log(loc);\n",
       "\n",
       "    while ((loc >= 0) || (loc2 >= 0)) {\n",
       "\n",
       "        /* Have to replace all the double $$ first with current implementation */\n",
       "        if (loc2 >= 0) {\n",
       "            if (count2 % 2 == 0) {\n",
       "                mystring = mystring.replace(/([^\\\\]|^)(\\$\\$)/, \"$1\\\\[\");\n",
       "            } else {\n",
       "                mystring = mystring.replace(/([^\\\\]|^)(\\$\\$)/, \"$1\\\\]\");\n",
       "            }\n",
       "            count2++;\n",
       "        } else {\n",
       "            if (count % 2 == 0) {\n",
       "                mystring = mystring.replace(/([^\\\\]|^)(\\$)/, \"$1\\\\(\");\n",
       "            } else {\n",
       "                mystring = mystring.replace(/([^\\\\]|^)(\\$)/, \"$1\\\\)\");\n",
       "            }\n",
       "            count++;\n",
       "        }\n",
       "        loc = mystring.search(/([^\\\\]|^)(\\$)/);\n",
       "        loc2 = mystring.search(/([^\\\\]|^)(\\$\\$)/);\n",
       "        //console.log(mystring,\", loc:\",loc,\", loc2:\",loc2);\n",
       "    }\n",
       "\n",
       "    //console.log(mystring);\n",
       "    return mystring;\n",
       "}\n",
       "\n",
       "\n",
       "function show_questions(json, mydiv) {\n",
       "    console.log('show_questions');\n",
       "    //var mydiv=document.getElementById(myid);\n",
       "    var shuffle_questions = mydiv.dataset.shufflequestions;\n",
       "    var num_questions = mydiv.dataset.numquestions;\n",
       "    var shuffle_answers = mydiv.dataset.shuffleanswers;\n",
       "\n",
       "    if (num_questions > json.length) {\n",
       "        num_questions = json.length;\n",
       "    }\n",
       "\n",
       "    var questions;\n",
       "    if ((num_questions < json.length) || (shuffle_questions == \"True\")) {\n",
       "        //console.log(num_questions+\",\"+json.length);\n",
       "        questions = getRandomSubarray(json, num_questions);\n",
       "    } else {\n",
       "        questions = json;\n",
       "    }\n",
       "\n",
       "    //console.log(\"SQ: \"+shuffle_questions+\", NQ: \" + num_questions + \", SA: \", shuffle_answers);\n",
       "\n",
       "    // Iterate over questions\n",
       "    questions.forEach((qa, index, array) => {\n",
       "        //console.log(qa.question); \n",
       "\n",
       "        var id = makeid(8);\n",
       "        //console.log(id);\n",
       "\n",
       "\n",
       "        // Create Div to contain question and answers\n",
       "        var iDiv = document.createElement('div');\n",
       "        //iDiv.id = 'quizWrap' + id + index;\n",
       "        iDiv.id = 'quizWrap' + id;\n",
       "        iDiv.className = 'Quiz';\n",
       "        iDiv.setAttribute('data-qnum', index);\n",
       "        mydiv.appendChild(iDiv);\n",
       "        // iDiv.innerHTML=qa.question;\n",
       "\n",
       "        var outerqDiv = document.createElement('div');\n",
       "        outerqDiv.id = \"OuterquizQn\" + id + index;\n",
       "\n",
       "        iDiv.append(outerqDiv);\n",
       "\n",
       "        // Create div to contain question part\n",
       "        var qDiv = document.createElement('div');\n",
       "        qDiv.id = \"quizQn\" + id + index;\n",
       "        //qDiv.textContent=qa.question;\n",
       "        qDiv.innerHTML = jaxify(qa.question);\n",
       "\n",
       "        outerqDiv.append(qDiv);\n",
       "\n",
       "        // Create div for code inside question\n",
       "        var codeDiv;\n",
       "        if (\"code\" in qa) {\n",
       "            codeDiv = document.createElement('div');\n",
       "            codeDiv.id = \"code\" + id + index;\n",
       "            codeDiv.className = \"QuizCode\";\n",
       "            var codePre = document.createElement('pre');\n",
       "            codeDiv.append(codePre);\n",
       "            var codeCode = document.createElement('code');\n",
       "            codePre.append(codeCode);\n",
       "            codeCode.innerHTML = qa.code;\n",
       "            outerqDiv.append(codeDiv);\n",
       "            //console.log(codeDiv);\n",
       "        }\n",
       "\n",
       "\n",
       "        // Create div to contain answer part\n",
       "        var aDiv = document.createElement('div');\n",
       "        aDiv.id = \"quizAns\" + id + index;\n",
       "        aDiv.className = 'Answer';\n",
       "        iDiv.append(aDiv);\n",
       "\n",
       "        //console.log(qa.type);\n",
       "\n",
       "        var num_correct;\n",
       "        if (qa.type == \"multiple_choice\") {\n",
       "            num_correct = make_mc(qa, shuffle_answers, outerqDiv, qDiv, aDiv, id);\n",
       "        } else if (qa.type == \"many_choice\") {\n",
       "            num_correct = make_mc(qa, shuffle_answers, outerqDiv, qDiv, aDiv, id);\n",
       "        } else if (qa.type == \"numeric\") {\n",
       "            //console.log(\"numeric\");\n",
       "            make_numeric(qa, outerqDiv, qDiv, aDiv, id);\n",
       "        }\n",
       "\n",
       "\n",
       "        //Make div for feedback\n",
       "        var fb = document.createElement(\"div\");\n",
       "        fb.id = \"fb\" + id;\n",
       "        //fb.style=\"font-size: 20px;text-align:center;\";\n",
       "        fb.className = \"Feedback\";\n",
       "        fb.setAttribute(\"data-answeredcorrect\", 0);\n",
       "        fb.setAttribute(\"data-numcorrect\", num_correct);\n",
       "        iDiv.append(fb);\n",
       "\n",
       "\n",
       "    });\n",
       "    var preserveResponses = mydiv.dataset.preserveresponses;\n",
       "    console.log(preserveResponses);\n",
       "    console.log(preserveResponses == \"true\");\n",
       "    if (preserveResponses == \"true\") {\n",
       "        console.log(preserveResponses);\n",
       "        // Create Div to contain record of answers\n",
       "        var iDiv = document.createElement('div');\n",
       "        iDiv.id = 'responses' + mydiv.id;\n",
       "        iDiv.className = 'JCResponses';\n",
       "        // Create a place to store responses as an empty array\n",
       "        iDiv.setAttribute('data-responses', '[]');\n",
       "\n",
       "        // Dummy Text\n",
       "        iDiv.innerHTML=\"<b>Select your answers and then follow the directions that will appear here.</b>\"\n",
       "        //iDiv.className = 'Quiz';\n",
       "        mydiv.appendChild(iDiv);\n",
       "    }\n",
       "//console.log(\"At end of show_questions\");\n",
       "    if (typeof MathJax != 'undefined') {\n",
       "        console.log(\"MathJax version\", MathJax.version);\n",
       "        var version = MathJax.version;\n",
       "        setTimeout(function(){\n",
       "            var version = MathJax.version;\n",
       "            console.log('After sleep, MathJax version', version);\n",
       "            if (version[0] == \"2\") {\n",
       "                MathJax.Hub.Queue([\"Typeset\", MathJax.Hub]);\n",
       "            } else if (version[0] == \"3\") {\n",
       "                MathJax.typeset([mydiv]);\n",
       "            }\n",
       "        }, 500);\n",
       "if (typeof version == 'undefined') {\n",
       "        } else\n",
       "        {\n",
       "            if (version[0] == \"2\") {\n",
       "                MathJax.Hub.Queue([\"Typeset\", MathJax.Hub]);\n",
       "            } else if (version[0] == \"3\") {\n",
       "                MathJax.typeset([mydiv]);\n",
       "            } else {\n",
       "                console.log(\"MathJax not found\");\n",
       "            }\n",
       "        }\n",
       "    }\n",
       "    return false;\n",
       "}\n",
       "\n",
       "        {\n",
       "        show_questions(questionscUNvzXBCbwJH,  cUNvzXBCbwJH);\n",
       "        }\n",
       "        </script>\n",
       "        "
      ],
      "text/plain": [
       "<IPython.core.display.HTML object>"
      ]
     },
     "metadata": {},
     "output_type": "display_data"
    }
   ],
   "source": [
    "#| echo: false\n",
    "\n",
    "with open(\"./Datasets/questions_tuple.json\", \"r\") as file:\n",
    "    questions=json.load(file)\n",
    "display_quiz(questions)"
   ]
  },
  {
   "cell_type": "markdown",
   "id": "580c1c20",
   "metadata": {},
   "source": [
    "### Tuple Comprehension?\n",
    "\n",
    "**There is no direct tuple comprehension** in Python. However, Python does allow a similar construct that looks like tuple comprehension but actually creates a **generator expression**. If you want to create a tuple using comprehension-like syntax, you can explicitly convert the generator to a tuple."
   ]
  },
  {
   "cell_type": "code",
   "execution_count": null,
   "id": "475e22dd",
   "metadata": {},
   "outputs": [
    {
     "name": "stdout",
     "output_type": "stream",
     "text": [
      "<generator object <genexpr> at 0x000001B5240C9BE0>\n"
     ]
    }
   ],
   "source": [
    "gen = (x**2 for x in range(5))\n",
    "print(gen)\n"
   ]
  },
  {
   "cell_type": "markdown",
   "id": "e6275e90",
   "metadata": {},
   "source": [
    "Here, `gen` is a generator, not a tuple. Generators are lazily evaluated, meaning values are computed on demand, making them memory-efficient.\n",
    "\n",
    "To create a tuple, we can use the `tuple()` function to convert the generator into a tuple explicitly."
   ]
  },
  {
   "cell_type": "code",
   "execution_count": null,
   "id": "1a70f1b1",
   "metadata": {},
   "outputs": [
    {
     "name": "stdout",
     "output_type": "stream",
     "text": [
      "(0, 1, 4, 9, 16)\n"
     ]
    }
   ],
   "source": [
    "tup = tuple(x**2 for x in range(5))\n",
    "print(tup)  # Output: (0, 1, 4, 9, 16)\n"
   ]
  },
  {
   "cell_type": "markdown",
   "id": "329ddd3e",
   "metadata": {},
   "source": [
    "**Why No Direct Tuple Comprehension?**\n",
    "\n",
    "* Python uses parentheses for both tuple creation and generator expressions. To avoid ambiguity, Python reserves parentheses for generators in this context.\n",
    "* Converting a generator to a tuple ensures explicit behavior and consistency.\n",
    "\n",
    "**Using List Comprehension for a List of Tuples:**\n",
    "\n",
    "In Python, list comprehension is often used to create a list of tuples because it combines the flexibility of tuple creation with the concise syntax of list comprehension."
   ]
  },
  {
   "cell_type": "markdown",
   "id": "66bed89d",
   "metadata": {},
   "source": [
    "**Example:** Create a list of tuples, where each tuple consists of a natural number and its square, for natural numbers ranging from 5 to 15."
   ]
  },
  {
   "cell_type": "code",
   "execution_count": null,
   "id": "464a62df",
   "metadata": {},
   "outputs": [
    {
     "name": "stdout",
     "output_type": "stream",
     "text": [
      "[(5, 25), (6, 36), (7, 49), (8, 64), (9, 81), (10, 100), (11, 121), (12, 144), (13, 169), (14, 196), (15, 225)]\n"
     ]
    }
   ],
   "source": [
    "sqrt_natural_no_5_15 = [(x,x**2) for x in range(5,16)]\n",
    "print(sqrt_natural_no_5_15)"
   ]
  },
  {
   "cell_type": "markdown",
   "id": "09d5731d",
   "metadata": {},
   "source": [
    "### Practice exercise 3"
   ]
  },
  {
   "cell_type": "markdown",
   "id": "b2d4c2a1",
   "metadata": {},
   "source": [
    "Below is a list consisting of responses to the question: \"At what age do you think you will marry?\" from students of the STAT303-1 Fall 2022 class."
   ]
  },
  {
   "cell_type": "code",
   "execution_count": null,
   "id": "aee07582",
   "metadata": {},
   "outputs": [],
   "source": [
    "exp_marriage_age=['24','30','28','29','30','27','26','28','30+','26','28','30','30','30','probably never','30','25','25','30','28','30+ ','30','25','28','28','25','25','27','28','30','30','35','26','28','27','27','30','25','30','26','32','27','26','27','26','28','37','28','28','28','35','28','27','28','26','28','26','30','27','30','28','25','26','28','35','29','27','27','30','24','25','29','27','33','30','30','25','26','30','32','26','30','30','I wont','25','27','27','25','27','27','32','26','25','never','28','33','28','35','25','30','29','30','31','28','28','30','40','30','28','30','27','by 30','28','27','28','30-35','35','30','30','never','30','35','28','31','30','27','33','32','27','27','26','N/A','25','26','29','28','34','26','24','28','30','120','25','33','27','28','32','30','26','30','30','28','27','27','27','27','27','27','28','30','30','30','28','30','28','30','30','28','28','30','27','30','28','25','never','69','28','28','33','30','28','28','26','30','26','27','30','25','Never','27','27','25']"
   ]
  },
  {
   "cell_type": "markdown",
   "id": "80582587",
   "metadata": {},
   "source": [
    "**Use list comprehension to:**"
   ]
  },
  {
   "cell_type": "markdown",
   "id": "3e42ea5d",
   "metadata": {},
   "source": [
    "#### \n",
    "Remove the elements that are not integers - such as *'probably never', '30+'*, etc. What is the length of the new list?\n",
    "\n",
    "**Hint:** The built-in python function of the `str` class - [isdigit()](https://docs.python.org/3/library/stdtypes.html#string-methods) may be useful to check if the string contains only digits."
   ]
  },
  {
   "cell_type": "code",
   "execution_count": null,
   "id": "323ab728",
   "metadata": {},
   "outputs": [],
   "source": []
  },
  {
   "cell_type": "markdown",
   "id": "5d5544e3",
   "metadata": {},
   "source": [
    "#### \n",
    "Cap the values greater than 80 to 80, in the clean list obtained in (1). What is the mean age when people expect to marry in the new list?"
   ]
  },
  {
   "cell_type": "code",
   "execution_count": null,
   "id": "09929b8c",
   "metadata": {},
   "outputs": [],
   "source": []
  },
  {
   "cell_type": "markdown",
   "id": "4741c497",
   "metadata": {},
   "source": [
    "#### \n",
    "Determine the percentage of people who expect to marry at an age of 30 or more."
   ]
  },
  {
   "cell_type": "code",
   "execution_count": null,
   "id": "cfbd8ad9",
   "metadata": {},
   "outputs": [],
   "source": []
  },
  {
   "cell_type": "markdown",
   "id": "6e9a6aae",
   "metadata": {},
   "source": [
    "### Practice exercise 4"
   ]
  },
  {
   "cell_type": "markdown",
   "id": "beed3ce6",
   "metadata": {},
   "source": [
    "USA’s GDP per capita from 1960 to 2021 is given by the tuple T in the code cell below. The values are arranged in ascending order of the year, i.e., the first value is for 1960, the second value is for 1961, and so on. Print the years in which the GDP per capita of the US increased by more than 10%."
   ]
  },
  {
   "cell_type": "code",
   "execution_count": 2,
   "id": "3d8f5cd1",
   "metadata": {},
   "outputs": [],
   "source": [
    "T = (3007, 3067, 3244, 3375,3574, 3828, 4146, 4336, 4696, 5032,5234,5609,6094,6726,7226,7801,8592,9453,10565,11674,12575,13976,14434,15544,17121,18237,19071,20039,21417,22857,23889,24342,25419,26387,27695,28691,29968,31459,32854,34515,36330,37134,37998,39490,41725,44123,46302,48050,48570,47195,48651,50066,51784,53291,55124,56763,57867,59915,62805,65095,63028,69288)"
   ]
  },
  {
   "cell_type": "code",
   "execution_count": null,
   "id": "87a8ec11",
   "metadata": {},
   "outputs": [],
   "source": []
  },
  {
   "cell_type": "markdown",
   "id": "344a5c63",
   "metadata": {},
   "source": [
    "* Determine the average GDP per capita for the given period (1960–2021).\n",
    "* Identify the year with the highest GDP per capita.\n",
    "* Identify the year with the lowest GDP per capita.\n",
    "\n"
   ]
  },
  {
   "cell_type": "code",
   "execution_count": null,
   "id": "c407d43a",
   "metadata": {},
   "outputs": [],
   "source": []
  },
  {
   "cell_type": "markdown",
   "id": "0f6c5b29",
   "metadata": {},
   "source": [
    "* Create a new tuple where each element represents the percentage change in GDP per capita compared to the previous year.\n",
    "* Identify the year with the highest percentage increase in GDP per capita."
   ]
  },
  {
   "cell_type": "code",
   "execution_count": null,
   "id": "51d332d8",
   "metadata": {},
   "outputs": [],
   "source": []
  },
  {
   "cell_type": "markdown",
   "id": "da799f6b",
   "metadata": {},
   "source": [
    "* Construct a tuple where each element is a pair in the format (year, GDP per capita), making it easier to analyze trends over time."
   ]
  },
  {
   "cell_type": "code",
   "execution_count": null,
   "id": "7e504950",
   "metadata": {},
   "outputs": [],
   "source": []
  },
  {
   "cell_type": "markdown",
   "id": "b6a8c3af",
   "metadata": {},
   "source": [
    "## Sets\n",
    "\n",
    "A set is a built-in data type in Python used to store **unordered, unique, and mutable** items. Sets are commonly used for operations like\n",
    "\n",
    "- **Membership testing**: Quickly check if an item is in a set.\n",
    "- **Eliminating duplicate entries**: Sets automatically ensure only unique elements are stored.\n",
    "- **Mathematical set operations**: Supports union (`|`), intersection (`&`), and difference (`-`).\n"
   ]
  },
  {
   "cell_type": "markdown",
   "id": "d314ef66",
   "metadata": {},
   "source": [
    "### Creating a set\n",
    "\n",
    "A set can be created using curly braces or the `set()` constructor"
   ]
  },
  {
   "cell_type": "code",
   "execution_count": 39,
   "id": "6440b676",
   "metadata": {},
   "outputs": [
    {
     "name": "stdout",
     "output_type": "stream",
     "text": [
      "{1, 2, 3, 4}\n",
      "{1, 2, 3, 4}\n",
      "set()\n"
     ]
    }
   ],
   "source": [
    "my_set = {1, 2, 3, 4}\n",
    "print(my_set)  \n",
    "\n",
    "my_set = set([1, 2, 2, 3, 4])\n",
    "print(my_set) \n",
    "type(my_set) \n",
    "\n",
    "my_empty_set=set()\n",
    "print(my_empty_set)\n"
   ]
  },
  {
   "cell_type": "markdown",
   "id": "c3f77e16",
   "metadata": {},
   "source": [
    "A set can be also created by removing repeated elements from lists."
   ]
  },
  {
   "cell_type": "code",
   "execution_count": 40,
   "id": "9280b82b",
   "metadata": {},
   "outputs": [
    {
     "name": "stdout",
     "output_type": "stream",
     "text": [
      "[1, 2, 3, 4, 5]\n"
     ]
    }
   ],
   "source": [
    "my_list = [1,4,4,4,5,1,2,1,3]\n",
    "my_set_from_list = list(set(my_list))\n",
    "print(my_set_from_list)\n"
   ]
  },
  {
   "cell_type": "markdown",
   "id": "f09eb70a",
   "metadata": {},
   "source": [
    "### Accessing Elements\n",
    "\n",
    "Since sets are **unordered**, you cannot use indexing or slicing:"
   ]
  },
  {
   "cell_type": "code",
   "execution_count": 60,
   "id": "6a83625f",
   "metadata": {},
   "outputs": [
    {
     "ename": "TypeError",
     "evalue": "'set' object is not subscriptable",
     "output_type": "error",
     "traceback": [
      "\u001b[1;31m---------------------------------------------------------------------------\u001b[0m",
      "\u001b[1;31mTypeError\u001b[0m                                 Traceback (most recent call last)",
      "Cell \u001b[1;32mIn[60], line 2\u001b[0m\n\u001b[0;32m      1\u001b[0m my_set \u001b[38;5;241m=\u001b[39m {\u001b[38;5;124m\"\u001b[39m\u001b[38;5;124mapple\u001b[39m\u001b[38;5;124m\"\u001b[39m, \u001b[38;5;124m\"\u001b[39m\u001b[38;5;124mbanana\u001b[39m\u001b[38;5;124m\"\u001b[39m, \u001b[38;5;124m\"\u001b[39m\u001b[38;5;124mcherry\u001b[39m\u001b[38;5;124m\"\u001b[39m}\n\u001b[1;32m----> 2\u001b[0m \u001b[43mmy_set\u001b[49m\u001b[43m[\u001b[49m\u001b[38;5;241;43m0\u001b[39;49m\u001b[43m]\u001b[49m \n",
      "\u001b[1;31mTypeError\u001b[0m: 'set' object is not subscriptable"
     ]
    }
   ],
   "source": [
    "my_set = {\"apple\", \"banana\", \"cherry\"}\n",
    "my_set[0] \n"
   ]
  },
  {
   "cell_type": "markdown",
   "id": "a8addd1d",
   "metadata": {},
   "source": [
    "Instead, you typically check membership or iterate over all elements:"
   ]
  },
  {
   "cell_type": "code",
   "execution_count": 61,
   "id": "cd856a66",
   "metadata": {},
   "outputs": [
    {
     "name": "stdout",
     "output_type": "stream",
     "text": [
      "Apple is in the set\n",
      "cherry\n",
      "banana\n",
      "apple\n"
     ]
    }
   ],
   "source": [
    "if \"apple\" in my_set:\n",
    "    print(\"Apple is in the set\")\n",
    "\n",
    "for item in my_set:\n",
    "    print(item)\n"
   ]
  },
  {
   "cell_type": "markdown",
   "id": "2c9f88af",
   "metadata": {},
   "source": [
    "### Adding and Removing Items\n",
    "\n",
    "* `add(item)`: Adds an item to the set (if it’s not already present).\n",
    "* `update(iterable)`: Adds multiple items (from another set, list, tuple, etc.).\n",
    "* `remove(item)`: Removes the specified item (raises an error if not found).\n",
    "* `discard(item)`: Removes the specified item (does not raise an error if not found).\n",
    "* `pop()`: Removes and returns an arbitrary item from the set.\n",
    "* `clear()`: Removes all items.\n"
   ]
  },
  {
   "cell_type": "code",
   "execution_count": 44,
   "id": "0dd9cc07",
   "metadata": {},
   "outputs": [
    {
     "name": "stdout",
     "output_type": "stream",
     "text": [
      "{1, 2, 4, 5}\n",
      "{1, 2, 4, 5}\n"
     ]
    },
    {
     "ename": "KeyError",
     "evalue": "3",
     "output_type": "error",
     "traceback": [
      "\u001b[1;31m---------------------------------------------------------------------------\u001b[0m",
      "\u001b[1;31mKeyError\u001b[0m                                  Traceback (most recent call last)",
      "Cell \u001b[1;32mIn[44], line 7\u001b[0m\n\u001b[0;32m      4\u001b[0m \u001b[38;5;28mprint\u001b[39m(my_set)\n\u001b[0;32m      6\u001b[0m \u001b[38;5;66;03m# Remove an element from a set\u001b[39;00m\n\u001b[1;32m----> 7\u001b[0m \u001b[43mmy_set\u001b[49m\u001b[38;5;241;43m.\u001b[39;49m\u001b[43mremove\u001b[49m\u001b[43m(\u001b[49m\u001b[38;5;241;43m3\u001b[39;49m\u001b[43m)\u001b[49m\n\u001b[0;32m      8\u001b[0m \u001b[38;5;28mprint\u001b[39m(my_set)\n\u001b[0;32m     10\u001b[0m \u001b[38;5;66;03m# Remove an element that doesn't exist\u001b[39;00m\n",
      "\u001b[1;31mKeyError\u001b[0m: 3"
     ]
    }
   ],
   "source": [
    "# Add an element to a set\n",
    "print(my_set)\n",
    "my_set.add(5)\n",
    "print(my_set)\n",
    "\n",
    "# Remove an element from a set\n",
    "my_set.remove(3)\n",
    "print(my_set)\n",
    "\n",
    "# Remove an element that doesn't exist\n",
    "my_set.remove(3)  # This will raise a KeyError\n",
    "\n",
    "# Remove an element that doesn't exist without raising an error\n",
    "my_set.discard(3)"
   ]
  },
  {
   "cell_type": "markdown",
   "id": "f4d01f40",
   "metadata": {},
   "source": [
    "Remove an element using `remove()` (raises an error if the element does not exist); \n",
    "Use `discard()` to remove an element (does not raise an error if the element does not exist):"
   ]
  },
  {
   "cell_type": "markdown",
   "id": "e39a32ef",
   "metadata": {},
   "source": [
    "### Mathematical Set Operations\n",
    "\n",
    "Sets are ideal for tasks involving unions, intersections, and differences. The table below explains these operatoins on sets\n",
    "\n",
    "| **Operation**            | **Symbol** | **Method**                       | **Description**                                      |\n",
    "|---------------------------|------------|-----------------------------------|------------------------------------------------------|\n",
    "| **Union**                | `|`        | `set_a.union(set_b)`             | Combines all unique elements from two sets.         |\n",
    "| **Intersection**         | `&`        | `set_a.intersection(set_b)`      | Finds common elements between two sets.             |\n",
    "| **Difference**           | `-`        | `set_a.difference(set_b)`        | Finds elements in `set_a` but not in `set_b`.        |\n",
    "| **Symmetric Difference** | `^`        | `set_a.symmetric_difference(set_b)` | Finds elements in either set, but not both.         |"
   ]
  },
  {
   "cell_type": "code",
   "execution_count": 48,
   "id": "bf9b80eb",
   "metadata": {},
   "outputs": [
    {
     "name": "stdout",
     "output_type": "stream",
     "text": [
      "{1, 2, 3, 4, 5}\n",
      "{3}\n",
      "{1, 2}\n",
      "{1, 2, 4, 5}\n"
     ]
    }
   ],
   "source": [
    "# Examples of Mathematical Operations on Sets\n",
    "set_a = {1, 2, 3}\n",
    "set_b = {3, 4, 5}\n",
    "\n",
    "# Union\n",
    "print(set_a | set_b)  \n",
    "\n",
    "# Intersection\n",
    "print(set_a & set_b) \n",
    "\n",
    "# Difference\n",
    "print(set_a - set_b) \n",
    "\n",
    "# Symmetric Difference\n",
    "print(set_a ^ set_b)  "
   ]
  },
  {
   "cell_type": "markdown",
   "id": "dd993ead",
   "metadata": {},
   "source": [
    "### Set Comprehension\n",
    "\n",
    "We can do set comprehensions just like list comprehensions\n"
   ]
  },
  {
   "cell_type": "code",
   "execution_count": 50,
   "id": "0f661299",
   "metadata": {},
   "outputs": [
    {
     "name": "stdout",
     "output_type": "stream",
     "text": [
      "{'h', 'o', 'e', 'l'}\n"
     ]
    },
    {
     "data": {
      "text/plain": [
       "set"
      ]
     },
     "execution_count": 50,
     "metadata": {},
     "output_type": "execute_result"
    }
   ],
   "source": [
    "# set comprehension\n",
    "my_set = {x for x in 'hello'}\n",
    "print(my_set)\n",
    "type(my_set)"
   ]
  },
  {
   "cell_type": "markdown",
   "id": "344ba18c",
   "metadata": {},
   "source": [
    "### Practice exercise 5\n",
    "\n",
    "The GDP per capita of USA for most years from 1960 to 2021 is given by the tuple `D_tuple` given in the code cell below."
   ]
  },
  {
   "cell_type": "code",
   "execution_count": null,
   "id": "7d18fc43",
   "metadata": {},
   "outputs": [],
   "source": [
    "D_tuple = ((1960, 3007), (1961, 3067), (1962, 3244), (1963, 3375), (1964, 3574), (1965, 3828), \n",
    " (1966, 4146), (1967, 4336), (1968, 4696), (1970, 5234), (1971, 5609), (1972, 6094), \n",
    " (1973, 6726), (1974, 7226), (1975, 7801), (1976, 8592), (1978, 10565), (1979, 11674), \n",
    " (1980, 12575), (1981, 13976), (1982, 14434), (1983, 15544), (1984, 17121), (1985, 18237), \n",
    " (1986, 19071), (1987, 20039), (1988, 21417), (1989, 22857), (1990, 23889), (1991, 24342), \n",
    " (1992, 25419), (1993, 26387), (1994, 27695), (1995, 28691), (1996, 29968), (1997, 31459), \n",
    " (1998, 32854), (2000, 36330), (2001, 37134), (2002, 37998), (2003, 39490), (2004, 41725), \n",
    " (2005, 44123), (2006, 46302), (2007, 48050), (2008, 48570), (2009, 47195), (2010, 48651), \n",
    " (2011, 50066), (2012, 51784), (2013, 53291), (2015, 56763), (2016, 57867), (2017, 59915), \n",
    " (2018, 62805), (2019, 65095), (2020, 63028), (2021, 69288))"
   ]
  },
  {
   "cell_type": "markdown",
   "id": "89e84641",
   "metadata": {},
   "source": [
    "Determine which years between 1960 and 2021 are missing GDP per capita data."
   ]
  },
  {
   "cell_type": "code",
   "execution_count": null,
   "id": "183272c3",
   "metadata": {},
   "outputs": [],
   "source": []
  },
  {
   "cell_type": "markdown",
   "id": "d565422b",
   "metadata": {},
   "source": [
    "## Dictionary"
   ]
  },
  {
   "cell_type": "markdown",
   "id": "b364936c",
   "metadata": {},
   "source": [
    "A Dictionary in Python is an **mutable** collection of **key-value** pairs. It’s used when you need to associate a specific value with a key and quickly access that value by using the key.\n",
    "\n",
    "A dictionary in Python consists of key-value pairs, where both keys and values are Python objects. **While values can be of any data type**, **keys must be immutable objects**, such as strings, integers, or tuples. For example, a list can be used as a value in a dictionary, but not as a key, because lists are mutable and their elements can be changed.\n",
    "\n",
    "**Ordered Dictionaries:** As of Python 3.7, the language specification guarantees that dictionaries maintain insertion order. This means you can reliably depend on the order in which keys were inserted when iterating over or converting the dictionary. Prior to Python 3.7, this behavior was not officially guaranteed (though in CPython 3.6, it happened to work that way in practice)."
   ]
  },
  {
   "cell_type": "markdown",
   "id": "e2704b48",
   "metadata": {},
   "source": [
    "### Creating a dictionary\n",
    "\n",
    "Use braces `{}` or the `dict()` constructor."
   ]
  },
  {
   "cell_type": "code",
   "execution_count": 52,
   "id": "30929e39",
   "metadata": {},
   "outputs": [
    {
     "name": "stdout",
     "output_type": "stream",
     "text": [
      "{'name': 'Alice', 'age': 30, 'city': 'New York'}\n",
      "{'brand': 'Tesla', 'model': 'Model 3', 'year': 2023}\n",
      "{}\n"
     ]
    }
   ],
   "source": [
    "# Using braces\n",
    "person = {\n",
    "    \"name\": \"Alice\",\n",
    "    \"age\": 30,\n",
    "    \"city\": \"New York\"\n",
    "}\n",
    "print(person)\n",
    "\n",
    "# Using dict() constructor\n",
    "car = dict(brand=\"Tesla\", model=\"Model 3\", year=2023)\n",
    "print(car)\n",
    "\n",
    "\n",
    "# Empty dictionary\n",
    "empty_dict = {}\n",
    "print(empty_dict)\n"
   ]
  },
  {
   "cell_type": "markdown",
   "id": "b056ba83",
   "metadata": {},
   "source": [
    "### Accessing and Modifying Values\n",
    "\n",
    "Access values by their keys using square bracket notation `[key]` or the `.get(key)` method."
   ]
  },
  {
   "cell_type": "code",
   "execution_count": 53,
   "id": "041a8fb6",
   "metadata": {},
   "outputs": [
    {
     "name": "stdout",
     "output_type": "stream",
     "text": [
      "Alice\n",
      "Alice\n",
      "{'name': 'Alice', 'age': 31, 'city': 'New York'}\n",
      "{'name': 'Alice', 'age': 31, 'city': 'New York', 'job': 'Engineer'}\n"
     ]
    }
   ],
   "source": [
    "person = {\"name\": \"Alice\", \"age\": 30, \"city\": \"New York\"}\n",
    "\n",
    "# Access value\n",
    "print(person[\"name\"])           \n",
    "print(person.get(\"name\"))        \n",
    "\n",
    "# Modify value\n",
    "person[\"age\"] = 31\n",
    "print(person)                    \n",
    "\n",
    "# Add new key-value pair\n",
    "person[\"job\"] = \"Engineer\"\n",
    "print(person)                    \n"
   ]
  },
  {
   "cell_type": "markdown",
   "id": "0db802e7",
   "metadata": {},
   "source": [
    "### Removing Keys\n",
    "\n",
    "* `pop(key)`: Removes and returns the value for key.\n",
    "* `del dictionary[key]`: Removes the key-value pair.\n",
    "* `popitem()`: Removes and returns an arbitrary key-value pair (in Python 3.7+, it removes the last inserted item).\n",
    "* `clear()`: Removes all items."
   ]
  },
  {
   "cell_type": "code",
   "execution_count": 54,
   "id": "1c9eb0d6",
   "metadata": {},
   "outputs": [
    {
     "name": "stdout",
     "output_type": "stream",
     "text": [
      "30\n",
      "{'name': 'Alice', 'city': 'New York'}\n",
      "{'city': 'New York'}\n",
      "{}\n",
      "{}\n"
     ]
    }
   ],
   "source": [
    "person = {\"name\": \"Alice\", \"age\": 30, \"city\": \"New York\"}\n",
    "\n",
    "age = person.pop(\"age\")\n",
    "print(age)         # 30\n",
    "print(person)      # {\"name\": \"Alice\", \"city\": \"New York\"}\n",
    "\n",
    "del person[\"name\"]\n",
    "print(person)      # {\"city\": \"New York\"}\n",
    "\n",
    "person.popitem()\n",
    "print(person)      # {} (now empty)\n",
    "\n",
    "person.clear()\n",
    "print(person)      # {}\n"
   ]
  },
  {
   "cell_type": "markdown",
   "id": "72e4d713",
   "metadata": {},
   "source": [
    "### Iterating over elements of a dictionary"
   ]
  },
  {
   "cell_type": "markdown",
   "id": "5a940c79",
   "metadata": {},
   "source": [
    "Use the following dictionary methods to retrieve all key and values at once:\n",
    "\n",
    "\n",
    "* `keys()`:  Returns the list of all keys present in the dictionary.\n",
    "* `values()`: Returns the list of all values present in the dictionary\n",
    "* `items()`: Returns all the items present in the dictionary. Each item will be inside a tuple as a key-value pair."
   ]
  },
  {
   "cell_type": "code",
   "execution_count": 58,
   "id": "3f028ec6",
   "metadata": {},
   "outputs": [
    {
     "name": "stdout",
     "output_type": "stream",
     "text": [
      "dict_keys(['apple', 'banana', 'cherry'])\n",
      "dict_values([3, 5, 2])\n",
      "The Head of State of apple is 3\n",
      "The Head of State of banana is 5\n",
      "The Head of State of cherry is 2\n"
     ]
    }
   ],
   "source": [
    "fruits = {\"apple\": 3, \"banana\": 5, \"cherry\": 2}\n",
    "print(fruits.keys())  \n",
    "print(fruits.values()) \n",
    "\n",
    "for key,value in fruits.items():\n",
    "    print(\"The Head of State of\",key,\"is\",value)"
   ]
  },
  {
   "cell_type": "markdown",
   "id": "5db845a1",
   "metadata": {},
   "source": [
    "### Practice exercise 6"
   ]
  },
  {
   "cell_type": "markdown",
   "id": "a518610c",
   "metadata": {},
   "source": [
    "The GDP per capita of USA for most years from 1960 to 2021 is given by the dictionary `D` given in the code cell below.\n",
    "\n",
    "Find:\n",
    "\n",
    "1. The GDP per capita in 2015\n",
    "2. The GDP per capita of 2014 is missing. Update the dictionary to include the GDP per capita of 2014 as the average of the GDP per capita of 2013 and 2015.\n",
    "3. Impute the GDP per capita of other missing years in the same manner as in (2), i.e., as the average GDP per capita of the previous year and the next year. Note that the GDP per capita is not missing for any two consecutive years.\n",
    "4. Print the years and the imputed GDP per capita for the years having a missing value of GDP per capita in (3)."
   ]
  },
  {
   "cell_type": "code",
   "execution_count": 1,
   "id": "4372dcfb",
   "metadata": {},
   "outputs": [],
   "source": [
    "D = {'1960':3007,'1961':3067,'1962':3244,'1963':3375,'1964':3574,'1965':3828,'1966':4146,'1967':4336,'1968':4696,'1970':5234,'1971':5609,'1972':6094,'1973':6726,'1974':7226,'1975':7801,'1976':8592,'1978':10565,'1979':11674,\t'1980':12575,'1981':13976,'1982':14434,'1983':15544,'1984':17121,'1985':18237,\t'1986':19071,'1987':20039,'1988':21417,'1989':22857,'1990':23889,'1991':24342,\t'1992':25419,'1993':26387,'1994':27695,'1995':28691,'1996':29968,'1997':31459,\t'1998':32854,'2000':36330,'2001':37134,'2002':37998,'2003':39490,'2004':41725,\t'2005':44123,'2006':46302,'2007':48050,'2008':48570,'2009':47195,'2010':48651,\t'2011':50066,'2012':51784,'2013':53291,'2015':56763,'2016':57867,'2017':59915,'2018':62805,\t'2019':65095,'2020':63028,'2021':69288}"
   ]
  },
  {
   "cell_type": "markdown",
   "id": "6d3875fb",
   "metadata": {},
   "source": [
    "**Solution:**"
   ]
  },
  {
   "cell_type": "code",
   "execution_count": 2,
   "id": "e9a4c361",
   "metadata": {},
   "outputs": [
    {
     "name": "stdout",
     "output_type": "stream",
     "text": [
      "GDP per capita in 2015 = 56763\n",
      "Imputed GDP per capita for the year 1969 is $ 4965.0\n",
      "Imputed GDP per capita for the year 1977 is $ 9578.5\n",
      "Imputed GDP per capita for the year 1999 is $ 34592.0\n"
     ]
    }
   ],
   "source": [
    "print(\"GDP per capita in 2015 =\", D['2015'])\n",
    "D['2014'] = (D['2013']+D['2015'])/2\n",
    "\n",
    "#Iterating over all years from 1960 to 2021\n",
    "for i in range(1960,2021):\n",
    "    \n",
    "    #Imputing the GDP of the year if it is missing\n",
    "    if str(i) not in D.keys():    \n",
    "        D[str(i)] = (D[str(i-1)]+D[str(i+1)])/2\n",
    "        print(\"Imputed GDP per capita for the year\",i,\"is $\",D[str(i)])"
   ]
  },
  {
   "cell_type": "markdown",
   "id": "23e5a8e0",
   "metadata": {},
   "source": [
    "### Practice exercise 7"
   ]
  },
  {
   "cell_type": "markdown",
   "id": "1ae4ca4a",
   "metadata": {},
   "source": [
    "The code cell below defines an object having the nutrition information of drinks in starbucks. Assume that the manner in which the information is structured is consistent throughout the object."
   ]
  },
  {
   "cell_type": "code",
   "execution_count": 1,
   "id": "d32e9f61",
   "metadata": {},
   "outputs": [],
   "source": [
    "starbucks_drinks_nutrition={'Cool Lime Starbucks Refreshers™ Beverage': [{'Nutrition_type': 'Calories', 'value': 45}, {'Nutrition_type': 'Fat', 'value': 0.0}, {'Nutrition_type': 'Carb', 'value': 11}, {'Nutrition_type': 'Fiber', 'value': 0}, {'Nutrition_type': 'Protein', 'value': 0}, {'Nutrition_type': 'Sodium', 'value': 10}], 'Strawberry Acai Starbucks Refreshers™ Beverage': [{'Nutrition_type': 'Calories', 'value': 80}, {'Nutrition_type': 'Fat', 'value': 0.0}, {'Nutrition_type': 'Carb', 'value': 18}, {'Nutrition_type': 'Fiber', 'value': 1}, {'Nutrition_type': 'Protein', 'value': 0}, {'Nutrition_type': 'Sodium', 'value': 10}], 'Very Berry Hibiscus Starbucks Refreshers™ Beverage': [{'Nutrition_type': 'Calories', 'value': 60}, {'Nutrition_type': 'Fat', 'value': 0.0}, {'Nutrition_type': 'Carb', 'value': 14}, {'Nutrition_type': 'Fiber', 'value': 1}, {'Nutrition_type': 'Protein', 'value': 0}, {'Nutrition_type': 'Sodium', 'value': 10}], 'Evolution Fresh™ Organic Ginger Limeade': [{'Nutrition_type': 'Calories', 'value': 110}, {'Nutrition_type': 'Fat', 'value': 0.0}, {'Nutrition_type': 'Carb', 'value': 28}, {'Nutrition_type': 'Fiber', 'value': 0}, {'Nutrition_type': 'Protein', 'value': 0}, {'Nutrition_type': 'Sodium', 'value': 5}], 'Iced Coffee': [{'Nutrition_type': 'Calories', 'value': 5}, {'Nutrition_type': 'Fat', 'value': 0.0}, {'Nutrition_type': 'Carb', 'value': 0}, {'Nutrition_type': 'Fiber', 'value': 0}, {'Nutrition_type': 'Protein', 'value': 0}, {'Nutrition_type': 'Sodium', 'value': 5}], 'Iced Espresso Classics - Vanilla Latte': [{'Nutrition_type': 'Calories', 'value': 130}, {'Nutrition_type': 'Fat', 'value': 2.5}, {'Nutrition_type': 'Carb', 'value': 21}, {'Nutrition_type': 'Fiber', 'value': 0}, {'Nutrition_type': 'Protein', 'value': 5}, {'Nutrition_type': 'Sodium', 'value': 65}], 'Iced Espresso Classics - Caffe Mocha': [{'Nutrition_type': 'Calories', 'value': 140}, {'Nutrition_type': 'Fat', 'value': 2.5}, {'Nutrition_type': 'Carb', 'value': 23}, {'Nutrition_type': 'Fiber', 'value': 0}, {'Nutrition_type': 'Protein', 'value': 5}, {'Nutrition_type': 'Sodium', 'value': 90}], 'Iced Espresso Classics - Caramel Macchiato': [{'Nutrition_type': 'Calories', 'value': 130}, {'Nutrition_type': 'Fat', 'value': 2.5}, {'Nutrition_type': 'Carb', 'value': 21}, {'Nutrition_type': 'Fiber', 'value': 0}, {'Nutrition_type': 'Protein', 'value': 5}, {'Nutrition_type': 'Sodium', 'value': 65}], 'Shaken Sweet Tea': [{'Nutrition_type': 'Calories', 'value': 80}, {'Nutrition_type': 'Fat', 'value': 0.0}, {'Nutrition_type': 'Carb', 'value': 19}, {'Nutrition_type': 'Fiber', 'value': 0}, {'Nutrition_type': 'Protein', 'value': 0}, {'Nutrition_type': 'Sodium', 'value': 10}], 'Tazo® Bottled Berry Blossom White': [{'Nutrition_type': 'Calories', 'value': 60}, {'Nutrition_type': 'Fat', 'value': 0.0}, {'Nutrition_type': 'Carb', 'value': 15}, {'Nutrition_type': 'Fiber', 'value': 0}, {'Nutrition_type': 'Protein', 'value': 0}, {'Nutrition_type': 'Sodium', 'value': 10}], 'Tazo® Bottled Black Mango': [{'Nutrition_type': 'Calories', 'value': 150}, {'Nutrition_type': 'Fat', 'value': 0.0}, {'Nutrition_type': 'Carb', 'value': 38}, {'Nutrition_type': 'Fiber', 'value': 0}, {'Nutrition_type': 'Protein', 'value': 0}, {'Nutrition_type': 'Sodium', 'value': 15}], 'Tazo® Bottled Black with Lemon': [{'Nutrition_type': 'Calories', 'value': 140}, {'Nutrition_type': 'Fat', 'value': 0.0}, {'Nutrition_type': 'Carb', 'value': 35}, {'Nutrition_type': 'Fiber', 'value': 0}, {'Nutrition_type': 'Protein', 'value': 0}, {'Nutrition_type': 'Sodium', 'value': 10}], 'Tazo® Bottled Brambleberry': [{'Nutrition_type': 'Calories', 'value': 140}, {'Nutrition_type': 'Fat', 'value': 0.0}, {'Nutrition_type': 'Carb', 'value': 35}, {'Nutrition_type': 'Fiber', 'value': 0}, {'Nutrition_type': 'Protein', 'value': 0}, {'Nutrition_type': 'Sodium', 'value': 15}], 'Tazo® Bottled Giant Peach': [{'Nutrition_type': 'Calories', 'value': 150}, {'Nutrition_type': 'Fat', 'value': 0.0}, {'Nutrition_type': 'Carb', 'value': 37}, {'Nutrition_type': 'Fiber', 'value': 0}, {'Nutrition_type': 'Protein', 'value': 0}, {'Nutrition_type': 'Sodium', 'value': 15}], 'Tazo® Bottled Iced Passion': [{'Nutrition_type': 'Calories', 'value': 70}, {'Nutrition_type': 'Fat', 'value': 0.0}, {'Nutrition_type': 'Carb', 'value': 17}, {'Nutrition_type': 'Fiber', 'value': 0}, {'Nutrition_type': 'Protein', 'value': 0}, {'Nutrition_type': 'Sodium', 'value': 10}], 'Tazo® Bottled Lemon Ginger': [{'Nutrition_type': 'Calories', 'value': 120}, {'Nutrition_type': 'Fat', 'value': 0.0}, {'Nutrition_type': 'Carb', 'value': 31}, {'Nutrition_type': 'Fiber', 'value': 0}, {'Nutrition_type': 'Protein', 'value': 0}, {'Nutrition_type': 'Sodium', 'value': 10}], 'Tazo® Bottled Organic Black Lemonade': [{'Nutrition_type': 'Calories', 'value': 140}, {'Nutrition_type': 'Fat', 'value': 0.0}, {'Nutrition_type': 'Carb', 'value': 35}, {'Nutrition_type': 'Fiber', 'value': 0}, {'Nutrition_type': 'Protein', 'value': 0}, {'Nutrition_type': 'Sodium', 'value': 10}], 'Tazo® Bottled Organic Iced Black Tea': [{'Nutrition_type': 'Calories', 'value': 60}, {'Nutrition_type': 'Fat', 'value': 0.0}, {'Nutrition_type': 'Carb', 'value': 15}, {'Nutrition_type': 'Fiber', 'value': 0}, {'Nutrition_type': 'Protein', 'value': 0}, {'Nutrition_type': 'Sodium', 'value': 10}], 'Tazo® Bottled Organic Iced Green Tea': [{'Nutrition_type': 'Calories', 'value': 120}, {'Nutrition_type': 'Fat', 'value': 0.0}, {'Nutrition_type': 'Carb', 'value': 31}, {'Nutrition_type': 'Fiber', 'value': 0}, {'Nutrition_type': 'Protein', 'value': 0}, {'Nutrition_type': 'Sodium', 'value': 10}], 'Tazo® Bottled Plum Pomegranate': [{'Nutrition_type': 'Calories', 'value': 140}, {'Nutrition_type': 'Fat', 'value': 0.0}, {'Nutrition_type': 'Carb', 'value': 35}, {'Nutrition_type': 'Fiber', 'value': 0}, {'Nutrition_type': 'Protein', 'value': 0}, {'Nutrition_type': 'Sodium', 'value': 10}], 'Tazo® Bottled Tazoberry': [{'Nutrition_type': 'Calories', 'value': 150}, {'Nutrition_type': 'Fat', 'value': 0.0}, {'Nutrition_type': 'Carb', 'value': 38}, {'Nutrition_type': 'Fiber', 'value': 0}, {'Nutrition_type': 'Protein', 'value': 0}, {'Nutrition_type': 'Sodium', 'value': 15}], 'Tazo® Bottled White Cranberry': [{'Nutrition_type': 'Calories', 'value': 140}, {'Nutrition_type': 'Fat', 'value': 0.0}, {'Nutrition_type': 'Carb', 'value': 35}, {'Nutrition_type': 'Fiber', 'value': 0}, {'Nutrition_type': 'Protein', 'value': 0}, {'Nutrition_type': 'Sodium', 'value': 10}], 'Teavana® Shaken Iced Black Tea': [{'Nutrition_type': 'Calories', 'value': 30}, {'Nutrition_type': 'Fat', 'value': 0.0}, {'Nutrition_type': 'Carb', 'value': 8}, {'Nutrition_type': 'Fiber', 'value': 0}, {'Nutrition_type': 'Protein', 'value': 0}, {'Nutrition_type': 'Sodium', 'value': 5}], 'Teavana® Shaken Iced Black Tea Lemonade': [{'Nutrition_type': 'Calories', 'value': 70}, {'Nutrition_type': 'Fat', 'value': 0.0}, {'Nutrition_type': 'Carb', 'value': 17}, {'Nutrition_type': 'Fiber', 'value': 0}, {'Nutrition_type': 'Protein', 'value': 0}, {'Nutrition_type': 'Sodium', 'value': 0}], 'Teavana® Shaken Iced Green Tea': [{'Nutrition_type': 'Calories', 'value': 30}, {'Nutrition_type': 'Fat', 'value': 0.0}, {'Nutrition_type': 'Carb', 'value': 8}, {'Nutrition_type': 'Fiber', 'value': 0}, {'Nutrition_type': 'Protein', 'value': 0}, {'Nutrition_type': 'Sodium', 'value': 5}], 'Teavana® Shaken Iced Green Tea Lemonade': [{'Nutrition_type': 'Calories', 'value': 70}, {'Nutrition_type': 'Fat', 'value': 0.0}, {'Nutrition_type': 'Carb', 'value': 17}, {'Nutrition_type': 'Fiber', 'value': 0}, {'Nutrition_type': 'Protein', 'value': 0}, {'Nutrition_type': 'Sodium', 'value': 5}], 'Teavana® Shaken Iced Passion Tango™ Tea': [{'Nutrition_type': 'Calories', 'value': 30}, {'Nutrition_type': 'Fat', 'value': 0.0}, {'Nutrition_type': 'Carb', 'value': 8}, {'Nutrition_type': 'Fiber', 'value': 0}, {'Nutrition_type': 'Protein', 'value': 0}, {'Nutrition_type': 'Sodium', 'value': 5}], 'Teavana® Shaken Iced Passion Tango™ Tea Lemonade': [{'Nutrition_type': 'Calories', 'value': 90}, {'Nutrition_type': 'Fat', 'value': 0.0}, {'Nutrition_type': 'Carb', 'value': 24}, {'Nutrition_type': 'Fiber', 'value': 0}, {'Nutrition_type': 'Protein', 'value': 0}, {'Nutrition_type': 'Sodium', 'value': 0}], 'Teavana® Shaken Iced Peach Green Tea': [{'Nutrition_type': 'Calories', 'value': 60}, {'Nutrition_type': 'Fat', 'value': 0.0}, {'Nutrition_type': 'Carb', 'value': 15}, {'Nutrition_type': 'Fiber', 'value': 0}, {'Nutrition_type': 'Protein', 'value': 0}, {'Nutrition_type': 'Sodium', 'value': 0}], 'Starbucks Refreshers™ Raspberry Pomegranate': [{'Nutrition_type': 'Calories', 'value': 90}, {'Nutrition_type': 'Fat', 'value': 0.0}, {'Nutrition_type': 'Carb', 'value': 27}, {'Nutrition_type': 'Fiber', 'value': 0}, {'Nutrition_type': 'Protein', 'value': 0}, {'Nutrition_type': 'Sodium', 'value': 0}], 'Starbucks Refreshers™ Strawberry Lemonade': [{'Nutrition_type': 'Calories', 'value': 90}, {'Nutrition_type': 'Fat', 'value': 0.0}, {'Nutrition_type': 'Carb', 'value': 27}, {'Nutrition_type': 'Fiber', 'value': 0}, {'Nutrition_type': 'Protein', 'value': 0}, {'Nutrition_type': 'Sodium', 'value': 0}], 'Starbucks® Doubleshot Protein Dark Chocolate': [{'Nutrition_type': 'Calories', 'value': 210}, {'Nutrition_type': 'Fat', 'value': 2.5}, {'Nutrition_type': 'Carb', 'value': 33}, {'Nutrition_type': 'Fiber', 'value': 2}, {'Nutrition_type': 'Protein', 'value': 20}, {'Nutrition_type': 'Sodium', 'value': 115}], 'Starbucks® Doubleshot Protein Vanilla': [{'Nutrition_type': 'Calories', 'value': 200}, {'Nutrition_type': 'Fat', 'value': 2.5}, {'Nutrition_type': 'Carb', 'value': 34}, {'Nutrition_type': 'Fiber', 'value': 2}, {'Nutrition_type': 'Protein', 'value': 20}, {'Nutrition_type': 'Sodium', 'value': 120}], 'Starbucks® Iced Coffee Caramel': [{'Nutrition_type': 'Calories', 'value': 60}, {'Nutrition_type': 'Fat', 'value': 0.0}, {'Nutrition_type': 'Carb', 'value': 13}, {'Nutrition_type': 'Fiber', 'value': 0}, {'Nutrition_type': 'Protein', 'value': 1}, {'Nutrition_type': 'Sodium', 'value': 0}], 'Starbucks® Iced Coffee Light Sweetened': [{'Nutrition_type': 'Calories', 'value': 50}, {'Nutrition_type': 'Fat', 'value': 0.0}, {'Nutrition_type': 'Carb', 'value': 11}, {'Nutrition_type': 'Fiber', 'value': 0}, {'Nutrition_type': 'Protein', 'value': 1}, {'Nutrition_type': 'Sodium', 'value': 0}], 'Starbucks® Iced Coffee Unsweetened': [{'Nutrition_type': 'Calories', 'value': 10}, {'Nutrition_type': 'Fat', 'value': 0.0}, {'Nutrition_type': 'Carb', 'value': 2}, {'Nutrition_type': 'Fiber', 'value': 0}, {'Nutrition_type': 'Protein', 'value': 1}, {'Nutrition_type': 'Sodium', 'value': 0}], 'Blonde Roast': [{'Nutrition_type': 'Calories', 'value': 5}, {'Nutrition_type': 'Fat', 'value': 0.0}, {'Nutrition_type': 'Carb', 'value': 0}, {'Nutrition_type': 'Fiber', 'value': 0}, {'Nutrition_type': 'Protein', 'value': 1}, {'Nutrition_type': 'Sodium', 'value': 10}], 'Clover® Brewed Coffee': [{'Nutrition_type': 'Calories', 'value': 10}, {'Nutrition_type': 'Fat', 'value': 0.0}, {'Nutrition_type': 'Carb', 'value': 0}, {'Nutrition_type': 'Fiber', 'value': 0}, {'Nutrition_type': 'Protein', 'value': 1}, {'Nutrition_type': 'Sodium', 'value': 10}], 'Decaf Pike Place® Roast': [{'Nutrition_type': 'Calories', 'value': 5}, {'Nutrition_type': 'Fat', 'value': 0.0}, {'Nutrition_type': 'Carb', 'value': 0}, {'Nutrition_type': 'Fiber', 'value': 0}, {'Nutrition_type': 'Protein', 'value': 1}, {'Nutrition_type': 'Sodium', 'value': 10}], 'Featured Dark Roast': [{'Nutrition_type': 'Calories', 'value': 5}, {'Nutrition_type': 'Fat', 'value': 0.0}, {'Nutrition_type': 'Carb', 'value': 0}, {'Nutrition_type': 'Fiber', 'value': 0}, {'Nutrition_type': 'Protein', 'value': 1}, {'Nutrition_type': 'Sodium', 'value': 10}], 'Nariño 70 Cold Brew': [{'Nutrition_type': 'Calories', 'value': 5}, {'Nutrition_type': 'Fat', 'value': 0.0}, {'Nutrition_type': 'Carb', 'value': 0}, {'Nutrition_type': 'Fiber', 'value': 0}, {'Nutrition_type': 'Protein', 'value': 0}, {'Nutrition_type': 'Sodium', 'value': 15}], 'Nariño 70 Cold Brew with Milk': [{'Nutrition_type': 'Calories', 'value': 0}, {'Nutrition_type': 'Fat', 'value': 0.0}, {'Nutrition_type': 'Carb', 'value': 0}, {'Nutrition_type': 'Fiber', 'value': 0}, {'Nutrition_type': 'Protein', 'value': 0}, {'Nutrition_type': 'Sodium', 'value': 0}], 'Nitro Cold Brew': [{'Nutrition_type': 'Calories', 'value': 5}, {'Nutrition_type': 'Fat', 'value': 0.0}, {'Nutrition_type': 'Carb', 'value': 0}, {'Nutrition_type': 'Fiber', 'value': 0}, {'Nutrition_type': 'Protein', 'value': 0}, {'Nutrition_type': 'Sodium', 'value': 10}], 'Nitro Cold Brew with Sweet Cream': [{'Nutrition_type': 'Calories', 'value': 70}, {'Nutrition_type': 'Fat', 'value': 5.0}, {'Nutrition_type': 'Carb', 'value': 5}, {'Nutrition_type': 'Fiber', 'value': 0}, {'Nutrition_type': 'Protein', 'value': 1}, {'Nutrition_type': 'Sodium', 'value': 20}], 'Pike Place® Roast': [{'Nutrition_type': 'Calories', 'value': 5}, {'Nutrition_type': 'Fat', 'value': 0.0}, {'Nutrition_type': 'Carb', 'value': 0}, {'Nutrition_type': 'Fiber', 'value': 0}, {'Nutrition_type': 'Protein', 'value': 1}, {'Nutrition_type': 'Sodium', 'value': 10}], 'Vanilla Sweet Cream Cold Brew': [{'Nutrition_type': 'Calories', 'value': 110}, {'Nutrition_type': 'Fat', 'value': 6.0}, {'Nutrition_type': 'Carb', 'value': 14}, {'Nutrition_type': 'Fiber', 'value': 0}, {'Nutrition_type': 'Protein', 'value': 1}, {'Nutrition_type': 'Sodium', 'value': 25}], 'Hot Chocolate': [{'Nutrition_type': 'Calories', 'value': 320}, {'Nutrition_type': 'Fat', 'value': 9.0}, {'Nutrition_type': 'Carb', 'value': 47}, {'Nutrition_type': 'Fiber', 'value': 4}, {'Nutrition_type': 'Protein', 'value': 14}, {'Nutrition_type': 'Sodium', 'value': 160}], 'Starbucks® Signature Hot Chocolate': [{'Nutrition_type': 'Calories', 'value': 430}, {'Nutrition_type': 'Fat', 'value': 26.0}, {'Nutrition_type': 'Carb', 'value': 45}, {'Nutrition_type': 'Fiber', 'value': 5}, {'Nutrition_type': 'Protein', 'value': 12}, {'Nutrition_type': 'Sodium', 'value': 115}], 'Caffè Latte': [{'Nutrition_type': 'Calories', 'value': 190}, {'Nutrition_type': 'Fat', 'value': 7.0}, {'Nutrition_type': 'Carb', 'value': 19}, {'Nutrition_type': 'Fiber', 'value': 0}, {'Nutrition_type': 'Protein', 'value': 13}, {'Nutrition_type': 'Sodium', 'value': 170}], 'Caffè Mocha': [{'Nutrition_type': 'Calories', 'value': 290}, {'Nutrition_type': 'Fat', 'value': 8.0}, {'Nutrition_type': 'Carb', 'value': 42}, {'Nutrition_type': 'Fiber', 'value': 4}, {'Nutrition_type': 'Protein', 'value': 13}, {'Nutrition_type': 'Sodium', 'value': 140}], 'Cappuccino': [{'Nutrition_type': 'Calories', 'value': 120}, {'Nutrition_type': 'Fat', 'value': 4.0}, {'Nutrition_type': 'Carb', 'value': 12}, {'Nutrition_type': 'Fiber', 'value': 0}, {'Nutrition_type': 'Protein', 'value': 8}, {'Nutrition_type': 'Sodium', 'value': 100}], 'Caramel Macchiato': [{'Nutrition_type': 'Calories', 'value': 250}, {'Nutrition_type': 'Fat', 'value': 7.0}, {'Nutrition_type': 'Carb', 'value': 35}, {'Nutrition_type': 'Fiber', 'value': 0}, {'Nutrition_type': 'Protein', 'value': 10}, {'Nutrition_type': 'Sodium', 'value': 150}], 'Cinnamon Dolce Latte': [{'Nutrition_type': 'Calories', 'value': 260}, {'Nutrition_type': 'Fat', 'value': 6.0}, {'Nutrition_type': 'Carb', 'value': 40}, {'Nutrition_type': 'Fiber', 'value': 0}, {'Nutrition_type': 'Protein', 'value': 11}, {'Nutrition_type': 'Sodium', 'value': 150}], 'Coconutmilk Mocha Macchiato': [{'Nutrition_type': 'Calories', 'value': 250}, {'Nutrition_type': 'Fat', 'value': 9.0}, {'Nutrition_type': 'Carb', 'value': 32}, {'Nutrition_type': 'Fiber', 'value': 0}, {'Nutrition_type': 'Protein', 'value': 12}, {'Nutrition_type': 'Sodium', 'value': 180}], 'Flat White': [{'Nutrition_type': 'Calories', 'value': 180}, {'Nutrition_type': 'Fat', 'value': 7.0}, {'Nutrition_type': 'Carb', 'value': 18}, {'Nutrition_type': 'Fiber', 'value': 0}, {'Nutrition_type': 'Protein', 'value': 12}, {'Nutrition_type': 'Sodium', 'value': 160}], 'Iced Caffè Latte': [{'Nutrition_type': 'Calories', 'value': 130}, {'Nutrition_type': 'Fat', 'value': 4.5}, {'Nutrition_type': 'Carb', 'value': 13}, {'Nutrition_type': 'Fiber', 'value': 0}, {'Nutrition_type': 'Protein', 'value': 8}, {'Nutrition_type': 'Sodium', 'value': 115}], 'Iced Caffè Mocha': [{'Nutrition_type': 'Calories', 'value': 230}, {'Nutrition_type': 'Fat', 'value': 6.0}, {'Nutrition_type': 'Carb', 'value': 36}, {'Nutrition_type': 'Fiber', 'value': 4}, {'Nutrition_type': 'Protein', 'value': 9}, {'Nutrition_type': 'Sodium', 'value': 90}], 'Iced Caramel Macchiato': [{'Nutrition_type': 'Calories', 'value': 250}, {'Nutrition_type': 'Fat', 'value': 7.0}, {'Nutrition_type': 'Carb', 'value': 37}, {'Nutrition_type': 'Fiber', 'value': 0}, {'Nutrition_type': 'Protein', 'value': 10}, {'Nutrition_type': 'Sodium', 'value': 150}], 'Iced Cinnamon Dolce Latte': [{'Nutrition_type': 'Calories', 'value': 200}, {'Nutrition_type': 'Fat', 'value': 4.0}, {'Nutrition_type': 'Carb', 'value': 34}, {'Nutrition_type': 'Fiber', 'value': 0}, {'Nutrition_type': 'Protein', 'value': 7}, {'Nutrition_type': 'Sodium', 'value': 95}], 'Iced Coconutmilk Mocha Macchiato': [{'Nutrition_type': 'Calories', 'value': 260}, {'Nutrition_type': 'Fat', 'value': 9.0}, {'Nutrition_type': 'Carb', 'value': 34}, {'Nutrition_type': 'Fiber', 'value': 0}, {'Nutrition_type': 'Protein', 'value': 11}, {'Nutrition_type': 'Sodium', 'value': 180}], 'Iced Vanilla Latte': [{'Nutrition_type': 'Calories', 'value': 190}, {'Nutrition_type': 'Fat', 'value': 4.0}, {'Nutrition_type': 'Carb', 'value': 30}, {'Nutrition_type': 'Fiber', 'value': 0}, {'Nutrition_type': 'Protein', 'value': 7}, {'Nutrition_type': 'Sodium', 'value': 100}], 'Iced White Chocolate Mocha': [{'Nutrition_type': 'Calories', 'value': 300}, {'Nutrition_type': 'Fat', 'value': 8.0}, {'Nutrition_type': 'Carb', 'value': 47}, {'Nutrition_type': 'Fiber', 'value': 0}, {'Nutrition_type': 'Protein', 'value': 10}, {'Nutrition_type': 'Sodium', 'value': 190}], 'Latte Macchiato': [{'Nutrition_type': 'Calories', 'value': 190}, {'Nutrition_type': 'Fat', 'value': 7.0}, {'Nutrition_type': 'Carb', 'value': 19}, {'Nutrition_type': 'Fiber', 'value': 0}, {'Nutrition_type': 'Protein', 'value': 12}, {'Nutrition_type': 'Sodium', 'value': 160}], 'Starbucks Doubleshot® on Ice Beverage': [{'Nutrition_type': 'Calories', 'value': 45}, {'Nutrition_type': 'Fat', 'value': 1.0}, {'Nutrition_type': 'Carb', 'value': 5}, {'Nutrition_type': 'Fiber', 'value': 0}, {'Nutrition_type': 'Protein', 'value': 3}, {'Nutrition_type': 'Sodium', 'value': 40}], 'Vanilla Latte': [{'Nutrition_type': 'Calories', 'value': 250}, {'Nutrition_type': 'Fat', 'value': 6.0}, {'Nutrition_type': 'Carb', 'value': 37}, {'Nutrition_type': 'Fiber', 'value': 0}, {'Nutrition_type': 'Protein', 'value': 12}, {'Nutrition_type': 'Sodium', 'value': 150}], 'White Chocolate Mocha': [{'Nutrition_type': 'Calories', 'value': 360}, {'Nutrition_type': 'Fat', 'value': 11.0}, {'Nutrition_type': 'Carb', 'value': 53}, {'Nutrition_type': 'Fiber', 'value': 0}, {'Nutrition_type': 'Protein', 'value': 14}, {'Nutrition_type': 'Sodium', 'value': 240}], 'Cinnamon Dolce Frappuccino® Blended Coffee': [{'Nutrition_type': 'Calories', 'value': 350}, {'Nutrition_type': 'Fat', 'value': 4.5}, {'Nutrition_type': 'Carb', 'value': 64}, {'Nutrition_type': 'Fiber', 'value': 0}, {'Nutrition_type': 'Protein', 'value': 15}, {'Nutrition_type': 'Sodium', 'value': 0}], 'Coffee Light Frappuccino® Blended Coffee': [{'Nutrition_type': 'Calories', 'value': 110}, {'Nutrition_type': 'Fat', 'value': 0.0}, {'Nutrition_type': 'Carb', 'value': 24}, {'Nutrition_type': 'Fiber', 'value': 0}, {'Nutrition_type': 'Protein', 'value': 3}, {'Nutrition_type': 'Sodium', 'value': 200}], 'Mocha Frappuccino® Blended Coffee': [{'Nutrition_type': 'Calories', 'value': 280}, {'Nutrition_type': 'Fat', 'value': 2.5}, {'Nutrition_type': 'Carb', 'value': 60}, {'Nutrition_type': 'Fiber', 'value': 2}, {'Nutrition_type': 'Protein', 'value': 4}, {'Nutrition_type': 'Sodium', 'value': 220}], 'Mocha Light Frappuccino® Blended Coffee': [{'Nutrition_type': 'Calories', 'value': 140}, {'Nutrition_type': 'Fat', 'value': 0.5}, {'Nutrition_type': 'Carb', 'value': 28}, {'Nutrition_type': 'Fiber', 'value': 1}, {'Nutrition_type': 'Protein', 'value': 4}, {'Nutrition_type': 'Sodium', 'value': 180}], 'Cinnamon Dolce Crème': [{'Nutrition_type': 'Calories', 'value': 200}, {'Nutrition_type': 'Fat', 'value': 6.0}, {'Nutrition_type': 'Carb', 'value': 28}, {'Nutrition_type': 'Fiber', 'value': 0}, {'Nutrition_type': 'Protein', 'value': 10}, {'Nutrition_type': 'Sodium', 'value': 135}], 'Vanilla Crème': [{'Nutrition_type': 'Calories', 'value': 200}, {'Nutrition_type': 'Fat', 'value': 6.0}, {'Nutrition_type': 'Carb', 'value': 28}, {'Nutrition_type': 'Fiber', 'value': 0}, {'Nutrition_type': 'Protein', 'value': 10}, {'Nutrition_type': 'Sodium', 'value': 135}], 'Chocolate Smoothie': [{'Nutrition_type': 'Calories', 'value': 320}, {'Nutrition_type': 'Fat', 'value': 5.0}, {'Nutrition_type': 'Carb', 'value': 53}, {'Nutrition_type': 'Fiber', 'value': 8}, {'Nutrition_type': 'Protein', 'value': 20}, {'Nutrition_type': 'Sodium', 'value': 170}], 'Strawberry Smoothie': [{'Nutrition_type': 'Calories', 'value': 300}, {'Nutrition_type': 'Fat', 'value': 2.0}, {'Nutrition_type': 'Carb', 'value': 60}, {'Nutrition_type': 'Fiber', 'value': 7}, {'Nutrition_type': 'Protein', 'value': 16}, {'Nutrition_type': 'Sodium', 'value': 130}]}"
   ]
  },
  {
   "cell_type": "markdown",
   "id": "735b58c3",
   "metadata": {},
   "source": [
    "Use the object above to answer the following questions:"
   ]
  },
  {
   "cell_type": "markdown",
   "id": "301cddfa",
   "metadata": {},
   "source": [
    "### \n",
    "What is the datatype of the object?"
   ]
  },
  {
   "cell_type": "markdown",
   "id": "5b3fc05e",
   "metadata": {},
   "source": [
    "#### \n",
    "If the object in (1) is a dictionary, what is the datatype of the values of the dictionary?"
   ]
  },
  {
   "cell_type": "code",
   "execution_count": null,
   "id": "290b1a5e",
   "metadata": {},
   "outputs": [],
   "source": []
  },
  {
   "cell_type": "markdown",
   "id": "887a941c",
   "metadata": {},
   "source": [
    "#### \n",
    "If the object in (1) is a dictionary, what is the datatype of the elements within the values of the dictionary?"
   ]
  },
  {
   "cell_type": "markdown",
   "id": "6f023c8c",
   "metadata": {},
   "source": [
    "#### \n",
    "How many calories are there in `Iced Coffee`?"
   ]
  },
  {
   "cell_type": "markdown",
   "id": "eb7cd97b",
   "metadata": {},
   "source": [
    "#### \n",
    "Which drink(s) have the highest amount of protein in them, and what is that protein amount?"
   ]
  },
  {
   "cell_type": "markdown",
   "id": "cd5fdd83",
   "metadata": {},
   "source": [
    "#### \n",
    "Which drink(s) have a fat content of more than 10g, and what is their fat content?"
   ]
  },
  {
   "cell_type": "markdown",
   "id": "9d293199",
   "metadata": {},
   "source": [
    "## Choosing the Right Data Structure\n",
    "\n",
    "1. **List**  \n",
    "   - *Ordered* and *Mutable*  \n",
    "   - Best for collections of related items you need to modify, iterate, or reorder frequently.\n",
    "\n",
    "2. **Tuple**  \n",
    "   - *Ordered* and *Immutable*  \n",
    "   - Ideal for data that shouldn’t change or for use as dictionary keys (since they are hashable).\n",
    "\n",
    "3. **Dictionary**  \n",
    "   - *Unordered* (maintains insertion order in Python 3.7+) and *Mutable*  \n",
    "   - Perfect for key-value lookups, fast data retrieval based on unique keys, and clearly organizing named data.\n",
    "\n",
    "4. **Set**  \n",
    "   - *Unordered* and *Mutable*  \n",
    "   - Automatically enforces *unique* elements. Great for membership testing (e.g., `in` checks) and set operations like union, intersection, etc."
   ]
  },
  {
   "cell_type": "markdown",
   "id": "695593ff",
   "metadata": {},
   "source": [
    "## Immutable Data Types in Python\n",
    "\n",
    "In Python, **immutable data types** are those whose values cannot be changed after they are created. If you try to modify an immutable object, Python will create a new object instead of changing the original one.\n",
    "\n",
    "Here is a list of immutable data types in python\n",
    "\n",
    "* Integers (`int`)\n",
    "* Floats (`float`)\n",
    "* Booleans (`bool`)\n",
    "* Strings (`str`)\n",
    "* Tuples (`tuple`)\n",
    "  \n",
    "**Key Characteristics of Immutable Data Types**\n",
    "\n",
    "* **Cannot be modified in place**: Any operation that appears to modify an immutable object actually creates a new object.\n",
    "\n",
    "* **Hashable**: Immutable objects can be used as keys in dictionaries or elements in sets because their values do not change.\n",
    "\n",
    "* **Memory Efficiency**: Python may reuse memory for immutable objects (e.g., small integers or short strings) to optimize performance."
   ]
  },
  {
   "cell_type": "code",
   "execution_count": 7,
   "id": "bcc03b77",
   "metadata": {},
   "outputs": [
    {
     "name": "stdout",
     "output_type": "stream",
     "text": [
      "Memory address of my_integers: 140725600664984\n",
      "Memory address of my_integers: 140725600664344\n"
     ]
    }
   ],
   "source": [
    "# when you try to modify the interger, it creates a new integer object\n",
    "my_integer = 32\n",
    "\n",
    "# Memory address of my_integer\n",
    "print(\"Memory address of my_integers:\", id(my_integer))\n",
    "\n",
    "my_integer = 12\n",
    "# Memory address of my_integer\n",
    "print(\"Memory address of my_integers:\", id(my_integer))"
   ]
  },
  {
   "cell_type": "code",
   "execution_count": 8,
   "id": "6f2099cb",
   "metadata": {},
   "outputs": [
    {
     "ename": "TypeError",
     "evalue": "'str' object does not support item assignment",
     "output_type": "error",
     "traceback": [
      "\u001b[1;31m---------------------------------------------------------------------------\u001b[0m",
      "\u001b[1;31mTypeError\u001b[0m                                 Traceback (most recent call last)",
      "Cell \u001b[1;32mIn[8], line 3\u001b[0m\n\u001b[0;32m      1\u001b[0m s \u001b[38;5;241m=\u001b[39m \u001b[38;5;124m\"\u001b[39m\u001b[38;5;124mhello\u001b[39m\u001b[38;5;124m\"\u001b[39m\n\u001b[1;32m----> 3\u001b[0m \u001b[43ms\u001b[49m\u001b[43m[\u001b[49m\u001b[38;5;241;43m0\u001b[39;49m\u001b[43m]\u001b[49m \u001b[38;5;241m=\u001b[39m \u001b[38;5;124m'\u001b[39m\u001b[38;5;124mH\u001b[39m\u001b[38;5;124m'\u001b[39m\n",
      "\u001b[1;31mTypeError\u001b[0m: 'str' object does not support item assignment"
     ]
    }
   ],
   "source": [
    "s = \"hello\"\n",
    "\n",
    "s[0] = 'H'"
   ]
  },
  {
   "cell_type": "code",
   "execution_count": 10,
   "id": "015be83f",
   "metadata": {},
   "outputs": [
    {
     "name": "stdout",
     "output_type": "stream",
     "text": [
      "Original string: hello\n",
      "Memory address of original s: 1341161965296\n",
      "New string: HELLO\n",
      "Memory address of s.upper: 1341172556928\n"
     ]
    }
   ],
   "source": [
    "# Immutable example: Strings\n",
    "s = \"hello\"\n",
    "\n",
    "print(\"Original string:\", s)\n",
    "print(\"Memory address of original s:\", id(s))  \n",
    "\n",
    "s = s.upper()  \n",
    "print(\"New string:\", s.upper())\n",
    "print(\"Memory address of s.upper:\", id(s.upper))"
   ]
  },
  {
   "cell_type": "markdown",
   "id": "ceeb2e71",
   "metadata": {},
   "source": [
    "For comparison, here are some **mutable data types** in Python:\n",
    "\n",
    "* Lists (`list`)\n",
    "* Dictionaries (`dict`)\n",
    "* Sets (`set`)"
   ]
  },
  {
   "cell_type": "code",
   "execution_count": 9,
   "id": "9dfa2a88",
   "metadata": {},
   "outputs": [
    {
     "name": "stdout",
     "output_type": "stream",
     "text": [
      "list before modification: [1, 2, 3]\n",
      "Memory address of lst: 1341172415488\n",
      "list after modification: [1, 2, 3, 4]\n",
      "Memory address of lst: 1341172415488\n"
     ]
    }
   ],
   "source": [
    "# Mutable example: Lists\n",
    "lst = [1, 2, 3]\n",
    "print(\"list before modification:\", lst)\n",
    "print(\"Memory address of lst:\", id(lst))\n",
    "\n",
    "# Modifying the list\n",
    "lst.append(4) \n",
    "print(\"list after modification:\", lst)\n",
    "print(\"Memory address of lst:\", id(lst)) "
   ]
  },
  {
   "cell_type": "markdown",
   "id": "9dfea963",
   "metadata": {},
   "source": [
    "\n",
    "## Final Thoughts\n",
    "\n",
    "- **Lists** are your go-to when you need an adjustable sequence of ordered items.  \n",
    "- **Tuples** provide a way to store data in an immutable sequence, ensuring it remains unchanged.  \n",
    "- **Dictionaries** let you organize data into key-value pairs for quick lookups and clearer data structures.  \n",
    "- **Sets** focus on uniqueness and membership operations, which can greatly optimize tasks like deduplication and intersection.\n",
    "\n",
    "Choose the right data structure based on your needs to write concise, efficient, and easy-to-maintain code."
   ]
  },
  {
   "cell_type": "markdown",
   "id": "54becbc7",
   "metadata": {},
   "source": [
    "### Bonus Practice exercise"
   ]
  },
  {
   "cell_type": "markdown",
   "id": "cfcdf3e1",
   "metadata": {},
   "source": [
    "The object `deck` defined below corresponds to a deck of cards. Estimate the probablity that a five card hand will be a [flush](https://en.wikipedia.org/wiki/Flush_(cards)), as follows:\n",
    "\n",
    "1. Write a function that accepts a hand of 5 cards as argument, and returns whether the hand is a flush or not.\n",
    "2. Randomly pull a hand of 5 cards from the deck. Call the function developed in (1) to determine if the hand is a flush.\n",
    "3. Repeat (2) 10,000 times.\n",
    "4. Estimate the probability of the hand being a flush from the results of the 10,000 simulations.\n",
    "\n",
    "You may use the function [shuffle()](https://docs.python.org/3/library/random.html) from the `random` library to shuffle the deck everytime before pulling a hand of 5 cards."
   ]
  },
  {
   "cell_type": "code",
   "execution_count": null,
   "id": "ea062589",
   "metadata": {},
   "outputs": [],
   "source": [
    "deck = [{'value':i, 'suit':c}\n",
    "for c in ['spades', 'clubs', 'hearts', 'diamonds']\n",
    "for i in range(2,15)]"
   ]
  },
  {
   "cell_type": "markdown",
   "id": "b6bbe1ea",
   "metadata": {},
   "source": [
    "**Solution:**"
   ]
  },
  {
   "cell_type": "code",
   "execution_count": null,
   "id": "4b8df3e9",
   "metadata": {},
   "outputs": [
    {
     "name": "stdout",
     "output_type": "stream",
     "text": [
      "Probability of obtaining a flush= 0.26 %\n"
     ]
    }
   ],
   "source": [
    "import random as rm\n",
    "\n",
    "#Function to check if a 5-card hand is a flush\n",
    "def chck_flush(hands):  \n",
    "    \n",
    "    #Assuming that the hand is a flush, before checking the cards\n",
    "    yes_flush =1\n",
    "    \n",
    "    #Storing the suit of the first card in 'first_suit'\n",
    "    first_suit = hands[0]['suit']\n",
    "    \n",
    "    #Iterating over the remaining 4 cards of the hand\n",
    "    for j in range(1,len(hands)):\n",
    "        \n",
    "        #If the suit of any of the cards does not match the suit of the first card, the hand is not a flush\n",
    "        if first_suit!=hands[j]['suit']:\n",
    "            yes_flush = 0; \n",
    "            \n",
    "            #As soon as a card with a different suit is found, the hand is not a flush and there is no need to check other cards. So, we 'break' out of the loop\n",
    "            break;\n",
    "    return yes_flush\n",
    "\n",
    "flush=0\n",
    "for i in range(10000):\n",
    "    \n",
    "    #Shuffling the deck\n",
    "    rm.shuffle(deck)\n",
    "    \n",
    "    #Picking out the first 5 cards of the deck as a hand and checking if they are a flush\n",
    "    #If the hand is a flush it is counted\n",
    "    flush=flush+chck_flush(deck[0:5])\n",
    "    \n",
    "print(\"Probability of obtaining a flush=\", 100*(flush/10000),\"%\")"
   ]
  },
  {
   "cell_type": "markdown",
   "id": "ba188535",
   "metadata": {},
   "source": [
    "## Resources\n",
    "\n",
    "* [Dictionary Comprehension](https://www.dataquest.io/blog/python-dictionary-comprehension-tutorial/)\n",
    "* [List Comprehensions, Dictionary Comprehensions](https://www.netguru.com/blog/python-list-comprehension-dictionary)"
   ]
  },
  {
   "cell_type": "markdown",
   "id": "182fea7c",
   "metadata": {},
   "source": []
  }
 ],
 "metadata": {
  "kernelspec": {
   "display_name": "base",
   "language": "python",
   "name": "python3"
  },
  "language_info": {
   "codemirror_mode": {
    "name": "ipython",
    "version": 3
   },
   "file_extension": ".py",
   "mimetype": "text/x-python",
   "name": "python",
   "nbconvert_exporter": "python",
   "pygments_lexer": "ipython3",
   "version": "3.12.4"
  }
 },
 "nbformat": 4,
 "nbformat_minor": 5
}
