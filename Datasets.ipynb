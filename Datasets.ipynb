{
 "cells": [
  {
   "cell_type": "raw",
   "id": "5a169952",
   "metadata": {},
   "source": [
    "---\n",
    "title: \"Assignment templates and Datasets\"\n",
    "format: \n",
    "  html:\n",
    "    code-fold: false\n",
    "jupyter: python3\n",
    "---"
   ]
  },
  {
   "cell_type": "markdown",
   "id": "ecf28294",
   "metadata": {},
   "source": [
    "Assignment templates and datasets used in the book can be found [here](https://nuwildcat-my.sharepoint.com/my?id=%2Fpersonal%2Flsi8012%5Fads%5Fnorthwestern%5Fedu%2FDocuments%2FSTAT201%20WI25%20Datasets%20and%20Templates&ga=1)"
   ]
  },
  {
   "cell_type": "markdown",
   "id": "68c8e256",
   "metadata": {},
   "source": []
  }
 ],
 "metadata": {
  "kernelspec": {
   "display_name": "Python 3",
   "language": "python",
   "name": "python3"
  },
  "language_info": {
   "codemirror_mode": {
    "name": "ipython",
    "version": 3
   },
   "file_extension": ".py",
   "mimetype": "text/x-python",
   "name": "python",
   "nbconvert_exporter": "python",
   "pygments_lexer": "ipython3",
   "version": "3.8.8"
  }
 },
 "nbformat": 4,
 "nbformat_minor": 5
}
