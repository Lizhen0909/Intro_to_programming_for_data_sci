{
 "cells": [
  {
   "cell_type": "raw",
   "id": "11a0b872",
   "metadata": {},
   "source": [
    "---\n",
    "title: \"Functions\"\n",
    "format: \n",
    "  html:\n",
    "    toc: true\n",
    "    code-fold: false\n",
    "jupyter: python3\n",
    "---"
   ]
  },
  {
   "cell_type": "code",
   "execution_count": 17,
   "id": "9d427285",
   "metadata": {},
   "outputs": [
    {
     "data": {
      "text/html": [
       "<img src=\"./images/python_functions.png\" width=\"500\" height=\"450\"/>"
      ],
      "text/plain": [
       "<IPython.core.display.Image object>"
      ]
     },
     "execution_count": 17,
     "metadata": {},
     "output_type": "execute_result"
    }
   ],
   "source": [
    "#| echo: false\n",
    "\n",
    "# import image module\n",
    "from IPython.display import Image\n",
    "\n",
    "# get the image\n",
    "Image(url=\"./images/python_functions.png\",width=500, height=450)"
   ]
  },
  {
   "cell_type": "markdown",
   "id": "cf61e91c",
   "metadata": {},
   "source": [
    "## Function Definition\n",
    "\n",
    "Functions are the fundamental building blocks of any Python program. They are organized blocks of reusable code designed to perform a specific task. A function can take one or more inputs (parameters), execute a block of code, and optionally return one or more values.\n",
    "\n",
    "### Why Use Functions?\n",
    "Functions allow developers to write modular, reusable, and efficient code. Instead of duplicating the same logic multiple times, functions let you define the logic once and call it wherever needed.\n",
    "\n",
    "\n",
    "\n",
    "## Advantages of Functions\n",
    "\n",
    "1. **Increases Modularity**\n",
    "   - Functions allow the program to be divided into smaller, manageable parts, making it easier to understand, implement, and maintain.\n",
    "\n",
    "2. **Reduces Redundancy**\n",
    "   - By defining a function once, you avoid rewriting the same code multiple times. Simply call the function when needed.\n",
    "\n",
    "3. **Maximizes Code Reusability**\n",
    "   - Functions can be used as many times as necessary, enabling you to reuse your code efficiently and reducing overall development effort.\n",
    "\n",
    "4. **Improves Code Readability**\n",
    "   - Dividing a large program into smaller functions improves the clarity and readability of the code, making it easier to debug and maintain\n"
   ]
  },
  {
   "cell_type": "markdown",
   "id": "18c6bc7d",
   "metadata": {},
   "source": [
    "## Types of Functions\n",
    "\n",
    "There are two types of functions in python:\n",
    "\n",
    "* **User-Defined Functions** - these types of functions are defined by the user to perform any specific task\n",
    "* **Predefined Functions** - These are built-in functions in python."
   ]
  },
  {
   "cell_type": "markdown",
   "id": "66d558db",
   "metadata": {},
   "source": [
    "### Built-in Functions\n",
    "\n",
    "These are pre-defined functions that perform common tasks. Built-in functions come from two main sources:\n",
    "\n",
    "* Third-Party Libraries\n",
    "* Python Standard Libaries"
   ]
  },
  {
   "cell_type": "markdown",
   "id": "4cb038aa",
   "metadata": {},
   "source": [
    "#### Third-Party Libraries\n",
    "\n",
    "Some of the popular libraries in data science and their primary purposes are as follows:\n",
    "\n",
    "1. NumPy: Performing numerical operations and efficiently storing numerical data.\n",
    "2. Pandas: Reading, cleaning and manipulating data.\n",
    "3. Matplotlib, Seaborn: Visualizing data.\n",
    "4. SciPy: Performing scientific computing such as solving differential equations, optimization, statistical tests, etc.\n",
    "5. Scikit-learn: Data pre-processing and machine learning, with a focus on prediction.\n",
    "6. Statsmodels: Developing statistical models with a focus on inference\n",
    "\n",
    "You will use these libraries in the upcoming data science courses. Before you can use them, you need to `install` each library and then `import` it in your code."
   ]
  },
  {
   "cell_type": "markdown",
   "id": "fbe27b40",
   "metadata": {},
   "source": [
    "#### Python Standard Library\n",
    "\n",
    "The Python Standard Library is an umbrella term for all the modules (A module is a file containing Python code (functions, classes, variables) that can be reused in your programs) and packages that come with Python, including both built-in modules (e.g., `__builtins__`) and other modules that require importing. Think of the standard library as a toolbox, with some tools always on the table (built-in) and others stored in drawers (import-required). Built-in functions like `print()`, `len()`, and `type()` are available directly without needing to import anything. They are part of Python's built-in namespace, which is loaded into memory when Python starts.\n",
    "\n",
    "Many modules in the Python Standard Library, like `math`, `os`, or `datetime`, are not automatically loaded to keep the startup time and memory usage low. To access functions or classes from these modules, you need to explicitly import them using the `import` keyword. \n",
    "\n",
    "Let's see different ways to import modules next\n",
    "\n",
    "* Basic Import"
   ]
  },
  {
   "cell_type": "code",
   "execution_count": 1,
   "id": "463ea90d",
   "metadata": {},
   "outputs": [
    {
     "name": "stdout",
     "output_type": "stream",
     "text": [
      "4.0\n"
     ]
    }
   ],
   "source": [
    "import math\n",
    "# To use a function from the module, preface it with random followed by a dot, and then the function name\n",
    "print(math.sqrt(16))"
   ]
  },
  {
   "cell_type": "markdown",
   "id": "b77704df",
   "metadata": {},
   "source": [
    "* Import Specific Functions or Classes"
   ]
  },
  {
   "cell_type": "code",
   "execution_count": 2,
   "id": "0bafa2e1",
   "metadata": {},
   "outputs": [
    {
     "name": "stdout",
     "output_type": "stream",
     "text": [
      "5.0\n"
     ]
    }
   ],
   "source": [
    "# import only sqrt function from math module\n",
    "from math import sqrt, pi\n",
    "print(sqrt(25))"
   ]
  },
  {
   "cell_type": "markdown",
   "id": "0891c32c",
   "metadata": {},
   "source": [
    "* Import with Alias:"
   ]
  },
  {
   "cell_type": "code",
   "execution_count": 3,
   "id": "7f90aded",
   "metadata": {},
   "outputs": [
    {
     "name": "stdout",
     "output_type": "stream",
     "text": [
      "[1 2 3]\n"
     ]
    }
   ],
   "source": [
    "import numpy as np\n",
    "print(np.array([1, 2, 3]))"
   ]
  },
  {
   "cell_type": "markdown",
   "id": "34e839e2",
   "metadata": {},
   "source": [
    "* Wildcard Import (Not Recommended):"
   ]
  },
  {
   "cell_type": "code",
   "execution_count": 4,
   "id": "e96bd1c0",
   "metadata": {},
   "outputs": [
    {
     "name": "stdout",
     "output_type": "stream",
     "text": [
      "0.8414709848078965\n"
     ]
    }
   ],
   "source": [
    "from math import *\n",
    "print(sin(1))"
   ]
  },
  {
   "cell_type": "markdown",
   "id": "eb22dfba",
   "metadata": {},
   "source": [
    "This way imports every function from the module. You should usually **avoid** doing this, as the module may contain some names that will interfere with your own variable\n",
    "names. For instance if your program uses a variable called `total` and you import a module\n",
    "that contains a function called `total`, there can be problems. In contrast, the first way imports an entire module in a way that will not interfere with your variable\n",
    "names. To use a function from the module, preface it with the module name followed by a dot\n",
    "\n",
    "**Location**: Usually, import statements go at the beginning of the program, but there is no restriction. They can go anywhere as long as they come before the code that uses the module.\n"
   ]
  },
  {
   "cell_type": "markdown",
   "id": "1f6d7242",
   "metadata": {},
   "source": [
    "#### Useful Modules\n",
    "\n",
    "Here’s a list of commonly used and useful modules from the Python Standard Library:\n",
    "\n",
    "* `os`: For interacting with the operating system, such as file paths and environment variables.\n",
    "* `sys`: For interacting with the Python runtime environment\n",
    "* `re`: For regular expressions and pattern matching\n",
    "* `math`: For mathematical functions and constants\n",
    "* `random`: For generating random numbers.\n",
    "* `datetime`: For working with dates and times\n",
    "* `time`: For measuring time or introducing delays.\n"
   ]
  },
  {
   "cell_type": "markdown",
   "id": "766d553f",
   "metadata": {},
   "source": [
    "#### Getting Help from Python on a Module\n",
    "There is documentation built into Python. To get help on the `math` module"
   ]
  },
  {
   "cell_type": "code",
   "execution_count": 5,
   "id": "48adb0a1",
   "metadata": {},
   "outputs": [
    {
     "data": {
      "text/plain": [
       "['__doc__',\n",
       " '__loader__',\n",
       " '__name__',\n",
       " '__package__',\n",
       " '__spec__',\n",
       " 'acos',\n",
       " 'acosh',\n",
       " 'asin',\n",
       " 'asinh',\n",
       " 'atan',\n",
       " 'atan2',\n",
       " 'atanh',\n",
       " 'cbrt',\n",
       " 'ceil',\n",
       " 'comb',\n",
       " 'copysign',\n",
       " 'cos',\n",
       " 'cosh',\n",
       " 'degrees',\n",
       " 'dist',\n",
       " 'e',\n",
       " 'erf',\n",
       " 'erfc',\n",
       " 'exp',\n",
       " 'exp2',\n",
       " 'expm1',\n",
       " 'fabs',\n",
       " 'factorial',\n",
       " 'floor',\n",
       " 'fmod',\n",
       " 'frexp',\n",
       " 'fsum',\n",
       " 'gamma',\n",
       " 'gcd',\n",
       " 'hypot',\n",
       " 'inf',\n",
       " 'isclose',\n",
       " 'isfinite',\n",
       " 'isinf',\n",
       " 'isnan',\n",
       " 'isqrt',\n",
       " 'lcm',\n",
       " 'ldexp',\n",
       " 'lgamma',\n",
       " 'log',\n",
       " 'log10',\n",
       " 'log1p',\n",
       " 'log2',\n",
       " 'modf',\n",
       " 'nan',\n",
       " 'nextafter',\n",
       " 'perm',\n",
       " 'pi',\n",
       " 'pow',\n",
       " 'prod',\n",
       " 'radians',\n",
       " 'remainder',\n",
       " 'sin',\n",
       " 'sinh',\n",
       " 'sqrt',\n",
       " 'sumprod',\n",
       " 'tan',\n",
       " 'tanh',\n",
       " 'tau',\n",
       " 'trunc',\n",
       " 'ulp']"
      ]
     },
     "execution_count": 5,
     "metadata": {},
     "output_type": "execute_result"
    }
   ],
   "source": [
    "import math\n",
    "dir(math)"
   ]
  },
  {
   "cell_type": "markdown",
   "id": "dfe717d3",
   "metadata": {},
   "source": [
    "This provides a list of all the functions and variables in the `math` module. You can ignore entries that start with underscores, as they are typically used internally. To get help on a specific function, such as the `floor` function, you can type:"
   ]
  },
  {
   "cell_type": "code",
   "execution_count": 6,
   "id": "7b0258ae",
   "metadata": {},
   "outputs": [
    {
     "name": "stdout",
     "output_type": "stream",
     "text": [
      "Help on built-in function floor in module math:\n",
      "\n",
      "floor(x, /)\n",
      "    Return the floor of x as an Integral.\n",
      "\n",
      "    This is the largest integer <= x.\n",
      "\n"
     ]
    }
   ],
   "source": [
    "help(math.floor)"
   ]
  },
  {
   "cell_type": "markdown",
   "id": "d6e8cc28",
   "metadata": {},
   "source": [
    "\n",
    "For a comprehensive overview of the entire `math` module, type:"
   ]
  },
  {
   "cell_type": "code",
   "execution_count": null,
   "id": "ed8aa1ec",
   "metadata": {},
   "outputs": [],
   "source": [
    "# help(math)"
   ]
  },
  {
   "cell_type": "markdown",
   "id": "357fd70c",
   "metadata": {},
   "source": [
    "I encourage you to explore the documentation further for a deeper understanding."
   ]
  },
  {
   "cell_type": "markdown",
   "id": "a2674875",
   "metadata": {},
   "source": [
    "### Practice Problem\n",
    "\n",
    "* Can you use math.sqrt(16) without importing the math module? Why or why not?\n",
    "* Identify whether the following functions require importing a module:\n",
    "    * `abs()`\n",
    "    * `random.randint()`\n",
    "    * `time.sleep()`"
   ]
  },
  {
   "cell_type": "markdown",
   "id": "687eb946",
   "metadata": {},
   "source": [
    "## User-defined FUnctions\n",
    "\n",
    "### Defining a function"
   ]
  },
  {
   "cell_type": "markdown",
   "id": "daa22483",
   "metadata": {},
   "source": [
    "Look at the function defined below. It asks the user to input a number, and prints whether the number is odd or even."
   ]
  },
  {
   "cell_type": "code",
   "execution_count": 3,
   "id": "104c24d9",
   "metadata": {},
   "outputs": [
    {
     "name": "stdout",
     "output_type": "stream",
     "text": [
      "This line is not a part of the function as it is not indented\n"
     ]
    }
   ],
   "source": [
    "#This is an example of a function definition\n",
    "\n",
    "#A function definition begins with the 'def' keyword followed by the name of the function.\n",
    "#Note that 'odd_even()' is the name of the function below.\n",
    "def odd_even():           \n",
    "    num = int(input(\"Enter an integer:\"))\n",
    "    if num%2==0:\n",
    "        print(\"Even\")\n",
    "    else:\n",
    "        print(\"Odd\")   #Function definition ends here\n",
    "        \n",
    "print(\"This line is not a part of the function as it is not indented\") #This line is not a part of the function"
   ]
  },
  {
   "cell_type": "markdown",
   "id": "8cab5b5f",
   "metadata": {},
   "source": [
    "Note that the function is defined using the `def` keyword. All the lines within the function definition are indented. The indentation shows the lines of code that below to the function. When the indentation stops, the function definition is considered to have ended."
   ]
  },
  {
   "cell_type": "markdown",
   "id": "b68aba16",
   "metadata": {},
   "source": [
    "Whenever the user wishes to input a number and print whether it is odd or even, they can call the function defined above by its name as follows:"
   ]
  },
  {
   "cell_type": "code",
   "execution_count": 4,
   "id": "8a6a9d9c",
   "metadata": {},
   "outputs": [
    {
     "name": "stdout",
     "output_type": "stream",
     "text": [
      "Enter an integer:5\n",
      "Odd\n"
     ]
    }
   ],
   "source": [
    "odd_even()"
   ]
  },
  {
   "cell_type": "markdown",
   "id": "0e9938eb",
   "metadata": {},
   "source": [
    "In Python, empty parentheses are used when defining a function, even if it doesn't take any parameters. This is a syntactic requirement to differentiate between variables and functions. It helps Python understand that you are defining a function, not just referencing a variable."
   ]
  },
  {
   "cell_type": "markdown",
   "id": "ca83c0b1",
   "metadata": {},
   "source": [
    "## Parameters and arguments of a function"
   ]
  },
  {
   "cell_type": "markdown",
   "id": "a609bd33",
   "metadata": {},
   "source": [
    "Note that the function defined above needs no input when called. However, sometimes we may wish to define a function that takes input(s), and performs computations on the inputs to produce an output. These input(s) are called parameter(s) of a function. When a function is called, the value(s) of these parameter(s) must be specified as argument(s) to the function. "
   ]
  },
  {
   "cell_type": "markdown",
   "id": "d02cae9c",
   "metadata": {},
   "source": [
    "### Function with a parameter"
   ]
  },
  {
   "cell_type": "markdown",
   "id": "d8bc6c11",
   "metadata": {},
   "source": [
    "Let us change the previous example to write a function that takes an integer as an input argument, and prints whether it is odd or even:"
   ]
  },
  {
   "cell_type": "code",
   "execution_count": 5,
   "id": "04d1f68a",
   "metadata": {},
   "outputs": [],
   "source": [
    "#This is an example of a function definition that has an argument\n",
    "def odd_even(num):           \n",
    "    if num%2==0:\n",
    "        print(\"Even\")\n",
    "    else:\n",
    "        print(\"Odd\")"
   ]
  },
  {
   "cell_type": "markdown",
   "id": "d18594ad",
   "metadata": {},
   "source": [
    "We can use the function whenever we wish to find a number is odd or even. For example, if we wish to find that a number input by the user is odd or even, we can call the function with the user input as its argument."
   ]
  },
  {
   "cell_type": "code",
   "execution_count": 6,
   "id": "66808419",
   "metadata": {},
   "outputs": [
    {
     "name": "stdout",
     "output_type": "stream",
     "text": [
      "Enter an integer:6\n",
      "Even\n"
     ]
    }
   ],
   "source": [
    "number = int(input(\"Enter an integer:\"))\n",
    "odd_even(number)"
   ]
  },
  {
   "cell_type": "markdown",
   "id": "ef943a8d",
   "metadata": {},
   "source": [
    "Note that the above function needs an argument as per the function definition. It will produce an error if called without an argument:"
   ]
  },
  {
   "cell_type": "code",
   "execution_count": 8,
   "id": "f7913e0e",
   "metadata": {},
   "outputs": [
    {
     "ename": "TypeError",
     "evalue": "odd_even() missing 1 required positional argument: 'num'",
     "output_type": "error",
     "traceback": [
      "\u001b[1;31m---------------------------------------------------------------------------\u001b[0m",
      "\u001b[1;31mTypeError\u001b[0m                                 Traceback (most recent call last)",
      "\u001b[1;32m<ipython-input-8-d86a5f720e3b>\u001b[0m in \u001b[0;36m<module>\u001b[1;34m\u001b[0m\n\u001b[1;32m----> 1\u001b[1;33m \u001b[0modd_even\u001b[0m\u001b[1;33m(\u001b[0m\u001b[1;33m)\u001b[0m\u001b[1;33m\u001b[0m\u001b[1;33m\u001b[0m\u001b[0m\n\u001b[0m",
      "\u001b[1;31mTypeError\u001b[0m: odd_even() missing 1 required positional argument: 'num'"
     ]
    }
   ],
   "source": [
    "odd_even()"
   ]
  },
  {
   "cell_type": "markdown",
   "id": "8fb3b4a4",
   "metadata": {},
   "source": [
    "### Function with a parameter having a default value"
   ]
  },
  {
   "cell_type": "markdown",
   "id": "98c59ccb",
   "metadata": {},
   "source": [
    "To avoid errors as above, sometimes is a good idea to assign a default value to the parameter in the function definition:"
   ]
  },
  {
   "cell_type": "code",
   "execution_count": 17,
   "id": "f9c458be",
   "metadata": {},
   "outputs": [],
   "source": [
    "#This is an example of a function definition that has an argument with a default value\n",
    "def odd_even(num=0):           \n",
    "    if num%2==0:\n",
    "        print(\"Even\")\n",
    "    else:\n",
    "        print(\"Odd\")"
   ]
  },
  {
   "cell_type": "markdown",
   "id": "2859903f",
   "metadata": {},
   "source": [
    "Now, we can call the function without an argument. The function will use the default value of the parameter specified in the function definition."
   ]
  },
  {
   "cell_type": "code",
   "execution_count": 10,
   "id": "5d23995b",
   "metadata": {},
   "outputs": [
    {
     "name": "stdout",
     "output_type": "stream",
     "text": [
      "Even\n"
     ]
    }
   ],
   "source": [
    "odd_even()"
   ]
  },
  {
   "cell_type": "markdown",
   "id": "d315af31",
   "metadata": {},
   "source": [
    "### Function with multiple parameters"
   ]
  },
  {
   "cell_type": "markdown",
   "id": "22216ffa",
   "metadata": {},
   "source": [
    "A function can have as many parameters as needed. Multiple parameters/arguments are separated by commas. For example, below is a function that inputs two strings, concatenates them with a space in between, and prints the output: "
   ]
  },
  {
   "cell_type": "code",
   "execution_count": 13,
   "id": "5d0a5765",
   "metadata": {},
   "outputs": [],
   "source": [
    "def concat_string(string1, string2):\n",
    "    print(string1+' '+string2)"
   ]
  },
  {
   "cell_type": "code",
   "execution_count": 14,
   "id": "24634194",
   "metadata": {},
   "outputs": [
    {
     "name": "stdout",
     "output_type": "stream",
     "text": [
      "Hi there\n"
     ]
    }
   ],
   "source": [
    "concat_string(\"Hi\", \"there\")"
   ]
  },
  {
   "cell_type": "markdown",
   "id": "c0730597",
   "metadata": {},
   "source": [
    "### Practice exercise 1\n",
    "Write a function that prints prime numbers between two real numbers - `a` and `b`, where `a` and `b` are the parameters of the function. Call the function and check the output with a = 60, b = 80."
   ]
  },
  {
   "cell_type": "markdown",
   "id": "07ba61ad",
   "metadata": {},
   "source": [
    "**Solution:**"
   ]
  },
  {
   "cell_type": "code",
   "execution_count": 1,
   "id": "1caf30b0",
   "metadata": {},
   "outputs": [
    {
     "name": "stdout",
     "output_type": "stream",
     "text": [
      "61\n",
      "67\n",
      "71\n",
      "73\n",
      "79\n"
     ]
    }
   ],
   "source": [
    "def prime_numbers (a,b=100):\n",
    "    num_prime_nos = 0\n",
    "    \n",
    "    #Iterating over all numbers between a and b\n",
    "    for i in range(a,b):\n",
    "        num_divisors=0\n",
    "        \n",
    "        #Checking if the ith number has any factors\n",
    "        for j in range(2, i):\n",
    "            if i%j == 0:\n",
    "                num_divisors=1;break;\n",
    "                \n",
    "        #If there are no factors, then printing and counting the number as prime        \n",
    "        if num_divisors==0:\n",
    "            print(i)\n",
    "prime_numbers(60,80)"
   ]
  },
  {
   "cell_type": "markdown",
   "id": "96bfde68",
   "metadata": {},
   "source": [
    "## Functions that return objects"
   ]
  },
  {
   "cell_type": "markdown",
   "id": "1e6b4f98",
   "metadata": {},
   "source": [
    "Until now, we saw functions that print text. However, the functions did not `return` any object. For example, the function `odd_even` prints whether the number is odd or even. However, we did not save this information. In future, we may need to use the information that whether the number was odd or even. Thus, typically, we return an object from the function definition, which consists of the information we may need in the future. \n",
    "\n",
    "The example `odd_even` can be updated to return the text \"odd\" or \"even\" as shown below:"
   ]
  },
  {
   "cell_type": "code",
   "execution_count": 27,
   "id": "90abc3f1",
   "metadata": {},
   "outputs": [],
   "source": [
    "#This is an example of a function definition that has an argument with a default value, and returns an object\n",
    "def odd_even(num=0):           \n",
    "    if num%2==0:\n",
    "        return(\"Even\")\n",
    "    else:\n",
    "        return(\"Odd\")"
   ]
  },
  {
   "cell_type": "markdown",
   "id": "e31c6364",
   "metadata": {},
   "source": [
    "The function above returns a string \"Odd\" or \"Even\", depending on whether the number is odd or even. This result can be stored in a variable, which can be used later."
   ]
  },
  {
   "cell_type": "code",
   "execution_count": 31,
   "id": "f98fd31b",
   "metadata": {},
   "outputs": [
    {
     "data": {
      "text/plain": [
       "'Odd'"
      ]
     },
     "execution_count": 31,
     "metadata": {},
     "output_type": "execute_result"
    }
   ],
   "source": [
    "response=odd_even(3)\n",
    "response"
   ]
  },
  {
   "cell_type": "markdown",
   "id": "8f40b8cc",
   "metadata": {},
   "source": [
    "The variable `response` now refers to the object where the string \"Odd\" or \"Even\" is stored. Thus, the result of the computation is stored, and the variable can be used later on in the program. Note that the control flow exits the function as soon as the first `return` statement is executed."
   ]
  },
  {
   "cell_type": "markdown",
   "id": "ce0ec55b",
   "metadata": {},
   "source": [
    "@fig-fun below shows the terminology associated with functions."
   ]
  },
  {
   "cell_type": "code",
   "execution_count": 4,
   "id": "d24186d1",
   "metadata": {},
   "outputs": [
    {
     "data": {
      "text/html": [
       "<img src=\"./Datasets/function_picture.jpg\" width=\"700\" height=\"400\"/>"
      ],
      "text/plain": [
       "<IPython.core.display.Image object>"
      ]
     },
     "execution_count": 4,
     "metadata": {},
     "output_type": "execute_result"
    }
   ],
   "source": [
    "#| echo: false\n",
    "#| label: fig-fun\n",
    "#| fig-cap: \"Terminology associated with functions\"\n",
    "\n",
    "# import image module\n",
    "from IPython.display import Image\n",
    "\n",
    "# get the image\n",
    "Image(url=\"./Datasets/function_picture.jpg\", width=700, height=400)"
   ]
  },
  {
   "cell_type": "markdown",
   "id": "f99f5235",
   "metadata": {},
   "source": [
    "## Global and local variables with respect to a function\n",
    "A variable defined within a function is local to that function, while a variable defined outside the function is global with respect to that function. In case a variable with the same name is defined both outside and inside a function, it will refer to its global value outside the function and local value within the function."
   ]
  },
  {
   "cell_type": "markdown",
   "id": "0014aa2d",
   "metadata": {},
   "source": [
    "The example below shows a variable with the name `var` referring to its local value when called within the function, and global value when called outside the function."
   ]
  },
  {
   "cell_type": "code",
   "execution_count": 1,
   "id": "4b78cb31",
   "metadata": {},
   "outputs": [
    {
     "name": "stdout",
     "output_type": "stream",
     "text": [
      "Local value of 'var' within 'sample_function()'=  4\n",
      "Global value of 'var' outside 'sample_function()' =  5\n"
     ]
    }
   ],
   "source": [
    "var = 5\n",
    "def sample_function(var):    \n",
    "    print(\"Local value of 'var' within 'sample_function()'= \",var)\n",
    "\n",
    "sample_function(4)\n",
    "print(\"Global value of 'var' outside 'sample_function()' = \",var)"
   ]
  },
  {
   "cell_type": "markdown",
   "id": "1a756de6",
   "metadata": {},
   "source": [
    "## Built-in python functions"
   ]
  },
  {
   "cell_type": "markdown",
   "id": "1dbaaede",
   "metadata": {},
   "source": [
    "So far we have seen user-defined functions in this chapter. These functions were defined by us, and are not stored permanently in the python compiler. However, there are some functions that come built-in with python and we can use them directly without defining them. These built-in functions can be see [here](https://docs.python.org/3/library/functions.html). For example the built-in function `max()` computes the max of numeric values:"
   ]
  },
  {
   "cell_type": "code",
   "execution_count": 34,
   "id": "165ca01e",
   "metadata": {},
   "outputs": [
    {
     "data": {
      "text/plain": [
       "3"
      ]
     },
     "execution_count": 34,
     "metadata": {},
     "output_type": "execute_result"
    }
   ],
   "source": [
    "max(1,2,3)"
   ]
  },
  {
   "cell_type": "markdown",
   "id": "0332fe39",
   "metadata": {},
   "source": [
    "Another example is the `round()` function that rounds up floating point numbers:"
   ]
  },
  {
   "cell_type": "code",
   "execution_count": 36,
   "id": "d9189359",
   "metadata": {},
   "outputs": [
    {
     "data": {
      "text/plain": [
       "4"
      ]
     },
     "execution_count": 36,
     "metadata": {},
     "output_type": "execute_result"
    }
   ],
   "source": [
    "round(3.7)"
   ]
  },
  {
   "cell_type": "markdown",
   "id": "ae5a0016",
   "metadata": {},
   "source": [
    "## Python libraries"
   ]
  },
  {
   "cell_type": "markdown",
   "id": "0eefc86f",
   "metadata": {},
   "source": [
    "Other than the built-in functions, python has hundreds of thousands of libraries that contain several useful functions. These libraries are contributed by people around the world as python is an open-source platform. Some of the libraries popular in data science, and their purposes are the following:\n",
    "\n",
    "1. NumPy: Performing numerical operations and efficiently storing numerical data.\n",
    "2. Pandas: Reading, cleaning and manipulating data.\n",
    "3. Matplotlib, Seaborn: Visualizing data.\n",
    "4. SciPy: Performing scientific computing such as solving differential equations, optimization, statistical tests, etc.\n",
    "5. Scikit-learn: Data pre-processing and machine learning, with a focus on prediction.\n",
    "6. Statsmodels: Developing statistical models with a focus on inference"
   ]
  },
  {
   "cell_type": "markdown",
   "id": "07e00ccd",
   "metadata": {},
   "source": [
    "A library can be imported using the `import` keyword. For example, a NumPy library can be imported as:"
   ]
  },
  {
   "cell_type": "code",
   "execution_count": 37,
   "id": "92ccaf14",
   "metadata": {},
   "outputs": [],
   "source": [
    "import numpy as np"
   ]
  },
  {
   "cell_type": "markdown",
   "id": "849cd89c",
   "metadata": {},
   "source": [
    "Using the `as` keyboard, the NumPy library has been given the name `np`. All the functions and attributes of the library can be called using the *'np.'* prefix. For example, let us generate a sequence of whole numbers upto `10` using the NumPy function [arange()](https://numpy.org/doc/stable/reference/generated/numpy.arange.html):"
   ]
  },
  {
   "cell_type": "code",
   "execution_count": 38,
   "id": "c33736e9",
   "metadata": {},
   "outputs": [
    {
     "data": {
      "text/plain": [
       "array([0, 1, 2, 3, 4, 5, 6, 7])"
      ]
     },
     "execution_count": 38,
     "metadata": {},
     "output_type": "execute_result"
    }
   ],
   "source": [
    "np.arange(8)"
   ]
  },
  {
   "cell_type": "markdown",
   "id": "4db9f38a",
   "metadata": {},
   "source": [
    "Generating random numbers is very useful in python for performing simulations (we'll see in later chapters). The library [random](https://docs.python.org/3/library/random.html) is used to generate random numbers such as integers, real numbers based on different probability distributions, etc."
   ]
  },
  {
   "cell_type": "markdown",
   "id": "bb87cbc7",
   "metadata": {},
   "source": [
    "Below is an example of using the `randint()` function of the library for generating random numbers in [a, b], where `a` and `b` are integers. "
   ]
  },
  {
   "cell_type": "code",
   "execution_count": 13,
   "id": "ed1c480c",
   "metadata": {},
   "outputs": [
    {
     "data": {
      "text/plain": [
       "7"
      ]
     },
     "execution_count": 13,
     "metadata": {},
     "output_type": "execute_result"
    }
   ],
   "source": [
    "import random as rm\n",
    "rm.randint(5,10) #This will generate a random number in [5,10]"
   ]
  },
  {
   "cell_type": "markdown",
   "id": "ba655c64",
   "metadata": {},
   "source": [
    "### Practice exercise 2"
   ]
  },
  {
   "cell_type": "markdown",
   "id": "a1136def",
   "metadata": {},
   "source": [
    "Generate a random number between [-5,5]. Do this 10,000 times. Find the mean of all the 10,000 random numbers generated."
   ]
  },
  {
   "cell_type": "markdown",
   "id": "3be902a4",
   "metadata": {},
   "source": [
    "**Solution:**"
   ]
  },
  {
   "cell_type": "code",
   "execution_count": 2,
   "id": "127df6df",
   "metadata": {},
   "outputs": [
    {
     "name": "stdout",
     "output_type": "stream",
     "text": [
      "Mean is: 0.061433810226516616\n"
     ]
    }
   ],
   "source": [
    "import random as rm\n",
    "counter = 0\n",
    "for i in range(10000):\n",
    "    counter = counter + rm.uniform(-5,5)\n",
    "print(\"Mean is:\", counter/10000)"
   ]
  }
 ],
 "metadata": {
  "kernelspec": {
   "display_name": "base",
   "language": "python",
   "name": "python3"
  },
  "language_info": {
   "codemirror_mode": {
    "name": "ipython",
    "version": 3
   },
   "file_extension": ".py",
   "mimetype": "text/x-python",
   "name": "python",
   "nbconvert_exporter": "python",
   "pygments_lexer": "ipython3",
   "version": "3.12.4"
  }
 },
 "nbformat": 4,
 "nbformat_minor": 5
}
