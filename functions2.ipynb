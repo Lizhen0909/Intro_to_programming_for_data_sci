{
 "cells": [
  {
   "cell_type": "raw",
   "id": "11a0b872",
   "metadata": {},
   "source": [
    "---\n",
    "title: \"Functions\"\n",
    "format: \n",
    "  html:\n",
    "    toc: true\n",
    "    code-fold: false\n",
    "jupyter: python3\n",
    "---"
   ]
  },
  {
   "cell_type": "code",
   "execution_count": 17,
   "id": "9d427285",
   "metadata": {},
   "outputs": [
    {
     "data": {
      "text/html": [
       "<img src=\"./images/python_functions.png\" width=\"500\" height=\"450\"/>"
      ],
      "text/plain": [
       "<IPython.core.display.Image object>"
      ]
     },
     "execution_count": 17,
     "metadata": {},
     "output_type": "execute_result"
    }
   ],
   "source": [
    "#| echo: false\n",
    "\n",
    "# import image module\n",
    "from IPython.display import Image\n",
    "\n",
    "# get the image\n",
    "Image(url=\"./images/python_functions.png\",width=500, height=450)"
   ]
  },
  {
   "cell_type": "markdown",
   "id": "cf61e91c",
   "metadata": {},
   "source": [
    "## Function Definition\n",
    "\n",
    "Functions are the fundamental building blocks of any Python program. They are organized blocks of reusable code designed to perform a specific task. A function can take one or more inputs (parameters), execute a block of code, and optionally return one or more values.\n",
    "\n",
    "### Why Use Functions?\n",
    "Functions allow developers to write modular, reusable, and efficient code. Instead of duplicating the same logic multiple times, functions let you define the logic once and call it wherever needed.\n",
    "\n",
    "\n",
    "\n",
    "## Advantages of Functions\n",
    "\n",
    "1. **Increases Modularity**\n",
    "   - Functions allow the program to be divided into smaller, manageable parts, making it easier to understand, implement, and maintain.\n",
    "\n",
    "2. **Reduces Redundancy**\n",
    "   - By defining a function once, you avoid rewriting the same code multiple times. Simply call the function when needed.\n",
    "\n",
    "3. **Maximizes Code Reusability**\n",
    "   - Functions can be used as many times as necessary, enabling you to reuse your code efficiently and reducing overall development effort.\n",
    "\n",
    "4. **Improves Code Readability**\n",
    "   - Dividing a large program into smaller functions improves the clarity and readability of the code, making it easier to debug and maintain\n"
   ]
  },
  {
   "cell_type": "markdown",
   "id": "18c6bc7d",
   "metadata": {},
   "source": [
    "## Types of Functions\n",
    "\n",
    "There are two types of functions in python:\n",
    "\n",
    "* **User-Defined Functions** - these types of functions are defined by the user to perform any specific task\n",
    "* **Predefined Functions** - These are built-in functions in python."
   ]
  },
  {
   "cell_type": "markdown",
   "id": "66d558db",
   "metadata": {},
   "source": [
    "### Built-in Functions\n",
    "\n",
    "These are pre-defined functions that perform common tasks. Built-in functions come from two main sources:\n",
    "\n",
    "* Python Standard Libaries\n",
    "* Third-Party Libraries\n"
   ]
  },
  {
   "cell_type": "markdown",
   "id": "fbe27b40",
   "metadata": {},
   "source": [
    "#### Python Standard Library\n",
    "\n",
    "The Python Standard Library is an umbrella term for all the modules (A module is a file containing Python code (functions, classes, variables) that can be reused in your programs) and packages that come with Python, including both built-in modules (e.g., `__builtins__`) and other modules that require importing. Think of the standard library as a toolbox, with some tools always on the table (built-in) and others stored in drawers (import-required). Built-in functions like `print()`, `len()`, and `type()` are available directly without needing to import anything. They are part of Python's built-in namespace, which is loaded into memory when Python starts.\n",
    "\n",
    "Many modules in the Python Standard Library, like `math`, `os`, or `datetime`, are not automatically loaded to keep the startup time and memory usage low. To access functions or classes from these modules, you need to explicitly import them using the `import` keyword. \n",
    "\n",
    "Let's see different ways to import modules next\n",
    "\n",
    "* Basic Import"
   ]
  },
  {
   "cell_type": "code",
   "execution_count": 1,
   "id": "463ea90d",
   "metadata": {},
   "outputs": [
    {
     "name": "stdout",
     "output_type": "stream",
     "text": [
      "4.0\n"
     ]
    }
   ],
   "source": [
    "import math\n",
    "# To use a function from the module, preface it with random followed by a dot, and then the function name\n",
    "print(math.sqrt(16))"
   ]
  },
  {
   "cell_type": "markdown",
   "id": "b77704df",
   "metadata": {},
   "source": [
    "* Import Specific Functions or Classes"
   ]
  },
  {
   "cell_type": "code",
   "execution_count": 2,
   "id": "0bafa2e1",
   "metadata": {},
   "outputs": [
    {
     "name": "stdout",
     "output_type": "stream",
     "text": [
      "5.0\n"
     ]
    }
   ],
   "source": [
    "# import only sqrt function from math module\n",
    "from math import sqrt, pi\n",
    "print(sqrt(25))"
   ]
  },
  {
   "cell_type": "markdown",
   "id": "0891c32c",
   "metadata": {},
   "source": [
    "* Import with Alias:"
   ]
  },
  {
   "cell_type": "code",
   "execution_count": 3,
   "id": "7f90aded",
   "metadata": {},
   "outputs": [
    {
     "name": "stdout",
     "output_type": "stream",
     "text": [
      "[1 2 3]\n"
     ]
    }
   ],
   "source": [
    "import numpy as np\n",
    "print(np.array([1, 2, 3]))"
   ]
  },
  {
   "cell_type": "markdown",
   "id": "34e839e2",
   "metadata": {},
   "source": [
    "* Wildcard Import (Not Recommended):"
   ]
  },
  {
   "cell_type": "code",
   "execution_count": 4,
   "id": "e96bd1c0",
   "metadata": {},
   "outputs": [
    {
     "name": "stdout",
     "output_type": "stream",
     "text": [
      "0.8414709848078965\n"
     ]
    }
   ],
   "source": [
    "from math import *\n",
    "print(sin(1))"
   ]
  },
  {
   "cell_type": "markdown",
   "id": "eb22dfba",
   "metadata": {},
   "source": [
    "This way imports every function from the module. You should usually **avoid** doing this, as the module may contain some names that will interfere with your own variable\n",
    "names. For instance if your program uses a variable called `total` and you import a module\n",
    "that contains a function called `total`, there can be problems. In contrast, the first way imports an entire module in a way that will not interfere with your variable\n",
    "names. To use a function from the module, preface it with the module name followed by a dot\n",
    "\n",
    "**Location**: Usually, import statements go at the beginning of the program, but there is no restriction. They can go anywhere as long as they come before the code that uses the module.\n"
   ]
  },
  {
   "cell_type": "markdown",
   "id": "1f6d7242",
   "metadata": {},
   "source": [
    "#### Useful Modules\n",
    "\n",
    "Here’s a list of commonly used and useful modules from the Python Standard Library:\n",
    "\n",
    "* `os`: For interacting with the operating system, such as file paths and environment variables.\n",
    "* `sys`: For interacting with the Python runtime environment\n",
    "* `re`: For regular expressions and pattern matching\n",
    "* `math`: For mathematical functions and constants\n",
    "* `random`: For generating random numbers.\n",
    "* `datetime`: For working with dates and times\n",
    "* `time`: For measuring time or introducing delays.\n"
   ]
  },
  {
   "cell_type": "markdown",
   "id": "d77034e0",
   "metadata": {},
   "source": [
    "##### Random Numbers\n",
    "\n",
    "Generating random numbers is very useful in python for performing simulations (we'll see in later chapters). The library [random](https://docs.python.org/3/library/random.html) is used to generate random numbers such as integers, real numbers based on different probability distributions, etc."
   ]
  },
  {
   "cell_type": "markdown",
   "id": "2111ab84",
   "metadata": {},
   "source": [
    "Below is an example of using the `randint()` function of the library for generating random numbers in [a, b], where `a` and `b` are integers. "
   ]
  },
  {
   "cell_type": "code",
   "execution_count": 14,
   "id": "7aeb6992",
   "metadata": {},
   "outputs": [
    {
     "data": {
      "text/plain": [
       "7"
      ]
     },
     "execution_count": 14,
     "metadata": {},
     "output_type": "execute_result"
    }
   ],
   "source": [
    "import random as rm\n",
    "rm.randint(5,10) #This will generate a random number in [5,10]"
   ]
  },
  {
   "cell_type": "markdown",
   "id": "c158cee1",
   "metadata": {},
   "source": [
    "The random number will be different every time we run the program."
   ]
  },
  {
   "cell_type": "markdown",
   "id": "be64ccc1",
   "metadata": {},
   "source": [
    "##### Math Functions\n",
    "\n",
    "Python’s math module is part of the standard library and provides access to common mathematical functions and constants. You can use these functions for tasks such as computing square roots, trigonometric operations, logarithms, factorials, and more.\n",
    "\n",
    "For example:"
   ]
  },
  {
   "cell_type": "code",
   "execution_count": 17,
   "id": "57f59862",
   "metadata": {},
   "outputs": [
    {
     "name": "stdout",
     "output_type": "stream",
     "text": [
      "3.141592653589793\n",
      "1.5707963267948966\n",
      "sin(pi/2) = 1.0\n"
     ]
    }
   ],
   "source": [
    "from math import sin, pi\n",
    "print(pi)\n",
    "print(pi/2)\n",
    "print('sin(pi/2) =', sin(pi/2))"
   ]
  },
  {
   "cell_type": "markdown",
   "id": "766d553f",
   "metadata": {},
   "source": [
    "#### Getting Help from Python on a Module\n",
    "There is documentation built into Python. To get help on the `random` module"
   ]
  },
  {
   "cell_type": "code",
   "execution_count": 11,
   "id": "48adb0a1",
   "metadata": {},
   "outputs": [
    {
     "data": {
      "text/plain": [
       "['BPF',\n",
       " 'LOG4',\n",
       " 'NV_MAGICCONST',\n",
       " 'RECIP_BPF',\n",
       " 'Random',\n",
       " 'SG_MAGICCONST',\n",
       " 'SystemRandom',\n",
       " 'TWOPI',\n",
       " '_ONE',\n",
       " '_Sequence',\n",
       " '__all__',\n",
       " '__builtins__',\n",
       " '__cached__',\n",
       " '__doc__',\n",
       " '__file__',\n",
       " '__loader__',\n",
       " '__name__',\n",
       " '__package__',\n",
       " '__spec__',\n",
       " '_accumulate',\n",
       " '_acos',\n",
       " '_bisect',\n",
       " '_ceil',\n",
       " '_cos',\n",
       " '_e',\n",
       " '_exp',\n",
       " '_fabs',\n",
       " '_floor',\n",
       " '_index',\n",
       " '_inst',\n",
       " '_isfinite',\n",
       " '_lgamma',\n",
       " '_log',\n",
       " '_log2',\n",
       " '_os',\n",
       " '_pi',\n",
       " '_random',\n",
       " '_repeat',\n",
       " '_sha512',\n",
       " '_sin',\n",
       " '_sqrt',\n",
       " '_test',\n",
       " '_test_generator',\n",
       " '_urandom',\n",
       " '_warn',\n",
       " 'betavariate',\n",
       " 'binomialvariate',\n",
       " 'choice',\n",
       " 'choices',\n",
       " 'expovariate',\n",
       " 'gammavariate',\n",
       " 'gauss',\n",
       " 'getrandbits',\n",
       " 'getstate',\n",
       " 'lognormvariate',\n",
       " 'normalvariate',\n",
       " 'paretovariate',\n",
       " 'randbytes',\n",
       " 'randint',\n",
       " 'random',\n",
       " 'randrange',\n",
       " 'sample',\n",
       " 'seed',\n",
       " 'setstate',\n",
       " 'shuffle',\n",
       " 'triangular',\n",
       " 'uniform',\n",
       " 'vonmisesvariate',\n",
       " 'weibullvariate']"
      ]
     },
     "execution_count": 11,
     "metadata": {},
     "output_type": "execute_result"
    }
   ],
   "source": [
    "dir(rm)"
   ]
  },
  {
   "cell_type": "markdown",
   "id": "dfe717d3",
   "metadata": {},
   "source": [
    "This provides a list of all the functions and variables in the `random` module. You can ignore entries that start with underscores, as they are typically used internally. To get help on a specific function, such as the `uniform` function, you can type:"
   ]
  },
  {
   "cell_type": "code",
   "execution_count": 12,
   "id": "7b0258ae",
   "metadata": {},
   "outputs": [
    {
     "name": "stdout",
     "output_type": "stream",
     "text": [
      "Help on method uniform in module random:\n",
      "\n",
      "uniform(a, b) method of random.Random instance\n",
      "    Get a random number in the range [a, b) or [a, b] depending on rounding.\n",
      "\n",
      "    The mean (expected value) and variance of the random variable are:\n",
      "\n",
      "        E[X] = (a + b) / 2\n",
      "        Var[X] = (b - a) ** 2 / 12\n",
      "\n"
     ]
    }
   ],
   "source": [
    "help(rm.uniform)"
   ]
  },
  {
   "cell_type": "markdown",
   "id": "d6e8cc28",
   "metadata": {},
   "source": [
    "\n",
    "For a comprehensive overview of the entire `math` module, type:"
   ]
  },
  {
   "cell_type": "code",
   "execution_count": null,
   "id": "ed8aa1ec",
   "metadata": {},
   "outputs": [],
   "source": [
    "# help(rm) #This will give you all the functions available in the random module"
   ]
  },
  {
   "cell_type": "markdown",
   "id": "357fd70c",
   "metadata": {},
   "source": [
    "I encourage you to explore the documentation for a deeper understanding, especially when you need to use a module but are unsure how to get started."
   ]
  },
  {
   "cell_type": "markdown",
   "id": "a2674875",
   "metadata": {},
   "source": [
    "### Practice exercise 1\n",
    "\n",
    "* Can you use math.sqrt(16) without importing the math module? Why or why not?\n",
    "* Identify whether the following functions require importing a module:\n",
    "    * `abs()`\n",
    "    * `random.randint()`\n",
    "    * `time.sleep()`"
   ]
  },
  {
   "cell_type": "markdown",
   "id": "f10c9e39",
   "metadata": {},
   "source": [
    "### Practice exercise 2\n",
    "\n",
    "Generate a random number between [-5,5]. Do this 10,000 times. Find the mean of all the 10,000 random numbers generated."
   ]
  },
  {
   "cell_type": "code",
   "execution_count": null,
   "id": "0d67ebb1",
   "metadata": {},
   "outputs": [],
   "source": []
  },
  {
   "cell_type": "markdown",
   "id": "bef92b4b",
   "metadata": {},
   "source": [
    "#### Third-Party Python libraries"
   ]
  },
  {
   "cell_type": "markdown",
   "id": "5b41be07",
   "metadata": {},
   "source": [
    "Other than the Python Standard Library, Python has hundreds of thousands of additional libraries that provide a wealth of useful functions. Since Python is an open-source platform, these libraries are contributed by developers from around the world. Some of the most popular libraries in data science and their purposes are listed below:\n",
    "\n",
    "1. NumPy: Performing numerical operations and efficiently storing numerical data.\n",
    "2. Pandas: Reading, cleaning and manipulating data.\n",
    "3. Matplotlib, Seaborn: Visualizing data.\n",
    "4. SciPy: Performing scientific computing such as solving differential equations, optimization, statistical tests, etc.\n",
    "5. Scikit-learn: Data pre-processing and machine learning, with a focus on prediction.\n",
    "6. Statsmodels: Developing statistical models with a focus on inference\n",
    "\n",
    "Before you can use them, you need to `install` each library and then `import` it in your code."
   ]
  },
  {
   "cell_type": "markdown",
   "id": "105c5835",
   "metadata": {},
   "source": [
    "A library can be imported using the `import` keyword after it has been successfully installed. For example, the `NumPy` library can be imported as:"
   ]
  },
  {
   "cell_type": "code",
   "execution_count": null,
   "id": "866b95e3",
   "metadata": {},
   "outputs": [],
   "source": [
    "import numpy as np"
   ]
  },
  {
   "cell_type": "markdown",
   "id": "8f197c2f",
   "metadata": {},
   "source": [
    "Using the `as` keyboard, the NumPy library has been given the name `np`. All the functions and attributes of the library can be called using the *'np.'* prefix. For example, let us generate a sequence of whole numbers upto `10` using the NumPy function [arange()](https://numpy.org/doc/stable/reference/generated/numpy.arange.html):"
   ]
  },
  {
   "cell_type": "code",
   "execution_count": null,
   "id": "8654e4cd",
   "metadata": {},
   "outputs": [
    {
     "data": {
      "text/plain": [
       "array([0, 1, 2, 3, 4, 5, 6, 7])"
      ]
     },
     "metadata": {},
     "output_type": "display_data"
    }
   ],
   "source": [
    "np.arange(8)"
   ]
  },
  {
   "cell_type": "markdown",
   "id": "d848ad9a",
   "metadata": {},
   "source": [
    "You will use these libraries in the upcoming data science courses."
   ]
  },
  {
   "cell_type": "markdown",
   "id": "687eb946",
   "metadata": {},
   "source": [
    "## User-defined Functions\n",
    "\n",
    "A user-defined function is a function created by the user in Python to perform a specific task. Unlike built-in functions (like `print()` or `len()`), user-defined functions allow you to define **custom functionality tailored to your program's needs**.\n",
    "\n",
    "The image below provides a helpful breakdown of a Python function definition with labels for each component. "
   ]
  },
  {
   "cell_type": "code",
   "execution_count": 9,
   "id": "efc03cf7",
   "metadata": {},
   "outputs": [
    {
     "data": {
      "text/html": [
       "<img src=\"./images/python-function-definition.png\" width=\"500\" height=\"400\"/>"
      ],
      "text/plain": [
       "<IPython.core.display.Image object>"
      ]
     },
     "execution_count": 9,
     "metadata": {},
     "output_type": "execute_result"
    }
   ],
   "source": [
    "#| echo: false\n",
    "\n",
    "# import image module\n",
    "from IPython.display import Image\n",
    "\n",
    "# get the image\n",
    "Image(url=\"./images/python-function-definition.png\",width=500, height=400)"
   ]
  },
  {
   "cell_type": "markdown",
   "id": "08dc164f",
   "metadata": {},
   "source": [
    "### Key Components (Based on the Diagram)\n",
    "\n",
    "1. **`def` keyword**: Indicates the start of a function definition.\n",
    "2. **Function name**: A descriptive name for the function, following Python naming conventions.\n",
    "3. **Parameters**: Variables passed into the function inside parentheses (`x`, `y` in the example). These are optional.\n",
    "4. **Colon (`:`)**: Signals the end of the function header and the start of the body.\n",
    "5. **Docstring**: A multi-line string (optional) that describes the purpose and functionality of the function.\n",
    "6. **Function body**: Contains the logic and statements of the function.\n",
    "7. **`return` statement**: Outputs a result back to the caller. This is optional.\n"
   ]
  },
  {
   "cell_type": "markdown",
   "id": "daa22483",
   "metadata": {},
   "source": [
    "### Example\n",
    "\n",
    "Look at the function defined below. It asks the user to input a number, and prints whether the number is odd or even."
   ]
  },
  {
   "cell_type": "code",
   "execution_count": 3,
   "id": "104c24d9",
   "metadata": {},
   "outputs": [
    {
     "name": "stdout",
     "output_type": "stream",
     "text": [
      "This line is not a part of the function as it is not indented\n"
     ]
    }
   ],
   "source": [
    "#This is an example of a function definition\n",
    "\n",
    "def odd_even():           \n",
    "    num = int(input(\"Enter an integer:\"))\n",
    "    if num%2==0:\n",
    "        print(\"Even\")\n",
    "    else:\n",
    "        print(\"Odd\")   #Function definition ends here\n",
    "        \n",
    "print(\"This line is not a part of the function as it is not indented\") #This line is not a part of the function"
   ]
  },
  {
   "cell_type": "markdown",
   "id": "8cab5b5f",
   "metadata": {},
   "source": [
    "Note that the function is defined using the `def` keyword. All the lines within the function definition are indented. The indentation shows the lines of code that below to the function. When the indentation stops, the function definition is considered to have ended."
   ]
  },
  {
   "cell_type": "markdown",
   "id": "b68aba16",
   "metadata": {},
   "source": [
    "Whenever the user wishes to input a number and print whether it is odd or even, they can call the function defined above by its name as follows:"
   ]
  },
  {
   "cell_type": "code",
   "execution_count": 4,
   "id": "8a6a9d9c",
   "metadata": {},
   "outputs": [
    {
     "name": "stdout",
     "output_type": "stream",
     "text": [
      "Enter an integer:5\n",
      "Odd\n"
     ]
    }
   ],
   "source": [
    "odd_even()"
   ]
  },
  {
   "cell_type": "markdown",
   "id": "0e9938eb",
   "metadata": {},
   "source": [
    "In Python, empty parentheses are used when defining a function, even if it doesn't take any parameters. This is a syntactic requirement to differentiate between variables and functions. It helps Python understand that you are defining a function, not just referencing a variable."
   ]
  },
  {
   "cell_type": "markdown",
   "id": "ca83c0b1",
   "metadata": {},
   "source": [
    "### Parameters and arguments of a function"
   ]
  },
  {
   "cell_type": "markdown",
   "id": "a609bd33",
   "metadata": {},
   "source": [
    "Note that the function defined above needs no input when called. However, sometimes we may wish to define a function that takes input(s), and performs computations on the inputs to produce an output. These input(s) are called parameter(s) of a function. When a function is called, the value(s) of these parameter(s) must be specified as argument(s) to the function. "
   ]
  },
  {
   "cell_type": "markdown",
   "id": "d02cae9c",
   "metadata": {},
   "source": [
    "#### Function with a parameter"
   ]
  },
  {
   "cell_type": "markdown",
   "id": "d8bc6c11",
   "metadata": {},
   "source": [
    "Let us change the previous example to write a function that takes an integer as an input argument, and prints whether it is odd or even:"
   ]
  },
  {
   "cell_type": "code",
   "execution_count": 5,
   "id": "04d1f68a",
   "metadata": {},
   "outputs": [],
   "source": [
    "#This is an example of a function definition that has an argument\n",
    "def odd_even(num):           \n",
    "    if num%2==0:\n",
    "        print(\"Even\")\n",
    "    else:\n",
    "        print(\"Odd\")"
   ]
  },
  {
   "cell_type": "markdown",
   "id": "d18594ad",
   "metadata": {},
   "source": [
    "We can use the function whenever we wish to find a number is odd or even. For example, if we wish to find that a number input by the user is odd or even, we can call the function with the user input as its argument."
   ]
  },
  {
   "cell_type": "code",
   "execution_count": 6,
   "id": "66808419",
   "metadata": {},
   "outputs": [
    {
     "name": "stdout",
     "output_type": "stream",
     "text": [
      "Enter an integer:6\n",
      "Even\n"
     ]
    }
   ],
   "source": [
    "number = int(input(\"Enter an integer:\"))\n",
    "odd_even(number)"
   ]
  },
  {
   "cell_type": "markdown",
   "id": "ef943a8d",
   "metadata": {},
   "source": [
    "Note that the above function needs an argument as per the function definition. It will produce an error if called without an argument:"
   ]
  },
  {
   "cell_type": "code",
   "execution_count": 8,
   "id": "f7913e0e",
   "metadata": {},
   "outputs": [
    {
     "ename": "TypeError",
     "evalue": "odd_even() missing 1 required positional argument: 'num'",
     "output_type": "error",
     "traceback": [
      "\u001b[1;31m---------------------------------------------------------------------------\u001b[0m",
      "\u001b[1;31mTypeError\u001b[0m                                 Traceback (most recent call last)",
      "\u001b[1;32m<ipython-input-8-d86a5f720e3b>\u001b[0m in \u001b[0;36m<module>\u001b[1;34m\u001b[0m\n\u001b[1;32m----> 1\u001b[1;33m \u001b[0modd_even\u001b[0m\u001b[1;33m(\u001b[0m\u001b[1;33m)\u001b[0m\u001b[1;33m\u001b[0m\u001b[1;33m\u001b[0m\u001b[0m\n\u001b[0m",
      "\u001b[1;31mTypeError\u001b[0m: odd_even() missing 1 required positional argument: 'num'"
     ]
    }
   ],
   "source": [
    "odd_even()"
   ]
  },
  {
   "cell_type": "markdown",
   "id": "8fb3b4a4",
   "metadata": {},
   "source": [
    "#### Function with a parameter having a default value"
   ]
  },
  {
   "cell_type": "markdown",
   "id": "98c59ccb",
   "metadata": {},
   "source": [
    "To avoid errors as above, sometimes is a good idea to assign a default value to the parameter in the function definition:"
   ]
  },
  {
   "cell_type": "code",
   "execution_count": 17,
   "id": "f9c458be",
   "metadata": {},
   "outputs": [],
   "source": [
    "#This is an example of a function definition that has an argument with a default value\n",
    "def odd_even(num=0):           \n",
    "    if num%2==0:\n",
    "        print(\"Even\")\n",
    "    else:\n",
    "        print(\"Odd\")"
   ]
  },
  {
   "cell_type": "markdown",
   "id": "2859903f",
   "metadata": {},
   "source": [
    "Now, we can call the function without an argument. The function will use the default value of the parameter specified in the function definition."
   ]
  },
  {
   "cell_type": "code",
   "execution_count": 10,
   "id": "5d23995b",
   "metadata": {},
   "outputs": [
    {
     "name": "stdout",
     "output_type": "stream",
     "text": [
      "Even\n"
     ]
    }
   ],
   "source": [
    "odd_even()"
   ]
  },
  {
   "cell_type": "markdown",
   "id": "d315af31",
   "metadata": {},
   "source": [
    "#### Function with multiple parameters"
   ]
  },
  {
   "cell_type": "markdown",
   "id": "22216ffa",
   "metadata": {},
   "source": [
    "A function can have as many parameters as needed. Multiple parameters/arguments are separated by commas. For example, below is a function that inputs two strings, concatenates them with a space in between, and prints the output: "
   ]
  },
  {
   "cell_type": "code",
   "execution_count": 13,
   "id": "5d0a5765",
   "metadata": {},
   "outputs": [],
   "source": [
    "def concat_string(string1, string2):\n",
    "    print(string1+' '+string2)"
   ]
  },
  {
   "cell_type": "code",
   "execution_count": 14,
   "id": "24634194",
   "metadata": {},
   "outputs": [
    {
     "name": "stdout",
     "output_type": "stream",
     "text": [
      "Hi there\n"
     ]
    }
   ],
   "source": [
    "concat_string(\"Hi\", \"there\")"
   ]
  },
  {
   "cell_type": "markdown",
   "id": "c0730597",
   "metadata": {},
   "source": [
    "### Practice exercise 3\n",
    "Write a function that prints prime numbers between two real numbers - `a` and `b`, where `a` and `b` are the parameters of the function. Call the function and check the output with a = 60, b = 80."
   ]
  },
  {
   "cell_type": "code",
   "execution_count": null,
   "id": "1caf30b0",
   "metadata": {},
   "outputs": [],
   "source": []
  },
  {
   "cell_type": "markdown",
   "id": "96bfde68",
   "metadata": {},
   "source": [
    "### Functions that return objects"
   ]
  },
  {
   "cell_type": "markdown",
   "id": "1e6b4f98",
   "metadata": {},
   "source": [
    "Until now, we saw functions that print text. However, the functions did not `return` any object. For example, the function `odd_even` prints whether the number is odd or even. However, we did not save this information. In future, we may need to use the information that whether the number was odd or even. Thus, typically, we return an object from the function definition, which consists of the information we may need in the future. \n",
    "\n",
    "The example `odd_even` can be updated to return the text \"odd\" or \"even\" as shown below:"
   ]
  },
  {
   "cell_type": "code",
   "execution_count": 27,
   "id": "90abc3f1",
   "metadata": {},
   "outputs": [],
   "source": [
    "#This is an example of a function definition that has an argument with a default value, and returns an object\n",
    "def odd_even(num=0):           \n",
    "    if num%2==0:\n",
    "        return(\"Even\")\n",
    "    else:\n",
    "        return(\"Odd\")"
   ]
  },
  {
   "cell_type": "markdown",
   "id": "e31c6364",
   "metadata": {},
   "source": [
    "The function above returns a string \"Odd\" or \"Even\", depending on whether the number is odd or even. This result can be stored in a variable, which can be used later."
   ]
  },
  {
   "cell_type": "code",
   "execution_count": 31,
   "id": "f98fd31b",
   "metadata": {},
   "outputs": [
    {
     "data": {
      "text/plain": [
       "'Odd'"
      ]
     },
     "execution_count": 31,
     "metadata": {},
     "output_type": "execute_result"
    }
   ],
   "source": [
    "response=odd_even(3)\n",
    "response"
   ]
  },
  {
   "cell_type": "markdown",
   "id": "8f40b8cc",
   "metadata": {},
   "source": [
    "The variable `response` now refers to the object where the string \"Odd\" or \"Even\" is stored. Thus, the result of the computation is stored, and the variable can be used later on in the program. Note that the control flow exits the function as soon as the first `return` statement is executed."
   ]
  },
  {
   "cell_type": "markdown",
   "id": "e4123287",
   "metadata": {},
   "source": [
    "### Practice exercise 4: Create a Custom Calculator\n",
    "\n",
    "Write a function calculator that performs basic arithmetic operations: addition, subtraction, multiplication, and division.\n",
    "\n",
    "Steps:\n",
    "\n",
    "1. Define a function `calculator` with three parameters: `a`, `b`, and `operation` (a string indicating the operation, e.g., `'add'`, `'subtract'`).\n",
    "2. Use conditional statements to handle the operations.\n",
    "3. Return the result of the operation.\n",
    "4. Handle invalid operations gracefully.\n",
    "\n",
    "Expected Output Examples:\n",
    "\n",
    "```\n",
    "print(calculator(10, 5, 'add'))        # Output: 15\n",
    "print(calculator(10, 5, 'subtract'))   # Output: 5\n",
    "print(calculator(10, 5, 'multiply'))   # Output: 50\n",
    "print(calculator(10, 5, 'divide'))     # Output: 2.0\n",
    "```"
   ]
  },
  {
   "cell_type": "code",
   "execution_count": null,
   "id": "91960a6d",
   "metadata": {},
   "outputs": [],
   "source": []
  },
  {
   "cell_type": "markdown",
   "id": "aa1f59db",
   "metadata": {},
   "source": [
    "### Bonus Challenge: Palindrome Checker\n",
    "\n",
    "Write a function called `is_palindrome` that checks if a string is a palindrome (reads the same forward and backward).\n",
    "\n",
    "Steps:\n",
    "\n",
    "1. Define the function `is_palindrome` with one parameter, `text`.\n",
    "2. Ignore case and spaces.\n",
    "3. Return `True` if the string is a palindrome, otherwise False.\n",
    "\n",
    "Expected OUtput Examples:\n",
    "\n",
    "```\n",
    "print(is_palindrome(\"radar\"))         # Output: True\n",
    "print(is_palindrome(\"hello\"))         # Output: False\n",
    "print(is_palindrome(\"A man a plan a canal Panama\"))  # Output: True\n",
    "```\n",
    "\n"
   ]
  },
  {
   "cell_type": "code",
   "execution_count": null,
   "id": "a473a512",
   "metadata": {},
   "outputs": [],
   "source": []
  },
  {
   "cell_type": "markdown",
   "id": "f99f5235",
   "metadata": {},
   "source": [
    "### Global and local variables with respect to a function\n",
    "\n",
    "#### Local Variables\n",
    "\n",
    "* **Definition**: A local variable is defined within a function (or a block of code) and can only be accessed within that function. Once the function finishes executing, local variables are discarded.\n",
    "* **Scope**: Limited to the function in which they are declared"
   ]
  },
  {
   "cell_type": "code",
   "execution_count": null,
   "id": "381d5d08",
   "metadata": {},
   "outputs": [
    {
     "name": "stdout",
     "output_type": "stream",
     "text": [
      "Inside function, x = 10\n"
     ]
    },
    {
     "ename": "NameError",
     "evalue": "name 'x' is not defined",
     "output_type": "error",
     "traceback": [
      "\u001b[1;31m---------------------------------------------------------------------------\u001b[0m",
      "\u001b[1;31mNameError\u001b[0m                                 Traceback (most recent call last)",
      "Cell \u001b[1;32mIn[19], line 7\u001b[0m\n\u001b[0;32m      5\u001b[0m example_function()\n\u001b[0;32m      6\u001b[0m \u001b[38;5;66;03m# Trying to print x outside the function will result in an error:\u001b[39;00m\n\u001b[1;32m----> 7\u001b[0m \u001b[38;5;28mprint\u001b[39m(\u001b[43mx\u001b[49m)  \u001b[38;5;66;03m# NameError: name 'x' is not defined\u001b[39;00m\n",
      "\u001b[1;31mNameError\u001b[0m: name 'x' is not defined"
     ]
    }
   ],
   "source": [
    "def example_function():\n",
    "    x = 10            # x is a local variable\n",
    "    print(\"Inside function, x =\", x)\n",
    "\n",
    "example_function()\n",
    "# Trying to print x outside the function will result in an error:\n",
    "print(x)  # This will result in an error\n"
   ]
  },
  {
   "cell_type": "markdown",
   "id": "0670a182",
   "metadata": {},
   "source": [
    "#### Global Variables\n",
    "\n",
    "* **Definition**: A global variable is declared in the main body of the Python file (i.e., at the top level), making it accessible to any function or class in the same module, provided you do not shadow it with a local variable.\n",
    "* **Scope**: Accessible throughout the entire module (file) after declaration.\n",
    "* **Best Practice**: Use global variables sparingly, as they can make code harder to debug and maintain."
   ]
  },
  {
   "cell_type": "code",
   "execution_count": 20,
   "id": "44935285",
   "metadata": {},
   "outputs": [
    {
     "name": "stdout",
     "output_type": "stream",
     "text": [
      "Inside function, global_var = 20\n",
      "Outside function, global_var = 20\n"
     ]
    }
   ],
   "source": [
    "global_var = 20  # global variable\n",
    "\n",
    "def show_global_var():\n",
    "    print(\"Inside function, global_var =\", global_var)\n",
    "\n",
    "show_global_var()\n",
    "print(\"Outside function, global_var =\", global_var)\n"
   ]
  },
  {
   "cell_type": "markdown",
   "id": "fcbc3cb2",
   "metadata": {},
   "source": [
    "#### Using a Global Variable Inside a Function\n",
    "\n",
    "By default, if you just read a global variable inside a function, Python will find it in the global scope. However, if you attempt to modify a global variable inside a function without explicitly declaring it `global`, Python will treat that variable as `local`, potentially leading to errors."
   ]
  },
  {
   "cell_type": "code",
   "execution_count": 21,
   "id": "e646641a",
   "metadata": {},
   "outputs": [
    {
     "name": "stdout",
     "output_type": "stream",
     "text": [
      "Inside function, global_var = 20\n"
     ]
    }
   ],
   "source": [
    "# Reading a global variable inside a function\n",
    "global_var = 20  # global variable\n",
    "\n",
    "def show_global_var():\n",
    "    print(\"Inside function, global_var =\", global_var)\n",
    "\n",
    "show_global_var()"
   ]
  },
  {
   "cell_type": "code",
   "execution_count": 22,
   "id": "5e68b989",
   "metadata": {},
   "outputs": [
    {
     "ename": "UnboundLocalError",
     "evalue": "cannot access local variable 'counter' where it is not associated with a value",
     "output_type": "error",
     "traceback": [
      "\u001b[1;31m---------------------------------------------------------------------------\u001b[0m",
      "\u001b[1;31mUnboundLocalError\u001b[0m                         Traceback (most recent call last)",
      "Cell \u001b[1;32mIn[22], line 8\u001b[0m\n\u001b[0;32m      5\u001b[0m     counter \u001b[38;5;241m=\u001b[39m counter \u001b[38;5;241m+\u001b[39m \u001b[38;5;241m1\u001b[39m  \u001b[38;5;66;03m# This will cause UnboundLocalError\u001b[39;00m\n\u001b[0;32m      6\u001b[0m     \u001b[38;5;28mprint\u001b[39m(\u001b[38;5;124m\"\u001b[39m\u001b[38;5;124mCounter is now\u001b[39m\u001b[38;5;124m\"\u001b[39m, counter)\n\u001b[1;32m----> 8\u001b[0m \u001b[43mincrement_counter_wrong\u001b[49m\u001b[43m(\u001b[49m\u001b[43m)\u001b[49m  \u001b[38;5;66;03m# UnboundLocalError: local variable 'counter' referenced before assignment\u001b[39;00m\n",
      "Cell \u001b[1;32mIn[22], line 5\u001b[0m, in \u001b[0;36mincrement_counter_wrong\u001b[1;34m()\u001b[0m\n\u001b[0;32m      4\u001b[0m \u001b[38;5;28;01mdef\u001b[39;00m\u001b[38;5;250m \u001b[39m\u001b[38;5;21mincrement_counter_wrong\u001b[39m():\n\u001b[1;32m----> 5\u001b[0m     counter \u001b[38;5;241m=\u001b[39m \u001b[43mcounter\u001b[49m \u001b[38;5;241m+\u001b[39m \u001b[38;5;241m1\u001b[39m  \u001b[38;5;66;03m# This will cause UnboundLocalError\u001b[39;00m\n\u001b[0;32m      6\u001b[0m     \u001b[38;5;28mprint\u001b[39m(\u001b[38;5;124m\"\u001b[39m\u001b[38;5;124mCounter is now\u001b[39m\u001b[38;5;124m\"\u001b[39m, counter)\n",
      "\u001b[1;31mUnboundLocalError\u001b[0m: cannot access local variable 'counter' where it is not associated with a value"
     ]
    }
   ],
   "source": [
    "# Changing a global variable inside a function\n",
    "counter = 0\n",
    "\n",
    "def increment_counter_wrong():\n",
    "    counter = counter + 1  # This will cause UnboundLocalError\n",
    "    print(\"Counter is now\", counter)\n",
    "\n",
    "increment_counter_wrong()  # UnboundLocalError: local variable 'counter' referenced before assignment\n"
   ]
  },
  {
   "cell_type": "markdown",
   "id": "831ba1ae",
   "metadata": {},
   "source": [
    "**Why the Error?** <br>\n",
    "Python sees `counter = counter + 1` as creating a new **local variable** `counter` on the left, while also trying to read an **uninitialized** local variable `counter` on the right."
   ]
  },
  {
   "cell_type": "markdown",
   "id": "192cb07f",
   "metadata": {},
   "source": [
    "#### The `global` keyword\n",
    "\n",
    "To modify a global variable inside a function, you must use the `global` keyword:"
   ]
  },
  {
   "cell_type": "code",
   "execution_count": 23,
   "id": "54208588",
   "metadata": {},
   "outputs": [
    {
     "name": "stdout",
     "output_type": "stream",
     "text": [
      "Counter is now 1\n",
      "Counter is now 2\n",
      "2\n"
     ]
    }
   ],
   "source": [
    "counter = 0  # global variable\n",
    "\n",
    "def increment_counter():\n",
    "    global counter  # Tell Python we want to use the global 'counter'\n",
    "    counter += 1\n",
    "    print(\"Counter is now\", counter)\n",
    "\n",
    "increment_counter()  # Counter is now 1\n",
    "increment_counter()  # Counter is now 2\n",
    "print(counter)       # 2\n"
   ]
  },
  {
   "cell_type": "markdown",
   "id": "9c8c8305",
   "metadata": {},
   "source": [
    "**When to Use global?** <br>\n",
    "* **Rarely**. Global variables can create tightly coupled code that is prone to bugs. If needed, consider passing variables as arguments or using class-level variables for shared state."
   ]
  },
  {
   "cell_type": "markdown",
   "id": "27f4fa8f",
   "metadata": {},
   "source": [
    "#### Nested Functions and the `nonlocal` Keyword\n",
    "\n",
    "In Python, you may have **nested functions**—a function defined inside another function. If the inner function needs to modify a variable in the outer (but still non-global) scope, you can use the `nonlocal` keyword.\n",
    "\n",
    "For example:"
   ]
  },
  {
   "cell_type": "code",
   "execution_count": 24,
   "id": "87fe10b7",
   "metadata": {},
   "outputs": [
    {
     "name": "stdout",
     "output_type": "stream",
     "text": [
      "Inner function, x = 15\n",
      "Outer function, x = 15\n"
     ]
    }
   ],
   "source": [
    "def outer_function():\n",
    "    x = 10\n",
    "\n",
    "    def inner_function():\n",
    "        nonlocal x\n",
    "        x += 5\n",
    "        print(\"Inner function, x =\", x)\n",
    "\n",
    "    inner_function()\n",
    "    print(\"Outer function, x =\", x)\n",
    "\n",
    "outer_function()\n"
   ]
  },
  {
   "cell_type": "markdown",
   "id": "b62a02a9",
   "metadata": {},
   "source": [
    "`nonlocal` x lets the inner function modify x in the outer_function’s scope, rather than creating a new local variable."
   ]
  },
  {
   "cell_type": "markdown",
   "id": "acdf8b5f",
   "metadata": {},
   "source": [
    "### Practice exercise 5\n",
    "\n",
    "Read the following code and answer the following questions:\n",
    "\n",
    "1. Will the program raise an error?\n",
    "2. If yes, fix the error and provide the corrected code.\n",
    "3. What will be the output of the corrected program?"
   ]
  },
  {
   "cell_type": "code",
   "execution_count": null,
   "id": "548ddf07",
   "metadata": {},
   "outputs": [],
   "source": [
    "message = \"Global Message\"  # Global variable\n",
    "\n",
    "def outer():\n",
    "    msg_outer = \"Outer Message\"  # Enclosed scope\n",
    "\n",
    "    def inner():\n",
    "        message       \n",
    "        msg_outer   \n",
    "\n",
    "        message = \"Changed Global Message\"\n",
    "        msg_outer = \"Changed Outer Message\"\n",
    "        local_msg = \"Local to inner()\"  # Local variable\n",
    "        print(\"Inside inner()\")\n",
    "        print(\"Global message =\", message)\n",
    "        print(\"Enclosed msg_outer =\", msg_outer)\n",
    "        print(\"Local local_msg =\", local_msg)\n",
    "\n",
    "    inner()\n",
    "    print(\"\\nInside outer() after inner() call:\")\n",
    "    print(\"Global message =\", message)\n",
    "    print(\"Enclosed msg_outer =\", msg_outer)\n",
    "\n",
    "outer()\n",
    "\n",
    "print(\"\\nOutside all functions (global scope):\")\n",
    "print(\"Global message =\", message)\n"
   ]
  },
  {
   "cell_type": "code",
   "execution_count": null,
   "id": "5ed0d0b5",
   "metadata": {},
   "outputs": [],
   "source": []
  }
 ],
 "metadata": {
  "kernelspec": {
   "display_name": "base",
   "language": "python",
   "name": "python3"
  },
  "language_info": {
   "codemirror_mode": {
    "name": "ipython",
    "version": 3
   },
   "file_extension": ".py",
   "mimetype": "text/x-python",
   "name": "python",
   "nbconvert_exporter": "python",
   "pygments_lexer": "ipython3",
   "version": "3.12.4"
  }
 },
 "nbformat": 4,
 "nbformat_minor": 5
}
