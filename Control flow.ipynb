{
 "cells": [
  {
   "cell_type": "raw",
   "id": "05c8ba02",
   "metadata": {},
   "source": [
    "---\n",
    "title: \"Control flow statements\"\n",
    "format: \n",
    "  html:\n",
    "    toc: true\n",
    "    code-fold: false\n",
    "jupyter: python3\n",
    "---"
   ]
  },
  {
   "cell_type": "code",
   "execution_count": 4,
   "id": "d4ce3d8d",
   "metadata": {},
   "outputs": [
    {
     "data": {
      "text/html": [
       "<img src=\"images/python-flow-control-statements.webp\" width=\"400\" height=\"400\"/>"
      ],
      "text/plain": [
       "<IPython.core.display.Image object>"
      ]
     },
     "execution_count": 4,
     "metadata": {},
     "output_type": "execute_result"
    }
   ],
   "source": [
    "#| echo: false\n",
    "\n",
    "# import image module\n",
    "from IPython.display import Image\n",
    "\n",
    "# get the image\n",
    "Image(url=\"images/python-flow-control-statements.webp\", width=400, height=400)"
   ]
  },
  {
   "cell_type": "markdown",
   "id": "dddeb5da",
   "metadata": {},
   "source": [
    "A [control flow statement](https://docs.python.org/3/tutorial/controlflow.html) in a computer program determines the individual lines of code to be executed and/or the order in which they will be executed. In this chapter, we'll learn about 3 types of control flow statements:\n",
    "\n",
    "1. if-elif-else\n",
    "2. for and while loops\n",
    "3. break, continue, and pass statements"
   ]
  },
  {
   "cell_type": "markdown",
   "id": "dbff2ade",
   "metadata": {},
   "source": [
    "## Indentation in Python\n",
    "\n",
    "**Syntax:** Python uses indentation to identify the code to be executed if a condition is true. All the code indented within a condition is executed if the condition is true.\n",
    "\n",
    "### **What is Indentation?**\n",
    "- Indentation refers to the spaces or tabs at the beginning of a line of code.\n",
    "- In Python, indentation is **mandatory** and is used to define the structure of the code, such as blocks in loops, conditionals, functions, and classes.\n",
    "- Unlike some other programming languages, Python does not use braces `{}` or keywords like `begin` and `end` to define blocks of code.\n",
    "\n",
    "\n",
    "### **Rules for Indentation**\n",
    "1. **Consistency is Key**:\n",
    "   - Use either spaces or tabs for indentation, but **do not mix them** in the same file.\n",
    "   - The recommended standard is to use **4 spaces** per indentation level (PEP 8).\n",
    "\n",
    "2. **Indentation Levels**:\n",
    "   - Each block of code under a statement (e.g., `if`, `for`, `while`, `def`) must be indented one level deeper than the statement itself.\n",
    "\n",
    "\n",
    "### **Examples**"
   ]
  },
  {
   "cell_type": "code",
   "execution_count": 5,
   "id": "d01bd074",
   "metadata": {},
   "outputs": [],
   "source": [
    "# Example of proper indentation\n",
    "def greet(name):\n",
    "    if name:\n",
    "        print(f\"Hello, {name}!\")\n",
    "    else:\n",
    "        print(\"Hello, World!\")"
   ]
  },
  {
   "cell_type": "markdown",
   "id": "249e63c4",
   "metadata": {},
   "source": [
    "## Conditonal execution"
   ]
  },
  {
   "cell_type": "markdown",
   "id": "e2167655",
   "metadata": {},
   "source": [
    "The first type of control flow satement is `if-elif-else`. This statement helps with conditional execution of code, i.e., the piece of code to be executed is selected based on certain condition statements(s)."
   ]
  },
  {
   "cell_type": "code",
   "execution_count": 6,
   "id": "6ca2daf8",
   "metadata": {},
   "outputs": [
    {
     "data": {
      "text/html": [
       "<img src=\"images/if-elseif-ladder.jpg\" width=\"500\" height=\"500\"/>"
      ],
      "text/plain": [
       "<IPython.core.display.Image object>"
      ]
     },
     "execution_count": 6,
     "metadata": {},
     "output_type": "execute_result"
    }
   ],
   "source": [
    "#| echo: false\n",
    "\n",
    "# import image module\n",
    "from IPython.display import Image\n",
    "\n",
    "# get the image\n",
    "Image(url=\"images/if-elseif-ladder.jpg\", width=500, height=500)"
   ]
  },
  {
   "cell_type": "markdown",
   "id": "17996b15",
   "metadata": {},
   "source": [
    "### Comparison operators"
   ]
  },
  {
   "cell_type": "markdown",
   "id": "822cf733",
   "metadata": {},
   "source": [
    "For testing if conditions are true or false, first we need to learn the operators that can be used for comparison. For example, suppose we want to check if two objects are equal, we use the `==` operator:"
   ]
  },
  {
   "cell_type": "code",
   "execution_count": 6,
   "id": "1a06ec7f",
   "metadata": {},
   "outputs": [
    {
     "data": {
      "text/plain": [
       "False"
      ]
     },
     "execution_count": 6,
     "metadata": {},
     "output_type": "execute_result"
    }
   ],
   "source": [
    "5 == 6"
   ]
  },
  {
   "cell_type": "markdown",
   "id": "2afa0b05",
   "metadata": {},
   "source": [
    "Make sure you can differentiate between the `==` and `=` operators:\n",
    "- **`==`**: This is a **comparison operator**, used to compare two values and return a Boolean result (`True` or `False`).\n",
    "- **`=`**: This is an **assignment operator**, used to assign values to variables."
   ]
  },
  {
   "cell_type": "code",
   "execution_count": 1,
   "id": "c258c69d",
   "metadata": {},
   "outputs": [
    {
     "data": {
      "text/plain": [
       "True"
      ]
     },
     "execution_count": 1,
     "metadata": {},
     "output_type": "execute_result"
    }
   ],
   "source": [
    "x = \"hi\"\n",
    "y = \"hi\"\n",
    "x == y"
   ]
  },
  {
   "cell_type": "markdown",
   "id": "22cbf963",
   "metadata": {},
   "source": [
    "Below are the python comparison operators and their meanings."
   ]
  },
  {
   "cell_type": "markdown",
   "id": "3423e530",
   "metadata": {},
   "source": [
    "| Python code | Meaning |\n",
    "| --- | --- |\n",
    "| x == y | Produce True if ... x is equal to y |\n",
    "| x !=  y | ... x is not equal to y |\n",
    "| x > y | ... x is greater than y |\n",
    "| x < y | ... x is less than y |\n",
    "| x >= y | ... x is greater than or equal to y |\n",
    "| x <= y | ... x is less than or equal to y |"
   ]
  },
  {
   "cell_type": "markdown",
   "id": "abd92251",
   "metadata": {},
   "source": [
    "### Logical Operators in Conditional Statements\n",
    "\n",
    "Logical operators are used to **combine multiple conditions** in a conditional statement, allowing for more complex decision-making. Python provides three logical operators:\n",
    "\n",
    "####  **`and`**\n",
    "- **Description**: Returns `True` if both conditions are `True`.\n",
    "- **Example**:"
   ]
  },
  {
   "cell_type": "code",
   "execution_count": 2,
   "id": "27a0dac3",
   "metadata": {},
   "outputs": [
    {
     "name": "stdout",
     "output_type": "stream",
     "text": [
      "x is a positive single-digit number.\n"
     ]
    }
   ],
   "source": [
    "x = 5\n",
    "if x > 0 and x < 10:\n",
    "    print(\"x is a positive single-digit number.\")"
   ]
  },
  {
   "cell_type": "markdown",
   "id": "dfd0621c",
   "metadata": {},
   "source": [
    "####  **`or`**\n",
    "- **Description**: Returns `True` if at least one condition is `True`.\n",
    "- **Example**:"
   ]
  },
  {
   "cell_type": "code",
   "execution_count": 3,
   "id": "62fa8125",
   "metadata": {},
   "outputs": [
    {
     "name": "stdout",
     "output_type": "stream",
     "text": [
      "x is either negative or greater than 10.\n"
     ]
    }
   ],
   "source": [
    "x = -5\n",
    "if x < 0 or x > 10:\n",
    "    print(\"x is either negative or greater than 10.\")\n"
   ]
  },
  {
   "cell_type": "markdown",
   "id": "b7fe627c",
   "metadata": {},
   "source": [
    "####  **`not`**\n",
    "- **Description**: Returns the negation of a condition (`True` becomes `False` and vice versa).\n",
    "- **Example**:"
   ]
  },
  {
   "cell_type": "code",
   "execution_count": 4,
   "id": "6f7d7093",
   "metadata": {},
   "outputs": [
    {
     "name": "stdout",
     "output_type": "stream",
     "text": [
      "x is not negative.\n"
     ]
    }
   ],
   "source": [
    "x = 5\n",
    "if not (x < 0):\n",
    "    print(\"x is not negative.\")\n"
   ]
  },
  {
   "cell_type": "markdown",
   "id": "df81780d",
   "metadata": {},
   "source": [
    "### if-elif-else statement"
   ]
  },
  {
   "cell_type": "markdown",
   "id": "223af6dc",
   "metadata": {},
   "source": [
    "The `if-elif-else` statements can check several conditions, and execute the code corresponding to the condition that is true. Note that there can be as many `elif` statements as required."
   ]
  },
  {
   "cell_type": "markdown",
   "id": "423b791c",
   "metadata": {},
   "source": [
    "**Syntax:** Python uses indentation to identify the code to be executed if a condition is true. All the code indented within a condition is executed if the condition is true."
   ]
  },
  {
   "cell_type": "markdown",
   "id": "bb664336",
   "metadata": {},
   "source": [
    "**Example:** Input an integer. Print whether it is positive or negative."
   ]
  },
  {
   "cell_type": "code",
   "execution_count": 4,
   "id": "a07c8f99",
   "metadata": {},
   "outputs": [
    {
     "name": "stdout",
     "output_type": "stream",
     "text": [
      "Enter a number:-9\n",
      "Number is negative\n"
     ]
    }
   ],
   "source": [
    "number = input(\"Enter a number:\")  #Input an integer\n",
    "number_integer = int(number)       #Convert the integer to 'int' datatype\n",
    "if number_integer > 0:               #Check if the integer is positive\n",
    "    print(\"Number is positive\")\n",
    "else:\n",
    "    print(\"Number is negative\")"
   ]
  },
  {
   "cell_type": "markdown",
   "id": "86260c9a",
   "metadata": {},
   "source": [
    "In the above code, note that anything entered by the user is taken as a string datatype by python. However, a string cannot be positive or negative. So, we converted the number input by the user to integer to check if it was positive or negative."
   ]
  },
  {
   "cell_type": "markdown",
   "id": "3c709ef1",
   "metadata": {},
   "source": [
    "There may be multiple statements to be executed if a condition is true. See the example below."
   ]
  },
  {
   "cell_type": "markdown",
   "id": "367e00b4",
   "metadata": {},
   "source": [
    "**Example:** Input a number. Print whether it is positive, negative or zero. If it is negative, print its absolute value. "
   ]
  },
  {
   "cell_type": "code",
   "execution_count": 1,
   "id": "1b3727cb",
   "metadata": {},
   "outputs": [
    {
     "name": "stdout",
     "output_type": "stream",
     "text": [
      "Enter a number:0\n",
      "Number is zero\n"
     ]
    }
   ],
   "source": [
    "number = input(\"Enter a number:\")\n",
    "number_integer = int(number)\n",
    "if number_integer > 0:\n",
    "    print(\"Number is positive\")\n",
    "elif number_integer == 0:\n",
    "    print(\"Number is zero\")\n",
    "else:\n",
    "    print(\"Number is negative\")\n",
    "    print(\"Absolute value of number = \", abs(number_integer))"
   ]
  },
  {
   "cell_type": "markdown",
   "id": "e6fb93be",
   "metadata": {},
   "source": [
    "### Practice exercise 1"
   ]
  },
  {
   "cell_type": "markdown",
   "id": "f06f1c05",
   "metadata": {},
   "source": [
    "Input a number. Print whether its odd or even. "
   ]
  },
  {
   "cell_type": "markdown",
   "id": "4713b2c4",
   "metadata": {},
   "source": [
    "**Solution:**"
   ]
  },
  {
   "cell_type": "code",
   "execution_count": 1,
   "id": "2ba5655d",
   "metadata": {},
   "outputs": [
    {
     "name": "stdout",
     "output_type": "stream",
     "text": [
      "Number is odd\n"
     ]
    }
   ],
   "source": [
    "num = int(input(\"Enter a number: \"))\n",
    "if num%2 == 0:           #Checking if the number is divisible by 2\n",
    "    print(\"Number is even\")\n",
    "else:\n",
    "    print(\"Number is odd\")"
   ]
  },
  {
   "cell_type": "markdown",
   "id": "9a7894f7",
   "metadata": {},
   "source": [
    "### Practice exercise 2"
   ]
  },
  {
   "cell_type": "markdown",
   "id": "6389b3d2",
   "metadata": {},
   "source": [
    "#### \n",
    "Ask the user to enter their exam score. Print the grade based on their score as follows:\n",
    "\n",
    "| Score | Grade |\n",
    "| --- | --- |\n",
    "| (90,100] | A |\n",
    "| (80,90] | B |\n",
    "| [0,80] | C |\n",
    "\n",
    "If the user inputs a score which is not a number in [0,100], print invalid entry."
   ]
  },
  {
   "cell_type": "markdown",
   "id": "fc7e862c",
   "metadata": {},
   "source": [
    "**Solution:**"
   ]
  },
  {
   "cell_type": "code",
   "execution_count": 1,
   "id": "b0e02697",
   "metadata": {},
   "outputs": [
    {
     "name": "stdout",
     "output_type": "stream",
     "text": [
      "Enter exam score:90\n",
      "Grade: B\n"
     ]
    }
   ],
   "source": [
    "score = input(\"Enter exam score:\")\n",
    "try:\n",
    "    \n",
    "    #As exam score can be a floating point number (such as 90.65), we need to use 'float' instead of 'int' to convert the user input to a floating point number\n",
    "    score_num = float(score)\n",
    "    if score_num > 90 and score_num <= 100:\n",
    "        print(\"Grade: A\")\n",
    "    elif score_num > 80 and score_num <= 90:\n",
    "        print(\"Grade: B\")\n",
    "    elif score_num >= 0 and score_num <= 80:\n",
    "        print(\"Grade: C\")\n",
    "    else:\n",
    "        print(\"Invalid score\")     #If a number is less than 0 or more than 100\n",
    "except:\n",
    "    print(\"Invalid input\")         #If the input is not a number"
   ]
  },
  {
   "cell_type": "markdown",
   "id": "7c8b9450",
   "metadata": {},
   "source": [
    "#### \n",
    "**Nested if-elif-else statements:** This question will lead you to create nested `if` statements, i.e., an `if` statement within another `if` statement.\n",
    "\n",
    "Think of a number in [1,5]. Ask the user to guess the number. \n",
    "\n",
    "- If the user guesses the number correctly, print \"Correct in the first attempt!\", and stop the program. Otherwise, print \"Incorrect! Try again\" and give them another chance to guess the number. \n",
    "- If the user guesses the number correctly in the second attempt, print \"Correct in the second attempt\", otherwise print \"Incorrect in both the attempts, the correct number is:\", and print the correct number."
   ]
  },
  {
   "cell_type": "markdown",
   "id": "86e39d7b",
   "metadata": {},
   "source": [
    "**Solution:**"
   ]
  },
  {
   "cell_type": "code",
   "execution_count": null,
   "id": "db89d5ff",
   "metadata": {},
   "outputs": [],
   "source": [
    "#Let us say we think of the number. Now the user has to guess the number in two attempts.\n",
    "rand_no = 3\n",
    "guess = input(\"Guess the number:\")\n",
    "if int(guess)==rand_no:\n",
    "    print(\"Correct in the first attempt!\")\n",
    "    \n",
    "#If the guess is incorrect, the program will execute the code block below    \n",
    "else:    \n",
    "    guess = input(\"Incorrect! Try again:\")\n",
    "    if int(guess) == rand_no:\n",
    "        print(\"Correct in the second attempt\")\n",
    "    else:\n",
    "        print(\"Incorrect in the both the attempts, the correct number was:\", rand_no)"
   ]
  },
  {
   "cell_type": "markdown",
   "id": "cf8f4a3f",
   "metadata": {},
   "source": [
    "## Loops in Python\n",
    "\n",
    "Python provides two types of loops: **`for`** and **`while`** loops. Loops are used to execute a block of code repeatedly until a certain condition is met.\n"
   ]
  },
  {
   "cell_type": "markdown",
   "id": "d504aa6a",
   "metadata": {},
   "source": [
    "### Using `range()` in `for` Loops\n",
    "\n",
    "The [`range()`](https://docs.python.org/3/library/functions.html#func-range) function is commonly used with loops in Python to generate a sequence of numbers. It is particularly useful with `for` loops.\n",
    "\n",
    "#### **Syntax of `range()`**\n",
    "\n",
    "`range(start, stop, step)`\n",
    "\n",
    "* `start`: (Optional) The starting value of the sequence (default is `0`).\n",
    "* `stop`: (Required) The endpoint of the sequence (exclusive).\n",
    "* `step`: (Optional) The difference between each number in the sequence (default is `1`).\n",
    "\n",
    "Using the `range()` function, the `for` loop can iterate over a sequence of numbers. See the examples below.\n"
   ]
  },
  {
   "cell_type": "code",
   "execution_count": 7,
   "id": "bdb24b86",
   "metadata": {},
   "outputs": [
    {
     "name": "stdout",
     "output_type": "stream",
     "text": [
      "0\n",
      "1\n",
      "2\n",
      "3\n",
      "4\n"
     ]
    }
   ],
   "source": [
    "for i in range(5):\n",
    "    print(i)"
   ]
  },
  {
   "cell_type": "markdown",
   "id": "23b4d3f4",
   "metadata": {},
   "source": [
    "Note that the last element is one less than the integer specified in the `range()` function."
   ]
  },
  {
   "cell_type": "code",
   "execution_count": 8,
   "id": "af49998a",
   "metadata": {},
   "outputs": [
    {
     "name": "stdout",
     "output_type": "stream",
     "text": [
      "5\n",
      "6\n",
      "7\n",
      "8\n",
      "9\n"
     ]
    }
   ],
   "source": [
    "# specify start and stop\n",
    "for i in range(5, 10):\n",
    "    print(i)"
   ]
  },
  {
   "cell_type": "code",
   "execution_count": 9,
   "id": "d9830a26",
   "metadata": {},
   "outputs": [
    {
     "name": "stdout",
     "output_type": "stream",
     "text": [
      "0\n",
      "2\n",
      "4\n",
      "6\n",
      "8\n"
     ]
    }
   ],
   "source": [
    "# use step\n",
    "for i in range(0, 10, 2):\n",
    "    print(i)"
   ]
  },
  {
   "cell_type": "code",
   "execution_count": 10,
   "id": "0ee2a5cf",
   "metadata": {},
   "outputs": [
    {
     "name": "stdout",
     "output_type": "stream",
     "text": [
      "10\n",
      "8\n",
      "6\n",
      "4\n",
      "2\n"
     ]
    }
   ],
   "source": [
    "# A negative step will count down\n",
    "for i in range(10, 0, -2):\n",
    "    print(i)"
   ]
  },
  {
   "cell_type": "code",
   "execution_count": 11,
   "id": "53f5a2e0",
   "metadata": {},
   "outputs": [],
   "source": [
    "# if start is greater than steop, the range will generate an empty sequence\n",
    "for i in range(10, 0):\n",
    "    print(i)"
   ]
  },
  {
   "cell_type": "markdown",
   "id": "a8c22b67",
   "metadata": {},
   "source": [
    "**Example:** Print the first *n* elements of the [Fibonacci sequence](https://en.wikipedia.org/wiki/Fibonacci_number), where *n* is an integer input by the user, such that *n>2*. In a fibonacci sequence, each number is the sum of the preceding two numbers, and the sequence starts from 0,1. The sequence is as follows:\n",
    "\n",
    "0,1,1,2,3,5,8,13,...."
   ]
  },
  {
   "cell_type": "code",
   "execution_count": 13,
   "id": "8db3f328",
   "metadata": {},
   "outputs": [
    {
     "name": "stdout",
     "output_type": "stream",
     "text": [
      "0\n",
      "1\n",
      "1\n",
      "2\n",
      "3\n",
      "5\n",
      "8\n",
      "13\n",
      "21\n",
      "34\n",
      "55\n",
      "89\n",
      "144\n",
      "233\n",
      "377\n",
      "610\n",
      "987\n",
      "1597\n",
      "2584\n",
      "4181\n",
      "These are the first 20 elements of the fibonacci series\n"
     ]
    }
   ],
   "source": [
    "n = int(input(\"Enter number of elements:\"))\n",
    "\n",
    "#Initializing the sequence to start from 0, 1\n",
    "n1, n2 = 0, 1\n",
    "\n",
    "#Printing the first two numbers of the sequence\n",
    "print(n1)\n",
    "print(n2)\n",
    "\n",
    "for i in range(n-2):  #Since two numbers of the sequence are already printed, n-2 numbers are required\n",
    "    \n",
    "    #Computing the next number of the sequence as the summation of the previous two numbers\n",
    "    n3 = n1 + n2\n",
    "    print(n3)\n",
    "    \n",
    "    #As 'n3' is already printed, it is no longer the next number of the sequence. \n",
    "    #Thus, we move the values of the variables n1 and n2 one place to the right to compute the next number of the sequence.\n",
    "    n1 = n2\n",
    "    n2 = n3  \n",
    "    \n",
    "print(\"These are the first\", n, \"elements of the fibonacci series\")"
   ]
  },
  {
   "cell_type": "markdown",
   "id": "53f60880",
   "metadata": {},
   "source": [
    "As in the `if-elif-else` statement, the `for` loop uses identation to indicate the piece of code to be run repeatedly."
   ]
  },
  {
   "cell_type": "code",
   "execution_count": 14,
   "id": "efac7eaf",
   "metadata": {},
   "outputs": [
    {
     "name": "stdout",
     "output_type": "stream",
     "text": [
      "0 0\n",
      "0 1\n",
      "0 2\n",
      "0 3\n",
      "0 4\n",
      "1 0\n",
      "1 1\n",
      "1 2\n",
      "1 3\n",
      "1 4\n",
      "2 0\n",
      "2 1\n",
      "2 2\n",
      "2 3\n",
      "2 4\n",
      "3 0\n",
      "3 1\n",
      "3 2\n",
      "3 3\n",
      "3 4\n",
      "4 0\n",
      "4 1\n",
      "4 2\n",
      "4 3\n",
      "4 4\n"
     ]
    }
   ],
   "source": [
    "# nested with range\n",
    "for i in range(5):\n",
    "    for j in range(5):\n",
    "        print(i, j)"
   ]
  },
  {
   "cell_type": "markdown",
   "id": "edc4cbb4",
   "metadata": {},
   "source": [
    "### `while` loop\n",
    "With a `while` loops, a piece of code is executed repeatedly until **certain condition(s)** hold."
   ]
  },
  {
   "cell_type": "markdown",
   "id": "e5edc15c",
   "metadata": {},
   "source": [
    "**Example:** Print all the elements of the [Fibonacci sequence](https://en.wikipedia.org/wiki/Fibonacci_number) less than *n*, where *n* is an integer input by the user, such that *n>2*. In a fibonacci sequence, each number is the sum of the preceding two numbers, and the sequence starts from 0,1. The sequence is as follows:\n",
    "\n",
    "0,1,1,2,3,5,8,13,...."
   ]
  },
  {
   "cell_type": "code",
   "execution_count": 15,
   "id": "0f9486f0",
   "metadata": {},
   "outputs": [
    {
     "name": "stdout",
     "output_type": "stream",
     "text": [
      "0\n",
      "1\n",
      "1\n",
      "2\n",
      "3\n",
      "5\n",
      "8\n",
      "13\n",
      "These are all the elements of the fibonacci series less than 20\n"
     ]
    }
   ],
   "source": [
    "n = int(input(\"Enter the value of n:\"))\n",
    "\n",
    "#Initializing the sequence to start from 0, 1\n",
    "n1, n2 = 0, 1\n",
    "\n",
    "#Printing the first number of the sequence\n",
    "print(n1)\n",
    "\n",
    "while n2 < n:\n",
    "    \n",
    "    #Print the next number of the sequence\n",
    "    print(n2)\n",
    "    \n",
    "    #Comptuing the next number of the sequence as the summation of the previous two numbers\n",
    "    n3 = n1 + n2\n",
    "    \n",
    "    #As n2 is already printed, assigning n2 to n3, so that the next number of the sequence (i.e., currently n3) is printed if the program enters the loop again\n",
    "    #Assigning n1 to n2 as n1 has already been used to compute the next number of the seqeunce (i.e., currently n3). \n",
    "    n1 = n2\n",
    "    n2 = n3  \n",
    "print(\"These are all the elements of the fibonacci series less than\", n)"
   ]
  },
  {
   "cell_type": "markdown",
   "id": "8a86b365",
   "metadata": {},
   "source": [
    "### Practice exercise 3"
   ]
  },
  {
   "cell_type": "markdown",
   "id": "878eae9d",
   "metadata": {},
   "source": [
    "#### \n",
    "Write a program that identifies whether a number input by the user is prime or not."
   ]
  },
  {
   "cell_type": "markdown",
   "id": "ed8d11d3",
   "metadata": {},
   "source": [
    "**Solution:**"
   ]
  },
  {
   "cell_type": "code",
   "execution_count": 18,
   "id": "0be13d44",
   "metadata": {},
   "outputs": [
    {
     "name": "stdout",
     "output_type": "stream",
     "text": [
      "Enter a positive integer:97\n",
      "Prime\n"
     ]
    }
   ],
   "source": [
    "number = int(input(\"Enter a positive integer:\"))\n",
    "\n",
    "#Defining a variable that will have a value of 0 if there are no divisors\n",
    "num_divisors = 0\n",
    "\n",
    "#Checking if the number has any divisors from 2 to half of the number\n",
    "for divisor in range(2,int(number/2+1)):\n",
    "        if number % divisor == 0:\n",
    "            \n",
    "            #If the number has a divisor, setting num_divisors to 1, to indicate that the number is not prime\n",
    "            num_divisors = 1\n",
    "            \n",
    "            #If a divisor has been found, there is no need to check if the number has more divisors.\n",
    "            #Even if the number has a single divisor, it is not prime. Thus, we 'break' out of the loop that checks for divisors\n",
    "            #If you don't 'break', your code will still be correct, it will just do some unnecessary computations\n",
    "            break\n",
    "            \n",
    "#If there are no divisors of the number, it is prime, else not prime      \n",
    "if num_divisors == 0:\n",
    "    print(\"Prime\")   \n",
    "else:\n",
    "    print(\"Not prime\")"
   ]
  },
  {
   "cell_type": "markdown",
   "id": "925f375c",
   "metadata": {},
   "source": [
    "#### \n",
    "Update the program above to print the prime numbers starting from 2, and less than *n* where *n* is a positive integer input by the user."
   ]
  },
  {
   "cell_type": "markdown",
   "id": "af9be183",
   "metadata": {},
   "source": [
    "**Solution:**"
   ]
  },
  {
   "cell_type": "code",
   "execution_count": 22,
   "id": "14071730",
   "metadata": {},
   "outputs": [
    {
     "name": "stdout",
     "output_type": "stream",
     "text": [
      "Enter a positive integer:100\n",
      "2\n",
      "3\n",
      "5\n",
      "7\n",
      "11\n",
      "13\n",
      "17\n",
      "19\n",
      "23\n",
      "29\n",
      "31\n",
      "37\n",
      "41\n",
      "43\n",
      "47\n",
      "53\n",
      "59\n",
      "61\n",
      "67\n",
      "71\n",
      "73\n",
      "79\n",
      "83\n",
      "89\n",
      "97\n"
     ]
    }
   ],
   "source": [
    "n = int(input(\"Enter a positive integer:\"))\n",
    "\n",
    "#Defining a variable - number_iterator. We will use this variable to iterate over all integers from 2 to n, not including n.\n",
    "#While iterating over each integer from 2 to n, we will check if the integer is prime or not. If it is prime, it will be printed\n",
    "number_iterator = 2\n",
    "\n",
    "print(number_iterator) #Since '2' is a prime number, we can print it directly (without checking)\n",
    "\n",
    "#Continue to check for prime numbers until n (but not including n)\n",
    "while(number_iterator < n):\n",
    "    \n",
    "    #After each check, increment the number_iterator to check if the next integer is prime\n",
    "    number_iterator = number_iterator + 1\n",
    "    \n",
    "    #Defining a variable that will have a value of 0 if there are no divisors\n",
    "    num_divisors = 0\n",
    "    \n",
    "    #Checking if the integer has any divisors from 2 to half of the integer being checked \n",
    "    for divisor in range(2,int(number_iterator/2 + 1)):\n",
    "        if number_iterator % divisor == 0:\n",
    "            \n",
    "            #If the integer has a divisor, setting num_divisors to 1, to indicate that the number is not prime\n",
    "            num_divisors = 1\n",
    "            \n",
    "            #If a divisor has been found, there is no need to check if the integer has more divisors.\n",
    "            #Even if the integer has a single divisor, it is not prime. \n",
    "            #Thus, we 'break' out of the loop that checks for divisors\n",
    "            break\n",
    "            \n",
    "    #If there are no divisors of the integer being checked, the integer is a prime number, and we print it\n",
    "    if num_divisors == 0:\n",
    "        print(number_iterator)   "
   ]
  },
  {
   "cell_type": "markdown",
   "id": "d786e2ca",
   "metadata": {},
   "source": [
    "## Control flow statements\n",
    "\n",
    "They are used to influence the flow of execution in loops or blocks of code. Python provides three such statements: `break`, `continue`, and `pass`.\n",
    "\n",
    "### `break` statement"
   ]
  },
  {
   "cell_type": "markdown",
   "id": "4100ed16",
   "metadata": {},
   "source": [
    "The [break](https://docs.python.org/3/reference/simple_stmts.html#break) statement is used to **exit a loop prematurely** before it has iterated through all elements or completed its condition. It is commonly used in both `for` and `while` loops to stop the execution of the loop when a specific condition is met."
   ]
  },
  {
   "cell_type": "markdown",
   "id": "1711c3a2",
   "metadata": {},
   "source": [
    "For example"
   ]
  },
  {
   "cell_type": "code",
   "execution_count": 16,
   "id": "13650b1f",
   "metadata": {},
   "outputs": [
    {
     "name": "stdout",
     "output_type": "stream",
     "text": [
      "0\n",
      "1\n",
      "2\n",
      "3\n",
      "4\n",
      "Breaking the loop at i = 5\n"
     ]
    }
   ],
   "source": [
    "for i in range(10):\n",
    "    if i == 5:\n",
    "        print(\"Breaking the loop at i =\", i)\n",
    "        break\n",
    "    print(i)"
   ]
  },
  {
   "cell_type": "markdown",
   "id": "c295a555",
   "metadata": {},
   "source": [
    "### Practice exercise 4"
   ]
  },
  {
   "cell_type": "markdown",
   "id": "0010619e",
   "metadata": {},
   "source": [
    "Write a program that finds and prints the largest factor of a number input by the user. Check the output if the user inputs 133."
   ]
  },
  {
   "cell_type": "markdown",
   "id": "91260dce",
   "metadata": {},
   "source": [
    "**Solution:**"
   ]
  },
  {
   "cell_type": "code",
   "execution_count": 1,
   "id": "50f78124",
   "metadata": {},
   "outputs": [
    {
     "name": "stdout",
     "output_type": "stream",
     "text": [
      "Enter an integer:133\n",
      "Largest factor =  19\n"
     ]
    }
   ],
   "source": [
    "num = int(input(\"Enter an integer:\"))\n",
    "\n",
    "#Looping from the half the integer to 0 as the highest factor is likely to be closer to half the integer value than 0\n",
    "for i in range(int(num/2) + 1, 0, -1):\n",
    "    if num%i == 0:\n",
    "        print(\"Largest factor = \", i)\n",
    "        \n",
    "        #Exiting the loop if the largest integer is found\n",
    "        break"
   ]
  },
  {
   "cell_type": "markdown",
   "id": "a6c5e35c",
   "metadata": {},
   "source": [
    "### `continue` statement\n",
    "\n",
    "The `continue` statement is used to **skip the current iteration of a loop** and move to the next iteration. Unlike the `break` statement, it does not terminate the loop but allows the loop to continue running."
   ]
  },
  {
   "cell_type": "markdown",
   "id": "c3369950",
   "metadata": {},
   "source": [
    "\n",
    "\n",
    "For example, consider the following code:"
   ]
  },
  {
   "cell_type": "code",
   "execution_count": 17,
   "id": "3d4dd8d1",
   "metadata": {},
   "outputs": [
    {
     "name": "stdout",
     "output_type": "stream",
     "text": [
      "Processing 0\n",
      "Processing 1\n",
      "Processing 2\n",
      "Skipping iteration 3\n",
      "Processing 4\n"
     ]
    }
   ],
   "source": [
    "for i in range(5):\n",
    "    if i == 3:\n",
    "        print(f\"Skipping iteration {i}\")\n",
    "        continue\n",
    "    print(f\"Processing {i}\")\n"
   ]
  },
  {
   "cell_type": "markdown",
   "id": "66468e1d",
   "metadata": {},
   "source": [
    "The `continue` statement skips the iteration when `i == 3` and moves to the next iteration."
   ]
  },
  {
   "cell_type": "markdown",
   "id": "599468c6",
   "metadata": {},
   "source": [
    "### Practice exercise 5: \n",
    "Write a program that asks the user the question, \"How many stars are in the Milky Way (in billions)?\". If the user answers 100, the program should print correct, and stop. However, if the user answers incorrectly, the program should print \"incorrect\", and ask them if they want to try again. The program should continue to run until the user answers correctly, or they want to stop trying."
   ]
  },
  {
   "cell_type": "code",
   "execution_count": 1,
   "id": "f9acb380",
   "metadata": {},
   "outputs": [
    {
     "name": "stdout",
     "output_type": "stream",
     "text": [
      "How many stars are there in the Milky Way? 101\n",
      "Incorrect\n",
      "Do you want to try again? (Y/N) Y\n",
      "How many stars are there in the Milky Way? 7\n",
      "Incorrect\n",
      "Do you want to try again? (Y/N) Y\n",
      "How many stars are there in the Milky Way? 5\n",
      "Incorrect\n",
      "Do you want to try again? (Y/N) Y\n",
      "How many stars are there in the Milky Way? 100\n",
      "Correct\n"
     ]
    }
   ],
   "source": [
    "#Defining an infinite while loop as the loop may need to run indefinitely if the user keeps answering incorrectly and trying again\n",
    "while True:\n",
    "    answer = input(\"How many stars are there in the Milky Way? \")\n",
    "    if answer == '100':\n",
    "        print(\"Correct\")\n",
    "        \n",
    "        #Exiting the loop if the user answers correctly\n",
    "        break\n",
    "    else:\n",
    "        print(\"Incorrect\")\n",
    "        try_again = input(\"Do you want to try again? (Y/N) \")\n",
    "        if try_again == 'Y':\n",
    "            \n",
    "            #Continuing with the infinite loop if the user wants to try again\n",
    "            continue\n",
    "        else:\n",
    "            \n",
    "            #Exiting the infinite loop if the user wants to stop tryinh\n",
    "            break"
   ]
  },
  {
   "cell_type": "markdown",
   "id": "8e79da4a",
   "metadata": {},
   "source": [
    "### `pass` statement\n",
    "\n",
    "The `pass` statement in Python is a **null statement**. It serves as a placeholder and does nothing when executed. It is often used in situations where a statement is syntactically required, but no action is intended, or the code is yet to be implemented. In Chapter 4, we will use this statement when we explore user-defined functions."
   ]
  },
  {
   "cell_type": "markdown",
   "id": "e78041ad",
   "metadata": {},
   "source": [
    "## Loops with strings"
   ]
  },
  {
   "cell_type": "markdown",
   "id": "5299980b",
   "metadata": {},
   "source": [
    "Strings in Python are sequences of characters. You can use loops to iterate over strings and perform various operations on each character or a subset of the string.\n"
   ]
  },
  {
   "cell_type": "markdown",
   "id": "d987e71d",
   "metadata": {},
   "source": [
    "Consider the following string:"
   ]
  },
  {
   "cell_type": "code",
   "execution_count": 19,
   "id": "9acdd414",
   "metadata": {},
   "outputs": [],
   "source": [
    "sentence = \"She sells sea shells on the sea shore\""
   ]
  },
  {
   "cell_type": "markdown",
   "id": "49db73e8",
   "metadata": {},
   "source": [
    "The $i^{th}$ character of the string can be retrieved by its index. For example, the first character of the string `sentence` is:"
   ]
  },
  {
   "cell_type": "code",
   "execution_count": 20,
   "id": "073dade7",
   "metadata": {},
   "outputs": [
    {
     "data": {
      "text/plain": [
       "'S'"
      ]
     },
     "execution_count": 20,
     "metadata": {},
     "output_type": "execute_result"
    }
   ],
   "source": [
    "sentence[0]"
   ]
  },
  {
   "cell_type": "markdown",
   "id": "b417c022",
   "metadata": {},
   "source": [
    "A `for` loop iterates over each character in a string, one at a time."
   ]
  },
  {
   "cell_type": "code",
   "execution_count": 21,
   "id": "215ab612",
   "metadata": {},
   "outputs": [
    {
     "name": "stdout",
     "output_type": "stream",
     "text": [
      "S\n",
      "h\n",
      "e\n",
      " \n",
      "s\n",
      "e\n",
      "l\n",
      "l\n",
      "s\n",
      " \n",
      "s\n",
      "e\n",
      "a\n",
      " \n",
      "s\n",
      "h\n",
      "e\n",
      "l\n",
      "l\n",
      "s\n",
      " \n",
      "o\n",
      "n\n",
      " \n",
      "t\n",
      "h\n",
      "e\n",
      " \n",
      "s\n",
      "e\n",
      "a\n",
      " \n",
      "s\n",
      "h\n",
      "o\n",
      "r\n",
      "e\n"
     ]
    }
   ],
   "source": [
    "for char in sentence:\n",
    "    print(char)"
   ]
  },
  {
   "cell_type": "markdown",
   "id": "79c36219",
   "metadata": {},
   "source": [
    "A `while` loop can be used to iterate over a string by index."
   ]
  },
  {
   "cell_type": "code",
   "execution_count": 22,
   "id": "49adde9a",
   "metadata": {},
   "outputs": [
    {
     "name": "stdout",
     "output_type": "stream",
     "text": [
      "S\n",
      "h\n",
      "e\n",
      " \n",
      "s\n",
      "e\n",
      "l\n",
      "l\n",
      "s\n",
      " \n",
      "s\n",
      "e\n",
      "a\n",
      " \n",
      "s\n",
      "h\n",
      "e\n",
      "l\n",
      "l\n",
      "s\n",
      " \n",
      "o\n",
      "n\n",
      " \n",
      "t\n",
      "h\n",
      "e\n",
      " \n",
      "s\n",
      "e\n",
      "a\n",
      " \n",
      "s\n",
      "h\n",
      "o\n",
      "r\n",
      "e\n"
     ]
    }
   ],
   "source": [
    "index = 0\n",
    "while index < len(sentence):\n",
    "    print(sentence[index])\n",
    "    index += 1"
   ]
  },
  {
   "cell_type": "markdown",
   "id": "14800b3f",
   "metadata": {},
   "source": [
    "### The `enumerate()` Function in Python\n",
    "\n",
    "The `enumerate()` function adds a counter to an iterable and returns it as an **enumerate object**, which can be iterated over to get both the **index** and the **value** of each element in the iterable.\n",
    "\n",
    "#### **Syntax**\n",
    "\n",
    "`enumerate(iterable, start=0)`\n"
   ]
  },
  {
   "cell_type": "code",
   "execution_count": 23,
   "id": "6a444237",
   "metadata": {},
   "outputs": [
    {
     "name": "stdout",
     "output_type": "stream",
     "text": [
      "0 S\n",
      "1 h\n",
      "2 e\n",
      "3  \n",
      "4 s\n",
      "5 e\n",
      "6 l\n",
      "7 l\n",
      "8 s\n",
      "9  \n",
      "10 s\n",
      "11 e\n",
      "12 a\n",
      "13  \n",
      "14 s\n",
      "15 h\n",
      "16 e\n",
      "17 l\n",
      "18 l\n",
      "19 s\n",
      "20  \n",
      "21 o\n",
      "22 n\n",
      "23  \n",
      "24 t\n",
      "25 h\n",
      "26 e\n",
      "27  \n",
      "28 s\n",
      "29 e\n",
      "30 a\n",
      "31  \n",
      "32 s\n",
      "33 h\n",
      "34 o\n",
      "35 r\n",
      "36 e\n"
     ]
    }
   ],
   "source": [
    "# using enumerate\n",
    "for index, char in enumerate(sentence):\n",
    "    print(index, char)"
   ]
  },
  {
   "cell_type": "markdown",
   "id": "ad90d743",
   "metadata": {},
   "source": [
    "**Slicing a string:**"
   ]
  },
  {
   "cell_type": "markdown",
   "id": "6a87417c",
   "metadata": {},
   "source": [
    "A part of the string can be sliced by passing the starting index (say `start`) and the stopping index (say `stop`) as `start`:`stop` to the index operator []. This is called slicing a string. For a string `S`, the characters starting from the index `start` upto the index `stop`, but not including `stop`, can be sliced as `S[start:stop]`."
   ]
  },
  {
   "cell_type": "markdown",
   "id": "9777bc00",
   "metadata": {},
   "source": [
    "For example, the slice of the string `sentence` from index `4` to index `9`, but not including `9` is:"
   ]
  },
  {
   "cell_type": "code",
   "execution_count": 4,
   "id": "e2abe450",
   "metadata": {},
   "outputs": [
    {
     "data": {
      "text/plain": [
       "'sells'"
      ]
     },
     "execution_count": 4,
     "metadata": {},
     "output_type": "execute_result"
    }
   ],
   "source": [
    "sentence[4:9]"
   ]
  },
  {
   "cell_type": "markdown",
   "id": "82130e17",
   "metadata": {},
   "source": [
    "**Example:** Counting characters\n",
    "\n",
    "Input a string, and count and print the number of \"*t*\"s."
   ]
  },
  {
   "cell_type": "code",
   "execution_count": 5,
   "id": "912b0d70",
   "metadata": {},
   "outputs": [
    {
     "name": "stdout",
     "output_type": "stream",
     "text": [
      "Enter a sentence:Getting a tatto is not a nice experience\n",
      "Number of 't's in the string =  6\n"
     ]
    }
   ],
   "source": [
    "string = input(\"Enter a sentence:\")\n",
    "\n",
    "#Initializing a variable 'count_t' which will store the number of 't's in the string\n",
    "count_t = 0\n",
    "\n",
    "#Iterating over the entire length of the string. \n",
    "#The length of the string is given by the len() function\n",
    "for i in range(len(string)):\n",
    "    \n",
    "    #If the ith character of the string is 't', then we count it\n",
    "    if string[i] == 't':\n",
    "        count_t = count_t + 1\n",
    "\n",
    "print(\"Number of 't's in the string = \", count_t)"
   ]
  },
  {
   "cell_type": "markdown",
   "id": "c6d015cf",
   "metadata": {},
   "source": [
    "### Practice exercise 6\n",
    "\n",
    "Checking for a Substring"
   ]
  },
  {
   "cell_type": "markdown",
   "id": "77e3ba5d",
   "metadata": {},
   "source": [
    "Write a program that asks the user to input a string, and print the number of \"*the*\"s in the string."
   ]
  },
  {
   "cell_type": "code",
   "execution_count": 2,
   "id": "d6000790",
   "metadata": {},
   "outputs": [
    {
     "name": "stdout",
     "output_type": "stream",
     "text": [
      "Enter a sentence:She sells the sea shells on the sea shore in the spring\n",
      "Number of 'the's in the string =  3\n"
     ]
    }
   ],
   "source": [
    "string = input(\"Enter a sentence:\")\n",
    "\n",
    "#Defining a variable to store the count of the word 'the'\n",
    "count_the = 0\n",
    "\n",
    "#Looping through the entire length of the string except the last 3 letters.\n",
    "#As we are checking three letters at a time starting from the index 'i', the last 3 letters of the string will be checked when 'i' is len(string)-3\n",
    "for i in range(len(string) - 3):\n",
    "    \n",
    "    #Slicing 3 letters of the string and checking if they are 'the'\n",
    "    if string[i:(i+3)] == 'the':\n",
    "        \n",
    "        #Counting the words that are 'the'\n",
    "        count_the = count_the + 1\n",
    "print(\"Number of 'the's in the string = \", count_the)"
   ]
  }
 ],
 "metadata": {
  "kernelspec": {
   "display_name": "base",
   "language": "python",
   "name": "python3"
  },
  "language_info": {
   "codemirror_mode": {
    "name": "ipython",
    "version": 3
   },
   "file_extension": ".py",
   "mimetype": "text/x-python",
   "name": "python",
   "nbconvert_exporter": "python",
   "pygments_lexer": "ipython3",
   "version": "3.12.4"
  }
 },
 "nbformat": 4,
 "nbformat_minor": 5
}
