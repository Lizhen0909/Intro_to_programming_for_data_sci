{
 "cells": [
  {
   "cell_type": "raw",
   "id": "05c8ba02",
   "metadata": {},
   "source": [
    "---\n",
    "title: \"Control flow statements\"\n",
    "format: \n",
    "  html:\n",
    "    toc: true\n",
    "    code-fold: false\n",
    "jupyter: python3\n",
    "---"
   ]
  },
  {
   "cell_type": "markdown",
   "id": "dddeb5da",
   "metadata": {},
   "source": [
    "A [control flow statement](https://docs.python.org/3/tutorial/controlflow.html) in a computer program determines the individual lines of code to be executed and/or the order in which they will be executed. In this chapter, we'll learn about 3 types of control flow statements:\n",
    "\n",
    "1. if-elif-else\n",
    "2. for loop\n",
    "3. while loop"
   ]
  },
  {
   "cell_type": "markdown",
   "id": "249e63c4",
   "metadata": {},
   "source": [
    "## Conditonal execution"
   ]
  },
  {
   "cell_type": "markdown",
   "id": "e2167655",
   "metadata": {},
   "source": [
    "The first type of control flow satement is `if-elif-else`. This statement helps with conditional execution of code, i.e., the piece of code to be executed is selected based on certain condition(s)."
   ]
  },
  {
   "cell_type": "markdown",
   "id": "17996b15",
   "metadata": {},
   "source": [
    "### Comparison operators"
   ]
  },
  {
   "cell_type": "markdown",
   "id": "822cf733",
   "metadata": {},
   "source": [
    "For testing if conditions are true or false, first we need to learn the opeartors that can be used for comparison. For example, suppose we want to check if two objects are equal, we use the `==` operator:"
   ]
  },
  {
   "cell_type": "code",
   "execution_count": 6,
   "id": "1a06ec7f",
   "metadata": {},
   "outputs": [
    {
     "data": {
      "text/plain": [
       "False"
      ]
     },
     "execution_count": 6,
     "metadata": {},
     "output_type": "execute_result"
    }
   ],
   "source": [
    "5==6"
   ]
  },
  {
   "cell_type": "code",
   "execution_count": 7,
   "id": "acd1b355",
   "metadata": {},
   "outputs": [
    {
     "data": {
      "text/plain": [
       "True"
      ]
     },
     "execution_count": 7,
     "metadata": {},
     "output_type": "execute_result"
    }
   ],
   "source": [
    "x = \"hi\"\n",
    "y = \"hi\"\n",
    "x==y"
   ]
  },
  {
   "cell_type": "markdown",
   "id": "22cbf963",
   "metadata": {},
   "source": [
    "Below are the python comparison operators and their meanings."
   ]
  },
  {
   "cell_type": "markdown",
   "id": "3423e530",
   "metadata": {},
   "source": [
    "| Python code | Meaning |\n",
    "| --- | --- |\n",
    "| x==y | Produce True if ... x is equal to y |\n",
    "| x !=  y | ... x is not equal to y |\n",
    "| x > y | ... x is greater than y |\n",
    "| x < y | ... x is less than y |\n",
    "| x >= y | ... x is greater than or equal to y |\n",
    "| x <= y | ... x is less than or equal to y |"
   ]
  },
  {
   "cell_type": "markdown",
   "id": "abd92251",
   "metadata": {},
   "source": [
    "### Logical operators"
   ]
  },
  {
   "cell_type": "markdown",
   "id": "147f445d",
   "metadata": {},
   "source": [
    "Sometimes we may need to check multiple conditions simultaneously. The logical operator `and` is used to check if all the conditions are true, while the logical operator `or` is used to check if either of the conditons is true."
   ]
  },
  {
   "cell_type": "code",
   "execution_count": 57,
   "id": "9afb3aa8",
   "metadata": {},
   "outputs": [
    {
     "data": {
      "text/plain": [
       "False"
      ]
     },
     "execution_count": 57,
     "metadata": {},
     "output_type": "execute_result"
    }
   ],
   "source": [
    "#Checking if both the conditions are true using 'and'\n",
    "5==5 and 67==68"
   ]
  },
  {
   "cell_type": "code",
   "execution_count": 15,
   "id": "36e74a31",
   "metadata": {},
   "outputs": [
    {
     "data": {
      "text/plain": [
       "True"
      ]
     },
     "execution_count": 15,
     "metadata": {},
     "output_type": "execute_result"
    }
   ],
   "source": [
    "#Checking if either condition is true using 'or'\n",
    "x = 6; y = 90\n",
    "x<0 or y>50"
   ]
  },
  {
   "cell_type": "markdown",
   "id": "df81780d",
   "metadata": {},
   "source": [
    "### if-elif-else statement"
   ]
  },
  {
   "cell_type": "markdown",
   "id": "223af6dc",
   "metadata": {},
   "source": [
    "The `if-elif-else` statements can check several conditions, and execute the code corresponding to the condition that is true. Note that there can be as many `elif` statements as required."
   ]
  },
  {
   "cell_type": "markdown",
   "id": "423b791c",
   "metadata": {},
   "source": [
    "**Syntax:** Python uses indentation to identify the code to be executed if a condition is true. All the code indented within a condition is executed if the condition is true."
   ]
  },
  {
   "cell_type": "markdown",
   "id": "bb664336",
   "metadata": {},
   "source": [
    "**Example:** Input a number. Print whether it is positive or negative."
   ]
  },
  {
   "cell_type": "code",
   "execution_count": 4,
   "id": "a07c8f99",
   "metadata": {},
   "outputs": [
    {
     "name": "stdout",
     "output_type": "stream",
     "text": [
      "Enter a number:-9\n",
      "Number is negative\n"
     ]
    }
   ],
   "source": [
    "number = input(\"Enter a number:\")\n",
    "number_integer = int(number)\n",
    "if number_integer>0:\n",
    "    print(\"Number is positive\")\n",
    "else:\n",
    "    print(\"Number is negative\")"
   ]
  },
  {
   "cell_type": "markdown",
   "id": "86260c9a",
   "metadata": {},
   "source": [
    "In the above code, note that anything entered by the user is taken as a string datatype by python. However, a string cannot be positive or negative. So, we converted the number input by the user to integer to check if it was positive or negative."
   ]
  },
  {
   "cell_type": "markdown",
   "id": "3c709ef1",
   "metadata": {},
   "source": [
    "There may be multiple statements to be executed if a condition is true. See the example below."
   ]
  },
  {
   "cell_type": "markdown",
   "id": "367e00b4",
   "metadata": {},
   "source": [
    "**Example:** Input a number. Print whether it is positive, negative or zero. If it is negative, print its absolute value. "
   ]
  },
  {
   "cell_type": "code",
   "execution_count": 1,
   "id": "1b3727cb",
   "metadata": {},
   "outputs": [
    {
     "name": "stdout",
     "output_type": "stream",
     "text": [
      "Enter a number:0\n",
      "Number is zero\n"
     ]
    }
   ],
   "source": [
    "number = input(\"Enter a number:\")\n",
    "number_integer = int(number)\n",
    "if number_integer>0:\n",
    "    print(\"Number is positive\")\n",
    "elif number_integer==0:\n",
    "    print(\"Number is zero\")\n",
    "else:\n",
    "    print(\"Number is negative\")\n",
    "    print(\"Absolute value of number = \", abs(number_integer))"
   ]
  },
  {
   "cell_type": "markdown",
   "id": "e6fb93be",
   "metadata": {},
   "source": [
    "### Practice exercise 1"
   ]
  },
  {
   "cell_type": "markdown",
   "id": "f06f1c05",
   "metadata": {},
   "source": [
    "Input a number. Print whether its odd or even. "
   ]
  },
  {
   "cell_type": "markdown",
   "id": "7ae32b95",
   "metadata": {},
   "source": [
    "### Try-except "
   ]
  },
  {
   "cell_type": "markdown",
   "id": "207cc045",
   "metadata": {},
   "source": [
    "If we suspect that some lines of code may produce an error, we can put them in a `try` block, and if an error does occur, we can use the `except` block to instead execute an alternative piece of code. This way the program will not stop if an error occurs within the `try` block, and instead will be directed to execute the code within the `except` block."
   ]
  },
  {
   "cell_type": "markdown",
   "id": "d73092fa",
   "metadata": {},
   "source": [
    "**Example:** Input an integer from the user. If the user inputs a valid integer, print whether it is a multiple of 3. However, if the user does not input a valid integer, print a message saying that the input is invalid."
   ]
  },
  {
   "cell_type": "code",
   "execution_count": 10,
   "id": "40789255",
   "metadata": {},
   "outputs": [
    {
     "name": "stdout",
     "output_type": "stream",
     "text": [
      "Enter an integer:hi\n",
      "Input must be an integer\n"
     ]
    }
   ],
   "source": [
    "num = input(\"Enter an integer:\")\n",
    "try:\n",
    "    num_int = int(num)\n",
    "    if num_int%3==0:\n",
    "        print(\"Number is a multiple of 3\")\n",
    "    else:\n",
    "        print(\"Number is not a multiple of 3\")\n",
    "except:\n",
    "    print(\"Input must be an integer\")"
   ]
  },
  {
   "cell_type": "markdown",
   "id": "9a7894f7",
   "metadata": {},
   "source": [
    "### Practice exercise 2"
   ]
  },
  {
   "cell_type": "markdown",
   "id": "6389b3d2",
   "metadata": {},
   "source": [
    "#### \n",
    "Ask the user to enter their exam score. Print the grade based on their score as follows:\n",
    "\n",
    "| Score | Grade |\n",
    "| --- | --- |\n",
    "| (90,100] | A |\n",
    "| (80,90] | B |\n",
    "| [0,80] | C |\n",
    "\n",
    "If the user inputs a score which is not a number in [0,100], print invalid entry."
   ]
  },
  {
   "cell_type": "code",
   "execution_count": null,
   "id": "b0e02697",
   "metadata": {},
   "outputs": [],
   "source": [
    "#| eval: false\n",
    "#| echo: false\n",
    "\n",
    "score = input(\"Enter exam score:\")\n",
    "try:\n",
    "    score_num = float(score)\n",
    "    if score_num>=90 and score_num<=100:\n",
    "        print(\"Grade: A\")\n",
    "    elif score_num>=80 and score_num<90:\n",
    "        print(\"Grade: B\")\n",
    "    elif score_num>=0 and score_num<80:\n",
    "        print(\"Grade: C\")\n",
    "    else:\n",
    "        print(\"Invalid score\")\n",
    "except:\n",
    "    print(\"Invalid score\")"
   ]
  },
  {
   "cell_type": "markdown",
   "id": "7c8b9450",
   "metadata": {},
   "source": [
    "#### \n",
    "**Nested if-elif-else statements:** This question will lead you to create nested `if` statements, i.e., an `if` statement within another `if` statement.\n",
    "\n",
    "Think of a number in [1,5]. Ask the user to guess the number. \n",
    "\n",
    "- If the user guesses the number correctly, print \"Correct in the first attempt!\", and stop the program. Otherwise, print \"Incorrect! Try again\" and give them another chance to guess the number. \n",
    "- If the user guesses the number correctly in the second attempt, print \"Correct in the second attempt\", otherwise print \"Incorrect in both the attempts, the correct number is:\", and print the correct number."
   ]
  },
  {
   "cell_type": "code",
   "execution_count": null,
   "id": "db89d5ff",
   "metadata": {},
   "outputs": [],
   "source": [
    "#|eval: false\n",
    "#|echo: false\n",
    "\n",
    "rand_no = 3\n",
    "guess = input(\"Guess the number:\")\n",
    "if int(guess)==rand_no:\n",
    "    print(\"Correct in the first attempt!\")\n",
    "else:    \n",
    "    guess = input(\"Incorrect! Try again:\")\n",
    "    if int(guess)==rand_no:\n",
    "        print(\"Corrent in the second attempt\")\n",
    "    else:\n",
    "        print(\"Incorrect in the both the attempts, the correct number was:\", rand_no)"
   ]
  },
  {
   "cell_type": "markdown",
   "id": "cf8f4a3f",
   "metadata": {},
   "source": [
    "## Loops"
   ]
  },
  {
   "cell_type": "markdown",
   "id": "be8a5c56",
   "metadata": {},
   "source": [
    "With loops, a piece of code can be executed repeatedly for a fixed number of times or until a condition is satistified."
   ]
  },
  {
   "cell_type": "markdown",
   "id": "3436623b",
   "metadata": {},
   "source": [
    "### for loop\n",
    "With a `for` loop, a piece of code is executed a fixed number of times."
   ]
  },
  {
   "cell_type": "markdown",
   "id": "810a370b",
   "metadata": {},
   "source": [
    "We typically use `for` loops with an in-built python function called `range()` that supports `for` loops. Below is its description."
   ]
  },
  {
   "cell_type": "markdown",
   "id": "447e6ed7",
   "metadata": {},
   "source": [
    "**range():** The [range()](https://docs.python.org/3/library/functions.html#func-range) function returns a sequence of evenly-spaced integer values. It is commonly used in `for` loops to define the sequence of elements over which the iterations are performed."
   ]
  },
  {
   "cell_type": "markdown",
   "id": "9a34976d",
   "metadata": {},
   "source": [
    "Below is an example where the `range()` function is used to create a sequence of whole numbers upto 10. Ignore the `list()` function in the code below, as it will be introduced later."
   ]
  },
  {
   "cell_type": "code",
   "execution_count": 74,
   "id": "9b7f6f61",
   "metadata": {},
   "outputs": [
    {
     "name": "stdout",
     "output_type": "stream",
     "text": [
      "[0, 1, 2, 3, 4, 5, 6, 7, 8, 9]\n"
     ]
    }
   ],
   "source": [
    "print(list(range(10)))"
   ]
  },
  {
   "cell_type": "markdown",
   "id": "88fc04e6",
   "metadata": {},
   "source": [
    "Note that the last element is one less than the integer specified in the `range()` function."
   ]
  },
  {
   "cell_type": "markdown",
   "id": "16bc1653",
   "metadata": {},
   "source": [
    "Using the `range()` function, the `for` loop can iterate over a sequence of numbers. See the example below."
   ]
  },
  {
   "cell_type": "markdown",
   "id": "a8c22b67",
   "metadata": {},
   "source": [
    "**Example:** Print the first *n* elements of the [Fibonacci sequence](https://en.wikipedia.org/wiki/Fibonacci_number), where n is an integer input by the user, such that *n>2*. In a fibonacci sequence, each number is the sum of the preceding two numbers, and the sequence starts from 0,1. The sequence is as follows:\n",
    "\n",
    "0,1,1,2,3,5,8,13,...."
   ]
  },
  {
   "cell_type": "code",
   "execution_count": 62,
   "id": "8db3f328",
   "metadata": {},
   "outputs": [
    {
     "name": "stdout",
     "output_type": "stream",
     "text": [
      "Enter number of elements:6\n",
      "0\n",
      "1\n",
      "1\n",
      "2\n",
      "3\n",
      "5\n",
      "These are the first 6 elements of the fibonacci series\n"
     ]
    }
   ],
   "source": [
    "n=int(input(\"Enter number of elements:\"))\n",
    "n1=0;n2=1\n",
    "print(n1)\n",
    "print(n2)\n",
    "for i in range(n-2):\n",
    "    n3 = n1+n2\n",
    "    print(n3)\n",
    "    n1 = n2\n",
    "    n2 = n3  \n",
    "print(\"These are the first\", n, \"elements of the fibonacci series\")"
   ]
  },
  {
   "cell_type": "markdown",
   "id": "53f60880",
   "metadata": {},
   "source": [
    "As in the `if-elif-else` statement, the `for` loop uses identation to indicate the piece of code to be run repeatedly."
   ]
  },
  {
   "cell_type": "markdown",
   "id": "c55498e8",
   "metadata": {},
   "source": [
    "Note that we have used an in-built python function "
   ]
  },
  {
   "cell_type": "markdown",
   "id": "edc4cbb4",
   "metadata": {},
   "source": [
    "### while loop\n",
    "With a `while` loops, a piece of code is executed repeatedly until certain condition(s) hold."
   ]
  },
  {
   "cell_type": "markdown",
   "id": "e5edc15c",
   "metadata": {},
   "source": [
    "**Example:** Print all the elements of the [Fibonacci sequence](https://en.wikipedia.org/wiki/Fibonacci_number) less than *n*, where n is an integer input by the user, such that *n>2*. In a fibonacci sequence, each number is the sum of the preceding two numbers, and the sequence starts from 0,1. The sequence is as follows:\n",
    "\n",
    "0,1,1,2,3,5,8,13,...."
   ]
  },
  {
   "cell_type": "code",
   "execution_count": 66,
   "id": "0f9486f0",
   "metadata": {},
   "outputs": [
    {
     "name": "stdout",
     "output_type": "stream",
     "text": [
      "Enter the value of n:50\n",
      "0\n",
      "1\n",
      "1\n",
      "2\n",
      "3\n",
      "5\n",
      "8\n",
      "13\n",
      "21\n",
      "34\n",
      "These are all the elements of the fibonacci series less than 50\n"
     ]
    }
   ],
   "source": [
    "n=int(input(\"Enter the value of n:\"))\n",
    "n1=0;n2=1\n",
    "print(n1)\n",
    "while n2<n:\n",
    "    print(n2)\n",
    "    n3 = n1+n2\n",
    "    n1 = n2\n",
    "    n2 = n3  \n",
    "print(\"These are all the elements of the fibonacci series less than\", n)"
   ]
  },
  {
   "cell_type": "markdown",
   "id": "8a86b365",
   "metadata": {},
   "source": [
    "### Practice exercise 3"
   ]
  },
  {
   "cell_type": "markdown",
   "id": "878eae9d",
   "metadata": {},
   "source": [
    "Print the prime numbers starting from 2, and less than *n* where *n* is a positive integer input by the user."
   ]
  },
  {
   "cell_type": "code",
   "execution_count": null,
   "id": "14071730",
   "metadata": {},
   "outputs": [],
   "source": [
    "#| eval: false\n",
    "#| echo: false\n",
    "\n",
    "n = int(input(\"Enter a positive integer:\"))\n",
    "p = 2\n",
    "print(p)\n",
    "while(p<n):\n",
    "    p=p+1\n",
    "    num_divisors=0\n",
    "    for i in range(2,p):\n",
    "        if p%i==0:\n",
    "            num_divisors=1\n",
    "            break\n",
    "    if num_divisors==0:\n",
    "        print(p)   "
   ]
  }
 ],
 "metadata": {
  "kernelspec": {
   "display_name": "Python 3",
   "language": "python",
   "name": "python3"
  },
  "language_info": {
   "codemirror_mode": {
    "name": "ipython",
    "version": 3
   },
   "file_extension": ".py",
   "mimetype": "text/x-python",
   "name": "python",
   "nbconvert_exporter": "python",
   "pygments_lexer": "ipython3",
   "version": "3.8.8"
  }
 },
 "nbformat": 4,
 "nbformat_minor": 5
}
