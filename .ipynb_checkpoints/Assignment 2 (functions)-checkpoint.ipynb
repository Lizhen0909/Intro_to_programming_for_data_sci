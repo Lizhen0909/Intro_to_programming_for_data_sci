{
 "cells": [
  {
   "cell_type": "raw",
   "id": "33dd6c4c",
   "metadata": {},
   "source": [
    "---\n",
    "title: \"Assignment 2 (Functions)\"\n",
    "format: \n",
    "  html:\n",
    "    toc: true\n",
    "    toc-title: Contents\n",
    "    code-fold: show\n",
    "    self-contained: true\n",
    "jupyter: python3\n",
    "---"
   ]
  },
  {
   "cell_type": "markdown",
   "id": "0116f49b",
   "metadata": {},
   "source": [
    "## Instructions {-}\n",
    "\n",
    "1. You may talk to a friend, discuss the questions and potential directions for solving them. However, you need to write your own solutions and code separately, and not as a group activity. \n",
    "\n",
    "2. Do not write your name on the assignment.\n",
    "\n",
    "3. Write your code in the *Code* cells and your answer in the *Markdown* cells of the Jupyter notebook. Ensure that the solution is written neatly enough to understand and grade.\n",
    "\n",
    "4. Use [Quarto](https://quarto.org/docs/output-formats/html-basics.html) to print the *.ipynb* file as HTML. You will need to open the command prompt, navigate to the directory containing the file, and use the command: `quarto render filename.ipynb --to html`. Submit the HTML file.\n",
    "\n",
    "5. There are 5 points for clealiness and organization. The code should be commented and clearly written with intuitive variable names. For example, use variable names such as number_input, factor, hours, instead of a,b,xyz, etc.\n",
    "\n",
    "6. The assignment is worth 100 points, and is due on **14th October 2022 at 11:59 pm**. "
   ]
  },
  {
   "cell_type": "markdown",
   "id": "2e27b774",
   "metadata": {},
   "source": [
    "# 1\n",
    "## 1(a)\n",
    "Write a function that accepts a word, and a sentence as arguments, and returns the number of times the word occurs in the sentence. \n",
    "\n",
    "Call the function, and print the returned value if the word is \"*sea*\", and the sentence is \"*She sells sea shells on the sea shore when the sea is calm.*\" Note that this is just an example to check your function. Your function should work for any word and sentence.\n",
    "\n",
    "*(10 points)*"
   ]
  },
  {
   "cell_type": "markdown",
   "id": "90ac7454",
   "metadata": {},
   "source": [
    "## 1(b)\n",
    "Ask the user to input a sentence. Use the function in 1(a) to find the word that occurs the maximum number of times in the sentence. Print the word and its number of occurences. If multiple words occur the maximum number of times, then you can print any one of them.\n",
    "\n",
    "Check your program when the user inputs the sentence, \"*She sells sea shells on the sea shore when the sea is calm.*\". Your program must print, \"*The word with the maximum number of occurences is 'sea' and it occurs 3 times.\"* Note that this is just an example to check your program. Your program must work for any sentence\n",
    "\"\n",
    "\n",
    "*(20 points)*"
   ]
  },
  {
   "cell_type": "markdown",
   "id": "ca3b040d",
   "metadata": {},
   "source": [
    "# 2\n",
    "## 2(a)\n",
    "Write a function that checks if an integer is prime. The function must accept the integer as an argument, and return `True` if the integer is prime, otherwise it must return `False`.\n",
    "\n",
    "Call your function with the argument as `197`.\n",
    "\n",
    "*(4 points)*"
   ]
  },
  {
   "cell_type": "markdown",
   "id": "ae6c5bf4",
   "metadata": {},
   "source": [
    "## 2(b)\n",
    "Write a function that checks if an integer is a factor of another integer. The function must accept both the integers as arguments, and return `True` if the integer is a factor, otherwise it must return `False`.\n",
    "\n",
    "Call your function with the arguments as `(19,85)`.\n",
    "\n",
    "*(3 points)*"
   ]
  },
  {
   "cell_type": "markdown",
   "id": "7395cb96",
   "metadata": {},
   "source": [
    "## 2(c)\n",
    "Prompt the user to input a positive integer. Use the functions in 2(a) and 2(b) to print the prime factors of the integer. Your program should be no more than 4 lines (excluding the comments)\n",
    "\n",
    "Check your program is the user inputs 190\n",
    "\n",
    "*(8 points)*"
   ]
  }
 ],
 "metadata": {
  "kernelspec": {
   "display_name": "Python 3",
   "language": "python",
   "name": "python3"
  },
  "language_info": {
   "codemirror_mode": {
    "name": "ipython",
    "version": 3
   },
   "file_extension": ".py",
   "mimetype": "text/x-python",
   "name": "python",
   "nbconvert_exporter": "python",
   "pygments_lexer": "ipython3",
   "version": "3.8.8"
  }
 },
 "nbformat": 4,
 "nbformat_minor": 5
}
