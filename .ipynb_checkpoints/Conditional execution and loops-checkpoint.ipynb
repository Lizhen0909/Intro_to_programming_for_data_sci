{
 "cells": [
  {
   "cell_type": "raw",
   "id": "05c8ba02",
   "metadata": {},
   "source": [
    "---\n",
    "title: \"Conditionals and loops\"\n",
    "format: \n",
    "  html:\n",
    "    toc: true\n",
    "    code-fold: false\n",
    "jupyter: python3\n",
    "---"
   ]
  },
  {
   "cell_type": "markdown",
   "id": "249e63c4",
   "metadata": {},
   "source": [
    "## Conditonal execution"
   ]
  },
  {
   "cell_type": "markdown",
   "id": "e2167655",
   "metadata": {},
   "source": [
    "Sometimes, we may need to execute a piece of code based on condition(s), i.e., instead of executing each line of code, we wish to execute certain lines of code based on condition(s)."
   ]
  },
  {
   "cell_type": "markdown",
   "id": "17996b15",
   "metadata": {},
   "source": [
    "### Comparison operators"
   ]
  },
  {
   "cell_type": "markdown",
   "id": "822cf733",
   "metadata": {},
   "source": [
    "For testing if conditions are true or false, first we need to learn the opeartors that can be used for comparison. For example, suppose we want to check if values of two variables are equal, we use the `==` operator:"
   ]
  },
  {
   "cell_type": "code",
   "execution_count": 6,
   "id": "1a06ec7f",
   "metadata": {},
   "outputs": [
    {
     "data": {
      "text/plain": [
       "False"
      ]
     },
     "execution_count": 6,
     "metadata": {},
     "output_type": "execute_result"
    }
   ],
   "source": [
    "5==6"
   ]
  },
  {
   "cell_type": "code",
   "execution_count": 7,
   "id": "acd1b355",
   "metadata": {},
   "outputs": [
    {
     "data": {
      "text/plain": [
       "True"
      ]
     },
     "execution_count": 7,
     "metadata": {},
     "output_type": "execute_result"
    }
   ],
   "source": [
    "x = \"hi\"\n",
    "y = \"hi\"\n",
    "x==y"
   ]
  },
  {
   "cell_type": "markdown",
   "id": "22cbf963",
   "metadata": {},
   "source": [
    "Below are the python comparison operators and their meanings."
   ]
  },
  {
   "cell_type": "markdown",
   "id": "3423e530",
   "metadata": {},
   "source": [
    "| Python code | Meaning |\n",
    "| --- | --- |\n",
    "| x==y | Produce True if ... x is equal to y |\n",
    "| x !=  y | ... x is not equal to y |\n",
    "| x > y | ... x is greater than y |\n",
    "| x < y | ... x is less than y |\n",
    "| x >= y | ... x is greater than or equal to y |\n",
    "| x <= y | ... x is less than or equal to y |"
   ]
  },
  {
   "cell_type": "markdown",
   "id": "abd92251",
   "metadata": {},
   "source": [
    "### Logical operators"
   ]
  },
  {
   "cell_type": "markdown",
   "id": "147f445d",
   "metadata": {},
   "source": [
    "Sometimes we may need to check multiple conditions simultaneously. The logical operator `and` is used to check if multiple conditions are true, while the logical operator `or` is used to check if either of the conditons is true."
   ]
  },
  {
   "cell_type": "code",
   "execution_count": 14,
   "id": "9afb3aa8",
   "metadata": {},
   "outputs": [
    {
     "data": {
      "text/plain": [
       "False"
      ]
     },
     "execution_count": 14,
     "metadata": {},
     "output_type": "execute_result"
    }
   ],
   "source": [
    "5==5 and 67==68"
   ]
  },
  {
   "cell_type": "code",
   "execution_count": 15,
   "id": "36e74a31",
   "metadata": {},
   "outputs": [
    {
     "data": {
      "text/plain": [
       "True"
      ]
     },
     "execution_count": 15,
     "metadata": {},
     "output_type": "execute_result"
    }
   ],
   "source": [
    "x = 6; y = 90\n",
    "x<0 or y>50"
   ]
  },
  {
   "cell_type": "markdown",
   "id": "df81780d",
   "metadata": {},
   "source": [
    "### if-elif-else statement"
   ]
  },
  {
   "cell_type": "markdown",
   "id": "223af6dc",
   "metadata": {},
   "source": [
    "The `if-elif-else` statements can check several conditions, and execute the code corresponding to the condition that is true. Note that there can be as many `elif` statements as required."
   ]
  },
  {
   "cell_type": "markdown",
   "id": "423b791c",
   "metadata": {},
   "source": [
    "**Syntax:** Python uses indentation to identify the code to be executed if a condition is true. All the code indented within a condition is executed only if the condition is true."
   ]
  },
  {
   "cell_type": "markdown",
   "id": "bb664336",
   "metadata": {},
   "source": [
    "**Example:** Input a number. Print whether it is positive or negative."
   ]
  },
  {
   "cell_type": "code",
   "execution_count": 4,
   "id": "a07c8f99",
   "metadata": {},
   "outputs": [
    {
     "name": "stdout",
     "output_type": "stream",
     "text": [
      "Enter a number:-9\n",
      "Number is negative\n"
     ]
    }
   ],
   "source": [
    "number = input(\"Enter a number:\")\n",
    "number_integer = int(number)\n",
    "if number_integer>0:\n",
    "    print(\"Number is positive\")\n",
    "else:\n",
    "    print(\"Number is negative\")"
   ]
  },
  {
   "cell_type": "markdown",
   "id": "86260c9a",
   "metadata": {},
   "source": [
    "In the above code, note that anything entered by the user is taken as a string datatype by python. However, a string cannot be positive or negative. So, we converted the number input by the user to integer to check if it was positive or negative."
   ]
  },
  {
   "cell_type": "markdown",
   "id": "3c709ef1",
   "metadata": {},
   "source": [
    "There may be multiple statements to be executed if a condition is true. See the example below."
   ]
  },
  {
   "cell_type": "markdown",
   "id": "367e00b4",
   "metadata": {},
   "source": [
    "**Example:** Input a number. Print whether it is positive or negative. If it is negative, print its absolute value. "
   ]
  },
  {
   "cell_type": "code",
   "execution_count": 5,
   "id": "1b3727cb",
   "metadata": {},
   "outputs": [
    {
     "name": "stdout",
     "output_type": "stream",
     "text": [
      "Enter a number:-9\n",
      "Number is negative\n",
      "Absolute value of number =  9\n"
     ]
    }
   ],
   "source": [
    "number = input(\"Enter a number:\")\n",
    "number_integer = int(number)\n",
    "if number_integer>0:\n",
    "    print(\"Number is positive\")\n",
    "else:\n",
    "    print(\"Number is negative\")\n",
    "    print(\"Absolute value of number = \", abs(number_integer))"
   ]
  },
  {
   "cell_type": "markdown",
   "id": "e6fb93be",
   "metadata": {},
   "source": [
    "### In-class exercise"
   ]
  },
  {
   "cell_type": "markdown",
   "id": "f06f1c05",
   "metadata": {},
   "source": [
    "Input a number. Print whether its odd or even. "
   ]
  },
  {
   "cell_type": "markdown",
   "id": "7ae32b95",
   "metadata": {},
   "source": [
    "### Try-except "
   ]
  },
  {
   "cell_type": "markdown",
   "id": "207cc045",
   "metadata": {},
   "source": [
    "If we suspect that some lines of code may produce an error, we can put them in a `try` block, and if an error does occur, we can use the `except` block to instead execute an alternative piece of code. This way the program will not stop if an error occurs within the `try` block, and instead will be directed to execute the code within the `except` block."
   ]
  },
  {
   "cell_type": "markdown",
   "id": "d73092fa",
   "metadata": {},
   "source": [
    "**Example:** Input an integer from the user. If the user inputs a valid integer, print whether it is a multiple of 3. However, if the user does not input a valid integer, print a message saying that the input is invalid."
   ]
  },
  {
   "cell_type": "code",
   "execution_count": 10,
   "id": "40789255",
   "metadata": {},
   "outputs": [
    {
     "name": "stdout",
     "output_type": "stream",
     "text": [
      "Enter an integer:hi\n",
      "Input must be an integer\n"
     ]
    }
   ],
   "source": [
    "num = input(\"Enter an integer:\")\n",
    "try:\n",
    "    num_int = int(num)\n",
    "    if num_int%3==0:\n",
    "        print(\"Number is a multiple of 3\")\n",
    "    else:\n",
    "        print(\"Number is not a multiple of 3\")\n",
    "except:\n",
    "    print(\"Input must be an integer\")"
   ]
  },
  {
   "cell_type": "markdown",
   "id": "9a7894f7",
   "metadata": {},
   "source": [
    "### In-class exercise"
   ]
  },
  {
   "cell_type": "markdown",
   "id": "6389b3d2",
   "metadata": {},
   "source": [
    "Ask the user to enter their exam score. Print the grade based on their score as follows:\n",
    "\n",
    "| Score | Grade |\n",
    "| --- | --- |\n",
    "| [90,100] | A |\n",
    "| [80,90) | B |\n",
    "| [0,80) | C |\n",
    "\n",
    "If the user inputs a score which is not a number in [0,100], print invalid entry."
   ]
  },
  {
   "cell_type": "code",
   "execution_count": null,
   "id": "b0e02697",
   "metadata": {},
   "outputs": [],
   "source": [
    "#| eval: false\n",
    "#| echo: false\n",
    "\n",
    "score = input(\"Enter exam score:\")\n",
    "try:\n",
    "    score_num = float(score)\n",
    "    if score_num>=90 and score_num<=100:\n",
    "        print(\"Grade: A\")\n",
    "    elif score_num>=80 and score_num<90:\n",
    "        print(\"Grade: B\")\n",
    "    elif score_num>=0 and score_num<80:\n",
    "        print(\"Grade: C\")\n",
    "    else:\n",
    "        print(\"Invalid score\")\n",
    "except:\n",
    "    print(\"Invalid score\")"
   ]
  },
  {
   "cell_type": "markdown",
   "id": "cf8f4a3f",
   "metadata": {},
   "source": [
    "## Loops"
   ]
  }
 ],
 "metadata": {
  "kernelspec": {
   "display_name": "Python 3",
   "language": "python",
   "name": "python3"
  },
  "language_info": {
   "codemirror_mode": {
    "name": "ipython",
    "version": 3
   },
   "file_extension": ".py",
   "mimetype": "text/x-python",
   "name": "python",
   "nbconvert_exporter": "python",
   "pygments_lexer": "ipython3",
   "version": "3.8.8"
  }
 },
 "nbformat": 4,
 "nbformat_minor": 5
}
