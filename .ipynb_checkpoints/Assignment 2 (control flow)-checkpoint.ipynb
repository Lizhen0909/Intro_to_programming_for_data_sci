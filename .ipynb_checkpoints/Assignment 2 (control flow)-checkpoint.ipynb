{
 "cells": [
  {
   "cell_type": "raw",
   "id": "33dd6c4c",
   "metadata": {},
   "source": [
    "---\n",
    "title: \"Assignment B\"\n",
    "format: \n",
    "  html:\n",
    "    toc: true\n",
    "    toc-title: Contents\n",
    "    code-fold: show\n",
    "    self-contained: true\n",
    "jupyter: python3\n",
    "---"
   ]
  },
  {
   "cell_type": "markdown",
   "id": "0116f49b",
   "metadata": {},
   "source": [
    "## Instructions {-}\n",
    "\n",
    "1. You may talk to a friend, discuss the questions and potential directions for solving them. However, you need to write your own solutions and code separately, and not as a group activity. \n",
    "\n",
    "2. Do not write your name on the assignment.\n",
    "\n",
    "3. Write your code in the *Code* cells of the Jupyter notebook. Ensure that the solution is written neatly enough to understand and grade.\n",
    "\n",
    "4. Use [Quarto](https://quarto.org/docs/output-formats/html-basics.html) to print the *.ipynb* file as HTML. You will need to open the command prompt, navigate to the directory containing the file, and use the command: `quarto render filename.ipynb --to html`. Submit the HTML file.\n",
    "\n",
    "5. There are 5 points for clealiness and organization. The breakdow is as follows:\n",
    "\n",
    "- Must be an HTML file rendered using Quarto (1.5 pts). \n",
    "\n",
    "- There aren’t excessively long outputs of extraneous information (e.g. no printouts of unnecessary results without good reason, there aren’t long printouts of which iteration a loop is on, there aren’t long sections of commented-out code, etc.) (1 pt)\n",
    "\n",
    "- There is no piece of unnecessary / redundant code, and no unnecessary / redundant text (1 pt)\n",
    "\n",
    "- The code should be commented and clearly written with intuitive variable names. For example, use variable names such as number_input, factor, hours, instead of a,b,xyz, etc. (1.5 pts)\n",
    "\n",
    "6. The assignment is worth 100 points, and is due on **Friday, 21st April 2023 at 11:59 pm**. "
   ]
  },
  {
   "cell_type": "markdown",
   "id": "2e27b774",
   "metadata": {},
   "source": [
    "## Sentence analysis\n",
    "### Word count\n",
    "Write a function that accepts a word, and a sentence as arguments, and returns the number of times the word occurs in the sentence. \n",
    "\n",
    "Call the function, and print the returned value if the word is \"*sea*\", and the sentence is \"*She sells sea shells on the sea shore when the sea is calm.*\" Note that this is just an example to check your function. Your function should work for any word and sentence.\n",
    "\n",
    "*(10 points)*"
   ]
  },
  {
   "cell_type": "markdown",
   "id": "90ac7454",
   "metadata": {},
   "source": [
    "### Max word count\n",
    "Ask the user to input a sentence. Use the function in A.1.1 to find the word that occurs the maximum number of times in the sentence. Print the word and its number of occurences. If multiple words occur the maximum number of times, then you can print any one of them.\n",
    "\n",
    "Check your program when the user inputs the sentence, \"*She sells sea shells on the sea shore when the sea is calm.*\". Your program must print, \"*The word with the maximum number of occurences is 'sea' and it occurs 3 times.\"* Note that this is just an example to check your program. Your program must work for any sentence. If multiple words occur the most, you can print any of them.\n",
    "\n",
    "*(20 points)*"
   ]
  }
 ],
 "metadata": {
  "kernelspec": {
   "display_name": "Python 3",
   "language": "python",
   "name": "python3"
  },
  "language_info": {
   "codemirror_mode": {
    "name": "ipython",
    "version": 3
   },
   "file_extension": ".py",
   "mimetype": "text/x-python",
   "name": "python",
   "nbconvert_exporter": "python",
   "pygments_lexer": "ipython3",
   "version": "3.8.8"
  }
 },
 "nbformat": 4,
 "nbformat_minor": 5
}
