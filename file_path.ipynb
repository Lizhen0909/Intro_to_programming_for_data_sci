{
 "cells": [
  {
   "cell_type": "raw",
   "metadata": {
    "vscode": {
     "languageId": "raw"
    }
   },
   "source": [
    "---\n",
    "title: \"Setting File Paths and Understanding the Current Working Directory\"\n",
    "format:\n",
    "  html:\n",
    "    toc: true\n",
    "    toc-title: Contents\n",
    "    toc-depth: 4\n",
    "    code-fold: show\n",
    "    self-contained: false\n",
    "    html-math-method: mathml\n",
    "jupyter: python3\n",
    "---\n"
   ]
  },
  {
   "cell_type": "code",
   "execution_count": 1,
   "metadata": {},
   "outputs": [
    {
     "data": {
      "text/html": [
       "<img src=\"./images/mdir.jpg\" width=\"500\"/>"
      ],
      "text/plain": [
       "<IPython.core.display.Image object>"
      ]
     },
     "execution_count": 1,
     "metadata": {},
     "output_type": "execute_result"
    }
   ],
   "source": [
    "#| echo: false\n",
    "\n",
    "# import image module\n",
    "from IPython.display import Image\n",
    "\n",
    "# get the image\n",
    "Image(url=\"./images/mdir.jpg\",width=500)"
   ]
  },
  {
   "cell_type": "markdown",
   "metadata": {},
   "source": [
    "## Learning Objectives\n",
    "\n",
    "By the end of this lesson, students should be able to:\n",
    "\n",
    "* Check Your current working directory in Python.\n",
    "\n",
    "* Use relative and absolute paths correctly.\n",
    "\n",
    "* Read files using proper path specification.\n",
    "\n",
    "* Fix the common file path errors in VS Code.\n",
    "* Generate HTML from your notebook\n"
   ]
  },
  {
   "cell_type": "code",
   "execution_count": null,
   "metadata": {},
   "outputs": [],
   "source": []
  },
  {
   "cell_type": "markdown",
   "metadata": {},
   "source": [
    "## What is the Current Working Directory?\n",
    "\n",
    "* In Python, the current working directory (CWD) is the folder your code is running from.\n",
    "\n",
    "* When you use a relative path, it's relative to this directory.\n",
    "  \n",
    "In python, the `os` module allow you to interact with the OS and the filesystem. We need to import it before using it"
   ]
  },
  {
   "cell_type": "code",
   "execution_count": 2,
   "metadata": {},
   "outputs": [
    {
     "name": "stdout",
     "output_type": "stream",
     "text": [
      "c:\\Users\\lsi8012\\workspace\\Intro_to_programming_for_data_sci_wi25\n"
     ]
    }
   ],
   "source": [
    "import os\n",
    "\n",
    "print(os.getcwd())"
   ]
  },
  {
   "cell_type": "markdown",
   "metadata": {},
   "source": [
    "This tells you where Python is currently looking for files by default."
   ]
  },
  {
   "cell_type": "markdown",
   "metadata": {},
   "source": [
    "## Abosolute vs. Relative Paths\n",
    "\n",
    "### Absolute Path\n",
    "\n",
    "* Full path from the root of the file system."
   ]
  },
  {
   "cell_type": "code",
   "execution_count": 3,
   "metadata": {},
   "outputs": [],
   "source": [
    "path = \"/Users/lizhen/Desktop/data/myfile.csv\""
   ]
  },
  {
   "cell_type": "markdown",
   "metadata": {},
   "source": [
    "### Relative Path\n",
    "\n",
    "* Path relative to the current working directory."
   ]
  },
  {
   "cell_type": "code",
   "execution_count": 4,
   "metadata": {},
   "outputs": [],
   "source": [
    "path = \"data/myfile.csv\"  # if your CWD is the parent folder of \"data\""
   ]
  },
  {
   "cell_type": "markdown",
   "metadata": {},
   "source": [
    "In your code, it's highly recommended using relative paths whenever possible for better portability!"
   ]
  },
  {
   "cell_type": "markdown",
   "metadata": {},
   "source": [
    "### Let's Try: Reading a Data File\n",
    "\n",
    "Suppose your directory looks like this:\n",
    "\n",
    "![file_directory](images/file_path_simple.png)"
   ]
  },
  {
   "cell_type": "markdown",
   "metadata": {},
   "source": [
    "In `lecture.ipynb`, you can do:"
   ]
  },
  {
   "cell_type": "code",
   "execution_count": 5,
   "metadata": {},
   "outputs": [
    {
     "data": {
      "text/plain": [
       "[{'Title': '12 Rounds',\n",
       "  'US Gross': 12234694,\n",
       "  'Worldwide Gross': 18184083,\n",
       "  'US DVD Sales': 8283859,\n",
       "  'Production Budget': 20000000,\n",
       "  'Release Date': 'Mar 27 2009',\n",
       "  'MPAA Rating': 'PG-13',\n",
       "  'Running Time min': 108,\n",
       "  'Distributor': '20th Century Fox',\n",
       "  'Source': 'Original Screenplay',\n",
       "  'Major Genre': 'Action',\n",
       "  'Creative Type': 'Contemporary Fiction',\n",
       "  'Director': 'Renny Harlin',\n",
       "  'Rotten Tomatoes Rating': 28,\n",
       "  'IMDB Rating': 5.4,\n",
       "  'IMDB Votes': 8914},\n",
       " {'Title': 2012,\n",
       "  'US Gross': 166112167,\n",
       "  'Worldwide Gross': 766812167,\n",
       "  'US DVD Sales': 50736023,\n",
       "  'Production Budget': 200000000,\n",
       "  'Release Date': 'Nov 13 2009',\n",
       "  'MPAA Rating': 'PG-13',\n",
       "  'Running Time min': 158,\n",
       "  'Distributor': 'Sony Pictures',\n",
       "  'Source': 'Original Screenplay',\n",
       "  'Major Genre': 'Action',\n",
       "  'Creative Type': 'Science Fiction',\n",
       "  'Director': 'Roland Emmerich',\n",
       "  'Rotten Tomatoes Rating': 39,\n",
       "  'IMDB Rating': 6.2,\n",
       "  'IMDB Votes': 396}]"
      ]
     },
     "execution_count": 5,
     "metadata": {},
     "output_type": "execute_result"
    }
   ],
   "source": [
    "import json\n",
    "with open(\"Datasets/filtered_movies.json\", encoding=\"utf8\") as file:\n",
    "    movie_data=json.load(file)\n",
    "\n",
    "movie_data[:2]"
   ]
  },
  {
   "cell_type": "markdown",
   "metadata": {},
   "source": [
    "If you run into a `FileNotFoundError`, it means your file path is not specified correctly and the program is unable to locate the file.\n",
    "\n",
    "![](images/fine_not_found.png)"
   ]
  },
  {
   "cell_type": "markdown",
   "metadata": {},
   "source": [
    "### Practice Exercise\n",
    "\n",
    "What if your file directionary look like this:\n",
    "\n",
    "![file_directory](images/file_path.png)\n",
    "\n",
    "You are now working in `lecture2.ipynb`. How should you specify the file path so that the data in the `JSON` file can be read properly into your program?"
   ]
  },
  {
   "cell_type": "markdown",
   "metadata": {},
   "source": [
    "##  Specifying Your File Path\n",
    "\n",
    "We will discuss how to specify file paths in Python for loading and saving data, with an emphasis on **absolute** and **relative** paths.\n",
    "File paths are crucial when working with files in Python, such as reading datasets and writing results to files. "
   ]
  },
  {
   "cell_type": "markdown",
   "metadata": {},
   "source": [
    "###  Methods to Specify file path in Windows\n",
    "Windows uses backslashes (`\\`) to separate directories in file paths.\n",
    "However, in Python, the backslash is an escape character, so you need to either:\n",
    "* Escape backslashes by using a double backslash (`\\\\`), or\n",
    "* Use raw strings by prefixing the path with `r`.\n",
    "\n",
    "#### Method 1: **Using escaped backslashes**"
   ]
  },
  {
   "cell_type": "code",
   "execution_count": 6,
   "metadata": {},
   "outputs": [],
   "source": [
    "file_path = \"C:\\\\Users\\\\Username\\\\Documents\\\\data.csv\""
   ]
  },
  {
   "cell_type": "markdown",
   "metadata": {},
   "source": [
    "#### Method 2: **Using Raw Strings**"
   ]
  },
  {
   "cell_type": "code",
   "execution_count": 7,
   "metadata": {},
   "outputs": [],
   "source": [
    "file_path = r\"C:\\Users\\Username\\Documents\\data.csv\""
   ]
  },
  {
   "cell_type": "markdown",
   "metadata": {},
   "source": [
    "#### Method 3: **Using forward slashes (`/`)**\n"
   ]
  },
  {
   "cell_type": "code",
   "execution_count": 8,
   "metadata": {},
   "outputs": [],
   "source": [
    "file_path = \"C:/Users/Username/Documents/data.csv\""
   ]
  },
  {
   "cell_type": "markdown",
   "metadata": {},
   "source": [
    "#### Method 4: **Using `os.path.join`**"
   ]
  },
  {
   "cell_type": "code",
   "execution_count": 9,
   "metadata": {},
   "outputs": [],
   "source": [
    "import os\n",
    "file_path = os.path.join(\"C:\", \"Users\", \"Username\", \"Documents\", \"data.csv\")"
   ]
  },
  {
   "cell_type": "markdown",
   "metadata": {},
   "source": [
    "This method works across different operating systems because `os.path.join` automatically uses the correct path separator (`\\` for Windows and `/ `for Linux/Mac)."
   ]
  },
  {
   "cell_type": "markdown",
   "metadata": {},
   "source": [
    "macOS does not have the same issue as Windows when specifying file paths because macOS (like Linux) uses forward slashes (`/`) as the path separator, which is consistent with Python's expectations. "
   ]
  },
  {
   "cell_type": "markdown",
   "metadata": {},
   "source": [
    "####  Best Practices for File Paths in Data Science\n",
    "* Use relative paths when working in a project structure, as it allows the project to be portable.\n",
    "* Use absolute paths when working with external or shared files that aren't part of your project.\n",
    "* Check the current working directory to ensure you are referencing files correctly.\n",
    "* Avoid hardcoding file paths directly in the code to make your code reusable on different machines.\n",
    "* Use the forward slash (`/`) as a path separator or `os.path.join` to specify file path if your code will work across different operating systems"
   ]
  },
  {
   "cell_type": "markdown",
   "metadata": {},
   "source": [
    "## Recognizing & Navigating to the Correct Working Directory in the Terminal (for generating html from `.ipynb` notebooks)"
   ]
  },
  {
   "cell_type": "markdown",
   "metadata": {},
   "source": [
    "Before exporting a notebook to `.html`, you must make sure your terminal is in the folder that contains your `.ipynb` file.\n",
    "\n",
    "### Step 1: What is the Working Directory in the Terminal?\n",
    "\n",
    "The working directory is where your terminal is currently located in your computer’s file system. \n",
    "\n",
    "Run the following command in the terminal to print it out.\n",
    "\n",
    "```pwd```\n",
    "\n",
    "\n"
   ]
  },
  {
   "cell_type": "markdown",
   "metadata": {},
   "source": [
    "This tells you where your terminal is currently pointed."
   ]
  },
  {
   "cell_type": "markdown",
   "metadata": {},
   "source": [
    "### Step 2: See What Files are in the current working directory\n",
    "\n",
    "Run\n",
    "\n",
    "```ls```"
   ]
  },
  {
   "cell_type": "markdown",
   "metadata": {},
   "source": [
    "This will list the files/folders. Look for your `.ipynb` notebook.\n",
    "\n",
    "✅ **If you see your notebook file here, you're in the right directory!**\n",
    "\n",
    "❌ **If not, you need to navigate to the correct folder.**\n"
   ]
  },
  {
   "cell_type": "markdown",
   "metadata": {},
   "source": [
    "### Step 3: Navigate to the Folder that Contains Your Notebook\n",
    "\n",
    "Run\n",
    "\n",
    "```cd  <folder-name>```\n"
   ]
  },
  {
   "cell_type": "markdown",
   "metadata": {},
   "source": [
    "* Use `cd ..` to go up one folder\n",
    "\n",
    "* Use `ls` after `cd` to check that you're in the right place"
   ]
  },
  {
   "cell_type": "markdown",
   "metadata": {},
   "source": [
    "### Step 4: Generate the HTML file\n",
    "\n",
    "Once you are in the correct folder (containing your `.ipynb` file), run:\n",
    "\n",
    "```quarto render analysis.ipynb  --to html```\n",
    "\n",
    "This will generate `analysis.html` in the same folder. Please replace the `analysis.ipynb` with your notebook name"
   ]
  },
  {
   "cell_type": "markdown",
   "metadata": {},
   "source": [
    "### 🚨 Common Pitfall\n",
    "\n",
    "❌ **Trying to export the notebook while the terminal is still in the wrong folder (like your home directory) will give you this error:**\n",
    "\n",
    "```\n",
    "[NbConvertApp] WARNING | Notebook file 'analysis.ipynb' not found\n",
    "```\n"
   ]
  },
  {
   "cell_type": "markdown",
   "metadata": {},
   "source": [
    "✅ Fix: Use `cd` to go to the correct directory first!"
   ]
  },
  {
   "cell_type": "markdown",
   "metadata": {},
   "source": [
    "### 📌 Summary Cheat Sheet\n",
    "\n",
    "| **Command**                              | **Purpose**                          |\n",
    "|------------------------------------------|--------------------------------------|\n",
    "| `pwd`                                     | Show your current directory          |\n",
    "| `ls`                                      | List files in the current folder     |\n",
    "| `cd folder/`                              | Enter a folder                       |\n",
    "| `cd ..`                                   | Go up one level                      |\n",
    "| `quarto render file.ipynb --to html ` | Convert to HTML                      |\n"
   ]
  },
  {
   "cell_type": "markdown",
   "metadata": {},
   "source": [
    "## Independent Study\n",
    "\n",
    "To reinforce the skills learned in this lecture, complete the following tasks:\n",
    "\n",
    "1. **Set Up Your Workspace**  \n",
    "   - Create a folder named `STAT201` for putting the course materials. \n",
    "   - Create a python environment for the upcoming coursework.  \n",
    "   - Organize your files by creating separate directories for **datasets**, **assignments**, **quizzes**, **lectures**, and **exams**.  \n",
    "   - Set up these directories in your file system to keep your work structured and easy to navigate.\n",
    "\n",
    " \n",
    "\n",
    "2. **Create your first notebook for quiz and generate html for your submission**  \n",
    "   1. Create a new notebook named `quiz1.ipynb` inside the `lecture` folder.  \n",
    "   2. Add a heading to the top of the notebook: `# First HTML file`  \n",
    "   3. In a code cell, print the message: `Today is day 1 of my programming course`.  \n",
    "   4. In another code cell, compute and print the number of seconds in a day (i.e., 24 × 60 × 60).  \n",
    "   5. Use **Quarto** to convert the notebook to an HTML file.\n",
    "\n",
    "\n",
    "The HTML file should look like the picture below."
   ]
  },
  {
   "cell_type": "code",
   "execution_count": 10,
   "metadata": {},
   "outputs": [
    {
     "data": {
      "text/html": [
       "<img src=\"./Datasets/snapshot.jpg\" width=\"600\"/>"
      ],
      "text/plain": [
       "<IPython.core.display.Image object>"
      ]
     },
     "execution_count": 10,
     "metadata": {},
     "output_type": "execute_result"
    }
   ],
   "source": [
    "#| echo: false\n",
    "\n",
    "# get the image\n",
    "Image(url=\"./Datasets/snapshot.jpg\", width=600)"
   ]
  },
  {
   "cell_type": "markdown",
   "metadata": {},
   "source": [
    "By completing these exercises, you’ll gain practical experience with file paths, generating HTML from notebooks using Quarto, and interacting with the filesystem in Jupyter notebooks. This will prepare you for Python programming starting next week."
   ]
  }
 ],
 "metadata": {
  "kernelspec": {
   "display_name": "base",
   "language": "python",
   "name": "python3"
  },
  "language_info": {
   "codemirror_mode": {
    "name": "ipython",
    "version": 3
   },
   "file_extension": ".py",
   "mimetype": "text/x-python",
   "name": "python",
   "nbconvert_exporter": "python",
   "pygments_lexer": "ipython3",
   "version": "3.12.4"
  }
 },
 "nbformat": 4,
 "nbformat_minor": 2
}
