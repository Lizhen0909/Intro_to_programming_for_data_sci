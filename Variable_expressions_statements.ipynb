{
 "cells": [
  {
   "cell_type": "raw",
   "id": "d5e49576",
   "metadata": {},
   "source": [
    "---\n",
    "title: \"Variables, expressions and statements\"\n",
    "format: \n",
    "  html:\n",
    "    toc: true\n",
    "    code-fold: false\n",
    "jupyter: python3\n",
    "---"
   ]
  },
  {
   "cell_type": "code",
   "execution_count": 1,
   "id": "362a76e2",
   "metadata": {},
   "outputs": [
    {
     "data": {
      "text/html": [
       "<img src=\"datatypes.png\" width=\"700\" height=\"400\"/>"
      ],
      "text/plain": [
       "<IPython.core.display.Image object>"
      ]
     },
     "execution_count": 1,
     "metadata": {},
     "output_type": "execute_result"
    }
   ],
   "source": [
    "#| echo: false\n",
    "\n",
    "# import image module\n",
    "from IPython.display import Image\n",
    "\n",
    "# get the image\n",
    "Image(url=\"datatypes.png\", width=700, height=400)"
   ]
  },
  {
   "cell_type": "markdown",
   "id": "6bbf90cb",
   "metadata": {},
   "source": [
    "## Commenting code"
   ]
  },
  {
   "cell_type": "markdown",
   "id": "12b8bbec",
   "metadata": {},
   "source": [
    "The `#` symbol can be used to comment the code. Anything after the `#` sign is ignored by python. Commenting a code may have several purposes, such as:\n",
    "\n",
    "-  Describe what is going to happen in a sequence of code\n",
    "\n",
    "-  Document who wrote the code or other ancillary information\n",
    "\n",
    "-  Turn off a line of code - perhaps temporarily"
   ]
  },
  {
   "cell_type": "markdown",
   "id": "f9a0fdc8",
   "metadata": {},
   "source": [
    "For example, below is code with a comment to describe the purpose of the code:"
   ]
  },
  {
   "cell_type": "code",
   "execution_count": null,
   "id": "4a6120c7",
   "metadata": {},
   "outputs": [
    {
     "name": "stdout",
     "output_type": "stream",
     "text": [
      "Total lecture hours of STAT201= 25.0\n"
     ]
    }
   ],
   "source": [
    "#Computing number of hours of lecture in this course\n",
    "print(\"Total lecture hours of STAT201=\",10*3*(5/6))"
   ]
  },
  {
   "cell_type": "markdown",
   "id": "504ee875",
   "metadata": {},
   "source": [
    "### Practice exercise 1"
   ]
  },
  {
   "cell_type": "markdown",
   "id": "a253076d",
   "metadata": {},
   "source": [
    "Which of the following lines is a comment:\n",
    "\n",
    "1. #this is a comment\n",
    "\n",
    "2. ##this may be a comment\n",
    "\n",
    "3. A comment#"
   ]
  },
  {
   "cell_type": "markdown",
   "id": "a1ec6632",
   "metadata": {},
   "source": [
    "## `print()` function in python\n",
    "\n",
    "The `print()` function is a fundamental tool for displaying information.\n",
    "\n",
    "### Basic Examples"
   ]
  },
  {
   "cell_type": "code",
   "execution_count": 3,
   "id": "6442790f",
   "metadata": {},
   "outputs": [
    {
     "name": "stdout",
     "output_type": "stream",
     "text": [
      "Hello, World!\n"
     ]
    }
   ],
   "source": [
    "# Printing a simple string\n",
    "print(\"Hello, World!\")"
   ]
  },
  {
   "cell_type": "code",
   "execution_count": 2,
   "id": "fe54d593",
   "metadata": {},
   "outputs": [
    {
     "name": "stdout",
     "output_type": "stream",
     "text": [
      "The total number of seconds in a day is 86400\n"
     ]
    }
   ],
   "source": [
    "# Printing a string with a number\n",
    "print (\"The total number of seconds in a day is\", 24*60*60)"
   ]
  },
  {
   "cell_type": "code",
   "execution_count": 4,
   "id": "526aaf31",
   "metadata": {},
   "outputs": [
    {
     "name": "stdout",
     "output_type": "stream",
     "text": [
      "Hello, World!\n"
     ]
    }
   ],
   "source": [
    "# combine multiple strings\n",
    "print(\"Hello, \" + \"World!\")"
   ]
  },
  {
   "cell_type": "code",
   "execution_count": 5,
   "id": "db85705e",
   "metadata": {},
   "outputs": [
    {
     "name": "stdout",
     "output_type": "stream",
     "text": [
      "Hello, World!\n"
     ]
    }
   ],
   "source": [
    "# use f-strings for formatted output\n",
    "name = \"World\"\n",
    "print(f\"Hello, {name}!\")"
   ]
  },
  {
   "cell_type": "markdown",
   "id": "b8204afd",
   "metadata": {},
   "source": [
    "### Practice exercise 2\n",
    "\n",
    "Use the `print()` function to:\n",
    "* Display your name, age, and favorite hobby.\n",
    "* Format the output neatly using f-strings."
   ]
  },
  {
   "cell_type": "markdown",
   "id": "17018f06",
   "metadata": {},
   "source": [
    "## Data types"
   ]
  },
  {
   "cell_type": "markdown",
   "id": "18912ead",
   "metadata": {},
   "source": [
    "Python provides several built-in data types for storing different kinds of information in variables. These data types can be broadly categorized into primitive data types and collection (containers) data types as shown below. While collection data types will be covered in Chapter 5, this chapter focuses on primitive data types, which are used to represent a single value."
   ]
  },
  {
   "cell_type": "markdown",
   "id": "76542a92",
   "metadata": {},
   "source": [
    "### Primitive Data Types\n",
    "\n",
    "They represent a single value. In Python, primitive data types include:\n",
    "\n",
    "- **Integer (`int`)**: Whole numbers (e.g., `10`, `-3`).\n",
    "- **Floating-point number (`float`)**: Numbers with decimals (e.g., `3.14`, `-2.7`).\n",
    "- **Boolean (`bool`)**: Logical values `True` or `False`.\n",
    "- **None type (`None`)**: Represents the absence of a value.\n",
    "- **String (`str`)**: A sequence of characters (e.g., `\"hello\"`, `'world'`).\n",
    "\n",
    "\n",
    "The data type of the object can be identified using the in-built python function `type()`. For example, see the following objects and their types:"
   ]
  },
  {
   "cell_type": "code",
   "execution_count": 1,
   "id": "9ba52e1a",
   "metadata": {},
   "outputs": [
    {
     "data": {
      "text/plain": [
       "int"
      ]
     },
     "execution_count": 1,
     "metadata": {},
     "output_type": "execute_result"
    }
   ],
   "source": [
    "type(4)"
   ]
  },
  {
   "cell_type": "code",
   "execution_count": 36,
   "id": "240cc76c",
   "metadata": {},
   "outputs": [
    {
     "data": {
      "text/plain": [
       "float"
      ]
     },
     "execution_count": 36,
     "metadata": {},
     "output_type": "execute_result"
    }
   ],
   "source": [
    "type(4.4)"
   ]
  },
  {
   "cell_type": "code",
   "execution_count": 37,
   "id": "8bf2d5ac",
   "metadata": {},
   "outputs": [
    {
     "data": {
      "text/plain": [
       "str"
      ]
     },
     "execution_count": 37,
     "metadata": {},
     "output_type": "execute_result"
    }
   ],
   "source": [
    "type('4')"
   ]
  },
  {
   "cell_type": "code",
   "execution_count": 38,
   "id": "d92acd98",
   "metadata": {},
   "outputs": [
    {
     "data": {
      "text/plain": [
       "bool"
      ]
     },
     "execution_count": 38,
     "metadata": {},
     "output_type": "execute_result"
    }
   ],
   "source": [
    "type(True)"
   ]
  },
  {
   "cell_type": "markdown",
   "id": "80119262",
   "metadata": {},
   "source": [
    "### Practice exercise 3"
   ]
  },
  {
   "cell_type": "markdown",
   "id": "cdb44b00",
   "metadata": {},
   "source": [
    "What is the datatype of the following objects?\n",
    "\n",
    "1. 'This is False'\n",
    "\n",
    "2. \"This is a number\"\n",
    "\n",
    "3. 1000\n",
    "\n",
    "4. 65.65\n",
    "\n",
    "5. False"
   ]
  },
  {
   "cell_type": "markdown",
   "id": "130ea683",
   "metadata": {},
   "source": [
    "## Variables\n",
    "\n",
    "A **variable** is a container for storing data values. Variables in Python are dynamically typed, meaning you don't need to specify their type when declaring them.\n",
    "\n",
    "### **Key Points**\n",
    "1. **Variable Declaration**:\n",
    "   - You can create a variable by assigning a value to it using the `=` operator.\n",
    "   - Example:\n",
    "     ```python\n",
    "     x = 10  # Integer\n",
    "     name = \"Alice\"  # String\n",
    "     pi = 3.14  # Float\n",
    "     is_active = True  # Boolean\n",
    "     ```\n",
    "\n",
    "2. **Dynamic Typing**:\n",
    "   - The type of a variable is determined by the value assigned to it.\n",
    "   - Example:\n",
    "     ```python\n",
    "     x = 10        # x is an integer\n",
    "     x = \"Python\"  # x is now a string\n",
    "     ```\n",
    "\n",
    "3. **Variable Naming Rules**:\n",
    "   - Names must start with a letter (a-z, A-Z) or an underscore (_).\n",
    "   - Names can only contain letters, numbers (0-9), and underscores.\n",
    "   - Names are case-sensitive (`name` and `Name` are different variables).\n",
    "   - Reserved keywords (e.g., `if`, `for`, `while`) cannot be used as variable names."
   ]
  },
  {
   "cell_type": "markdown",
   "id": "780d3b50",
   "metadata": {},
   "source": [
    "There are certain *reserved words* in python that have some meaning, and cannot be used as variable names. These reserved words are:"
   ]
  },
  {
   "cell_type": "code",
   "execution_count": 6,
   "id": "1ce20974",
   "metadata": {},
   "outputs": [
    {
     "data": {
      "text/html": [
       "<img src=\"reserved_words.jpg\" width=\"600\"/>"
      ],
      "text/plain": [
       "<IPython.core.display.Image object>"
      ]
     },
     "execution_count": 6,
     "metadata": {},
     "output_type": "execute_result"
    }
   ],
   "source": [
    "#| echo: false\n",
    "\n",
    "# import image module\n",
    "from IPython.display import Image\n",
    "\n",
    "# get the image\n",
    "Image(url=\"reserved_words.jpg\",width=600)"
   ]
  },
  {
   "cell_type": "markdown",
   "id": "531ec04e",
   "metadata": {},
   "source": [
    "4. **Best Practices**:\n",
    "   - Use descriptive variable names:\n",
    "     ```python\n",
    "     total_price = 100\n",
    "     ```\n",
    "   - Use snake_case for multi-word names:\n",
    "     ```python\n",
    "     user_age = 25\n",
    "     ```\n"
   ]
  },
  {
   "cell_type": "markdown",
   "id": "9a8b8778",
   "metadata": {},
   "source": [
    "[Python style guide](https://peps.python.org/pep-0008/): Please refer to the python style guide for best coding practices, such as naming variables, using spaces, tabs, and styling the different components of your code."
   ]
  },
  {
   "cell_type": "markdown",
   "id": "a6038c6c",
   "metadata": {},
   "source": [
    "### Example Usage"
   ]
  },
  {
   "cell_type": "code",
   "execution_count": 7,
   "id": "4fc4100f",
   "metadata": {},
   "outputs": [],
   "source": [
    "# Variable assignments\n",
    "a = 5\n",
    "b = 3.14\n",
    "message = \"Hello, World!\"\n",
    "is_valid = True"
   ]
  },
  {
   "cell_type": "code",
   "execution_count": 8,
   "id": "8c30ce37",
   "metadata": {},
   "outputs": [
    {
     "name": "stdout",
     "output_type": "stream",
     "text": [
      "5\n",
      "Hello, World!\n"
     ]
    }
   ],
   "source": [
    "# Printing variables\n",
    "print(a)  # Output: 5\n",
    "print(message)  # Output: Hello, World!"
   ]
  },
  {
   "cell_type": "code",
   "execution_count": 9,
   "id": "8863d746",
   "metadata": {},
   "outputs": [
    {
     "name": "stdout",
     "output_type": "stream",
     "text": [
      "Now I am a string!\n"
     ]
    }
   ],
   "source": [
    "# Reassigning variables\n",
    "a = \"Now I am a string!\"\n",
    "print(a) "
   ]
  },
  {
   "cell_type": "markdown",
   "id": "0bb9a715",
   "metadata": {},
   "source": [
    "### Checking Variable Types\n",
    "\n",
    "You can use the `type()` function to check the type of a variable."
   ]
  },
  {
   "cell_type": "code",
   "execution_count": 10,
   "id": "96d75687",
   "metadata": {},
   "outputs": [
    {
     "name": "stdout",
     "output_type": "stream",
     "text": [
      "<class 'int'>\n",
      "<class 'str'>\n"
     ]
    }
   ],
   "source": [
    "x = 10\n",
    "print(type(x)) \n",
    "\n",
    "y = \"Python\"\n",
    "print(type(y))  "
   ]
  },
  {
   "cell_type": "markdown",
   "id": "5ec29370",
   "metadata": {},
   "source": [
    "### Practice exercise 4"
   ]
  },
  {
   "cell_type": "markdown",
   "id": "0082fd60",
   "metadata": {},
   "source": [
    "\n",
    "Which of the following variable names are valid?\n",
    "   \n",
    "1. var.name\n",
    "\n",
    "2. var9name\n",
    "\n",
    "3. _varname\n",
    "\n",
    "4. varname*\n",
    "   \n",
    "\n",
    "In the statements below, determine the variable type\n",
    "\n",
    "1. value = \"name\"\n",
    "\n",
    "2. constant = 7\n",
    "\n",
    "3. another_const = \"variable\"\n",
    "\n",
    "4. True_False = True"
   ]
  },
  {
   "cell_type": "markdown",
   "id": "b6383253",
   "metadata": {},
   "source": [
    "## Assignment statements"
   ]
  },
  {
   "cell_type": "markdown",
   "id": "a78fc068",
   "metadata": {},
   "source": [
    "Values are assigned to variables with the assignment statement (=). An assignment statement may have a constant or an expression on the right hand side of the (=) sign, and a variable name on the left hand side."
   ]
  },
  {
   "cell_type": "markdown",
   "id": "4a654745",
   "metadata": {},
   "source": [
    "For example, the code lines below are assignment statements"
   ]
  },
  {
   "cell_type": "code",
   "execution_count": 69,
   "id": "1517b979",
   "metadata": {},
   "outputs": [],
   "source": [
    "var = 2\n",
    "var = var + 3"
   ]
  },
  {
   "cell_type": "markdown",
   "id": "707ef86f",
   "metadata": {},
   "source": [
    "## Expressions"
   ]
  },
  {
   "cell_type": "markdown",
   "id": "0f271694",
   "metadata": {},
   "source": [
    "### Mathematical Operations and Their Operators in Python\n",
    "\n",
    "Python provides the following operators for performing mathematical operations:\n",
    "\n",
    "1. **Exponentiation (`**`)**: Raises a number to the power of another.\n",
    "   - Example: `2 ** 3` results in `8`.\n",
    "\n",
    "2. **Modulo (`%`)**: Returns the remainder of a division.\n",
    "   - Example: `10 % 3` results in `1`.\n",
    "\n",
    "3. **Multiplication (`*`)**: Multiplies two numbers.\n",
    "   - Example: `4 * 5` results in `20`.\n",
    "\n",
    "4. **Division (`/`)**: Divides one number by another, resulting in a float.\n",
    "   - Example: `10 / 2` results in `5.0`.\n",
    "\n",
    "5. **Addition (`+`)**: Adds two numbers.\n",
    "   - Example: `7 + 3` results in `10`.\n",
    "\n",
    "6. **Subtraction (`-`)**: Subtracts one number from another.\n",
    "   - Example: `9 - 4` results in `5`.\n",
    "\n"
   ]
  },
  {
   "cell_type": "markdown",
   "id": "3f242092",
   "metadata": {},
   "source": [
    "### Operator Precedence in Python\n",
    "\n",
    "The operators listed above are in **decreasing order of precedence**, meaning:\n",
    "\n",
    "1. **Exponentiation (`**`)** is evaluated first.\n",
    "2. **Modulo (`%`)** is evaluated next.\n",
    "3. **Multiplication (`*`)** follows.\n",
    "4. **Division (`/`)**, if present, has the same precedence as multiplication.\n",
    "5. **Addition (`+`)** and **Subtraction (`-`)** are evaluated last, from left to right.\n",
    "\n",
    "\n",
    "#### Example: Precedence in Action\n",
    "\n",
    "Consider the expression: `2 + 3 % 4 * 2`\n",
    "\n",
    "To evaluate this, Python follows the precedence rules:\n",
    "\n",
    "1. **Modulo (`%`)** is evaluated first:"
   ]
  },
  {
   "cell_type": "code",
   "execution_count": 12,
   "id": "a6c84ec9",
   "metadata": {},
   "outputs": [
    {
     "data": {
      "text/plain": [
       "3"
      ]
     },
     "execution_count": 12,
     "metadata": {},
     "output_type": "execute_result"
    }
   ],
   "source": [
    "3 % 4"
   ]
  },
  {
   "cell_type": "markdown",
   "id": "c9a65dc0",
   "metadata": {},
   "source": [
    "**Multiplication (`*`)** is evaluated next:"
   ]
  },
  {
   "cell_type": "code",
   "execution_count": 13,
   "id": "5c3d4725",
   "metadata": {},
   "outputs": [
    {
     "data": {
      "text/plain": [
       "6"
      ]
     },
     "execution_count": 13,
     "metadata": {},
     "output_type": "execute_result"
    }
   ],
   "source": [
    "3 * 2"
   ]
  },
  {
   "cell_type": "markdown",
   "id": "47c0ff04",
   "metadata": {},
   "source": [
    "**Addition (`+`)** is evaluated last:"
   ]
  },
  {
   "cell_type": "code",
   "execution_count": 14,
   "id": "a7c028c2",
   "metadata": {},
   "outputs": [
    {
     "data": {
      "text/plain": [
       "8"
      ]
     },
     "execution_count": 14,
     "metadata": {},
     "output_type": "execute_result"
    }
   ],
   "source": [
    "2+6"
   ]
  },
  {
   "cell_type": "markdown",
   "id": "c8278ad4",
   "metadata": {},
   "source": [
    "Thus, the result of the expression `2 + 3 % 4 * 2` is `8`."
   ]
  },
  {
   "cell_type": "markdown",
   "id": "49155b65",
   "metadata": {},
   "source": [
    "#### Key Takeaways\n",
    "* Precedence determines the order in which operations are performed in an expression.\n",
    "* Parentheses `()` can be used to override the default precedence and control the order of evaluation."
   ]
  },
  {
   "cell_type": "code",
   "execution_count": 16,
   "id": "7bb84a90",
   "metadata": {},
   "outputs": [
    {
     "name": "stdout",
     "output_type": "stream",
     "text": [
      "5\n"
     ]
    }
   ],
   "source": [
    "result = (2 + 3) % (4 * 2)\n",
    "print(result)"
   ]
  },
  {
   "cell_type": "markdown",
   "id": "da111d4e",
   "metadata": {},
   "source": [
    "### Practice exercise 5"
   ]
  },
  {
   "cell_type": "markdown",
   "id": "64f1ac8f",
   "metadata": {},
   "source": [
    "Which of the following statements is an assignment statement:\n",
    "\n",
    "1. x = 5\n",
    "\n",
    "2. print(x)\n",
    "\n",
    "3. type(x)\n",
    "\n",
    "4. x + 4"
   ]
  },
  {
   "cell_type": "markdown",
   "id": "7f9bdd19",
   "metadata": {},
   "source": [
    "What will be the result of the following expression:"
   ]
  },
  {
   "cell_type": "code",
   "execution_count": null,
   "id": "ad38dc1d",
   "metadata": {},
   "outputs": [],
   "source": [
    "1%2**3*2+1"
   ]
  },
  {
   "cell_type": "markdown",
   "id": "479fb784",
   "metadata": {},
   "source": [
    "## Converting datatypes"
   ]
  },
  {
   "cell_type": "markdown",
   "id": "d50d9e2c",
   "metadata": {},
   "source": [
    "Sometimes a value may have a datatype that is not suitable for using it. For example, consider the variable called *annual_income* in the code below:"
   ]
  },
  {
   "cell_type": "code",
   "execution_count": 86,
   "id": "df0f093c",
   "metadata": {},
   "outputs": [],
   "source": [
    "annual_income = \"80000\""
   ]
  },
  {
   "cell_type": "markdown",
   "id": "ecdbc641",
   "metadata": {},
   "source": [
    "Suppose we wish to divide `annual_income` by 12 to get the monthly income. We cannot use the variable `monthly_income` directly as its datatype is a string and not a number. Thus, numerical operations cannnot be performed on the variable `annual_income`."
   ]
  },
  {
   "cell_type": "markdown",
   "id": "f082264d",
   "metadata": {},
   "source": [
    "We'll need to convert *annual_income* to an integer. For that we will use the python's in-built `int()` function:"
   ]
  },
  {
   "cell_type": "code",
   "execution_count": 87,
   "id": "5b8d94d6",
   "metadata": {},
   "outputs": [
    {
     "name": "stdout",
     "output_type": "stream",
     "text": [
      "monthly income =  6666.666666666667\n"
     ]
    }
   ],
   "source": [
    "annual_income = int(annual_income)\n",
    "monthly_income = annual_income/12\n",
    "print(\"monthly income = \", monthly_income)"
   ]
  },
  {
   "cell_type": "markdown",
   "id": "ba931ae9",
   "metadata": {},
   "source": [
    "Similarly, datatypes can be converted from one type to another using in-built python functions as shown below:"
   ]
  },
  {
   "cell_type": "code",
   "execution_count": 88,
   "id": "30c173fa",
   "metadata": {},
   "outputs": [
    {
     "data": {
      "text/plain": [
       "'9'"
      ]
     },
     "execution_count": 88,
     "metadata": {},
     "output_type": "execute_result"
    }
   ],
   "source": [
    "#Converting integer to string\n",
    "str(9)"
   ]
  },
  {
   "cell_type": "code",
   "execution_count": 89,
   "id": "a602c121",
   "metadata": {},
   "outputs": [
    {
     "data": {
      "text/plain": [
       "4.5"
      ]
     },
     "execution_count": 89,
     "metadata": {},
     "output_type": "execute_result"
    }
   ],
   "source": [
    "#Converting string to float\n",
    "float(\"4.5\")"
   ]
  },
  {
   "cell_type": "code",
   "execution_count": 91,
   "id": "13733bce",
   "metadata": {},
   "outputs": [
    {
     "data": {
      "text/plain": [
       "1"
      ]
     },
     "execution_count": 91,
     "metadata": {},
     "output_type": "execute_result"
    }
   ],
   "source": [
    "#Converting bool to integer\n",
    "int(True)"
   ]
  },
  {
   "cell_type": "markdown",
   "id": "9bca466a",
   "metadata": {},
   "source": [
    "Sometimes, conversion of a value may not be possible. For example, it is not possible to convert the variable `greeting` defined below to a number:"
   ]
  },
  {
   "cell_type": "code",
   "execution_count": null,
   "id": "d30102b8",
   "metadata": {},
   "outputs": [],
   "source": [
    "greeting = \"hello\""
   ]
  },
  {
   "cell_type": "markdown",
   "id": "b3e9a5c0",
   "metadata": {},
   "source": [
    "However, in some cases, mathematical operators such as `+` and `*` can be applied on strings. The operator `+` concatenates multiple strings, while the operator `*` can be used to concatenate a string to itself multiple times:"
   ]
  },
  {
   "cell_type": "code",
   "execution_count": 97,
   "id": "295826b1",
   "metadata": {},
   "outputs": [
    {
     "data": {
      "text/plain": [
       "'Hi there!'"
      ]
     },
     "execution_count": 97,
     "metadata": {},
     "output_type": "execute_result"
    }
   ],
   "source": [
    "\"Hi\" + \" there!\""
   ]
  },
  {
   "cell_type": "code",
   "execution_count": 98,
   "id": "90ec8949",
   "metadata": {},
   "outputs": [
    {
     "data": {
      "text/plain": [
       "'53'"
      ]
     },
     "execution_count": 98,
     "metadata": {},
     "output_type": "execute_result"
    }
   ],
   "source": [
    "\"5\" + '3'"
   ]
  },
  {
   "cell_type": "code",
   "execution_count": 99,
   "id": "c3dc3050",
   "metadata": {},
   "outputs": [
    {
     "data": {
      "text/plain": [
       "'55555555'"
      ]
     },
     "execution_count": 99,
     "metadata": {},
     "output_type": "execute_result"
    }
   ],
   "source": [
    "\"5\"*8"
   ]
  },
  {
   "cell_type": "markdown",
   "id": "e9bc3323",
   "metadata": {},
   "source": [
    "## User input"
   ]
  },
  {
   "cell_type": "markdown",
   "id": "033d992f",
   "metadata": {},
   "source": [
    "Python's in-built `input()` function is used to take input from the user during program execution. It reads a line of text entered by the user and returns it as a **string**. "
   ]
  },
  {
   "cell_type": "code",
   "execution_count": 17,
   "id": "e2048c41",
   "metadata": {},
   "outputs": [],
   "source": [
    "# suppose we wish the user to onput their age:\n",
    "age = input(\"Enter your age:\")"
   ]
  },
  {
   "cell_type": "markdown",
   "id": "fa727cc3",
   "metadata": {},
   "source": [
    "The entered value is stored in the variable `age` and can be used for computation."
   ]
  },
  {
   "cell_type": "markdown",
   "id": "2ae21f22",
   "metadata": {},
   "source": [
    "#### **Key Point**\n",
    "\n",
    "* The `input()` is always returned as a string, even if the user enters a number.\n",
    "* You can convert the input to other types (e.g., `int`, `float`) using type conversion functions.\n",
    "* The program execution pauses until the user provides input."
   ]
  },
  {
   "cell_type": "markdown",
   "id": "76d1802f",
   "metadata": {},
   "source": [
    "### Examples"
   ]
  },
  {
   "cell_type": "code",
   "execution_count": null,
   "id": "bd6b7639",
   "metadata": {},
   "outputs": [],
   "source": [
    "# basic input\n",
    "name = input(\"Enter your name: \")\n",
    "print(\"Hello, \" + name)"
   ]
  },
  {
   "cell_type": "code",
   "execution_count": null,
   "id": "edc33bdd",
   "metadata": {},
   "outputs": [],
   "source": [
    "# using f-string for formatted output\n",
    "name = input(\"Enter your name: \")\n",
    "print(f\"Hello, {name}!\")"
   ]
  },
  {
   "cell_type": "code",
   "execution_count": null,
   "id": "46c8304e",
   "metadata": {},
   "outputs": [],
   "source": [
    "# To take numeric input, you need to convert the string to an appropriate data type:\n",
    "age = int(input(\"Enter your age: \"))\n",
    "print(f\"You will be {age + 1} years old next year.\")"
   ]
  },
  {
   "cell_type": "code",
   "execution_count": null,
   "id": "79d7d26b",
   "metadata": {},
   "outputs": [],
   "source": [
    "# input for calculating the area of a circle\n",
    "radius = float(input(\"Enter the radius of the circle: \"))\n",
    "area = 3.14 * radius ** 2\n",
    "print(f\"The area of the circle is {area}\")"
   ]
  },
  {
   "cell_type": "markdown",
   "id": "538ebb50",
   "metadata": {},
   "source": [
    "### Practice exercise 6\n",
    "Ask the user to input their year of birth, and print their age."
   ]
  },
  {
   "cell_type": "markdown",
   "id": "6b10264e",
   "metadata": {},
   "source": [
    "## Programming errors"
   ]
  },
  {
   "cell_type": "markdown",
   "id": "adefb195",
   "metadata": {},
   "source": [
    "There are 3 types of errors that can occur in a program - syntax errors, run-time errors, and semantic errors."
   ]
  },
  {
   "cell_type": "markdown",
   "id": "7b711ee1",
   "metadata": {},
   "source": [
    "### Syntax errors"
   ]
  },
  {
   "cell_type": "markdown",
   "id": "ad519b16",
   "metadata": {},
   "source": [
    "Syntax errors occur if the code is written in a way that it does not comply with the rules / standards / laws of the language (python in this case). For example, suppose a values is assigned to a variable as follows:"
   ]
  },
  {
   "cell_type": "code",
   "execution_count": null,
   "id": "604b30cb",
   "metadata": {},
   "outputs": [],
   "source": [
    "9value = 2"
   ]
  },
  {
   "cell_type": "markdown",
   "id": "5dd8a7e3",
   "metadata": {},
   "source": [
    "The above code when executed will indicate a syntax error as it violates the rule that a variable name must not start with a number."
   ]
  },
  {
   "cell_type": "markdown",
   "id": "4d289b44",
   "metadata": {},
   "source": [
    "### Run-time errors"
   ]
  },
  {
   "cell_type": "markdown",
   "id": "a5923f74",
   "metadata": {},
   "source": [
    "Run-time errors occur when a code is syntactically correct, but there are other issues with the code such as:\n",
    "\n",
    "- Misspelled or incorrectly capitalized variable and function names\n",
    "- Attempts to perform operations (such as math operations) on data of the wrong type (ex. attempting to subtract two variables that hold string values)\n",
    "- Dividing by zero\n",
    "- Attempts to use a type conversion function such as `int` on a value that can’t be converted to an `int`"
   ]
  },
  {
   "cell_type": "markdown",
   "id": "c2cbe10e",
   "metadata": {},
   "source": [
    "For example, suppose a number is multipled as follws:"
   ]
  },
  {
   "cell_type": "code",
   "execution_count": null,
   "id": "59bc01ed",
   "metadata": {},
   "outputs": [],
   "source": [
    "multiplication_result = x * 4"
   ]
  },
  {
   "cell_type": "markdown",
   "id": "615574bd",
   "metadata": {},
   "source": [
    "The above code is syntactically correct. However, it will generate an error as the variable `x` has not been defined as a number."
   ]
  },
  {
   "cell_type": "markdown",
   "id": "ed44af9a",
   "metadata": {},
   "source": [
    "### Semantic errors"
   ]
  },
  {
   "cell_type": "markdown",
   "id": "2dc59694",
   "metadata": {},
   "source": [
    "Semantic errors occur when the code executes without an error being indicated by the compiler. However, it does not work as inteded by the user. For example, consider the following code of mutiplying the number 6 by 3:"
   ]
  },
  {
   "cell_type": "code",
   "execution_count": 34,
   "id": "1b12a31d",
   "metadata": {},
   "outputs": [
    {
     "data": {
      "text/plain": [
       "'666'"
      ]
     },
     "execution_count": 34,
     "metadata": {},
     "output_type": "execute_result"
    }
   ],
   "source": [
    "x = '6'\n",
    "x * 3"
   ]
  },
  {
   "cell_type": "markdown",
   "id": "5c03d92c",
   "metadata": {},
   "source": [
    "If it was intended to multiply the number 6, then the variable `x` should have been defined as `x=6` so that `x` has a value of type `integer`. However, in the above code `6` is a `string` type value. When a `string` is multiplied by an integer, say *n*, it concatenates with itself *n* times."
   ]
  },
  {
   "cell_type": "markdown",
   "id": "98452b47",
   "metadata": {},
   "source": [
    "### Practice exercise 7"
   ]
  },
  {
   "cell_type": "markdown",
   "id": "90ecb14d",
   "metadata": {},
   "source": [
    "Suppose we wish to compute tax using the income and the tax rate. Identify the type of error from amongst syntax error, semantic error and run-time error in the following pieces of code."
   ]
  },
  {
   "cell_type": "code",
   "execution_count": null,
   "id": "bb87a313",
   "metadata": {},
   "outputs": [],
   "source": [
    "income = 2000\n",
    "tax = .08 * Income\n",
    "print(\"tax on\", income, \"is:\", tax)"
   ]
  },
  {
   "cell_type": "code",
   "execution_count": null,
   "id": "54415517",
   "metadata": {},
   "outputs": [],
   "source": [
    "income = 2000\n",
    "tax = .08 x income\n",
    "print(\"tax on\", income, \"is:\", tax)"
   ]
  },
  {
   "cell_type": "code",
   "execution_count": null,
   "id": "2231ae8f",
   "metadata": {},
   "outputs": [],
   "source": [
    "income = 2000\n",
    "tax = .08 ** income\n",
    "print(\"tax on\", income, \"is:\", tax)"
   ]
  },
  {
   "cell_type": "markdown",
   "id": "d258d7a9",
   "metadata": {},
   "source": [
    "### Practice exercise 8"
   ]
  },
  {
   "cell_type": "markdown",
   "id": "85abe85b",
   "metadata": {},
   "source": [
    "The formula for computing final amount if one is earning compund interest is given by:\n",
    "$$A = P\\bigg(1+\\frac{r}{n}\\bigg)^{nt},$$\n",
    "\n",
    "where: \\\n",
    "P = Principal amount (initial investment), \\\n",
    "r = annual nominal interest rate, \\\n",
    "n = number of times the interest is computed per year, \\\n",
    "t = number of years\n",
    "\n",
    "Write a Python program that assigns the principal amount of \\$10000 to variable *P*, assign to *n* the value 12, and assign to *r* the interest rate of 8\\%. Then have the program prompt the user for the number of years *t* that the money will be compounded for. Calculate and print the final amount after *t* years.\n",
    "\n",
    "What is the amount if the user enters *t* as 4 years?"
   ]
  }
 ],
 "metadata": {
  "kernelspec": {
   "display_name": "base",
   "language": "python",
   "name": "python3"
  },
  "language_info": {
   "codemirror_mode": {
    "name": "ipython",
    "version": 3
   },
   "file_extension": ".py",
   "mimetype": "text/x-python",
   "name": "python",
   "nbconvert_exporter": "python",
   "pygments_lexer": "ipython3",
   "version": "3.12.4"
  }
 },
 "nbformat": 4,
 "nbformat_minor": 5
}
