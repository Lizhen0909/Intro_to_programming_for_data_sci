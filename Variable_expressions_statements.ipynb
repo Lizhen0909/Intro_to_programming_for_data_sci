{
 "cells": [
  {
   "cell_type": "raw",
   "id": "d5e49576",
   "metadata": {},
   "source": [
    "---\n",
    "title: \"Variables, expressions and statements\"\n",
    "format: \n",
    "  html:\n",
    "    toc: true\n",
    "    code-fold: false\n",
    "jupyter: python3\n",
    "---"
   ]
  },
  {
   "cell_type": "code",
   "execution_count": 1,
   "id": "362a76e2",
   "metadata": {},
   "outputs": [
    {
     "data": {
      "text/html": [
       "<img src=\"datatypes.png\" width=\"700\" height=\"400\"/>"
      ],
      "text/plain": [
       "<IPython.core.display.Image object>"
      ]
     },
     "execution_count": 1,
     "metadata": {},
     "output_type": "execute_result"
    }
   ],
   "source": [
    "#| echo: false\n",
    "\n",
    "# import image module\n",
    "from IPython.display import Image\n",
    "\n",
    "# get the image\n",
    "Image(url=\"datatypes.png\", width=700, height=400)"
   ]
  },
  {
   "cell_type": "markdown",
   "id": "6bbf90cb",
   "metadata": {},
   "source": [
    "## Commenting code"
   ]
  },
  {
   "cell_type": "markdown",
   "id": "12b8bbec",
   "metadata": {},
   "source": [
    "The `#` symbol can be used to comment the code. Anything after the `#` sign is ignored by python. Commenting a code may have several purposes, such as:\n",
    "\n",
    "-  Describe what is going to happen in a sequence of code\n",
    "\n",
    "-  Document who wrote the code or other ancillary information\n",
    "\n",
    "-  Turn off a line of code - perhaps temporarily"
   ]
  },
  {
   "cell_type": "markdown",
   "id": "f9a0fdc8",
   "metadata": {},
   "source": [
    "For example, below is code with a comment to describe the purpose of the code:"
   ]
  },
  {
   "cell_type": "code",
   "execution_count": null,
   "id": "4a6120c7",
   "metadata": {},
   "outputs": [
    {
     "name": "stdout",
     "output_type": "stream",
     "text": [
      "Total lecture hours of STAT201= 25.0\n"
     ]
    }
   ],
   "source": [
    "#Computing number of hours of lecture in this course\n",
    "print(\"Total lecture hours of STAT201=\",10*3*(5/6))"
   ]
  },
  {
   "cell_type": "markdown",
   "id": "504ee875",
   "metadata": {},
   "source": [
    "### Practice exercise 1"
   ]
  },
  {
   "cell_type": "markdown",
   "id": "a253076d",
   "metadata": {},
   "source": [
    "Which of the following lines is a comment:\n",
    "\n",
    "1. #this is a comment\n",
    "\n",
    "2. ##this may be a comment\n",
    "\n",
    "3. A comment#"
   ]
  },
  {
   "cell_type": "markdown",
   "id": "a1ec6632",
   "metadata": {},
   "source": [
    "## `print()` function in python\n",
    "\n",
    "The `print()` function is a fundamental tool for displaying information.\n",
    "\n",
    "### Basic Examples"
   ]
  },
  {
   "cell_type": "code",
   "execution_count": 3,
   "id": "6442790f",
   "metadata": {},
   "outputs": [
    {
     "name": "stdout",
     "output_type": "stream",
     "text": [
      "Hello, World!\n"
     ]
    }
   ],
   "source": [
    "# Printing a simple string\n",
    "print(\"Hello, World!\")"
   ]
  },
  {
   "cell_type": "code",
   "execution_count": 2,
   "id": "fe54d593",
   "metadata": {},
   "outputs": [
    {
     "name": "stdout",
     "output_type": "stream",
     "text": [
      "The total number of seconds in a day is 86400\n"
     ]
    }
   ],
   "source": [
    "# Printing a string with a number\n",
    "print (\"The total number of seconds in a day is\", 24*60*60)"
   ]
  },
  {
   "cell_type": "code",
   "execution_count": 4,
   "id": "526aaf31",
   "metadata": {},
   "outputs": [
    {
     "name": "stdout",
     "output_type": "stream",
     "text": [
      "Hello, World!\n"
     ]
    }
   ],
   "source": [
    "# combine multiple strings\n",
    "print(\"Hello, \" + \"World!\")"
   ]
  },
  {
   "cell_type": "code",
   "execution_count": 5,
   "id": "db85705e",
   "metadata": {},
   "outputs": [
    {
     "name": "stdout",
     "output_type": "stream",
     "text": [
      "Hello, World!\n"
     ]
    }
   ],
   "source": [
    "# use f-strings for formatted output\n",
    "name = \"World\"\n",
    "print(f\"Hello, {name}!\")"
   ]
  },
  {
   "cell_type": "markdown",
   "id": "0fe1c588",
   "metadata": {},
   "source": [
    "### Python f-Strings (Formatted String Literals)\n",
    "\n",
    "**f-strings** provide a concise way to embed expressions inside strings. Introduced in Python 3.6, they improve readability and efficiency.\n",
    "\n",
    "#### **Syntax**\n",
    "\n",
    "* Use `f` or `F` before the string.\n",
    "* Embed variables or expressions in `{}`."
   ]
  },
  {
   "cell_type": "code",
   "execution_count": 22,
   "id": "d13c424d",
   "metadata": {},
   "outputs": [
    {
     "name": "stdout",
     "output_type": "stream",
     "text": [
      "Alice is 25 years old.\n"
     ]
    }
   ],
   "source": [
    "name = \"Alice\"\n",
    "age = 25\n",
    "\n",
    "# use f-strings for formatted output\n",
    "print(f\"{name} is {age} years old.\")"
   ]
  },
  {
   "cell_type": "code",
   "execution_count": 23,
   "id": "d145f281",
   "metadata": {},
   "outputs": [
    {
     "name": "stdout",
     "output_type": "stream",
     "text": [
      "Rounded: 12345.68, With commas: 12,345.6789\n"
     ]
    }
   ],
   "source": [
    "value = 12345.6789\n",
    "print(f\"Rounded: {value:.2f}, With commas: {value:,}\")"
   ]
  },
  {
   "cell_type": "markdown",
   "id": "b8204afd",
   "metadata": {},
   "source": [
    "### Practice exercise 2\n",
    "\n",
    "Use the `print()` function to:\n",
    "\n",
    "* Display your name, age, and favorite hobby.\n",
    "* Format the output neatly using f-strings."
   ]
  },
  {
   "cell_type": "markdown",
   "id": "17018f06",
   "metadata": {},
   "source": [
    "## Data types"
   ]
  },
  {
   "cell_type": "markdown",
   "id": "18912ead",
   "metadata": {},
   "source": [
    "Python provides several built-in data types for storing different kinds of information in variables. These data types can be broadly categorized into primitive data types and collection (containers) data types as shown at the beginning of this chapter. While collection data types will be covered in Chapter 5, this chapter focuses on primitive data types, which are used to represent a single value."
   ]
  },
  {
   "cell_type": "markdown",
   "id": "76542a92",
   "metadata": {},
   "source": [
    "### Primitive Data Types\n",
    "\n",
    "They represent a single value. In Python, primitive data types include:\n",
    "\n",
    "- **Integer (`int`)**: Whole numbers (e.g., `10`, `-3`).\n",
    "- **Floating-point number (`float`)**: Numbers with decimals (e.g., `3.14`, `-2.7`).\n",
    "- **Boolean (`bool`)**: Logical values `True` or `False`.\n",
    "- **None type (`None`)**: Represents the absence of a value.\n",
    "- **String (`str`)**: A sequence of characters (e.g., `\"hello\"`, `'world'`).\n",
    "\n",
    "\n",
    "The data type of the object can be identified using the in-built python function `type()`. For example, see the following objects and their types:"
   ]
  },
  {
   "cell_type": "code",
   "execution_count": 1,
   "id": "9ba52e1a",
   "metadata": {},
   "outputs": [
    {
     "data": {
      "text/plain": [
       "int"
      ]
     },
     "execution_count": 1,
     "metadata": {},
     "output_type": "execute_result"
    }
   ],
   "source": [
    "type(4)"
   ]
  },
  {
   "cell_type": "code",
   "execution_count": 36,
   "id": "240cc76c",
   "metadata": {},
   "outputs": [
    {
     "data": {
      "text/plain": [
       "float"
      ]
     },
     "execution_count": 36,
     "metadata": {},
     "output_type": "execute_result"
    }
   ],
   "source": [
    "type(4.4)"
   ]
  },
  {
   "cell_type": "code",
   "execution_count": 37,
   "id": "8bf2d5ac",
   "metadata": {},
   "outputs": [
    {
     "data": {
      "text/plain": [
       "str"
      ]
     },
     "execution_count": 37,
     "metadata": {},
     "output_type": "execute_result"
    }
   ],
   "source": [
    "type('4')"
   ]
  },
  {
   "cell_type": "code",
   "execution_count": 38,
   "id": "d92acd98",
   "metadata": {},
   "outputs": [
    {
     "data": {
      "text/plain": [
       "bool"
      ]
     },
     "execution_count": 38,
     "metadata": {},
     "output_type": "execute_result"
    }
   ],
   "source": [
    "type(True)"
   ]
  },
  {
   "cell_type": "markdown",
   "id": "80119262",
   "metadata": {},
   "source": [
    "### Practice exercise 3"
   ]
  },
  {
   "cell_type": "markdown",
   "id": "cdb44b00",
   "metadata": {},
   "source": [
    "What is the datatype of the following objects?\n",
    "\n",
    "1. 'This is False'\n",
    "\n",
    "2. \"This is a number\"\n",
    "\n",
    "3. 1000\n",
    "\n",
    "4. 65.65\n",
    "\n",
    "5. False"
   ]
  },
  {
   "cell_type": "markdown",
   "id": "de4449ee",
   "metadata": {},
   "source": [
    "### Commonly Used Built-in methods associated with each data type"
   ]
  },
  {
   "cell_type": "markdown",
   "id": "5d7a733a",
   "metadata": {},
   "source": [
    "#### Strings\n",
    "\n",
    "Strings are sequences of characters and are immutable in Python.\n",
    "\n",
    "Below are Commonly used Methods for strings:"
   ]
  },
  {
   "cell_type": "code",
   "execution_count": 12,
   "id": "dd2bffa3",
   "metadata": {},
   "outputs": [
    {
     "name": "stdout",
     "output_type": "stream",
     "text": [
      "the length of the string is 13\n",
      "the string in uppercase is HELLO, WORLD!\n",
      "the string in lowercase is hello, world!\n",
      "the string with first letter capitalized is Hello, world!\n",
      "the first occurrence of the substring is at 7\n",
      "the string after replacement is Hello, Python!\n",
      "the string after splitting is ['Hello', 'World!']\n",
      "the string after stripping is Hello, World!\n",
      "the number of occurrences of the substring is 3\n",
      "is the string alphanumeric? False\n"
     ]
    }
   ],
   "source": [
    "# Example Methods:\n",
    "s = \"Hello, World!\"\n",
    "\n",
    "# Returns the length of the string\n",
    "len(s) \n",
    "print(\"the length of the string is\", len(s))\n",
    "\n",
    "# Converts string to uppercase\n",
    "s.upper()\n",
    "print(\"the string in uppercase is\", s.upper())\n",
    "\n",
    "# Converts string to lowercase\n",
    "s.lower()\n",
    "print(\"the string in lowercase is\", s.lower())\n",
    "\n",
    "# Capitalizes the first character of the string\n",
    "s.capitalize()\n",
    "print(\"the string with first letter capitalized is\", s.capitalize())\n",
    "\n",
    "# Finds the first occurrence of a substring\n",
    "s.find(\"World\")\n",
    "print(\"the first occurrence of the substring is at\", s.find(\"World\"))\n",
    "\n",
    "# Replaces a substring with another string\n",
    "s.replace(\"World\", \"Python\")\n",
    "print(\"the string after replacement is\", s.replace(\"World\", \"Python\"))\n",
    "\n",
    "# Splits the string into a list\n",
    "s.split(\", \")\n",
    "print(\"the string after splitting is\", s.split(\", \"))\n",
    "\n",
    "# Strips leading/trailing whitespace\n",
    "s.strip()\n",
    "print(\"the string after stripping is\", s.strip())\n",
    "\n",
    "# count the number of occurrences of a substring\n",
    "s.count(\"l\")\n",
    "print(\"the number of occurrences of the substring is\", s.count(\"l\"))\n",
    "\n",
    "# Checks if the string is alphanumeric\n",
    "s.isalnum()\n",
    "print(\"is the string alphanumeric?\", s.isalnum())\n"
   ]
  },
  {
   "cell_type": "markdown",
   "id": "51dae6a3",
   "metadata": {},
   "source": [
    "#### Single quotes `'` and double quotes `\"` to define strings\n",
    "\n",
    "in Python, you can use either single quotes (`'`) or double quotes (`\"`) to define strings. Both are functionally equivalent, and you can choose based on preference or readability. Here’s an example:"
   ]
  },
  {
   "cell_type": "code",
   "execution_count": 9,
   "id": "6791015f",
   "metadata": {},
   "outputs": [
    {
     "name": "stdout",
     "output_type": "stream",
     "text": [
      "Hello, world!\n",
      "Hello, world!\n"
     ]
    }
   ],
   "source": [
    "# Using single quotes\n",
    "string1 = 'Hello, world!'\n",
    "print(string1)\n",
    "\n",
    "# Using double quotes\n",
    "string2 = \"Hello, world!\"\n",
    "print(string2)\n"
   ]
  },
  {
   "cell_type": "markdown",
   "id": "aad4e15f",
   "metadata": {},
   "source": [
    "When to use one over the other\n",
    "\n",
    "* Single quotes (`'`) are often preferred for simple strings without embedded quotes.\n",
    "* Double quotes (`\"`) are useful when your string contains a single quote, as it avoids the need for escaping:"
   ]
  },
  {
   "cell_type": "code",
   "execution_count": 8,
   "id": "c812814d",
   "metadata": {},
   "outputs": [
    {
     "name": "stdout",
     "output_type": "stream",
     "text": [
      "It's a beautiful day!\n",
      "He said, \"Hello!\"\n"
     ]
    }
   ],
   "source": [
    "# Single quote in a double-quoted string\n",
    "message = \"It's a beautiful day!\"\n",
    "print(message)\n",
    "\n",
    "# Double quote in a single-quoted string\n",
    "message = 'He said, \"Hello!\"'\n",
    "print(message)"
   ]
  },
  {
   "cell_type": "markdown",
   "id": "715588aa",
   "metadata": {},
   "source": [
    "**Escaping quotes**: \n",
    "If your string contains both single and double quotes, you can use the backslash (`\\`) to escape them:"
   ]
  },
  {
   "cell_type": "code",
   "execution_count": 6,
   "id": "82081cef",
   "metadata": {},
   "outputs": [
    {
     "name": "stdout",
     "output_type": "stream",
     "text": [
      "It's a sunny day.\n",
      "He said, \"Hello!\"\n"
     ]
    }
   ],
   "source": [
    "# Escaping single quotes in a single-quoted string\n",
    "string_with_escape1 = 'It\\'s a sunny day.'\n",
    "print(string_with_escape1)\n",
    "\n",
    "# Escaping double quotes in a double-quoted string\n",
    "string_with_escape2 = \"He said, \\\"Hello!\\\"\"\n",
    "print(string_with_escape2)\n"
   ]
  },
  {
   "cell_type": "markdown",
   "id": "143cb1f3",
   "metadata": {},
   "source": [
    "You can also use triple quotes (`'''` or `\"\"\"`) for strings that span multiple lines or contain both types of quotes without escaping:"
   ]
  },
  {
   "cell_type": "code",
   "execution_count": 5,
   "id": "01483fbe",
   "metadata": {},
   "outputs": [
    {
     "name": "stdout",
     "output_type": "stream",
     "text": [
      "This string spans\n",
      "multiple lines and can include 'single quotes' and \"double quotes\".\n"
     ]
    }
   ],
   "source": [
    "multi_line_string = \"\"\"This string spans\n",
    "multiple lines and can include 'single quotes' and \"double quotes\".\"\"\"\n",
    "\n",
    "print(multi_line_string)"
   ]
  },
  {
   "cell_type": "markdown",
   "id": "99db48eb",
   "metadata": {},
   "source": [
    "#### Integers\n",
    "\n",
    "Integers are whole numbers, either positive or negative.\n",
    "\n",
    "Commonly used Methods:"
   ]
  },
  {
   "cell_type": "code",
   "execution_count": 5,
   "id": "32efb569",
   "metadata": {},
   "outputs": [
    {
     "name": "stdout",
     "output_type": "stream",
     "text": [
      "the absolute value of the number is 42\n",
      "the binary string of the number is -0b101010\n",
      "the hexadecimal string of the number is -0x2a\n",
      "the octal string of the number is -0o52\n",
      "the power of the number is 1764\n",
      "is the number an integer? True\n"
     ]
    }
   ],
   "source": [
    "# Example:\n",
    "n = -42\n",
    "\n",
    "# Returns the absolute value\n",
    "abs(n)\n",
    "print(\"the absolute value of the number is\", abs(n))\n",
    "\n",
    "# Converts to binary string\n",
    "bin(n)\n",
    "print(\"the binary string of the number is\", bin(n)) \n",
    "\n",
    "# Converts to hexadecimal string\n",
    "hex(n)\n",
    "print(\"the hexadecimal string of the number is\", hex(n))\n",
    "\n",
    "# Converts to octal string\n",
    "oct(n)\n",
    "print(\"the octal string of the number is\", oct(n))\n",
    "\n",
    "# Returns the power of a number\n",
    "pow(n, 2)  # n^2\n",
    "print(\"the power of the number is\", pow(n, 2))\n",
    "\n",
    "# Checks if a number is an integer\n",
    "isinstance(n, int)\n",
    "print(\"is the number an integer?\", isinstance(n, int))\n"
   ]
  },
  {
   "cell_type": "markdown",
   "id": "25b6b3c7",
   "metadata": {},
   "source": [
    "#### Floats\n",
    "\n",
    "Floats represent real numbers and are used for decimal or fractional values.\n",
    "\n",
    "Commonly Used Methods:"
   ]
  },
  {
   "cell_type": "code",
   "execution_count": 6,
   "id": "eab357ed",
   "metadata": {},
   "outputs": [
    {
     "name": "stdout",
     "output_type": "stream",
     "text": [
      "the absolute value of the number is 3.14159\n",
      "the number rounded to the nearest integer is 3\n",
      "the number converted to integer is 3\n",
      "is the number a float? True\n"
     ]
    }
   ],
   "source": [
    "# Example:\n",
    "f = 3.14159\n",
    "\n",
    "# Returns the absolute value\n",
    "abs(f)\n",
    "print(\"the absolute value of the number is\", abs(f))\n",
    "\n",
    "# Rounds to the nearest integer\n",
    "round(f)\n",
    "print(\"the number rounded to the nearest integer is\", round(f))\n",
    "\n",
    "# Converts to integer by truncating\n",
    "int(f)\n",
    "print(\"the number converted to integer is\", int(f))\n",
    "\n",
    "# Checks if a number is a float\n",
    "isinstance(f, float)\n",
    "print(\"is the number a float?\", isinstance(f, float))\n"
   ]
  },
  {
   "cell_type": "markdown",
   "id": "506976c9",
   "metadata": {},
   "source": [
    "#### Booleans\n",
    "\n",
    "Booleans represent logical values `True` or `False`.\n",
    "\n",
    "Commonly Used Methods:"
   ]
  },
  {
   "cell_type": "code",
   "execution_count": 7,
   "id": "8f3edb07",
   "metadata": {},
   "outputs": [
    {
     "name": "stdout",
     "output_type": "stream",
     "text": [
      "the integer value of the boolean is 1\n",
      "the string value of the boolean is True\n",
      "the negation of the boolean is False\n"
     ]
    }
   ],
   "source": [
    "# Example:\n",
    "b = True\n",
    "\n",
    "# Converts to integer (True -> 1, False -> 0)\n",
    "int(b)\n",
    "print(\"the integer value of the boolean is\", int(b))\n",
    "\n",
    "# Converts to string\n",
    "str(b)\n",
    "print(\"the string value of the boolean is\", str(b))\n",
    "\n",
    "# Logical operations:\n",
    "not b  # Negates the boolean\n",
    "print(\"the negation of the boolean is\", not b)\n"
   ]
  },
  {
   "cell_type": "markdown",
   "id": "130ea683",
   "metadata": {},
   "source": [
    "## Variables\n",
    "\n",
    "A **variable** is a container for storing data values. Variables in Python are **dynamically typed**, meaning you don't need to specify their type when declaring them.\n",
    "\n",
    "### Variable Declaration:\n",
    "\n",
    "   - You can create a variable by assigning a value to it using the `=` operator.\n",
    "\n",
    "For example:"
   ]
  },
  {
   "cell_type": "code",
   "execution_count": 1,
   "id": "266a5306",
   "metadata": {},
   "outputs": [],
   "source": [
    "x = 10 # Integer\n",
    "name = \"Alice\" # String\n",
    "pi = 3.14 # Float\n",
    "is_active = True # Boolean"
   ]
  },
  {
   "cell_type": "markdown",
   "id": "6b5800ad",
   "metadata": {},
   "source": [
    "### **Dynamic Typing**:\n",
    "   - The type of a variable is determined by the value assigned to it.\n",
    "\n",
    "For example:\n"
   ]
  },
  {
   "cell_type": "code",
   "execution_count": null,
   "id": "c39bd0c8",
   "metadata": {},
   "outputs": [],
   "source": [
    "x = 10 # x is an integer\n",
    "y = x # y is also an integer"
   ]
  },
  {
   "cell_type": "markdown",
   "id": "780d3b50",
   "metadata": {},
   "source": [
    "### **Variable Naming Rules**:\n",
    "   - Names must start with a letter (a-z, A-Z) or an underscore (_).\n",
    "   - Names can only contain letters, numbers (0-9), and underscores.\n",
    "   - Names are case-sensitive (`name` and `Name` are different variables).\n",
    "   - Reserved keywords (e.g., `if`, `for`, `while`) cannot be used as variable names.\n",
    "  \n",
    "   > There are certain *reserved words* in python that have some meaning, and cannot be used as variable names. These reserved words are:"
   ]
  },
  {
   "cell_type": "code",
   "execution_count": 6,
   "id": "1ce20974",
   "metadata": {},
   "outputs": [
    {
     "data": {
      "text/html": [
       "<img src=\"reserved_words.jpg\" width=\"600\"/>"
      ],
      "text/plain": [
       "<IPython.core.display.Image object>"
      ]
     },
     "execution_count": 6,
     "metadata": {},
     "output_type": "execute_result"
    }
   ],
   "source": [
    "#| echo: false\n",
    "\n",
    "# import image module\n",
    "from IPython.display import Image\n",
    "\n",
    "# get the image\n",
    "Image(url=\"reserved_words.jpg\",width=600)"
   ]
  },
  {
   "cell_type": "markdown",
   "id": "9a8b8778",
   "metadata": {},
   "source": [
    "### **Best Practices**:\n",
    "\n",
    "[Python style guide](https://peps.python.org/pep-0008/): Please refer to the python style guide for best coding practices, such as naming variables, using spaces, tabs, and styling the different components of your code.\n",
    "\n",
    "For example:"
   ]
  },
  {
   "cell_type": "code",
   "execution_count": null,
   "id": "3b6b85bd",
   "metadata": {},
   "outputs": [],
   "source": [
    "# use descriptive variable names:\n",
    "total_price = 100"
   ]
  },
  {
   "cell_type": "code",
   "execution_count": null,
   "id": "e92883ca",
   "metadata": {},
   "outputs": [],
   "source": [
    "# use snake_case for variable names\n",
    "user_age = 25"
   ]
  },
  {
   "cell_type": "markdown",
   "id": "0bb9a715",
   "metadata": {},
   "source": [
    "### Checking Variable Types\n",
    "\n",
    "You can use the `type()` function to check the type of a variable."
   ]
  },
  {
   "cell_type": "code",
   "execution_count": 10,
   "id": "96d75687",
   "metadata": {},
   "outputs": [
    {
     "name": "stdout",
     "output_type": "stream",
     "text": [
      "<class 'int'>\n",
      "<class 'str'>\n"
     ]
    }
   ],
   "source": [
    "x = 10\n",
    "print(type(x)) \n",
    "\n",
    "y = \"Python\"\n",
    "print(type(y))  "
   ]
  },
  {
   "cell_type": "markdown",
   "id": "5ec29370",
   "metadata": {},
   "source": [
    "### Practice exercise 4"
   ]
  },
  {
   "cell_type": "markdown",
   "id": "0082fd60",
   "metadata": {},
   "source": [
    "\n",
    "Which of the following variable names are valid?\n",
    "   \n",
    "1. var.name\n",
    "\n",
    "2. var9name\n",
    "\n",
    "3. _varname\n",
    "\n",
    "4. varname*\n",
    "   \n",
    "\n",
    "In the statements below, determine the variable type\n",
    "\n",
    "1. value = \"name\"\n",
    "\n",
    "2. constant = 7\n",
    "\n",
    "3. another_const = \"variable\"\n",
    "\n",
    "4. True_False = True"
   ]
  },
  {
   "cell_type": "markdown",
   "id": "b6383253",
   "metadata": {},
   "source": [
    "## Assignment statements"
   ]
  },
  {
   "cell_type": "markdown",
   "id": "a78fc068",
   "metadata": {},
   "source": [
    "Values are assigned to variables with the assignment statement (=). An assignment statement may have a constant or an expression on the right hand side of the (=) sign, and a variable name on the left hand side."
   ]
  },
  {
   "cell_type": "markdown",
   "id": "4a654745",
   "metadata": {},
   "source": [
    "For example, the code lines below are assignment statements"
   ]
  },
  {
   "cell_type": "code",
   "execution_count": 69,
   "id": "1517b979",
   "metadata": {},
   "outputs": [],
   "source": [
    "var = 2\n",
    "var = var + 3"
   ]
  },
  {
   "cell_type": "markdown",
   "id": "707ef86f",
   "metadata": {},
   "source": [
    "## Expressions"
   ]
  },
  {
   "cell_type": "markdown",
   "id": "0f271694",
   "metadata": {},
   "source": [
    "### Mathematical Operations and Their Operators in Python\n",
    "\n",
    "Python provides the following operators for performing mathematical operations:\n",
    "\n",
    "1. **Exponentiation (`**`)**: Raises a number to the power of another.\n",
    "   - Example: `2 ** 3` results in `8`.\n",
    "\n",
    "2. **Modulo (`%`)**: Returns the remainder of a division.\n",
    "   - Example: `10 % 3` results in `1`.\n",
    "\n",
    "3. **Multiplication (`*`)**: Multiplies two numbers.\n",
    "   - Example: `4 * 5` results in `20`.\n",
    "\n",
    "4. **Division (`/`)**: Divides one number by another, resulting in a float.\n",
    "   - Example: `10 / 2` results in `5.0`.\n",
    "\n",
    "5. **Addition (`+`)**: Adds two numbers.\n",
    "   - Example: `7 + 3` results in `10`.\n",
    "\n",
    "6. **Subtraction (`-`)**: Subtracts one number from another.\n",
    "   - Example: `9 - 4` results in `5`.\n",
    "\n"
   ]
  },
  {
   "cell_type": "markdown",
   "id": "3f242092",
   "metadata": {},
   "source": [
    "### Operator Precedence in Python\n",
    "\n",
    "The operators listed above are in **decreasing order of precedence**, meaning:\n",
    "\n",
    "1. **Exponentiation (`**`)** is evaluated first.\n",
    "2. **Modulo (`%`)** is evaluated next.\n",
    "3. **Multiplication (`*`)** follows.\n",
    "4. **Division (`/`)**, if present, has the same precedence as multiplication.\n",
    "5. **Addition (`+`)** and **Subtraction (`-`)** are evaluated last, from left to right.\n",
    "\n",
    "\n",
    "#### Example: Precedence in Action\n",
    "\n",
    "Consider the expression: `2 + 3 % 4 * 2`\n",
    "\n",
    "To evaluate this, Python follows the precedence rules:\n",
    "\n",
    "1. **Modulo (`%`)** is evaluated first:"
   ]
  },
  {
   "cell_type": "code",
   "execution_count": 12,
   "id": "a6c84ec9",
   "metadata": {},
   "outputs": [
    {
     "data": {
      "text/plain": [
       "3"
      ]
     },
     "execution_count": 12,
     "metadata": {},
     "output_type": "execute_result"
    }
   ],
   "source": [
    "3 % 4"
   ]
  },
  {
   "cell_type": "markdown",
   "id": "c9a65dc0",
   "metadata": {},
   "source": [
    "**Multiplication (`*`)** is evaluated next:"
   ]
  },
  {
   "cell_type": "code",
   "execution_count": 13,
   "id": "5c3d4725",
   "metadata": {},
   "outputs": [
    {
     "data": {
      "text/plain": [
       "6"
      ]
     },
     "execution_count": 13,
     "metadata": {},
     "output_type": "execute_result"
    }
   ],
   "source": [
    "3 * 2"
   ]
  },
  {
   "cell_type": "markdown",
   "id": "47c0ff04",
   "metadata": {},
   "source": [
    "**Addition (`+`)** is evaluated last:"
   ]
  },
  {
   "cell_type": "code",
   "execution_count": 14,
   "id": "a7c028c2",
   "metadata": {},
   "outputs": [
    {
     "data": {
      "text/plain": [
       "8"
      ]
     },
     "execution_count": 14,
     "metadata": {},
     "output_type": "execute_result"
    }
   ],
   "source": [
    "2+6"
   ]
  },
  {
   "cell_type": "markdown",
   "id": "c8278ad4",
   "metadata": {},
   "source": [
    "Thus, the result of the expression `2 + 3 % 4 * 2` is `8`."
   ]
  },
  {
   "cell_type": "markdown",
   "id": "49155b65",
   "metadata": {},
   "source": [
    "#### Key Takeaways\n",
    "* Precedence determines the order in which operations are performed in an expression.\n",
    "* Parentheses `()` can be used to override the default precedence and control the order of evaluation."
   ]
  },
  {
   "cell_type": "code",
   "execution_count": 16,
   "id": "7bb84a90",
   "metadata": {},
   "outputs": [
    {
     "name": "stdout",
     "output_type": "stream",
     "text": [
      "5\n"
     ]
    }
   ],
   "source": [
    "result = (2 + 3) % (4 * 2)\n",
    "print(result)"
   ]
  },
  {
   "cell_type": "markdown",
   "id": "da111d4e",
   "metadata": {},
   "source": [
    "### Practice exercise 5"
   ]
  },
  {
   "cell_type": "markdown",
   "id": "64f1ac8f",
   "metadata": {},
   "source": [
    "Which of the following statements is an assignment statement:\n",
    "\n",
    "1. x = 5\n",
    "\n",
    "2. print(x)\n",
    "\n",
    "3. type(x)\n",
    "\n",
    "4. x + 4"
   ]
  },
  {
   "cell_type": "markdown",
   "id": "7f9bdd19",
   "metadata": {},
   "source": [
    "What will be the result of the following expression:"
   ]
  },
  {
   "cell_type": "code",
   "execution_count": null,
   "id": "ad38dc1d",
   "metadata": {},
   "outputs": [],
   "source": [
    "1%2**3*2+1"
   ]
  },
  {
   "cell_type": "markdown",
   "id": "bc77b442",
   "metadata": {},
   "source": [
    "## User input"
   ]
  },
  {
   "cell_type": "markdown",
   "id": "4153948d",
   "metadata": {},
   "source": [
    "Python's in-built `input()` function is used to take input from the user during program execution. It reads a line of text entered by the user and returns it as a **string**. "
   ]
  },
  {
   "cell_type": "code",
   "execution_count": null,
   "id": "c73f3e3f",
   "metadata": {},
   "outputs": [],
   "source": [
    "# suppose we wish the user to onput their age:\n",
    "age = input(\"Enter your age:\")"
   ]
  },
  {
   "cell_type": "markdown",
   "id": "1e57d4ee",
   "metadata": {},
   "source": [
    "The entered value is stored in the variable `age` and can be used for computation."
   ]
  },
  {
   "cell_type": "markdown",
   "id": "523bfd0c",
   "metadata": {},
   "source": [
    "#### **Key Point**\n",
    "\n",
    "* The `input()` is always returned as a string, even if the user enters a number.\n",
    "* You can convert the input to other types (e.g., `int`, `float`) using type conversion functions.\n",
    "* The program execution pauses until the user provides input."
   ]
  },
  {
   "cell_type": "markdown",
   "id": "f37e449d",
   "metadata": {},
   "source": [
    "### Examples"
   ]
  },
  {
   "cell_type": "code",
   "execution_count": null,
   "id": "ae396e17",
   "metadata": {},
   "outputs": [],
   "source": [
    "# basic input\n",
    "name = input(\"Enter your name: \")\n",
    "print(\"Hello, \" + name)"
   ]
  },
  {
   "cell_type": "code",
   "execution_count": null,
   "id": "57221a1b",
   "metadata": {},
   "outputs": [],
   "source": [
    "# using f-string for formatted output\n",
    "name = input(\"Enter your name: \")\n",
    "print(f\"Hello, {name}!\")"
   ]
  },
  {
   "cell_type": "code",
   "execution_count": null,
   "id": "e61aadd5",
   "metadata": {},
   "outputs": [],
   "source": [
    "# To take numeric input, you need to convert the string to an appropriate data type:\n",
    "age = int(input(\"Enter your age: \"))\n",
    "print(f\"You will be {age + 1} years old next year.\")"
   ]
  },
  {
   "cell_type": "code",
   "execution_count": null,
   "id": "d04d3f37",
   "metadata": {},
   "outputs": [],
   "source": [
    "# input for calculating the area of a circle\n",
    "radius = float(input(\"Enter the radius of the circle: \"))\n",
    "area = 3.14 * radius ** 2\n",
    "print(f\"The area of the circle is {area}\")"
   ]
  },
  {
   "cell_type": "markdown",
   "id": "929b6728",
   "metadata": {},
   "source": [
    "### Practice exercise 6\n",
    "Ask the user to input their year of birth, and print their age."
   ]
  },
  {
   "cell_type": "markdown",
   "id": "479fb784",
   "metadata": {},
   "source": [
    "## Converting data types in Python\n",
    "\n",
    "### Why Convert Data Types in Python?\n",
    "\n",
    "Data type conversion is essential in Python for several reasons:\n",
    "\n",
    "* **Compatibility**: Some operations or functions require specific data types to work correctly.\n",
    "  \n",
    "    * Example: Performing arithmetic operations like addition or multiplication requires numeric types such as int or float. If the input is in another type, such as a string, it must be converted first."
   ]
  },
  {
   "cell_type": "code",
   "execution_count": 10,
   "id": "5ffb8ce2",
   "metadata": {},
   "outputs": [
    {
     "name": "stdout",
     "output_type": "stream",
     "text": [
      "21.3893\n"
     ]
    }
   ],
   "source": [
    "# Example: Converting strings to numbers\n",
    "price = \"19.99\"\n",
    "tax = 0.07\n",
    "total_price = float(price) * (1 + tax)  # Convert string to float\n",
    "print(total_price)  # Output: 21.3893\n"
   ]
  },
  {
   "cell_type": "markdown",
   "id": "1cdcb8f6",
   "metadata": {},
   "source": [
    "* **Data Processing:**  When working with input data (e.g., user input, etc), the data may need to be converted to the appropriate type for further analysis.\n",
    "\n",
    "\n",
    "Example: Converting strings to numbers to perform calculations"
   ]
  },
  {
   "cell_type": "code",
   "execution_count": 9,
   "id": "fecd3f60",
   "metadata": {},
   "outputs": [
    {
     "name": "stdout",
     "output_type": "stream",
     "text": [
      "52\n"
     ]
    }
   ],
   "source": [
    "# Example: Arithmetic requires numeric types\n",
    "num_str = \"42\"\n",
    "result = int(num_str) + 10  # Converts the string \"42\" to integer\n",
    "print(result)  # Output: 52"
   ]
  },
  {
   "cell_type": "markdown",
   "id": "59a36577",
   "metadata": {},
   "source": [
    "* **Error Prevention**: Converting data types ensures consistency and prevents runtime errors caused by type mismatches."
   ]
  },
  {
   "cell_type": "code",
   "execution_count": 11,
   "id": "a8ad2e0c",
   "metadata": {},
   "outputs": [
    {
     "name": "stdout",
     "output_type": "stream",
     "text": [
      "Your age is 25\n"
     ]
    }
   ],
   "source": [
    "# Example: Avoiding type mismatch errors\n",
    "age = 25\n",
    "message = \"Your age is \" + str(age)  # Convert integer to string for concatenation\n",
    "print(message)  # Output: \"Your age is 25\"\n"
   ]
  },
  {
   "cell_type": "markdown",
   "id": "bbc51e52",
   "metadata": {},
   "source": [
    "### How to Convert Data Types in Python\n",
    "\n",
    "Python provides several built-in functions for type conversion.\n",
    "\n",
    "Common Conversion Functions:\n",
    "\n",
    "| **Function** | **Description**                              | **Example**               |\n",
    "|--------------|----------------------------------------------|---------------------------|\n",
    "| `int()`      | Converts to an integer (from float or string)| `int(\"42\")` → `42`        |\n",
    "| `float()`    | Converts to a float                          | `float(\"3.14\")` → `3.14`  |\n",
    "| `str()`      | Converts to a string                        | `str(42)` → `\"42\"`        |\n",
    "| `bool()`     | Converts to a boolean                       | `bool(1)` → `True`        |\n"
   ]
  },
  {
   "cell_type": "markdown",
   "id": "b3e9a5c0",
   "metadata": {},
   "source": [
    "However, in some cases, mathematical operators such as `+` and `*` can be applied on strings. The operator `+` concatenates multiple strings, while the operator `*` can be used to concatenate a string to itself multiple times:"
   ]
  },
  {
   "cell_type": "code",
   "execution_count": 97,
   "id": "295826b1",
   "metadata": {},
   "outputs": [
    {
     "data": {
      "text/plain": [
       "'Hi there!'"
      ]
     },
     "execution_count": 97,
     "metadata": {},
     "output_type": "execute_result"
    }
   ],
   "source": [
    "\"Hi\" + \" there!\""
   ]
  },
  {
   "cell_type": "code",
   "execution_count": 98,
   "id": "90ec8949",
   "metadata": {},
   "outputs": [
    {
     "data": {
      "text/plain": [
       "'53'"
      ]
     },
     "execution_count": 98,
     "metadata": {},
     "output_type": "execute_result"
    }
   ],
   "source": [
    "\"5\" + '3'"
   ]
  },
  {
   "cell_type": "code",
   "execution_count": 99,
   "id": "c3dc3050",
   "metadata": {},
   "outputs": [
    {
     "data": {
      "text/plain": [
       "'55555555'"
      ]
     },
     "execution_count": 99,
     "metadata": {},
     "output_type": "execute_result"
    }
   ],
   "source": [
    "\"5\"*8"
   ]
  },
  {
   "cell_type": "markdown",
   "id": "6b10264e",
   "metadata": {},
   "source": [
    "## Errors and Exceptions"
   ]
  },
  {
   "cell_type": "markdown",
   "id": "adefb195",
   "metadata": {},
   "source": [
    "Errors and Exceptions are common while writing and executing Python code."
   ]
  },
  {
   "cell_type": "markdown",
   "id": "7b711ee1",
   "metadata": {},
   "source": [
    "### Syntax errors"
   ]
  },
  {
   "cell_type": "markdown",
   "id": "ad519b16",
   "metadata": {},
   "source": [
    "Syntax errors occur if the code is written in a way that it does not comply with the rules / standards / laws of the language (python in this case). \n",
    "It occur when the Python parser encounters invalid syntax.\n",
    "\n",
    "For example, suppose a values is assigned to a variable as follows:"
   ]
  },
  {
   "cell_type": "code",
   "execution_count": null,
   "id": "604b30cb",
   "metadata": {},
   "outputs": [],
   "source": [
    "9value = 2"
   ]
  },
  {
   "cell_type": "markdown",
   "id": "5dd8a7e3",
   "metadata": {},
   "source": [
    "The above code when executed will indicate a syntax error as it violates the rule that a variable name must not start with a number."
   ]
  },
  {
   "cell_type": "code",
   "execution_count": null,
   "id": "374d4e6f",
   "metadata": {},
   "outputs": [],
   "source": [
    "# another example\n",
    "print(\"Hello World\""
   ]
  },
  {
   "cell_type": "markdown",
   "id": "26e9c643",
   "metadata": {},
   "source": [
    "Solution: Fix the syntax issue by ensuring correct punctuation or structure."
   ]
  },
  {
   "cell_type": "markdown",
   "id": "4d289b44",
   "metadata": {},
   "source": [
    "### Exceptions\n",
    "\n",
    "Even if a statement or expression is syntactically correct, it may cause an error when an attempt is made to execute it. Errors detected during execution are called exceptions and are not unconditionally fatal:"
   ]
  },
  {
   "cell_type": "markdown",
   "id": "a5923f74",
   "metadata": {},
   "source": [
    " Exceptions come in different types, and the type is printed as part of the message: below are the common ones:\n",
    "\n",
    "- Misspelled or incorrectly capitalized variable and function names\n",
    "- Attempts to perform operations (such as math operations) on data of the wrong type (ex. attempting to subtract two variables that hold string values)\n",
    "- Dividing by zero\n",
    "- Attempts to use a type conversion function such as `int` on a value that can’t be converted to an `int`"
   ]
  },
  {
   "cell_type": "markdown",
   "id": "c2cbe10e",
   "metadata": {},
   "source": [
    "For example, suppose a number is multipled as follws:"
   ]
  },
  {
   "cell_type": "code",
   "execution_count": 29,
   "id": "59bc01ed",
   "metadata": {},
   "outputs": [
    {
     "ename": "NameError",
     "evalue": "name 'misy' is not defined",
     "output_type": "error",
     "traceback": [
      "\u001b[1;31m---------------------------------------------------------------------------\u001b[0m",
      "\u001b[1;31mNameError\u001b[0m                                 Traceback (most recent call last)",
      "Cell \u001b[1;32mIn[29], line 1\u001b[0m\n\u001b[1;32m----> 1\u001b[0m multiplication_result \u001b[38;5;241m=\u001b[39m \u001b[43mmisy\u001b[49m \u001b[38;5;241m*\u001b[39m \u001b[38;5;241m4\u001b[39m\n",
      "\u001b[1;31mNameError\u001b[0m: name 'misy' is not defined"
     ]
    }
   ],
   "source": [
    "multiplication_result = misy * 4"
   ]
  },
  {
   "cell_type": "markdown",
   "id": "615574bd",
   "metadata": {},
   "source": [
    "The above code is syntactically correct. However, it will generate an error as the variable `misy` has not been defined as a number."
   ]
  },
  {
   "cell_type": "code",
   "execution_count": 25,
   "id": "3ca34dac",
   "metadata": {},
   "outputs": [
    {
     "ename": "ValueError",
     "evalue": "invalid literal for int() with base 10: 'abc'",
     "output_type": "error",
     "traceback": [
      "\u001b[1;31m---------------------------------------------------------------------------\u001b[0m",
      "\u001b[1;31mValueError\u001b[0m                                Traceback (most recent call last)",
      "Cell \u001b[1;32mIn[25], line 1\u001b[0m\n\u001b[1;32m----> 1\u001b[0m \u001b[38;5;28;43mint\u001b[39;49m\u001b[43m(\u001b[49m\u001b[38;5;124;43m\"\u001b[39;49m\u001b[38;5;124;43mabc\u001b[39;49m\u001b[38;5;124;43m\"\u001b[39;49m\u001b[43m)\u001b[49m\n",
      "\u001b[1;31mValueError\u001b[0m: invalid literal for int() with base 10: 'abc'"
     ]
    }
   ],
   "source": [
    "int(\"abc\")"
   ]
  },
  {
   "cell_type": "code",
   "execution_count": 24,
   "id": "fb60a952",
   "metadata": {},
   "outputs": [
    {
     "ename": "TypeError",
     "evalue": "can only concatenate str (not \"int\") to str",
     "output_type": "error",
     "traceback": [
      "\u001b[1;31m---------------------------------------------------------------------------\u001b[0m",
      "\u001b[1;31mTypeError\u001b[0m                                 Traceback (most recent call last)",
      "Cell \u001b[1;32mIn[24], line 1\u001b[0m\n\u001b[1;32m----> 1\u001b[0m \u001b[38;5;28mprint\u001b[39m(\u001b[38;5;124;43m\"\u001b[39;49m\u001b[38;5;124;43m2\u001b[39;49m\u001b[38;5;124;43m\"\u001b[39;49m\u001b[43m \u001b[49m\u001b[38;5;241;43m+\u001b[39;49m\u001b[43m \u001b[49m\u001b[38;5;241;43m3\u001b[39;49m)\n",
      "\u001b[1;31mTypeError\u001b[0m: can only concatenate str (not \"int\") to str"
     ]
    }
   ],
   "source": [
    "print(\"2\" + 3)"
   ]
  },
  {
   "cell_type": "code",
   "execution_count": 27,
   "id": "f9e774d5",
   "metadata": {},
   "outputs": [
    {
     "ename": "ZeroDivisionError",
     "evalue": "division by zero",
     "output_type": "error",
     "traceback": [
      "\u001b[1;31m---------------------------------------------------------------------------\u001b[0m",
      "\u001b[1;31mZeroDivisionError\u001b[0m                         Traceback (most recent call last)",
      "Cell \u001b[1;32mIn[27], line 1\u001b[0m\n\u001b[1;32m----> 1\u001b[0m \u001b[38;5;28mprint\u001b[39m(\u001b[38;5;241;43m10\u001b[39;49m\u001b[43m \u001b[49m\u001b[38;5;241;43m/\u001b[39;49m\u001b[43m \u001b[49m\u001b[38;5;241;43m0\u001b[39;49m)\n",
      "\u001b[1;31mZeroDivisionError\u001b[0m: division by zero"
     ]
    }
   ],
   "source": [
    "print(10 / 0)"
   ]
  },
  {
   "cell_type": "markdown",
   "id": "571c2a73",
   "metadata": {},
   "source": [
    "### Exception Handling\n",
    "\n",
    "When an error occurs, or exception as we call it, Python will normally stop and generate an error message.\n",
    "\n",
    "If we suspect that some lines of code may produce an error, we can put them in a `try` block, and if an error does occur, we can use the `except` block to instead execute an alternative piece of code. This way the program will not stop if an error occurs within the `try` block, and instead will be directed to execute the code within the `except` block.\n",
    "\n",
    "These exceptions can be handled Using the Try-Except Blocks"
   ]
  },
  {
   "cell_type": "code",
   "execution_count": 33,
   "id": "9c1e7278",
   "metadata": {},
   "outputs": [
    {
     "name": "stdout",
     "output_type": "stream",
     "text": [
      "Cannot divide by zero!\n"
     ]
    }
   ],
   "source": [
    "\n",
    "try:\n",
    "    print(10 / 0)\n",
    "except:\n",
    "    print(\"Cannot divide by zero!\")\n",
    "\n"
   ]
  },
  {
   "cell_type": "markdown",
   "id": "dea01edb",
   "metadata": {},
   "source": [
    "Since the try block raises an error, the except block will be executed. Without the try block, the program will crash and raise an error:"
   ]
  },
  {
   "cell_type": "markdown",
   "id": "afd14a74",
   "metadata": {},
   "source": [
    "The `finally` block, if specified, will be executed regardless if the try block raises an error or not."
   ]
  },
  {
   "cell_type": "code",
   "execution_count": 34,
   "id": "369168d0",
   "metadata": {},
   "outputs": [
    {
     "name": "stdout",
     "output_type": "stream",
     "text": [
      "Cannot divide by zero!\n",
      "This will always execute.\n"
     ]
    }
   ],
   "source": [
    "try:\n",
    "    print(10 / 0)\n",
    "except:\n",
    "    print(\"Cannot divide by zero!\")\n",
    "finally:\n",
    "    print(\"This will always execute.\")"
   ]
  },
  {
   "cell_type": "markdown",
   "id": "98452b47",
   "metadata": {},
   "source": [
    "### Practice exercise 7"
   ]
  },
  {
   "cell_type": "markdown",
   "id": "90ecb14d",
   "metadata": {},
   "source": [
    "Suppose we wish to compute tax using the income and the tax rate. Identify the type of error from amongst syntax error, semantic error and run-time error in the following pieces of code."
   ]
  },
  {
   "cell_type": "code",
   "execution_count": null,
   "id": "bb87a313",
   "metadata": {},
   "outputs": [],
   "source": [
    "income = 2000\n",
    "tax = .08 * Income\n",
    "print(\"tax on\", income, \"is:\", tax)"
   ]
  },
  {
   "cell_type": "code",
   "execution_count": null,
   "id": "54415517",
   "metadata": {},
   "outputs": [],
   "source": [
    "income = 2000\n",
    "tax = .08 x income\n",
    "print(\"tax on\", income, \"is:\", tax)"
   ]
  },
  {
   "cell_type": "code",
   "execution_count": null,
   "id": "2231ae8f",
   "metadata": {},
   "outputs": [],
   "source": [
    "income = 2000\n",
    "tax = .08 ** income\n",
    "print(\"tax on\", income, \"is:\", tax)"
   ]
  },
  {
   "cell_type": "markdown",
   "id": "a3e6960b",
   "metadata": {},
   "source": [
    "### Practice exercise 8\n",
    "\n",
    " Input an integer from the user. If the user inputs a valid integer, print whether it is a multiple of 3. However, if the user does not input a valid integer, print a message saying that the input is invalid."
   ]
  },
  {
   "cell_type": "code",
   "execution_count": 35,
   "id": "fc0619aa",
   "metadata": {},
   "outputs": [
    {
     "name": "stdout",
     "output_type": "stream",
     "text": [
      "Input must be an integer\n"
     ]
    }
   ],
   "source": [
    "num = input(\"Enter an integer:\")\n",
    "\n",
    "#The code lines within the 'try' block will execute as long as they run without error  \n",
    "try:\n",
    "    #Converting the input to integer, as user input is a string\n",
    "    num_int = int(num)  \n",
    "    \n",
    "    #checking if the integer is a multiple of 3\n",
    "    if num_int % 3 == 0:            \n",
    "        print(\"Number is a multiple of 3\")\n",
    "    else:\n",
    "        print(\"Number is not a multiple of 3\")\n",
    "        \n",
    "#The code lines within the 'except' block will execute only if the code lines within the 'try' block throw an error        \n",
    "except:\n",
    "    print(\"Input must be an integer\")"
   ]
  },
  {
   "cell_type": "markdown",
   "id": "0b83c80a",
   "metadata": {},
   "source": [
    "### Semantic errors (bugs)\n",
    "Semantic errors occur when the code executes without an error being indicated by the compiler. However, it does not work as inteded by the user. For example, consider the following code of mutiplying the number 6 by 3:\n",
    "x = '6'\n",
    "x * 3\n",
    "If it was intended to multiply the number 6, then the variable `x` should have been defined as `x=6` so that `x` has a value of type `integer`. However, in the above code `6` is a `string` type value. When a `string` is multiplied by an integer, say *n*, it concatenates with itself *n* times."
   ]
  },
  {
   "cell_type": "markdown",
   "id": "d258d7a9",
   "metadata": {},
   "source": [
    "### Practice exercise 9"
   ]
  },
  {
   "cell_type": "markdown",
   "id": "85abe85b",
   "metadata": {},
   "source": [
    "The formula for computing final amount if one is earning compund interest is given by:\n",
    "$$A = P\\bigg(1+\\frac{r}{n}\\bigg)^{nt},$$\n",
    "\n",
    "where: \\\n",
    "P = Principal amount (initial investment), \\\n",
    "r = annual nominal interest rate, \\\n",
    "n = number of times the interest is computed per year, \\\n",
    "t = number of years\n",
    "\n",
    "Write a Python program that assigns the principal amount of \\$10000 to variable *P*, assign to *n* the value 12, and assign to *r* the interest rate of 8\\%. Then have the program prompt the user for the number of years *t* that the money will be compounded for. Calculate and print the final amount after *t* years.\n",
    "\n",
    "What is the amount if the user enters *t* as 4 years?"
   ]
  }
 ],
 "metadata": {
  "kernelspec": {
   "display_name": "base",
   "language": "python",
   "name": "python3"
  },
  "language_info": {
   "codemirror_mode": {
    "name": "ipython",
    "version": 3
   },
   "file_extension": ".py",
   "mimetype": "text/x-python",
   "name": "python",
   "nbconvert_exporter": "python",
   "pygments_lexer": "ipython3",
   "version": "3.12.4"
  }
 },
 "nbformat": 4,
 "nbformat_minor": 5
}
