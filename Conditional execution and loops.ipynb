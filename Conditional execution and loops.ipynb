{
 "cells": [
  {
   "cell_type": "raw",
   "id": "217204f2",
   "metadata": {},
   "source": [
    "---\n",
    "title: \"Conditionals and loops\"\n",
    "format: \n",
    "  html:\n",
    "    toc: true\n",
    "    code-fold: false\n",
    "jupyter: python3\n",
    "---"
   ]
  },
  {
   "cell_type": "markdown",
   "id": "799f9029",
   "metadata": {},
   "source": [
    "## Conditonal execution"
   ]
  },
  {
   "cell_type": "markdown",
   "id": "5653a3e3",
   "metadata": {},
   "source": [
    "Sometimes, we may need to execute a piece of code based on condition(s), i.e., instead of executing each line of code, we wish to execute certain lines of code based on condition(s)."
   ]
  },
  {
   "cell_type": "markdown",
   "id": "db8df9f5",
   "metadata": {},
   "source": [
    "### Comparison operators"
   ]
  },
  {
   "cell_type": "markdown",
   "id": "183c7a61",
   "metadata": {},
   "source": [
    "For testing if conditions are true or false, first we need to learn the opeartors that can be used for comparison. For example, suppose we want to check if values of two variables are equal, we use the `==` operator:"
   ]
  },
  {
   "cell_type": "code",
   "execution_count": 6,
   "id": "41e3352f",
   "metadata": {},
   "outputs": [
    {
     "data": {
      "text/plain": [
       "False"
      ]
     },
     "execution_count": 6,
     "metadata": {},
     "output_type": "execute_result"
    }
   ],
   "source": [
    "5==6"
   ]
  },
  {
   "cell_type": "code",
   "execution_count": 7,
   "id": "2f623e37",
   "metadata": {},
   "outputs": [
    {
     "data": {
      "text/plain": [
       "True"
      ]
     },
     "execution_count": 7,
     "metadata": {},
     "output_type": "execute_result"
    }
   ],
   "source": [
    "x = \"hi\"\n",
    "y = \"hi\"\n",
    "x==y"
   ]
  },
  {
   "cell_type": "markdown",
   "id": "6c2c8242",
   "metadata": {},
   "source": [
    "Below are the python comparison operators and their meanings."
   ]
  },
  {
   "cell_type": "markdown",
   "id": "5e9c3fa7",
   "metadata": {},
   "source": [
    "| Python code | Meaning |\n",
    "| --- | --- |\n",
    "| x==y | Produce True if ... x is equal to y |\n",
    "| x !=  y | ... x is not equal to y |\n",
    "| x > y | ... x is greater than y |\n",
    "| x < y | ... x is less than y |\n",
    "| x >= y | ... x is greater than or equal to y |\n",
    "| x <= y | ... x is less than or equal to y |"
   ]
  },
  {
   "cell_type": "markdown",
   "id": "10725c4b",
   "metadata": {},
   "source": [
    "### if-elif-else statement"
   ]
  },
  {
   "cell_type": "markdown",
   "id": "064d4aa7",
   "metadata": {},
   "source": [
    "The `if-elif-else` statements can check several conditions, and execute the code corresponding to the condition that is true. Note that there can be as many `elif` statements as required."
   ]
  },
  {
   "cell_type": "markdown",
   "id": "74112fc5",
   "metadata": {},
   "source": [
    "**Syntax:** Python uses indentation to identify the code to be executed if a condition is true. All the code indented within a condition is executed only if the condition is true."
   ]
  },
  {
   "cell_type": "markdown",
   "id": "443325b6",
   "metadata": {},
   "source": [
    "**Example:** Input a number. Print whether it is positive or negative."
   ]
  },
  {
   "cell_type": "code",
   "execution_count": 4,
   "id": "c20239bd",
   "metadata": {},
   "outputs": [
    {
     "name": "stdout",
     "output_type": "stream",
     "text": [
      "Enter a number:-9\n",
      "Number is negative\n"
     ]
    }
   ],
   "source": [
    "number = input(\"Enter a number:\")\n",
    "number_integer = int(number)\n",
    "if number_integer>0:\n",
    "    print(\"Number is positive\")\n",
    "else:\n",
    "    print(\"Number is negative\")"
   ]
  },
  {
   "cell_type": "markdown",
   "id": "be5b3e8b",
   "metadata": {},
   "source": [
    "In the above code, note that anything entered by the user is taken as a string datatype by python. However, a string cannot be positive or negative. So, we converted the number input by the user to integer to check if it was positive or negative."
   ]
  },
  {
   "cell_type": "markdown",
   "id": "5b53be92",
   "metadata": {},
   "source": [
    "There may be multiple statements to be executed if a condition is true. See the example below."
   ]
  },
  {
   "cell_type": "markdown",
   "id": "d4f1dbd2",
   "metadata": {},
   "source": [
    "**Example:** Input a number. Print whether it is positive or negative. If it is negative, print its absolute value. "
   ]
  },
  {
   "cell_type": "code",
   "execution_count": 5,
   "id": "4c9bbe38",
   "metadata": {},
   "outputs": [
    {
     "name": "stdout",
     "output_type": "stream",
     "text": [
      "Enter a number:-9\n",
      "Number is negative\n",
      "Absolute value of number =  9\n"
     ]
    }
   ],
   "source": [
    "number = input(\"Enter a number:\")\n",
    "number_integer = int(number)\n",
    "if number_integer>0:\n",
    "    print(\"Number is positive\")\n",
    "else:\n",
    "    print(\"Number is negative\")\n",
    "    print(\"Absolute value of number = \", abs(number_integer))"
   ]
  },
  {
   "cell_type": "markdown",
   "id": "42a716ad",
   "metadata": {},
   "source": [
    "### In-class exercise"
   ]
  },
  {
   "cell_type": "markdown",
   "id": "cbdf76ff",
   "metadata": {},
   "source": [
    "Input a number. Print whether its odd or even. "
   ]
  }
 ],
 "metadata": {
  "kernelspec": {
   "display_name": "Python 3",
   "language": "python",
   "name": "python3"
  },
  "language_info": {
   "codemirror_mode": {
    "name": "ipython",
    "version": 3
   },
   "file_extension": ".py",
   "mimetype": "text/x-python",
   "name": "python",
   "nbconvert_exporter": "python",
   "pygments_lexer": "ipython3",
   "version": "3.8.8"
  }
 },
 "nbformat": 4,
 "nbformat_minor": 5
}
