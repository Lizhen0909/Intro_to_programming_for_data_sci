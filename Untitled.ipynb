{
 "cells": [
  {
   "cell_type": "raw",
   "id": "9b22d4ef",
   "metadata": {},
   "source": [
    "---\n",
    "title: \"Conditionals and loops\"\n",
    "format: \n",
    "  html:\n",
    "    toc: true\n",
    "    code-fold: false\n",
    "jupyter: python3\n",
    "---"
   ]
  },
  {
   "cell_type": "markdown",
   "id": "96d58870",
   "metadata": {},
   "source": [
    "## Conditonal execution"
   ]
  },
  {
   "cell_type": "markdown",
   "id": "e95077b2",
   "metadata": {},
   "source": [
    "### if-elif-else"
   ]
  },
  {
   "cell_type": "markdown",
   "id": "bec494bb",
   "metadata": {},
   "source": [
    "The `if-elif-else` statement can check several conditions, and execute the code corresponding to the condition that is true. Note that there can be as many `elif` statements as required. Python iden"
   ]
  },
  {
   "cell_type": "markdown",
   "id": "0aaca4ca",
   "metadata": {},
   "source": [
    "**Example:** Input a number. Print whether it is positive or negative."
   ]
  },
  {
   "cell_type": "code",
   "execution_count": 4,
   "id": "ccc13381",
   "metadata": {},
   "outputs": [
    {
     "name": "stdout",
     "output_type": "stream",
     "text": [
      "Enter a number:-9\n",
      "Number is negative\n"
     ]
    }
   ],
   "source": [
    "number = input(\"Enter a number:\")\n",
    "number_integer = int(number)\n",
    "if number_integer>0:\n",
    "    print(\"Number is positive\")\n",
    "else:\n",
    "    print(\"Number is negative\")"
   ]
  },
  {
   "cell_type": "markdown",
   "id": "b7d99b6d",
   "metadata": {},
   "source": [
    "In the above code, note that:"
   ]
  }
 ],
 "metadata": {
  "kernelspec": {
   "display_name": "Python 3",
   "language": "python",
   "name": "python3"
  },
  "language_info": {
   "codemirror_mode": {
    "name": "ipython",
    "version": 3
   },
   "file_extension": ".py",
   "mimetype": "text/x-python",
   "name": "python",
   "nbconvert_exporter": "python",
   "pygments_lexer": "ipython3",
   "version": "3.8.8"
  }
 },
 "nbformat": 4,
 "nbformat_minor": 5
}
