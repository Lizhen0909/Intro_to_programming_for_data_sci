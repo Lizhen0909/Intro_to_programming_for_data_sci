{
 "cells": [
  {
   "cell_type": "raw",
   "id": "933172f8",
   "metadata": {},
   "source": [
    "---\n",
    "title: \"Functions\"\n",
    "format: \n",
    "  html:\n",
    "    toc: true\n",
    "    code-fold: false\n",
    "jupyter: python3\n",
    "---"
   ]
  },
  {
   "cell_type": "markdown",
   "id": "43cabd4e",
   "metadata": {},
   "source": [
    "## Introduction"
   ]
  },
  {
   "cell_type": "markdown",
   "id": "713e1289",
   "metadata": {},
   "source": [
    "As the words suggests, *functions* are a piece of code that have a specific function or purpose. As an analogy, if a human is a computer program, then the mind can be considered to be a function, which has purpose of thinking, eyes can be another function, which have a purpose of seeing. These functions are called upon by the human when needed. \n",
    "\n",
    "Similarly, in case of a computer program, functions are a piece of code, that perform a specific task, when called upon by the program. Instead of being defined as a function, the piece of code can also be used directly whenever it is needed in a program. However, defining a frequently-used piece of code as a function has the following benefits:\n",
    "\n",
    "1. It reduces the number of lines of code, as the lines of code need to be written just once in the function definition. Thereafter, the function is called by its name, wherever needed in the program. This makes the code compact, and enhances readibility.\n",
    "\n",
    "3. It makes the process of writing code easier, as the user needs to just type the name of the function, wherever it is needed, instead of pasting lines of code.\n",
    "\n",
    "4. It can be used in different programs, thereby saving time in writing other programs."
   ]
  },
  {
   "attachments": {},
   "cell_type": "markdown",
   "id": "3b458b11",
   "metadata": {},
   "source": [
    "To put it more formally, a function is a piece of code that takes arguments (if any) as input, performs computations or tasks, and then returns a result or results."
   ]
  },
  {
   "cell_type": "markdown",
   "id": "b3e99c61",
   "metadata": {},
   "source": [
    "## Defining a function"
   ]
  },
  {
   "cell_type": "markdown",
   "id": "c6efb822",
   "metadata": {},
   "source": [
    "Look at the function defined below. It asks the user to input a number, and prints whether the number is odd or even."
   ]
  },
  {
   "cell_type": "code",
   "execution_count": 3,
   "id": "7f3bd6be",
   "metadata": {},
   "outputs": [
    {
     "name": "stdout",
     "output_type": "stream",
     "text": [
      "This line is not a part of the function as it is not indented\n"
     ]
    }
   ],
   "source": [
    "#This is an example of a function definition\n",
    "\n",
    "#A function definition begins with the 'def' keyword followed by the name of the function.\n",
    "#Note that 'odd_even()' is the name of the function below.\n",
    "def odd_even():           \n",
    "    num = int(input(\"Enter an integer:\"))\n",
    "    if num%2==0:\n",
    "        print(\"Even\")\n",
    "    else:\n",
    "        print(\"Odd\")   #Function definition ends here\n",
    "        \n",
    "print(\"This line is not a part of the function as it is not indented\") #This line is not a part of the function"
   ]
  },
  {
   "cell_type": "markdown",
   "id": "e4353bef",
   "metadata": {},
   "source": [
    "Note that the function is defined using the `def` keyword. All the lines within the function definition are indented. The indentation shows the lines of code that below to the function. When the indentation stops, the function definition is considered to have ended."
   ]
  },
  {
   "cell_type": "markdown",
   "id": "497470e5",
   "metadata": {},
   "source": [
    "Whenever the user wishes to input a number and print whether it is odd or even, they can call the function defined above by its name as follows:"
   ]
  },
  {
   "cell_type": "code",
   "execution_count": 4,
   "id": "c3c44050",
   "metadata": {},
   "outputs": [
    {
     "name": "stdout",
     "output_type": "stream",
     "text": [
      "Enter an integer:5\n",
      "Odd\n"
     ]
    }
   ],
   "source": [
    "odd_even()"
   ]
  },
  {
   "cell_type": "markdown",
   "id": "44794415",
   "metadata": {},
   "source": [
    "## Arguments of a function"
   ]
  },
  {
   "cell_type": "markdown",
   "id": "4b0f822b",
   "metadata": {},
   "source": [
    "Note that the function defined above needs no input when called. However, sometimes we may wish to define a function that takes input(s), and performs computations on the inputs to produce an output. These input(s) are called argument(s) of a function. "
   ]
  },
  {
   "cell_type": "markdown",
   "id": "9ac3da91",
   "metadata": {},
   "source": [
    "### Function with an argument"
   ]
  },
  {
   "cell_type": "markdown",
   "id": "76b6f4e9",
   "metadata": {},
   "source": [
    "Let us change the previous example to write a function that takes an integer as an input argument, and prints whether it is odd or even:"
   ]
  },
  {
   "cell_type": "code",
   "execution_count": 5,
   "id": "0a69b86f",
   "metadata": {},
   "outputs": [],
   "source": [
    "#This is an example of a function definition that has an argument\n",
    "def odd_even(num):           \n",
    "    if num%2==0:\n",
    "        print(\"Even\")\n",
    "    else:\n",
    "        print(\"Odd\")"
   ]
  },
  {
   "cell_type": "markdown",
   "id": "81df13eb",
   "metadata": {},
   "source": [
    "We can use the function whenever we wish to find a number is odd or even. For example, if we wish to find that a number input by the user is odd or even, we can call the function with the user input as its argument."
   ]
  },
  {
   "cell_type": "code",
   "execution_count": 6,
   "id": "eac9260d",
   "metadata": {},
   "outputs": [
    {
     "name": "stdout",
     "output_type": "stream",
     "text": [
      "Enter an integer:6\n",
      "Even\n"
     ]
    }
   ],
   "source": [
    "number = int(input(\"Enter an integer:\"))\n",
    "odd_even(number)"
   ]
  },
  {
   "cell_type": "markdown",
   "id": "5fa662fe",
   "metadata": {},
   "source": [
    "Note that the above function needs an argument as per the function definition. It will produce an error if called without an argument:"
   ]
  },
  {
   "cell_type": "code",
   "execution_count": 8,
   "id": "a29ffd8f",
   "metadata": {},
   "outputs": [
    {
     "ename": "TypeError",
     "evalue": "odd_even() missing 1 required positional argument: 'num'",
     "output_type": "error",
     "traceback": [
      "\u001b[1;31m---------------------------------------------------------------------------\u001b[0m",
      "\u001b[1;31mTypeError\u001b[0m                                 Traceback (most recent call last)",
      "\u001b[1;32m<ipython-input-8-d86a5f720e3b>\u001b[0m in \u001b[0;36m<module>\u001b[1;34m\u001b[0m\n\u001b[1;32m----> 1\u001b[1;33m \u001b[0modd_even\u001b[0m\u001b[1;33m(\u001b[0m\u001b[1;33m)\u001b[0m\u001b[1;33m\u001b[0m\u001b[1;33m\u001b[0m\u001b[0m\n\u001b[0m",
      "\u001b[1;31mTypeError\u001b[0m: odd_even() missing 1 required positional argument: 'num'"
     ]
    }
   ],
   "source": [
    "odd_even()"
   ]
  },
  {
   "cell_type": "markdown",
   "id": "037d5516",
   "metadata": {},
   "source": [
    "### Function with an argument having a default value"
   ]
  },
  {
   "cell_type": "markdown",
   "id": "83675357",
   "metadata": {},
   "source": [
    "To avoid errors as above, sometimes is a good idea to assign a default value to the argument in the function definition:"
   ]
  },
  {
   "cell_type": "code",
   "execution_count": 9,
   "id": "e4fb719a",
   "metadata": {},
   "outputs": [],
   "source": [
    "#This is an example of a function definition that has an argument with a default value\n",
    "def odd_even(num=0):           \n",
    "    if num%2==0:\n",
    "        print(\"Even\")\n",
    "    else:\n",
    "        print(\"Odd\")"
   ]
  },
  {
   "cell_type": "markdown",
   "id": "f66746cf",
   "metadata": {},
   "source": [
    "Now, we can call the function without an argument. The function will use the default value of the argument specified in the function definition."
   ]
  },
  {
   "cell_type": "code",
   "execution_count": 10,
   "id": "8b3cb514",
   "metadata": {},
   "outputs": [
    {
     "name": "stdout",
     "output_type": "stream",
     "text": [
      "Even\n"
     ]
    }
   ],
   "source": [
    "odd_even()"
   ]
  },
  {
   "cell_type": "markdown",
   "id": "1b050b62",
   "metadata": {},
   "source": [
    "### Function with multiple arguments"
   ]
  },
  {
   "cell_type": "markdown",
   "id": "e0fa487d",
   "metadata": {},
   "source": [
    "A function can have as many arguments as needed. Multiple arguments are separated by commas. For example, below is a function that inputs two strings, concatenates them with a space in between, and prints the output: "
   ]
  },
  {
   "cell_type": "code",
   "execution_count": 13,
   "id": "2802d866",
   "metadata": {},
   "outputs": [],
   "source": [
    "def concat_string(string1, string2):\n",
    "    print(string1+' '+string2)"
   ]
  },
  {
   "cell_type": "code",
   "execution_count": 14,
   "id": "e51fb948",
   "metadata": {},
   "outputs": [
    {
     "name": "stdout",
     "output_type": "stream",
     "text": [
      "Hi there\n"
     ]
    }
   ],
   "source": [
    "concat_string(\"Hi\", \"there\")"
   ]
  },
  {
   "cell_type": "markdown",
   "id": "bffd599a",
   "metadata": {},
   "source": [
    "## Functions that return objects"
   ]
  },
  {
   "cell_type": "markdown",
   "id": "6d8e264a",
   "metadata": {},
   "source": [
    "Until now, we saw functions "
   ]
  }
 ],
 "metadata": {
  "kernelspec": {
   "display_name": "Python 3",
   "language": "python",
   "name": "python3"
  },
  "language_info": {
   "codemirror_mode": {
    "name": "ipython",
    "version": 3
   },
   "file_extension": ".py",
   "mimetype": "text/x-python",
   "name": "python",
   "nbconvert_exporter": "python",
   "pygments_lexer": "ipython3",
   "version": "3.8.8"
  }
 },
 "nbformat": 4,
 "nbformat_minor": 5
}
