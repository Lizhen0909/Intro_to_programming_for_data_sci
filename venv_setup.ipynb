{
 "cells": [
  {
   "cell_type": "raw",
   "metadata": {
    "vscode": {
     "languageId": "raw"
    }
   },
   "source": [
    "---\n",
    "title: \"Setting up your environment with VS Code\"\n",
    "format:\n",
    "  html:\n",
    "    toc: true\n",
    "    toc-title: Contents\n",
    "    toc-depth: 4\n",
    "    code-fold: show\n",
    "    self-contained: false\n",
    "    html-math-method: mathml\n",
    "jupyter: python3\n",
    "---"
   ]
  },
  {
   "cell_type": "code",
   "execution_count": 6,
   "metadata": {},
   "outputs": [
    {
     "data": {
      "text/html": [
       "<img src=\"images/vscode.png\" width=\"500\" height=\"200\"/>"
      ],
      "text/plain": [
       "<IPython.core.display.Image object>"
      ]
     },
     "execution_count": 6,
     "metadata": {},
     "output_type": "execute_result"
    }
   ],
   "source": [
    "#| echo: false\n",
    "\n",
    "# import image module\n",
    "from IPython.display import Image\n",
    "\n",
    "# get the image\n",
    "Image(url=\"images/vscode.png\", width=500, height=200)"
   ]
  },
  {
   "cell_type": "markdown",
   "metadata": {},
   "source": [
    "## Learning Objectives\n",
    "\n",
    "By completing this lecture, you will be able to:\n",
    "\n",
    "- Install and configure Visual Studio Code (VS Code) for Python programming. \n",
    "- Leverage Jupyter Notebook within VS Code for your data science Python programming.\n",
    "- Use Quarto to create HTML documents for your upcoming homework submissions.\n"
   ]
  },
  {
   "cell_type": "markdown",
   "metadata": {},
   "source": [
    "## Introduction to Visual Studio Code (VS Code)\n",
    "\n",
    "**Visual Studio Code (VS Code)** is a free, open-source, and lightweight code editor developed by Microsoft. It's widely used for coding, debugging, and working with **various programming languages** and frameworks. Here’s an overview of its key features and functionalities:\n",
    "\n",
    "###  Core Features\n",
    "- **Multi-language Support:** VS Code supports a wide range of programming languages out of the box, including Python, JavaScript, TypeScript, HTML, CSS, and more. Additional language support can be added via extensions.\n",
    "- **Extensibility:** The editor has a rich ecosystem of extensions available through the Visual Studio Code Marketplace. These extensions add support for additional programming languages, themes, debuggers, and tools like Git integration.\n",
    "- **IntelliSense:** Provides intelligent code completion, parameter info, quick info, and code navigation for many languages, enhancing productivity and reducing errors.\n",
    "- **Integrated Terminal:** Allows you to run command-line tools directly from the editor, making it easy to execute scripts, install packages, and more without leaving the coding environment.\n",
    "- **Version Control Integration:** Seamless integration with Git and other version control systems, allowing you to manage source code repositories, stage changes, commit, and view diffs within the editor.\n",
    "- **Debugging:** Supports debugging with breakpoints, call stacks, and an interactive console for various languages and frameworks.\n",
    "\n",
    "###  User Interface\n",
    "- **Editor:** The main area to edit your files. You can open as many editors as you like side by side vertically and horizontally.\n",
    "- **Primary Side Bar:** Contains different views like the Explorer to assist you while working on your project.\n",
    "- **Activity Bar:** Located on the far left-hand side. Lets you switch between views and gives you additional context-specific indicators, like the number of outgoing changes when Git is enabled. You can change the position of the Activity Bar.\n",
    "- **Panel:** An additional space for views below the editor region. By default, it contains output, debug information, errors and warnings, and an integrated terminal. The Panel can also be moved to the left or right for more vertical space.\n",
    "\n",
    "![](images/vscode_interface.png)\n",
    "\n",
    "- **Command Palette:** Accessed with `Ctrl+Shift+P` (or `Cmd+Shift+P` on macOS), it provides a quick way to execute commands, switch themes, change settings, and more.\n",
    "\n",
    "![](images/command-palette.png)\n",
    "\n",
    "###  Extensions\n",
    "- **Language Extensions:** Add support for additional languages such as Rust, Go, C++, and more.\n",
    "- **Linters and Formatters:** Extensions like ESLint, Prettier, and Pylint help with code quality and formatting.\n",
    "- **Development Tools:** Extensions for Docker, Kubernetes, database management, and more.\n",
    "- **Productivity Tools:** Extensions for snippets, file explorers, and workflow enhancements.\n",
    "\n",
    "![](images/extensions.png)\n",
    "\n",
    "###  Use Cases\n",
    "- **Web Development:** VS Code is popular among web developers for its robust support for HTML, CSS, JavaScript, and front-end frameworks like React, Angular, and Vue.\n",
    "- **Python Development:** With the Python extension, it provides features like IntelliSense, debugging, linting, and Jupyter Notebook support.\n",
    "- **Data Science:** Supports Jupyter notebooks, allowing data scientists to write and run Python code interactively.\n",
    "- **DevOps and Scripting:** Useful for writing and debugging scripts in languages like PowerShell, Bash, and YAML for CI/CD pipelines.\n",
    "\n",
    "###  Cross-Platform\n",
    "- Available on Windows, macOS, and Linux, making it accessible to developers across different operating systems.\n",
    "\n",
    "Overall, VS Code is a versatile and powerful tool for a wide range of development activities, from simple scripting to complex software projects.\n",
    "\n"
   ]
  },
  {
   "cell_type": "markdown",
   "metadata": {},
   "source": [
    "##  Installing Visual Studio Code\n",
    "\n",
    "* Step 1: **Download VS Code:**\n",
    "  - Go to the [official VS Code website](https://code.visualstudio.com/) and download the installer for your operating system.\n",
    "\n",
    "* Step 2: **Install VS Code:**\n",
    "  - Run the installer and follow the prompts to complete the installation.\n",
    "\n",
    "* Step 3: **Launch VS Code:**\n",
    "  - Open VS Code after installation to ensure it's working correctly."
   ]
  },
  {
   "cell_type": "markdown",
   "metadata": {},
   "source": [
    "## Setting Up Python Development Environment in VS Code using python `venv`\n",
    "\n",
    "Unlike `Spyder` and `PyCharm`, which are specifically designed for Python development, VS Code is a versatile code editor with multi-language support. As a result, setting up the Python environment requires some additional configuration.\n",
    "\n",
    "This step-by-step guide will walk you through setting up your Python environment in Visual Studio Code from scratch using `venv`.\n",
    "\n",
    "\n",
    "###  Install Python \n",
    "\n",
    "For this course, any version of Python 3 works. You don't need to worry about having the latest version of Python, as long as you have Python 3 installed.  \n",
    "\n",
    "*If Python 3 is already installed on your computer, you can skip this step.*\n",
    "\n",
    "1. **Download Python:**\n",
    "   - Go to the [official Python website](https://www.python.org/downloads/) and download the latest version of Python for your operating system.\n",
    "   - Ensure that you check the box **\"Add Python to PATH\"** during installation if it exists.\n",
    "\n",
    "2. **Verify Python Installation:**\n",
    "   - Open a terminal (Command Prompt on Windows, Terminal on macOS/Linux) and type:\n",
    "     ```bash\n",
    "     python --version\n",
    "     ```\n",
    "   - You should see the installed Python version. If the command line doesn’t work, you might see an error message like:\n",
    "\n",
    "      - `python is not recognized`\n",
    "      - `python command is not found` \n",
    "  \n",
    "      This issue is often caused by Python not being added to the **PATH** environment variable. Please refer to [the instructions](https://realpython.com/add-python-to-path/) to resolve this issue.\n",
    "\n",
    "**Note:**  \n",
    "Before moving forward, ensure that the command `python --version` successfully prints the version of your installed Python. If it does not, you may need to troubleshoot your Python installation or add it to the PATH environment variable.\n"
   ]
  },
  {
   "cell_type": "markdown",
   "metadata": {},
   "source": [
    "###  Install Visual Studio Code Extensions\n",
    "\n",
    "1. **Open VS Code.**\n",
    "2. **Go to Extensions:**\n",
    "   - Click on the Extensions icon on the sidebar or press `Ctrl+Shift+X`.\n",
    "3. **Install Python Extension:**\n",
    "   - Search for the “Python” extension by Microsoft and install it.\n",
    "4. **Install Jupyter Extension:**\n",
    "   - Search for the \"Jupyter\" extension by Microsoft and install it.\n",
    "\n",
    "###  Set Up a Python Workspace for this course\n",
    "\n",
    "1. **Create a New Folder:**\n",
    "   - Create a new folder on your computer where you want to store your Python code for this course.\n",
    "2. **Open Folder in VS Code:**\n",
    "   - Go to `File > Open Folder` and select the newly created folder.\n",
    "\n",
    "###  Create a Notebook for your work\n",
    "- In VS Code, go to `File > New File` and select `Jupyter Notebook`. You should see a blank notebook named `Untitled-1.ipynb` as in the figure below. The `.ipynb` extension stands for IPython Notebook.\n",
    "- ![](images/new_notebook.png):\n",
    "\n",
    "Jupyter Notebook is an **interactive platform** that allows you to write code, add text, and create visualizations.  Data scientists love using Jupyter Notebooks as an alternative to working directly with Python files because of their interactivity and flexibility."
   ]
  },
  {
   "cell_type": "markdown",
   "metadata": {},
   "source": [
    "###  Create a Python environment for your work - GUI method\n",
    "\n",
    " - When you start a Jupyter Notebook in VS Code, you need to choose a kernel. Kernel is the \"engine\" that runs your code within your Jupyter notebook, and it is tied to a specific Python interpreter or environment.\n",
    "    - **What's the difference between an interpreter and an environment?** An interpreter is a program that runs your Python code. An environment, on the other hand, is a standalone \"space\" where your code runs. It’s like a container that holds its own interpreter and environment-specific libraries/dependencies, so each project can have its own environment setup without affecting others.\n",
    "    - **Why do we prefer creating an environment for this course rather than using the global interpreter that comes with your Python installation?** As a data scientist, you may work on multiple projects and attend different courses that require different sets of packages, dependencies, or even Python versions. By creating a separate environment, you can prevent conflicts between libraries, dependencies, and Python versions across your projects ([dependency hell](https://en.wikipedia.org/wiki/Dependency_hell)) and also ensure code reproducibility. It is always good practice to work within python environments, especially when you have different projects going on.\n",
    "    - Let’s create a Python environment for the upcoming coursework.\n",
    "\n",
    "    ![](images/env_add.png)\n",
    "\n",
    " - Create using `venv` in the current workspace\n",
    "   \n",
    "   ![](images/env_create_option.png):\n",
    "   \n",
    "   **What is `venv`**\n",
    "\n",
    "   In Python, `venv` stands for Virtual Environment, which is a tool used to create isolated environments for Python projects. This helps manage dependencies and avoid conflicts between different projects that may require different versions of Python or different packages.\n",
    "   \n",
    " - Choose a specific python interpreter for your environment:\n",
    "   \n",
    "     ![](images/interpreter.png)\n",
    "   \n",
    "Congratulations! A virtual environment named `.venv` has been successfully created in your project folder. "
   ]
  },
  {
   "cell_type": "markdown",
   "metadata": {},
   "source": [
    "###  Choose the `.venv` environment as the kernel to run the notebook\n",
    "   For all your upcoming work in this project, you can select this environment to ensure a consistent setup.\n",
    "\n",
    "###  Installing `ipykernel` for your notebook\n",
    "   Create a code cell in the notebook and run it. The first time you run a code cell, you will run into\n",
    "   \n",
    "   ![](images/ipykernel.png)\n",
    "   - After installing `ipykernel`, you should be able to run the following cell. "
   ]
  },
  {
   "cell_type": "code",
   "execution_count": 1,
   "metadata": {},
   "outputs": [
    {
     "name": "stdout",
     "output_type": "stream",
     "text": [
      "Current Python executable: c:\\Users\\lsi8012\\OneDrive - Northwestern University\\FA24\\303-1\\test_env\\.venv\\Scripts\\python.exe\n"
     ]
    }
   ],
   "source": [
    "import sys\n",
    "print(\"Current Python executable:\", sys.executable)"
   ]
  },
  {
   "cell_type": "markdown",
   "metadata": {},
   "source": [
    "`sys.executable` is an attribute in the Python `sys` module that returns the path to the Python interpreter that is currently executing your code. "
   ]
  },
  {
   "cell_type": "markdown",
   "metadata": {},
   "source": [
    "## Jupyter Notebooks in VS Code\n",
    "After setting up your environment and successfully running your notebook using the created environment,  follow this [instruction](https://code.visualstudio.com/docs/datascience/jupyter-notebooks) to become familiar with the native support for Jupyter Notebooks in VS Code"
   ]
  },
  {
   "cell_type": "markdown",
   "metadata": {},
   "source": [
    "### Writing and executing code"
   ]
  },
  {
   "cell_type": "markdown",
   "metadata": {},
   "source": [
    "**Code cell:**\n",
    "By default, a cell is of type *Code*, i.e., for typing code, as seen as the default choice in the dropdown menu below the *Widgets* tab. Try typing a line of python code (say, `2+3`) in an empty code cell and execute it by pressing *Shift+Enter*. This should execute the code, and create an new code cell. Pressing *Ctlr+Enter for Windows (or Cmd+Enter for Mac)* will execute the code without creating a new cell. "
   ]
  },
  {
   "cell_type": "markdown",
   "metadata": {},
   "source": [
    "**Commenting code in a code cell:** Comments should be made while writing the code to explain the purpose of the code or a brief explanation of the tasks being performed by the code. A comment can be added in a code cell by preceding it with a # sign. For example, see the comment in the code below.\n",
    "\n",
    "Writing comments will help other users understand your code. It is also useful for the coder to keep track of the tasks being performed by their code. "
   ]
  },
  {
   "cell_type": "code",
   "execution_count": null,
   "metadata": {},
   "outputs": [
    {
     "data": {
      "text/plain": [
       "8"
      ]
     },
     "metadata": {},
     "output_type": "display_data"
    }
   ],
   "source": [
    "#This code adds 3 and 5\n",
    "3+5"
   ]
  },
  {
   "cell_type": "markdown",
   "metadata": {},
   "source": [
    "Please refer to the [Style Guide for Python Code](https://peps.python.org/pep-0008/) to develop good coding habits from the start."
   ]
  },
  {
   "cell_type": "markdown",
   "metadata": {},
   "source": [
    "**Markdown cell:** Although a comment can be written in a code cell, a code cell cannot be used for writing headings/sub-headings, and is not appropriate for writing lengthy chunks of text. In such cases, change the cell type to *Markdown* from the dropdown menu below the *Widgets* tab. Use any markdown cheat sheet found online, for example, [this one](https://www.markdownguide.org/cheat-sheet/) to format text in the markdown cells."
   ]
  },
  {
   "cell_type": "markdown",
   "metadata": {},
   "source": [
    "**Jupyter Notebook shortcuts:** Jupyter Notebook shortcuts are handy and quick. Here is a list of commonly used shortcuts for beginners:\n",
    "\n",
    "- **Shift + Enter**: Run the cell and move to the next one.\n",
    "- **A**: Insert a cell above.\n",
    "- **B**: Insert a cell below.\n",
    "- **D, D**: Delete the selected cell.\n",
    "- **Y**: Change the cell to Code type.\n",
    "- **M**: Change the cell to Markdown type.\n"
   ]
  },
  {
   "cell_type": "markdown",
   "metadata": {},
   "source": [
    "### Saving and loading notebooks"
   ]
  },
  {
   "cell_type": "markdown",
   "metadata": {},
   "source": [
    "To save the notebook in VS Code, click on `File` and select `Save As`, or use the keyboard shortcut `CTRL+S`. Your notebook will be saved as a file with the extension `.ipynb`. This file will contain all the code and outputs and can be opened and edited with VS Code or any Jupyter-compatible environment.\n",
    "\n",
    "To open an existing Jupyter notebook with VS Code:\n",
    "1. Navigate to the file in your system's file explorer.\n",
    "2. Right-click on the file.\n",
    "3. Select `Open with VS Code`."
   ]
  },
  {
   "cell_type": "markdown",
   "metadata": {},
   "source": [
    "## Rendering notebook as HTML using Quarto\n",
    "\n",
    "Quarto is designed for high-quality, customizable, and publishable outputs, making it suitable for reports, blogs, or presentations. We'll use Quarto to print the **.ipynb* file as HTML for your assignment submission."
   ]
  },
  {
   "cell_type": "markdown",
   "metadata": {},
   "source": [
    "### Installing and Verifying Quarto \n",
    "\n",
    "- Download and install Quarto from the [official website](https://quarto.org/).\n",
    "- Follow the installation instructions for your operating system.\n",
    "- Open your terminal within VS Code:\n",
    "   - Go to `Terminal` -> `New Terminal`.\n",
    "- Run the following command to verify that Quarto and its dependencies are correctly installed:\n",
    "   ```\n",
    "   quarto --version\n",
    "   ```\n",
    "- You should see the installed quarto version. If the command line doesn’t work, you might see an error message like:\n",
    "\n",
    "      - `quarto is not recognized`\n",
    "      - `quarto command is not found` \n",
    "  \n",
    "   This issue is often caused by Quarto not being added to the PATH environment variable. Similar to how you added the Python path to the environment variable above, you need to add the Quarto path to the system environment variable so that the command can be recognized by your operating system's shell.\n",
    "\n",
    "   On Windows, if you used the default installation path (without changing it), Quarto is installed in:\n",
    "      `C:\\Users\\<USER>\\AppData\\Local\\Programs\\Quarto\\bin`\n",
    "\n",
    "**Note:**  \n",
    "Before moving forward, ensure that the command `quarto --version` successfully prints the version of your installed quarto. If it does not, you may need to troubleshoot your quarto installation or add it to the PATH environment variable."
   ]
  },
  {
   "cell_type": "markdown",
   "metadata": {},
   "source": [
    "### Converting the Notebook to HTML\n",
    "\n",
    "Check the procedure for rendering a notebook as HTML [here](https://quarto.org/docs/output-formats/html-basics.html). You have several options to format the file. Here are some points to remember when using Quarto to render your notebook as HTML:\n",
    "\n",
    "1. The [`Raw NBConvert`](https://nbsphinx.readthedocs.io/en/0.9.3/raw-cells.html) cell type is used to render different code formats into HTML or LaTeX. This information is stored in the notebook metadata and converted appropriately. **Use this cell type to put the desired formatting settings for the HTML file.**\n",
    "\n",
    "2. In the formatting settings, remember to use the setting **[`embed-resources: true`](https://quarto.org/docs/output-formats/html-basics.html#self-contained)**. This will ensure that the rendered HTML file is self-contained, and is not dependent on other files. This is especially important when you are sending the HTML file to someone, or uploading it somewhere. If the file is self-contained, then you can send the file by itself without having to attach the dependent files with it.\n",
    "\n",
    "Once you have entered the desired formatting setting in the `Raw NBConver` cell, you are ready to render the notebook to HTML. Open the terminal, navigate to the directory containing the notebook *(.ipynb file)*, and use the command: `quarto render filename.ipynb --to html`."
   ]
  },
  {
   "cell_type": "markdown",
   "metadata": {},
   "source": [
    "## In-class exercise"
   ]
  },
  {
   "cell_type": "markdown",
   "metadata": {},
   "source": [
    "1. Create a new notebook. \n",
    "2. Save the file as `In_class_exercise_1`. \n",
    "3. Give a heading to the file - `First HTML file`.\n",
    "4. Print `Today is day 1 of my programming course`. \n",
    "5. Compute and print the number of seconds in a day.\n",
    "6. Generate html from the notebook using Quarto\n",
    "\n",
    "The HTML file should look like the picture below."
   ]
  },
  {
   "cell_type": "code",
   "execution_count": null,
   "metadata": {},
   "outputs": [
    {
     "data": {
      "text/html": [
       "<img src=\"./Datasets/snapshot.jpg\" width=\"600\"/>"
      ],
      "text/plain": [
       "<IPython.core.display.Image object>"
      ]
     },
     "metadata": {},
     "output_type": "display_data"
    }
   ],
   "source": [
    "#| echo: false\n",
    "\n",
    "# get the image\n",
    "Image(url=\"./Datasets/snapshot.jpg\", width=600)"
   ]
  },
  {
   "cell_type": "markdown",
   "metadata": {},
   "source": [
    "##  Reference\n",
    "* [Getting Started with VS Code](https://code.visualstudio.com/docs/getstarted/userinterface)\n",
    "* [Jupyter Notebooks in VS Code](https://code.visualstudio.com/docs/datascience/jupyter-notebooks)\n",
    "* [Quarto](https://quarto.org/)"
   ]
  },
  {
   "cell_type": "markdown",
   "metadata": {},
   "source": []
  }
 ],
 "metadata": {
  "kernelspec": {
   "display_name": "base",
   "language": "python",
   "name": "python3"
  },
  "language_info": {
   "codemirror_mode": {
    "name": "ipython",
    "version": 3
   },
   "file_extension": ".py",
   "mimetype": "text/x-python",
   "name": "python",
   "nbconvert_exporter": "python",
   "pygments_lexer": "ipython3",
   "version": "3.12.4"
  }
 },
 "nbformat": 4,
 "nbformat_minor": 2
}
